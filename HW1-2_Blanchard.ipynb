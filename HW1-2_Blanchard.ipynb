{
 "cells": [
  {
   "cell_type": "markdown",
   "id": "5fdd3948",
   "metadata": {
    "id": "5fdd3948"
   },
   "source": [
    "# 2. VAR Exercise"
   ]
  },
  {
   "cell_type": "markdown",
   "id": "c186e66b",
   "metadata": {
    "id": "c186e66b"
   },
   "source": [
    "Olivier Blanchard (1989), “A Traditional Interpretation of Macroeconomic Fluctuations,” American Economic Review, vol. 79, no. 5, 1146-64."
   ]
  },
  {
   "cell_type": "markdown",
   "id": "3a01f08f",
   "metadata": {
    "id": "3a01f08f"
   },
   "source": [
    "논문의 순서를 따라, 주요 결과들 위주로 replicate 해 보았습니다."
   ]
  },
  {
   "cell_type": "code",
   "execution_count": 1,
   "id": "36b216db",
   "metadata": {
    "id": "36b216db"
   },
   "outputs": [],
   "source": [
    "import pandas as pd\n",
    "import numpy as np\n",
    "import os\n",
    "import statsmodels.api as sm\n",
    "import statsmodels.tsa.api as tsa\n",
    "import sympy\n",
    "import matplotlib.pyplot as plt\n",
    "\n",
    "import warnings\n",
    "\n",
    "warnings.filterwarnings(action = 'ignore')"
   ]
  },
  {
   "cell_type": "code",
   "execution_count": 2,
   "id": "f9577ced",
   "metadata": {
    "id": "f9577ced"
   },
   "outputs": [],
   "source": [
    "df = pd.read_csv('blanchard.csv', parse_dates=['DATE'],index_col=['DATE'])"
   ]
  },
  {
   "cell_type": "code",
   "execution_count": 3,
   "id": "0d931bcc",
   "metadata": {
    "id": "0d931bcc",
    "scrolled": true
   },
   "outputs": [],
   "source": [
    "df[['dY','U','dP','dW','dM']] = df[['dY','U','dP','dW','dM']]/100"
   ]
  },
  {
   "cell_type": "code",
   "execution_count": 4,
   "id": "d632d650",
   "metadata": {
    "id": "d632d650",
    "outputId": "937a2f31-e0e7-436e-9f78-79d71badba34"
   },
   "outputs": [
    {
     "data": {
      "text/html": [
       "<div>\n",
       "<style scoped>\n",
       "    .dataframe tbody tr th:only-of-type {\n",
       "        vertical-align: middle;\n",
       "    }\n",
       "\n",
       "    .dataframe tbody tr th {\n",
       "        vertical-align: top;\n",
       "    }\n",
       "\n",
       "    .dataframe thead th {\n",
       "        text-align: right;\n",
       "    }\n",
       "</style>\n",
       "<table border=\"1\" class=\"dataframe\">\n",
       "  <thead>\n",
       "    <tr style=\"text-align: right;\">\n",
       "      <th></th>\n",
       "      <th>dY</th>\n",
       "      <th>U</th>\n",
       "      <th>dP</th>\n",
       "      <th>dW</th>\n",
       "      <th>dM</th>\n",
       "      <th>t</th>\n",
       "      <th>S_2</th>\n",
       "      <th>S_3</th>\n",
       "      <th>S_4</th>\n",
       "      <th>D_1</th>\n",
       "      <th>D_2</th>\n",
       "      <th>D_3</th>\n",
       "      <th>D_4</th>\n",
       "      <th>D_5</th>\n",
       "      <th>D_6</th>\n",
       "    </tr>\n",
       "    <tr>\n",
       "      <th>DATE</th>\n",
       "      <th></th>\n",
       "      <th></th>\n",
       "      <th></th>\n",
       "      <th></th>\n",
       "      <th></th>\n",
       "      <th></th>\n",
       "      <th></th>\n",
       "      <th></th>\n",
       "      <th></th>\n",
       "      <th></th>\n",
       "      <th></th>\n",
       "      <th></th>\n",
       "      <th></th>\n",
       "      <th></th>\n",
       "      <th></th>\n",
       "    </tr>\n",
       "  </thead>\n",
       "  <tbody>\n",
       "    <tr>\n",
       "      <th>1965-04-01</th>\n",
       "      <td>0.012709</td>\n",
       "      <td>0.046667</td>\n",
       "      <td>0.005048</td>\n",
       "      <td>0.008957</td>\n",
       "      <td>0.005779</td>\n",
       "      <td>1</td>\n",
       "      <td>1</td>\n",
       "      <td>0</td>\n",
       "      <td>0</td>\n",
       "      <td>0.0</td>\n",
       "      <td>0.0</td>\n",
       "      <td>0.0</td>\n",
       "      <td>0.0</td>\n",
       "      <td>0.0</td>\n",
       "      <td>0.0</td>\n",
       "    </tr>\n",
       "    <tr>\n",
       "      <th>1965-07-01</th>\n",
       "      <td>0.021268</td>\n",
       "      <td>0.043667</td>\n",
       "      <td>0.003712</td>\n",
       "      <td>0.008878</td>\n",
       "      <td>0.011459</td>\n",
       "      <td>2</td>\n",
       "      <td>0</td>\n",
       "      <td>1</td>\n",
       "      <td>0</td>\n",
       "      <td>0.0</td>\n",
       "      <td>0.0</td>\n",
       "      <td>0.0</td>\n",
       "      <td>0.0</td>\n",
       "      <td>0.0</td>\n",
       "      <td>0.0</td>\n",
       "    </tr>\n",
       "    <tr>\n",
       "      <th>1965-10-01</th>\n",
       "      <td>0.021972</td>\n",
       "      <td>0.041000</td>\n",
       "      <td>0.003017</td>\n",
       "      <td>0.010050</td>\n",
       "      <td>0.018146</td>\n",
       "      <td>3</td>\n",
       "      <td>0</td>\n",
       "      <td>0</td>\n",
       "      <td>1</td>\n",
       "      <td>0.0</td>\n",
       "      <td>0.0</td>\n",
       "      <td>0.0</td>\n",
       "      <td>0.0</td>\n",
       "      <td>0.0</td>\n",
       "      <td>0.0</td>\n",
       "    </tr>\n",
       "    <tr>\n",
       "      <th>1966-01-01</th>\n",
       "      <td>0.024114</td>\n",
       "      <td>0.038667</td>\n",
       "      <td>0.007756</td>\n",
       "      <td>0.008712</td>\n",
       "      <td>0.017233</td>\n",
       "      <td>4</td>\n",
       "      <td>0</td>\n",
       "      <td>0</td>\n",
       "      <td>0</td>\n",
       "      <td>0.0</td>\n",
       "      <td>0.0</td>\n",
       "      <td>0.0</td>\n",
       "      <td>0.0</td>\n",
       "      <td>0.0</td>\n",
       "      <td>0.0</td>\n",
       "    </tr>\n",
       "    <tr>\n",
       "      <th>1966-04-01</th>\n",
       "      <td>0.003399</td>\n",
       "      <td>0.038333</td>\n",
       "      <td>0.008088</td>\n",
       "      <td>0.011091</td>\n",
       "      <td>0.010743</td>\n",
       "      <td>5</td>\n",
       "      <td>1</td>\n",
       "      <td>0</td>\n",
       "      <td>0</td>\n",
       "      <td>0.0</td>\n",
       "      <td>0.0</td>\n",
       "      <td>0.0</td>\n",
       "      <td>0.0</td>\n",
       "      <td>0.0</td>\n",
       "      <td>0.0</td>\n",
       "    </tr>\n",
       "    <tr>\n",
       "      <th>...</th>\n",
       "      <td>...</td>\n",
       "      <td>...</td>\n",
       "      <td>...</td>\n",
       "      <td>...</td>\n",
       "      <td>...</td>\n",
       "      <td>...</td>\n",
       "      <td>...</td>\n",
       "      <td>...</td>\n",
       "      <td>...</td>\n",
       "      <td>...</td>\n",
       "      <td>...</td>\n",
       "      <td>...</td>\n",
       "      <td>...</td>\n",
       "      <td>...</td>\n",
       "      <td>...</td>\n",
       "    </tr>\n",
       "    <tr>\n",
       "      <th>1985-10-01</th>\n",
       "      <td>0.008002</td>\n",
       "      <td>0.070333</td>\n",
       "      <td>0.006981</td>\n",
       "      <td>0.006443</td>\n",
       "      <td>0.028224</td>\n",
       "      <td>83</td>\n",
       "      <td>0</td>\n",
       "      <td>0</td>\n",
       "      <td>1</td>\n",
       "      <td>0.0</td>\n",
       "      <td>0.0</td>\n",
       "      <td>0.0</td>\n",
       "      <td>0.0</td>\n",
       "      <td>0.0</td>\n",
       "      <td>0.0</td>\n",
       "    </tr>\n",
       "    <tr>\n",
       "      <th>1986-01-01</th>\n",
       "      <td>0.008497</td>\n",
       "      <td>0.070333</td>\n",
       "      <td>0.007081</td>\n",
       "      <td>0.005651</td>\n",
       "      <td>0.021668</td>\n",
       "      <td>84</td>\n",
       "      <td>0</td>\n",
       "      <td>0</td>\n",
       "      <td>0</td>\n",
       "      <td>0.0</td>\n",
       "      <td>0.0</td>\n",
       "      <td>0.0</td>\n",
       "      <td>0.0</td>\n",
       "      <td>0.0</td>\n",
       "      <td>0.0</td>\n",
       "    </tr>\n",
       "    <tr>\n",
       "      <th>1986-04-01</th>\n",
       "      <td>0.002942</td>\n",
       "      <td>0.071667</td>\n",
       "      <td>-0.001038</td>\n",
       "      <td>0.003001</td>\n",
       "      <td>0.038349</td>\n",
       "      <td>85</td>\n",
       "      <td>1</td>\n",
       "      <td>0</td>\n",
       "      <td>0</td>\n",
       "      <td>0.0</td>\n",
       "      <td>0.0</td>\n",
       "      <td>0.0</td>\n",
       "      <td>0.0</td>\n",
       "      <td>0.0</td>\n",
       "      <td>0.0</td>\n",
       "    </tr>\n",
       "    <tr>\n",
       "      <th>1986-07-01</th>\n",
       "      <td>0.009952</td>\n",
       "      <td>0.069667</td>\n",
       "      <td>0.005269</td>\n",
       "      <td>0.003365</td>\n",
       "      <td>0.041510</td>\n",
       "      <td>86</td>\n",
       "      <td>0</td>\n",
       "      <td>1</td>\n",
       "      <td>0</td>\n",
       "      <td>0.0</td>\n",
       "      <td>0.0</td>\n",
       "      <td>0.0</td>\n",
       "      <td>0.0</td>\n",
       "      <td>0.0</td>\n",
       "      <td>0.0</td>\n",
       "    </tr>\n",
       "    <tr>\n",
       "      <th>1986-10-01</th>\n",
       "      <td>0.003945</td>\n",
       "      <td>0.068333</td>\n",
       "      <td>0.006012</td>\n",
       "      <td>0.007067</td>\n",
       "      <td>0.042588</td>\n",
       "      <td>87</td>\n",
       "      <td>0</td>\n",
       "      <td>0</td>\n",
       "      <td>1</td>\n",
       "      <td>0.0</td>\n",
       "      <td>0.0</td>\n",
       "      <td>0.0</td>\n",
       "      <td>0.0</td>\n",
       "      <td>0.0</td>\n",
       "      <td>0.0</td>\n",
       "    </tr>\n",
       "  </tbody>\n",
       "</table>\n",
       "<p>87 rows × 15 columns</p>\n",
       "</div>"
      ],
      "text/plain": [
       "                  dY         U        dP        dW        dM   t  S_2  S_3  \\\n",
       "DATE                                                                         \n",
       "1965-04-01  0.012709  0.046667  0.005048  0.008957  0.005779   1    1    0   \n",
       "1965-07-01  0.021268  0.043667  0.003712  0.008878  0.011459   2    0    1   \n",
       "1965-10-01  0.021972  0.041000  0.003017  0.010050  0.018146   3    0    0   \n",
       "1966-01-01  0.024114  0.038667  0.007756  0.008712  0.017233   4    0    0   \n",
       "1966-04-01  0.003399  0.038333  0.008088  0.011091  0.010743   5    1    0   \n",
       "...              ...       ...       ...       ...       ...  ..  ...  ...   \n",
       "1985-10-01  0.008002  0.070333  0.006981  0.006443  0.028224  83    0    0   \n",
       "1986-01-01  0.008497  0.070333  0.007081  0.005651  0.021668  84    0    0   \n",
       "1986-04-01  0.002942  0.071667 -0.001038  0.003001  0.038349  85    1    0   \n",
       "1986-07-01  0.009952  0.069667  0.005269  0.003365  0.041510  86    0    1   \n",
       "1986-10-01  0.003945  0.068333  0.006012  0.007067  0.042588  87    0    0   \n",
       "\n",
       "            S_4  D_1  D_2  D_3  D_4  D_5  D_6  \n",
       "DATE                                           \n",
       "1965-04-01    0  0.0  0.0  0.0  0.0  0.0  0.0  \n",
       "1965-07-01    0  0.0  0.0  0.0  0.0  0.0  0.0  \n",
       "1965-10-01    1  0.0  0.0  0.0  0.0  0.0  0.0  \n",
       "1966-01-01    0  0.0  0.0  0.0  0.0  0.0  0.0  \n",
       "1966-04-01    0  0.0  0.0  0.0  0.0  0.0  0.0  \n",
       "...         ...  ...  ...  ...  ...  ...  ...  \n",
       "1985-10-01    1  0.0  0.0  0.0  0.0  0.0  0.0  \n",
       "1986-01-01    0  0.0  0.0  0.0  0.0  0.0  0.0  \n",
       "1986-04-01    0  0.0  0.0  0.0  0.0  0.0  0.0  \n",
       "1986-07-01    0  0.0  0.0  0.0  0.0  0.0  0.0  \n",
       "1986-10-01    1  0.0  0.0  0.0  0.0  0.0  0.0  \n",
       "\n",
       "[87 rows x 15 columns]"
      ]
     },
     "execution_count": 4,
     "metadata": {},
     "output_type": "execute_result"
    }
   ],
   "source": [
    "df"
   ]
  },
  {
   "cell_type": "markdown",
   "id": "eb54b1b2",
   "metadata": {
    "id": "eb54b1b2"
   },
   "source": [
    "## I. The Basic Approach"
   ]
  },
  {
   "cell_type": "markdown",
   "id": "815fced9",
   "metadata": {
    "id": "815fced9"
   },
   "source": [
    "$Y$ : Logarithm of output\n",
    "\n",
    "$U$ : Rate of unemployment\n",
    "\n",
    "$P$ : Logarithm of the price level\n",
    "\n",
    "$W$ : Logarithm of wage level\n",
    "\n",
    "$M$ : Logarithm of nominal money"
   ]
  },
  {
   "cell_type": "markdown",
   "id": "702f8052",
   "metadata": {
    "id": "702f8052"
   },
   "source": [
    "Five structual disturbances:\n",
    "1. Autonomous shocks to aggregate demand\n",
    "2. Shocks to labor supply and technology\n",
    "3. Shocks to price\n",
    "4. Shocks to wage setting\n",
    "5. Shocks to nominal money"
   ]
  },
  {
   "cell_type": "markdown",
   "id": "501799c5",
   "metadata": {
    "id": "501799c5"
   },
   "source": [
    "White-noise innovations to above 5 disturbances:\n",
    "1. $e_d$ (aggregate demand)\n",
    "2. $e_{\\Theta}$ (labor supply and technology)\n",
    "3. $e_p$ (price level)\n",
    "4. $e_w$ (wage setting)\n",
    "5. $e_m$ (nominal money)\n",
    "\n",
    "* Each are assumed to have zero cross-correlation\n",
    "* 강의노트와 실습시간에는 white noise innovation들의 notation이 $u$였으나, 논문에서는 $e$ 임을 유의! "
   ]
  },
  {
   "cell_type": "markdown",
   "id": "0ae4e548",
   "metadata": {
    "id": "0ae4e548"
   },
   "source": [
    "Structural Model:\n",
    "\n",
    "$AX = A(L)X_{-1}+BZ+Ce    \\cdots (1)$\n",
    "\n",
    "where\n",
    "\n",
    "* $V(e) = D$ (diagonal b/c $e$ is defined to be zero-correlated)\n",
    "* $X=[Y,U,P,W,M]^T$\n",
    "* $e=[e_d , e_{\\Theta}, e_p, e_w, e_m]^T$\n",
    "* $Z$ : Vector of deterministic variables (외생 변수들)\n",
    "* $A(L)$ : matrix polynomial of order n\n",
    "* $A, B, C$ : matrices of full rank\n",
    "* Diagonal elements of $A$ and $C$ are unities."
   ]
  },
  {
   "cell_type": "markdown",
   "id": "ed5e3501",
   "metadata": {
    "id": "ed5e3501"
   },
   "source": [
    "Reduced form:\n",
    "\n",
    "$X = A^{-1} A(L)X_{-1}+A^{-1}BZ+A^{-1}Ce  \\cdots (2)$\n",
    "\n",
    "or equivalently \n",
    "\n",
    "$X = F(L)X_{-1}+GZ+x   \\cdots (3)$\n",
    "\n",
    "where\n",
    "\n",
    "* $x=[y,u,p,w,m]^T$ : Vector of reduced-form innovations\n",
    "* $Ax = Ce  \\cdots (4)$"
   ]
  },
  {
   "cell_type": "markdown",
   "id": "34d71286",
   "metadata": {
    "id": "34d71286"
   },
   "source": [
    "(4)번 방정식은 $C^{-1}Ax=e$와 equivalent\n",
    "\n",
    "$C^{-1}A$는 Lower-Triangular이라고 가정 (Choleski decomposition unique하게 됨)\n",
    "* $C$: diagnonal, $A$: lower-triangular이면 달성 가능\n",
    "* 위 (1)번 식의 정의에서 $C$는 diagnonal로 정의하였음.\n",
    "* $A$만 lower-triangular이 되게 restriction 걸어주면 원하는 조건 달성 가능"
   ]
  },
  {
   "cell_type": "markdown",
   "id": "6299f5b5",
   "metadata": {
    "id": "6299f5b5"
   },
   "source": [
    "위 (4)번 방정식으로부터 얻어지는 $A\\Omega_x A^T = C\\Omega_e C^T$를 푸는 것이 목적\n",
    "\n",
    "$x=[y,u,p,w,m]^T$의 covariance matrix로부터 ${{5\\times(5+1)}\\over{2}}=15$개의 independent moments 얻을 수 있음.\n",
    "\n",
    "따라서, $A\\Omega_x A^T = C\\Omega_e C^T$ 방정식의 미지수 개수 역시 15개여야 just-identified"
   ]
  },
  {
   "cell_type": "markdown",
   "id": "8c30fcc4",
   "metadata": {
    "id": "8c30fcc4"
   },
   "source": [
    "## II. Identification"
   ]
  },
  {
   "cell_type": "markdown",
   "id": "946066d0",
   "metadata": {
    "id": "946066d0"
   },
   "source": [
    "연립방정식이 풀리기 위해서는, 적절한 제약조건들을 걸어주어 just-identification을 달성해야 함.\n",
    "\n",
    "위에서 언급된 조건들을 만족하기 위해, $A$는 lower trinagular, $C$는 diagonal인 형태로 관계식 구성"
   ]
  },
  {
   "cell_type": "markdown",
   "id": "09d113bf",
   "metadata": {
    "id": "09d113bf"
   },
   "source": [
    "Set of restrictions (5) on the relation between reduced-form $x$ and structural innovations $e$, equation (4):\n",
    "* (AD) $y=ce_{\\Theta}+e_d$\n",
    "* (OL) $u=a_{21}y+e_{\\Theta}$\n",
    "* (PS) $p=a_{34}w+a_{31}y+c_{32}e_{\\Theta}+e_p$\n",
    "* (WS) $w=a_{43}p+a_{42}u+c_{42}e_{\\Theta}+e_w$\n",
    "* (MR) $m=a_{51}y+a_{52}u+a_{53}+a_{54}w+e_m$\n",
    "\n",
    "where\n",
    "\n",
    "* $a_{ij}$ : Element in the $i^{th}$ row, $j^{th}$ column of $A$\n",
    "* $c_{ij}$ : Element in the $i^{th}$ row, $j^{th}$ column of $C$\n",
    "* $c=c_{12} $  (추후 특정 값으로 restrict)\n",
    "* $a_{34}$와 $a_{43}$ 중 한 값을 특정 값으로 restrict 해주면, 미지수 15개만 남게 되어 just-identificaiton 달성 가능"
   ]
  },
  {
   "cell_type": "markdown",
   "id": "2709212d",
   "metadata": {
    "id": "2709212d"
   },
   "source": [
    "Above restrictions has the following interpretations:\n",
    "* Innovations in output are entirely attributed to demand innovations, $e_d$\n",
    "* Innovations in unemployment givne output are attributed to supply innovations $e_{\\Theta}$\n",
    "* Price innovations depend on wage and output innovations\n",
    "* Prices depend on the price-setting innovation, such as markups\n",
    "* Wage innovations depend on price and unemployment innovations\n",
    "* Wages depend on wage-setting innovation, such as bargaining power\n",
    "* Nominal money innovations respond to innovations in all variables"
   ]
  },
  {
   "cell_type": "markdown",
   "id": "c2e533de",
   "metadata": {
    "id": "c2e533de"
   },
   "source": [
    "## III. Estimation"
   ]
  },
  {
   "cell_type": "markdown",
   "id": "6935f9e3",
   "metadata": {
    "id": "6935f9e3"
   },
   "source": [
    "### Choice of Data"
   ]
  },
  {
   "cell_type": "markdown",
   "id": "5ce562d7",
   "metadata": {
    "id": "5ce562d7"
   },
   "source": [
    "#### [논문]\n",
    "\n",
    "1965년 1분기 ~ 1986년 4분기 데이터 활용\n",
    "* $U$ : overall unemployment rate\n",
    "* $Y$ : logarithm of real GNP\n",
    "* $M$ : logarithm of M1\n",
    "* $W$ : logarithm of the hourly earnings index for the private no-farm sector\n",
    "* $P$ : logarithm of the PCE deflator\n",
    "\n",
    "추가로, 외생변수들 $Z$로 constant, seasonal dummies, wage price control dummies, linear time trend 사용\n",
    "* Wage price control dummies : Values are proportional to the number of days during the quarter for which as particular set of guidlines was in force\n",
    " 1. $1^{st}$ wage price freeze : August 1971 ~ November 1971\n",
    " 2. $2^{nd}$ wage price freeze : June 1973 ~ August 1973\n",
    " 3. $1^{st}$ control phase : November 1971 ~ January 1973\n",
    " 4. $2^{nd}$ control phase : January 1973 ~ June 1973\n",
    " 5. $3^{rd}$ control phase : August 1973 ~ April 1974\n",
    " 6. Period following decontrol : May 1974 ~ June 1974"
   ]
  },
  {
   "cell_type": "markdown",
   "id": "bc3e01e7",
   "metadata": {
    "id": "bc3e01e7"
   },
   "source": [
    "이를 반영하여,본 replication에서 실제로 활용한 데이터는 다음과 같습니다.\n",
    "1. U : https://fred.stlouisfed.org/series/UNRATE\n",
    "2. Y : https://fred.stlouisfed.org/series/GNP\n",
    "3. M : https://fred.stlouisfed.org/series/MANMM101USQ189S\n",
    "4. W : https://fred.stlouisfed.org/series/AHETPI\n",
    "5. P : https://fred.stlouisfed.org/series/DPCERD3Q086SBEA"
   ]
  },
  {
   "cell_type": "markdown",
   "id": "b61c4c7a",
   "metadata": {
    "id": "b61c4c7a"
   },
   "source": [
    "### 전처리 코드"
   ]
  },
  {
   "cell_type": "code",
   "execution_count": 5,
   "id": "5d8d02fb",
   "metadata": {
    "id": "5d8d02fb"
   },
   "outputs": [],
   "source": [
    "# raw 데이터 불러오기\n",
    "\n",
    "ump = pd.read_csv(os.path.join(os.getcwd(),'UNRATE.csv')).rename(columns={'UNRATE':'U'})\n",
    "gnp = pd.read_csv(os.path.join(os.getcwd(),'GNPC96.csv')).rename(columns={'GNPC96':'GNP'})\n",
    "m1 = pd.read_csv(os.path.join(os.getcwd(),'MANMM101USQ189S.csv')).rename(columns={'MANMM101USQ189S':'M1'})\n",
    "pce = pd.read_csv(os.path.join(os.getcwd(),'DPCERD3Q086SBEA.csv')).rename(columns={'DPCERD3Q086SBEA':'PCE'})\n",
    "wage = pd.read_csv(os.path.join(os.getcwd(),'AHETPI.csv')).rename(columns={'AHETPI':'W'})"
   ]
  },
  {
   "cell_type": "code",
   "execution_count": 6,
   "id": "b31f04df",
   "metadata": {
    "id": "b31f04df"
   },
   "outputs": [],
   "source": [
    "# 필요한 데이터 (1965년 1분기 ~ 1986년 4분기, quarterly data)만 남기기\n",
    "\n",
    "def date_preprocess(df):\n",
    "    new_df = df.copy()\n",
    "    new_df['year'] = new_df['DATE'].apply(lambda x: x.split('-')[0]).astype(int)\n",
    "    new_df['month'] = new_df['DATE'].apply(lambda x: x.split('-')[1]).astype(int)\n",
    "    new_df['quarter'] = ((new_df['month']-1)//3)+1\n",
    "    new_df_quarterly = new_df.groupby(['year','quarter']).mean().drop('month',axis=1).reset_index()\n",
    "    new_df = new_df[['DATE','year','quarter']].merge(new_df_quarterly,on=['year','quarter']).drop_duplicates(subset=['year','quarter'])\n",
    "    new_df = new_df[new_df['year']>=1965]\n",
    "    new_df = new_df[new_df['year']<=1986]\n",
    "    new_df = new_df.set_index('DATE').drop(['year','quarter'],axis=1)\n",
    "    return new_df\n",
    "\n",
    "all = pd.concat([date_preprocess(ump),date_preprocess(gnp),date_preprocess(m1),date_preprocess(pce),date_preprocess(wage)],axis=1)"
   ]
  },
  {
   "cell_type": "code",
   "execution_count": 7,
   "id": "51678b14",
   "metadata": {
    "id": "51678b14"
   },
   "outputs": [],
   "source": [
    "# 차분 변수들로 blanchard df 구성\n",
    "\n",
    "blanchard = all.copy()\n",
    "blanchard['dY'] = (blanchard['GNP'].apply(lambda x:np.log(x))-blanchard['GNP'].apply(lambda x:np.log(x)).shift(1))*100\n",
    "blanchard['dP'] = (blanchard['PCE'].apply(lambda x:np.log(x))-blanchard['PCE'].apply(lambda x:np.log(x)).shift(1))*100\n",
    "blanchard['dW'] = (blanchard['W'].apply(lambda x:np.log(x))-blanchard['W'].apply(lambda x:np.log(x)).shift(1))*100\n",
    "blanchard['dM'] = (blanchard['M1'].apply(lambda x:np.log(x))-blanchard['M1'].apply(lambda x:np.log(x)).shift(1))*100\n",
    "blanchard = blanchard.iloc[1:]\n",
    "blanchard.drop(['GNP','M1','PCE','W'],axis=1,inplace=True)\n",
    "blanchard = blanchard[['dY','U','dP','dW','dM']]"
   ]
  },
  {
   "cell_type": "code",
   "execution_count": 8,
   "id": "48c850bc",
   "metadata": {
    "id": "48c850bc"
   },
   "outputs": [],
   "source": [
    "# 상수항 추가\n",
    "\n",
    "blanchard['t'] = np.arange(1, blanchard.shape[0]+1)"
   ]
  },
  {
   "cell_type": "code",
   "execution_count": 9,
   "id": "89b81241",
   "metadata": {
    "id": "89b81241"
   },
   "outputs": [],
   "source": [
    "# seasonal dummy 추가\n",
    "\n",
    "quarter_dummies = pd.get_dummies(blanchard.reset_index()['DATE'].apply(lambda x: (int(x.split('-')[1])-1)//3+1))\n",
    "quarter_dummies = quarter_dummies.drop(1,axis=1).rename(columns={2:'S_2',3:'S_3',4:'S_4'})\n",
    "quarter_dummies.index = blanchard.index\n",
    "blanchard = pd.concat([blanchard, quarter_dummies],axis=1)"
   ]
  },
  {
   "cell_type": "code",
   "execution_count": 10,
   "id": "747ee785",
   "metadata": {
    "id": "747ee785"
   },
   "outputs": [],
   "source": [
    "# control dummy 추가\n",
    "\n",
    "blanchard[['D_1','D_2','D_3','D_4','D_5','D_6']] = np.zeros((blanchard.shape[0],6))\n",
    "\n",
    "blanchard.loc['1971-07-01':'1971-10-01','D_1'] = 2\n",
    "blanchard.loc['1973-04-01','D_2'] = 1\n",
    "blanchard.loc['1973-07-01','D_2'] = 2\n",
    "blanchard.loc['1971-10-01','D_3'] = 2\n",
    "blanchard.loc['1972-01-01':'1972-10-01','D_3'] = 3\n",
    "blanchard.loc['1973-01-01','D_3'] = 1\n",
    "blanchard.loc['1973-01-01':'1973-04-01','D_4'] = 3\n",
    "blanchard.loc['1973-07-01','D_5'] = 2\n",
    "blanchard.loc['1973-10-01':'1974-01-01','D_5'] = 3\n",
    "blanchard.loc['1974-04-01','D_5'] = 1\n",
    "blanchard.loc['1974-04-01','D_6'] = 2"
   ]
  },
  {
   "cell_type": "code",
   "execution_count": 11,
   "id": "1ca03b3a",
   "metadata": {
    "id": "1ca03b3a"
   },
   "outputs": [],
   "source": [
    "blanchard.to_csv(os.path.join(os.getcwd(),'blanchard.csv'))"
   ]
  },
  {
   "cell_type": "markdown",
   "id": "0f89a60d",
   "metadata": {
    "id": "0f89a60d"
   },
   "source": [
    "### 각 내생변수 단위근 검정"
   ]
  },
  {
   "cell_type": "markdown",
   "id": "1b361e2b",
   "metadata": {
    "id": "1b361e2b"
   },
   "source": [
    "#### [논문]\n",
    "Null hypothesis of stationarity:\n",
    "* $U$ is stationary\n",
    "* $\\Delta Y, \\Delta M, \\Delta P, \\Delta W$ are stationary\n",
    "\n",
    "위 a priori 가정들에 근거하여 다음 논의들 전개\n",
    " * but 이에 반하는 실증적 근거들도 많이 나와 있음. 100% 맞다는 보장은 없다."
   ]
  },
  {
   "cell_type": "markdown",
   "id": "6fbe948c",
   "metadata": {
    "id": "6fbe948c"
   },
   "source": [
    "위와 같은 논문의 주장을 검증해 보겠습니다."
   ]
  },
  {
   "cell_type": "code",
   "execution_count": 12,
   "id": "90cfcdf6",
   "metadata": {
    "id": "90cfcdf6"
   },
   "outputs": [],
   "source": [
    "# statsmodel의 augmented dickey-fuller를 이용\n",
    "# 귀무가설 : \"Unit root 존재한다\"\n",
    "\n",
    "adf_result_index = pd.Index(['test_statistic','pvalue','used_lag','n_obs','critical_values','icbest'])\n",
    "\n",
    "def adf_test(df,option='c'):\n",
    "    for num, col in enumerate(df.columns):\n",
    "        col_result = pd.DataFrame(tsa.stattools.adfuller(df[col], maxlag=None, regression=option, autolag='AIC', store=False, regresults=False),index=adf_result_index).rename(columns={0:col})\n",
    "        if num==0:\n",
    "            result_df = col_result\n",
    "        else:\n",
    "            result_df = pd.concat([result_df,col_result],axis=1)\n",
    "    return result_df"
   ]
  },
  {
   "cell_type": "code",
   "execution_count": 13,
   "id": "06cfc4c6",
   "metadata": {
    "id": "06cfc4c6",
    "outputId": "6318d9b5-1a31-47d1-b722-38633b01999b"
   },
   "outputs": [
    {
     "data": {
      "text/html": [
       "<div>\n",
       "<style scoped>\n",
       "    .dataframe tbody tr th:only-of-type {\n",
       "        vertical-align: middle;\n",
       "    }\n",
       "\n",
       "    .dataframe tbody tr th {\n",
       "        vertical-align: top;\n",
       "    }\n",
       "\n",
       "    .dataframe thead th {\n",
       "        text-align: right;\n",
       "    }\n",
       "</style>\n",
       "<table border=\"1\" class=\"dataframe\">\n",
       "  <thead>\n",
       "    <tr style=\"text-align: right;\">\n",
       "      <th></th>\n",
       "      <th>dY</th>\n",
       "      <th>U</th>\n",
       "      <th>dP</th>\n",
       "      <th>dW</th>\n",
       "      <th>dM</th>\n",
       "    </tr>\n",
       "  </thead>\n",
       "  <tbody>\n",
       "    <tr>\n",
       "      <th>test_statistic</th>\n",
       "      <td>-6.754288</td>\n",
       "      <td>-2.290529</td>\n",
       "      <td>-1.558723</td>\n",
       "      <td>-0.938338</td>\n",
       "      <td>-0.551064</td>\n",
       "    </tr>\n",
       "    <tr>\n",
       "      <th>pvalue</th>\n",
       "      <td>0.0</td>\n",
       "      <td>0.175041</td>\n",
       "      <td>0.504288</td>\n",
       "      <td>0.775085</td>\n",
       "      <td>0.881661</td>\n",
       "    </tr>\n",
       "    <tr>\n",
       "      <th>used_lag</th>\n",
       "      <td>0</td>\n",
       "      <td>1</td>\n",
       "      <td>11</td>\n",
       "      <td>12</td>\n",
       "      <td>8</td>\n",
       "    </tr>\n",
       "    <tr>\n",
       "      <th>n_obs</th>\n",
       "      <td>86</td>\n",
       "      <td>85</td>\n",
       "      <td>75</td>\n",
       "      <td>74</td>\n",
       "      <td>78</td>\n",
       "    </tr>\n",
       "    <tr>\n",
       "      <th>critical_values</th>\n",
       "      <td>{'1%': -3.5087828609430614, '5%': -2.895783561...</td>\n",
       "      <td>{'1%': -3.5097356063504983, '5%': -2.896194748...</td>\n",
       "      <td>{'1%': -3.520713130074074, '5%': -2.9009249540...</td>\n",
       "      <td>{'1%': -3.5219803175527606, '5%': -2.901470109...</td>\n",
       "      <td>{'1%': -3.517113604831504, '5%': -2.8993754262...</td>\n",
       "    </tr>\n",
       "    <tr>\n",
       "      <th>icbest</th>\n",
       "      <td>-464.930199</td>\n",
       "      <td>-638.164407</td>\n",
       "      <td>-627.753992</td>\n",
       "      <td>-616.81432</td>\n",
       "      <td>-501.496604</td>\n",
       "    </tr>\n",
       "  </tbody>\n",
       "</table>\n",
       "</div>"
      ],
      "text/plain": [
       "                                                                dY  \\\n",
       "test_statistic                                           -6.754288   \n",
       "pvalue                                                         0.0   \n",
       "used_lag                                                         0   \n",
       "n_obs                                                           86   \n",
       "critical_values  {'1%': -3.5087828609430614, '5%': -2.895783561...   \n",
       "icbest                                                 -464.930199   \n",
       "\n",
       "                                                                 U  \\\n",
       "test_statistic                                           -2.290529   \n",
       "pvalue                                                    0.175041   \n",
       "used_lag                                                         1   \n",
       "n_obs                                                           85   \n",
       "critical_values  {'1%': -3.5097356063504983, '5%': -2.896194748...   \n",
       "icbest                                                 -638.164407   \n",
       "\n",
       "                                                                dP  \\\n",
       "test_statistic                                           -1.558723   \n",
       "pvalue                                                    0.504288   \n",
       "used_lag                                                        11   \n",
       "n_obs                                                           75   \n",
       "critical_values  {'1%': -3.520713130074074, '5%': -2.9009249540...   \n",
       "icbest                                                 -627.753992   \n",
       "\n",
       "                                                                dW  \\\n",
       "test_statistic                                           -0.938338   \n",
       "pvalue                                                    0.775085   \n",
       "used_lag                                                        12   \n",
       "n_obs                                                           74   \n",
       "critical_values  {'1%': -3.5219803175527606, '5%': -2.901470109...   \n",
       "icbest                                                  -616.81432   \n",
       "\n",
       "                                                                dM  \n",
       "test_statistic                                           -0.551064  \n",
       "pvalue                                                    0.881661  \n",
       "used_lag                                                         8  \n",
       "n_obs                                                           78  \n",
       "critical_values  {'1%': -3.517113604831504, '5%': -2.8993754262...  \n",
       "icbest                                                 -501.496604  "
      ]
     },
     "execution_count": 13,
     "metadata": {},
     "output_type": "execute_result"
    }
   ],
   "source": [
    "# constant\n",
    "adf_test(df[['dY','U','dP','dW','dM']])"
   ]
  },
  {
   "cell_type": "code",
   "execution_count": 14,
   "id": "4dce0617",
   "metadata": {
    "id": "4dce0617",
    "outputId": "bab805c1-e1df-4c1b-a4d4-2f1a5250d832"
   },
   "outputs": [
    {
     "data": {
      "text/html": [
       "<div>\n",
       "<style scoped>\n",
       "    .dataframe tbody tr th:only-of-type {\n",
       "        vertical-align: middle;\n",
       "    }\n",
       "\n",
       "    .dataframe tbody tr th {\n",
       "        vertical-align: top;\n",
       "    }\n",
       "\n",
       "    .dataframe thead th {\n",
       "        text-align: right;\n",
       "    }\n",
       "</style>\n",
       "<table border=\"1\" class=\"dataframe\">\n",
       "  <thead>\n",
       "    <tr style=\"text-align: right;\">\n",
       "      <th></th>\n",
       "      <th>dY</th>\n",
       "      <th>U</th>\n",
       "      <th>dP</th>\n",
       "      <th>dW</th>\n",
       "      <th>dM</th>\n",
       "    </tr>\n",
       "  </thead>\n",
       "  <tbody>\n",
       "    <tr>\n",
       "      <th>test_statistic</th>\n",
       "      <td>-6.73811</td>\n",
       "      <td>-3.260797</td>\n",
       "      <td>-0.73177</td>\n",
       "      <td>-0.817939</td>\n",
       "      <td>-2.097841</td>\n",
       "    </tr>\n",
       "    <tr>\n",
       "      <th>pvalue</th>\n",
       "      <td>0.0</td>\n",
       "      <td>0.072953</td>\n",
       "      <td>0.970974</td>\n",
       "      <td>0.964138</td>\n",
       "      <td>0.547306</td>\n",
       "    </tr>\n",
       "    <tr>\n",
       "      <th>used_lag</th>\n",
       "      <td>0</td>\n",
       "      <td>1</td>\n",
       "      <td>9</td>\n",
       "      <td>8</td>\n",
       "      <td>8</td>\n",
       "    </tr>\n",
       "    <tr>\n",
       "      <th>n_obs</th>\n",
       "      <td>86</td>\n",
       "      <td>85</td>\n",
       "      <td>77</td>\n",
       "      <td>78</td>\n",
       "      <td>78</td>\n",
       "    </tr>\n",
       "    <tr>\n",
       "      <th>critical_values</th>\n",
       "      <td>{'1%': -4.068093220911366, '5%': -3.4628342407...</td>\n",
       "      <td>{'1%': -4.06943017911663, '5%': -3.46346630612...</td>\n",
       "      <td>{'1%': -4.081431321087413, '5%': -3.4691316044...</td>\n",
       "      <td>{'1%': -4.079790666649808, '5%': -3.4683580009...</td>\n",
       "      <td>{'1%': -4.079790666649808, '5%': -3.4683580009...</td>\n",
       "    </tr>\n",
       "    <tr>\n",
       "      <th>icbest</th>\n",
       "      <td>-463.066408</td>\n",
       "      <td>-639.222533</td>\n",
       "      <td>-626.29945</td>\n",
       "      <td>-618.731675</td>\n",
       "      <td>-505.288721</td>\n",
       "    </tr>\n",
       "  </tbody>\n",
       "</table>\n",
       "</div>"
      ],
      "text/plain": [
       "                                                                dY  \\\n",
       "test_statistic                                            -6.73811   \n",
       "pvalue                                                         0.0   \n",
       "used_lag                                                         0   \n",
       "n_obs                                                           86   \n",
       "critical_values  {'1%': -4.068093220911366, '5%': -3.4628342407...   \n",
       "icbest                                                 -463.066408   \n",
       "\n",
       "                                                                 U  \\\n",
       "test_statistic                                           -3.260797   \n",
       "pvalue                                                    0.072953   \n",
       "used_lag                                                         1   \n",
       "n_obs                                                           85   \n",
       "critical_values  {'1%': -4.06943017911663, '5%': -3.46346630612...   \n",
       "icbest                                                 -639.222533   \n",
       "\n",
       "                                                                dP  \\\n",
       "test_statistic                                            -0.73177   \n",
       "pvalue                                                    0.970974   \n",
       "used_lag                                                         9   \n",
       "n_obs                                                           77   \n",
       "critical_values  {'1%': -4.081431321087413, '5%': -3.4691316044...   \n",
       "icbest                                                  -626.29945   \n",
       "\n",
       "                                                                dW  \\\n",
       "test_statistic                                           -0.817939   \n",
       "pvalue                                                    0.964138   \n",
       "used_lag                                                         8   \n",
       "n_obs                                                           78   \n",
       "critical_values  {'1%': -4.079790666649808, '5%': -3.4683580009...   \n",
       "icbest                                                 -618.731675   \n",
       "\n",
       "                                                                dM  \n",
       "test_statistic                                           -2.097841  \n",
       "pvalue                                                    0.547306  \n",
       "used_lag                                                         8  \n",
       "n_obs                                                           78  \n",
       "critical_values  {'1%': -4.079790666649808, '5%': -3.4683580009...  \n",
       "icbest                                                 -505.288721  "
      ]
     },
     "execution_count": 14,
     "metadata": {},
     "output_type": "execute_result"
    }
   ],
   "source": [
    "# constant + trend\n",
    "adf_test(df[['dY','U','dP','dW','dM']],'ct')"
   ]
  },
  {
   "cell_type": "markdown",
   "id": "b9132aa8",
   "metadata": {
    "id": "b9132aa8"
   },
   "source": [
    "* $\\Delta Y$는 강력하게 귀무가설 기각 가능 (즉, stationary)\n",
    "* $\\Delta P$와 $\\Delta W$와 $\\Delta M$은 어떠한 경우에도 귀무가설을 기각할 수 없었음. (즉, non-stationary)\n",
    "* $U$ 역시 귀무가설 기각하기 어려워 보임 (즉, non-stationary)\n",
    "\n",
    "이 결과는 논문의 가정과 배치되기는 하지만, 실제로 논문에서 이와 관련하여는 저자의 가정과 상반되는 실증 결과들이 많이 존재함을 인정하였음을 감안할 때, 충분히 이러한 결과가 나올 수 있는 상황으로 받아들였습니다"
   ]
  },
  {
   "cell_type": "markdown",
   "id": "a59f0b2c",
   "metadata": {
    "id": "a59f0b2c"
   },
   "source": [
    "### 내생변수 간 공적분 검정"
   ]
  },
  {
   "cell_type": "markdown",
   "id": "086186d6",
   "metadata": {
    "id": "086186d6"
   },
   "source": [
    "#### [논문]\n",
    "$Y, M, P, W$의 subset들 내 공적분 검정 결과, 상수항 포함하나 안하나 공적분 관계 없는 것으로 드러남\n",
    "\n",
    "따라서, $\\Delta Y, U, \\Delta M, \\Delta P, \\Delta W$를 내생변수로 사용"
   ]
  },
  {
   "cell_type": "markdown",
   "id": "61e1b4cb",
   "metadata": {
    "id": "61e1b4cb"
   },
   "source": [
    "위와 같은 논문의 주장을 검증해 보겠습니다"
   ]
  },
  {
   "cell_type": "code",
   "execution_count": 15,
   "id": "d53e750e",
   "metadata": {
    "id": "d53e750e"
   },
   "outputs": [],
   "source": [
    "# statsmodel에서 지원하는 cointegration test는 augmentd Engle-Granger밖에 없어서 이를 이용\n",
    "# 귀무가설 : \"공분산 관계 존재하지 않는다\"\n",
    "# 수업시간에 본 ADF-type test에서 귀무가설이 \"공분산 관계 존재한다\"였던 것과 반대!\n",
    "\n",
    "coint_result_index = pd.Index(['t_statistic','p_value','critical_value'])\n",
    "\n",
    "def coint_test(df,option='c'):\n",
    "    for num, col in enumerate(df.columns):\n",
    "        col_result = pd.DataFrame(tsa.stattools.coint(df[col], df.drop(col,axis=1), trend=option, method='aeg', maxlag=None, autolag='aic', return_results=None),index=coint_result_index).rename(columns={0:col+' vs other'})\n",
    "        if num == 0:\n",
    "            result_df = col_result\n",
    "        else:\n",
    "            result_df = pd.concat([result_df,col_result],axis=1)\n",
    "    return result_df"
   ]
  },
  {
   "cell_type": "code",
   "execution_count": 16,
   "id": "8b46b4ac",
   "metadata": {
    "id": "8b46b4ac",
    "outputId": "87543fed-42da-4985-e58b-1262f4cfbc7e"
   },
   "outputs": [
    {
     "data": {
      "text/html": [
       "<div>\n",
       "<style scoped>\n",
       "    .dataframe tbody tr th:only-of-type {\n",
       "        vertical-align: middle;\n",
       "    }\n",
       "\n",
       "    .dataframe tbody tr th {\n",
       "        vertical-align: top;\n",
       "    }\n",
       "\n",
       "    .dataframe thead th {\n",
       "        text-align: right;\n",
       "    }\n",
       "</style>\n",
       "<table border=\"1\" class=\"dataframe\">\n",
       "  <thead>\n",
       "    <tr style=\"text-align: right;\">\n",
       "      <th></th>\n",
       "      <th>dY vs other</th>\n",
       "      <th>dP vs other</th>\n",
       "      <th>dW vs other</th>\n",
       "      <th>dM vs other</th>\n",
       "    </tr>\n",
       "  </thead>\n",
       "  <tbody>\n",
       "    <tr>\n",
       "      <th>t_statistic</th>\n",
       "      <td>-7.612373</td>\n",
       "      <td>-3.746965</td>\n",
       "      <td>-2.596866</td>\n",
       "      <td>-1.950335</td>\n",
       "    </tr>\n",
       "    <tr>\n",
       "      <th>p_value</th>\n",
       "      <td>0.0</td>\n",
       "      <td>0.115044</td>\n",
       "      <td>0.62634</td>\n",
       "      <td>0.881525</td>\n",
       "    </tr>\n",
       "    <tr>\n",
       "      <th>critical_value</th>\n",
       "      <td>[-4.858955289345593, -4.228149323958897, -3.90...</td>\n",
       "      <td>[-4.858955289345593, -4.228149323958897, -3.90...</td>\n",
       "      <td>[-4.858955289345593, -4.228149323958897, -3.90...</td>\n",
       "      <td>[-4.858955289345593, -4.228149323958897, -3.90...</td>\n",
       "    </tr>\n",
       "  </tbody>\n",
       "</table>\n",
       "</div>"
      ],
      "text/plain": [
       "                                                      dY vs other  \\\n",
       "t_statistic                                             -7.612373   \n",
       "p_value                                                       0.0   \n",
       "critical_value  [-4.858955289345593, -4.228149323958897, -3.90...   \n",
       "\n",
       "                                                      dP vs other  \\\n",
       "t_statistic                                             -3.746965   \n",
       "p_value                                                  0.115044   \n",
       "critical_value  [-4.858955289345593, -4.228149323958897, -3.90...   \n",
       "\n",
       "                                                      dW vs other  \\\n",
       "t_statistic                                             -2.596866   \n",
       "p_value                                                   0.62634   \n",
       "critical_value  [-4.858955289345593, -4.228149323958897, -3.90...   \n",
       "\n",
       "                                                      dM vs other  \n",
       "t_statistic                                             -1.950335  \n",
       "p_value                                                  0.881525  \n",
       "critical_value  [-4.858955289345593, -4.228149323958897, -3.90...  "
      ]
     },
     "execution_count": 16,
     "metadata": {},
     "output_type": "execute_result"
    }
   ],
   "source": [
    "# constant\n",
    "coint_test(df[['dY','dP','dW','dM']])"
   ]
  },
  {
   "cell_type": "code",
   "execution_count": 17,
   "id": "6d2098b8",
   "metadata": {
    "id": "6d2098b8",
    "outputId": "8417dcba-91c6-4256-c338-a4df2411de23"
   },
   "outputs": [
    {
     "data": {
      "text/html": [
       "<div>\n",
       "<style scoped>\n",
       "    .dataframe tbody tr th:only-of-type {\n",
       "        vertical-align: middle;\n",
       "    }\n",
       "\n",
       "    .dataframe tbody tr th {\n",
       "        vertical-align: top;\n",
       "    }\n",
       "\n",
       "    .dataframe thead th {\n",
       "        text-align: right;\n",
       "    }\n",
       "</style>\n",
       "<table border=\"1\" class=\"dataframe\">\n",
       "  <thead>\n",
       "    <tr style=\"text-align: right;\">\n",
       "      <th></th>\n",
       "      <th>dY vs other</th>\n",
       "      <th>dP vs other</th>\n",
       "      <th>dW vs other</th>\n",
       "      <th>dM vs other</th>\n",
       "    </tr>\n",
       "  </thead>\n",
       "  <tbody>\n",
       "    <tr>\n",
       "      <th>t_statistic</th>\n",
       "      <td>-7.626189</td>\n",
       "      <td>-4.338529</td>\n",
       "      <td>-3.606587</td>\n",
       "      <td>-3.267035</td>\n",
       "    </tr>\n",
       "    <tr>\n",
       "      <th>p_value</th>\n",
       "      <td>0.0</td>\n",
       "      <td>0.063255</td>\n",
       "      <td>0.2833</td>\n",
       "      <td>0.454211</td>\n",
       "    </tr>\n",
       "    <tr>\n",
       "      <th>critical_value</th>\n",
       "      <td>[-5.237703234935289, -4.600735498698228, -4.27...</td>\n",
       "      <td>[-5.237703234935289, -4.600735498698228, -4.27...</td>\n",
       "      <td>[-5.237703234935289, -4.600735498698228, -4.27...</td>\n",
       "      <td>[-5.237703234935289, -4.600735498698228, -4.27...</td>\n",
       "    </tr>\n",
       "  </tbody>\n",
       "</table>\n",
       "</div>"
      ],
      "text/plain": [
       "                                                      dY vs other  \\\n",
       "t_statistic                                             -7.626189   \n",
       "p_value                                                       0.0   \n",
       "critical_value  [-5.237703234935289, -4.600735498698228, -4.27...   \n",
       "\n",
       "                                                      dP vs other  \\\n",
       "t_statistic                                             -4.338529   \n",
       "p_value                                                  0.063255   \n",
       "critical_value  [-5.237703234935289, -4.600735498698228, -4.27...   \n",
       "\n",
       "                                                      dW vs other  \\\n",
       "t_statistic                                             -3.606587   \n",
       "p_value                                                    0.2833   \n",
       "critical_value  [-5.237703234935289, -4.600735498698228, -4.27...   \n",
       "\n",
       "                                                      dM vs other  \n",
       "t_statistic                                             -3.267035  \n",
       "p_value                                                  0.454211  \n",
       "critical_value  [-5.237703234935289, -4.600735498698228, -4.27...  "
      ]
     },
     "execution_count": 17,
     "metadata": {},
     "output_type": "execute_result"
    }
   ],
   "source": [
    "# constant + trend\n",
    "coint_test(df[['dY','dP','dW','dM']],'ct')"
   ]
  },
  {
   "cell_type": "markdown",
   "id": "48399e18",
   "metadata": {
    "id": "48399e18"
   },
   "source": [
    "* $dY$와 다른 내생변수들 간에 공분산 관계 존재하는 것으로 나타남\n",
    "* 그 밖의 내생변수들은 다른 변수들과 공분산 관계 존재하지 않는 것으로 나타남\n",
    "\n",
    "논문의 가정과 대체로 일치하는 모습을 보였습니다"
   ]
  },
  {
   "cell_type": "markdown",
   "id": "3f441d92",
   "metadata": {
    "id": "3f441d92"
   },
   "source": [
    "### Estimation 방법론"
   ]
  },
  {
   "cell_type": "markdown",
   "id": "7523a848",
   "metadata": {
    "id": "7523a848"
   },
   "source": [
    "모든 방정식에서 외생변수로 linear time trend 포함시키는 것은 too generous. 다음과 같은 2가지 대안\n",
    "1. $U$를 constant와 linear time trend에 회귀한 후, $\\Delta P, \\Delta W, \\Delta M$을 common constant와 common time trend에 회귀하고, 마지막으로 $\\Delta Y$를 constant와 dummy(1973년 기준 분절)에 회귀한 후, 이 회귀들로부터 얻은 residual을 통해 structural model 추정\n",
    "2. 모든 방정식에 time trend가 없다고 가정하고 추정\n",
    "    * 결과 매우 달라짐. 부정확한 가정으로 생각됨\n",
    "    \n",
    "이에 따라 논문에서는 1번 대안을 선택한 것으로 보여집니다."
   ]
  },
  {
   "cell_type": "markdown",
   "id": "d5475d2d",
   "metadata": {
    "id": "d5475d2d"
   },
   "source": [
    "### Lag Length Determination"
   ]
  },
  {
   "cell_type": "markdown",
   "id": "305b041b",
   "metadata": {
    "id": "305b041b"
   },
   "source": [
    "#### [논문]\n",
    "\n",
    "Reduced form에 대한 Likelihood test 결과, $A(L)$의 order는 3이 최적\n",
    "* order를 4로 높이면 1년(4분기) 전 데이터까지 포함되어 non-additive seasonality 포착할 수도 있겠으나, 결과에 큰 차이 없었음"
   ]
  },
  {
   "cell_type": "markdown",
   "id": "104ba65a",
   "metadata": {
    "id": "104ba65a"
   },
   "source": [
    "위와 같은 논문의 주장을 검증해 보겠습니다"
   ]
  },
  {
   "cell_type": "code",
   "execution_count": 18,
   "id": "e5b47acd",
   "metadata": {
    "id": "e5b47acd"
   },
   "outputs": [],
   "source": [
    "def AIC_SBC_calculator(endog_var, exog_var, maxlags, T, n, p):\n",
    "    AIC_list = []\n",
    "    BIC_list = []\n",
    "    \n",
    "    for p in range(1,maxlags+1):\n",
    "        N = (n**2)*p + n\n",
    "        \n",
    "        VAR_model = tsa.VAR(endog = endog_var, exog = exog_var)\n",
    "        VAR_9_result = VAR_model.fit(p)\n",
    "\n",
    "        Omega = VAR_9_result.sigma_u_mle\n",
    "        det_Omega = np.linalg.det(Omega)\n",
    "\n",
    "        AIC_list.append(np.log(det_Omega) + 2*N/T)\n",
    "        BIC_list.append(np.log(det_Omega) + N*np.log(T)/T)\n",
    "    \n",
    "    df_index = pd.Index(range(1,maxlags+1))\n",
    "    AIC_df = pd.DataFrame(AIC_list,index=df_index).rename(columns={0:'AIC'})\n",
    "    BIC_df = pd.DataFrame(BIC_list,index=df_index).rename(columns={0:'BIC'})\n",
    "    \n",
    "    return pd.concat([AIC_df,BIC_df],axis=1)"
   ]
  },
  {
   "cell_type": "code",
   "execution_count": 19,
   "id": "dd2314c2",
   "metadata": {
    "id": "dd2314c2",
    "outputId": "3d820ffe-cfb3-4279-89d0-0ffaa5680cd9"
   },
   "outputs": [
    {
     "data": {
      "text/html": [
       "<div>\n",
       "<style scoped>\n",
       "    .dataframe tbody tr th:only-of-type {\n",
       "        vertical-align: middle;\n",
       "    }\n",
       "\n",
       "    .dataframe tbody tr th {\n",
       "        vertical-align: top;\n",
       "    }\n",
       "\n",
       "    .dataframe thead th {\n",
       "        text-align: right;\n",
       "    }\n",
       "</style>\n",
       "<table border=\"1\" class=\"dataframe\">\n",
       "  <thead>\n",
       "    <tr style=\"text-align: right;\">\n",
       "      <th></th>\n",
       "      <th>AIC</th>\n",
       "      <th>BIC</th>\n",
       "    </tr>\n",
       "  </thead>\n",
       "  <tbody>\n",
       "    <tr>\n",
       "      <th>1</th>\n",
       "      <td>-54.450545</td>\n",
       "      <td>-53.537374</td>\n",
       "    </tr>\n",
       "    <tr>\n",
       "      <th>2</th>\n",
       "      <td>-54.687265</td>\n",
       "      <td>-53.013118</td>\n",
       "    </tr>\n",
       "    <tr>\n",
       "      <th>3</th>\n",
       "      <td>-54.702887</td>\n",
       "      <td>-52.267764</td>\n",
       "    </tr>\n",
       "    <tr>\n",
       "      <th>4</th>\n",
       "      <td>-54.665606</td>\n",
       "      <td>-51.469508</td>\n",
       "    </tr>\n",
       "    <tr>\n",
       "      <th>5</th>\n",
       "      <td>-55.171682</td>\n",
       "      <td>-51.214607</td>\n",
       "    </tr>\n",
       "    <tr>\n",
       "      <th>6</th>\n",
       "      <td>-55.488678</td>\n",
       "      <td>-50.770628</td>\n",
       "    </tr>\n",
       "    <tr>\n",
       "      <th>7</th>\n",
       "      <td>-55.800532</td>\n",
       "      <td>-50.321506</td>\n",
       "    </tr>\n",
       "    <tr>\n",
       "      <th>8</th>\n",
       "      <td>-56.502769</td>\n",
       "      <td>-50.262767</td>\n",
       "    </tr>\n",
       "    <tr>\n",
       "      <th>9</th>\n",
       "      <td>-57.888471</td>\n",
       "      <td>-50.887494</td>\n",
       "    </tr>\n",
       "    <tr>\n",
       "      <th>10</th>\n",
       "      <td>-61.079811</td>\n",
       "      <td>-53.317858</td>\n",
       "    </tr>\n",
       "  </tbody>\n",
       "</table>\n",
       "</div>"
      ],
      "text/plain": [
       "          AIC        BIC\n",
       "1  -54.450545 -53.537374\n",
       "2  -54.687265 -53.013118\n",
       "3  -54.702887 -52.267764\n",
       "4  -54.665606 -51.469508\n",
       "5  -55.171682 -51.214607\n",
       "6  -55.488678 -50.770628\n",
       "7  -55.800532 -50.321506\n",
       "8  -56.502769 -50.262767\n",
       "9  -57.888471 -50.887494\n",
       "10 -61.079811 -53.317858"
      ]
     },
     "execution_count": 19,
     "metadata": {},
     "output_type": "execute_result"
    }
   ],
   "source": [
    "maxlags = 10\n",
    "T = df.shape[0] - maxlags\n",
    "n = 5\n",
    "p = 3\n",
    "\n",
    "endog = df[[\"dY\", \"U\", \"dP\", \"dW\", \"dM\"]].iloc[maxlags - p :, :]\n",
    "exog = df[[\"t\", \"S_2\", \"S_3\", \"S_4\", \"D_1\", \"D_2\", \"D_3\", \"D_4\", \"D_5\", \"D_6\"]].iloc[maxlags - p :, :]\n",
    "\n",
    "\n",
    "AIC_SBC_calculator(endog, exog, maxlags, T, n, p)"
   ]
  },
  {
   "cell_type": "markdown",
   "id": "4e49a298",
   "metadata": {
    "id": "4e49a298"
   },
   "source": [
    "* AIC 기준으로는 Lag가 계속 커지는 것이 최적\n",
    "* BIC 기준으로는 Lag가 1일 때가 최적\n",
    "\n",
    "일반적으로 BIC를 기준으로 하는 것이 보다 보수적으로 lag를 결정하는 방법이고, 여기서는 AIC 기준으로 삼았을 때의 결과가 다소 이상하므로, 논문에서도 BIC를 기준으로 lag를 결정한 것으로 생각됨\n",
    "\n",
    "다만, replicate 결과 lag가 1일 때 최적이라고 나와, 논문의 결과와는 다소 차이가 있음"
   ]
  },
  {
   "cell_type": "markdown",
   "id": "86dc74b7",
   "metadata": {
    "id": "86dc74b7"
   },
   "source": [
    "### Table 1"
   ]
  },
  {
   "cell_type": "markdown",
   "id": "22395d28",
   "metadata": {},
   "source": [
    "여기서는 VAR 추정 결과로부터 얻은 reduced form innovation $x$의 variance-covariance matrix로부터\n",
    "\n",
    "위 (4)번 식 $Ax=Ce$로부터 도출되는 $A \\Omega_x A^T = C \\Omega_e C^T$를 풀어 structural form innovation $e$ 및 계수 행렬 $A$와 $C$를 얻고자 한다."
   ]
  },
  {
   "cell_type": "markdown",
   "id": "86b9b7db",
   "metadata": {},
   "source": [
    "Table 1에 대한 replicate 결과는 다음과 같습니다.\n",
    "\n",
    "논문과 수치가 다소 다른 것들도 있으나, 대체로 일치하는 경향을 보였습니다."
   ]
  },
  {
   "cell_type": "code",
   "execution_count": 20,
   "id": "6bfaa1a9",
   "metadata": {},
   "outputs": [
    {
     "data": {
      "text/html": [
       "<div>\n",
       "<style scoped>\n",
       "    .dataframe tbody tr th:only-of-type {\n",
       "        vertical-align: middle;\n",
       "    }\n",
       "\n",
       "    .dataframe tbody tr th {\n",
       "        vertical-align: top;\n",
       "    }\n",
       "\n",
       "    .dataframe thead th {\n",
       "        text-align: right;\n",
       "    }\n",
       "</style>\n",
       "<table border=\"1\" class=\"dataframe\">\n",
       "  <thead>\n",
       "    <tr style=\"text-align: right;\">\n",
       "      <th></th>\n",
       "      <th>dY</th>\n",
       "      <th>U</th>\n",
       "      <th>dP</th>\n",
       "      <th>dW</th>\n",
       "      <th>dM</th>\n",
       "      <th>t</th>\n",
       "      <th>S_2</th>\n",
       "      <th>S_3</th>\n",
       "      <th>S_4</th>\n",
       "      <th>D_1</th>\n",
       "      <th>D_2</th>\n",
       "      <th>D_3</th>\n",
       "      <th>D_4</th>\n",
       "      <th>D_5</th>\n",
       "      <th>D_6</th>\n",
       "    </tr>\n",
       "    <tr>\n",
       "      <th>DATE</th>\n",
       "      <th></th>\n",
       "      <th></th>\n",
       "      <th></th>\n",
       "      <th></th>\n",
       "      <th></th>\n",
       "      <th></th>\n",
       "      <th></th>\n",
       "      <th></th>\n",
       "      <th></th>\n",
       "      <th></th>\n",
       "      <th></th>\n",
       "      <th></th>\n",
       "      <th></th>\n",
       "      <th></th>\n",
       "      <th></th>\n",
       "    </tr>\n",
       "  </thead>\n",
       "  <tbody>\n",
       "    <tr>\n",
       "      <th>1965-04-01</th>\n",
       "      <td>0.012709</td>\n",
       "      <td>0.046667</td>\n",
       "      <td>0.005048</td>\n",
       "      <td>0.008957</td>\n",
       "      <td>0.005779</td>\n",
       "      <td>1</td>\n",
       "      <td>1</td>\n",
       "      <td>0</td>\n",
       "      <td>0</td>\n",
       "      <td>0.0</td>\n",
       "      <td>0.0</td>\n",
       "      <td>0.0</td>\n",
       "      <td>0.0</td>\n",
       "      <td>0.0</td>\n",
       "      <td>0.0</td>\n",
       "    </tr>\n",
       "    <tr>\n",
       "      <th>1965-07-01</th>\n",
       "      <td>0.021268</td>\n",
       "      <td>0.043667</td>\n",
       "      <td>0.003712</td>\n",
       "      <td>0.008878</td>\n",
       "      <td>0.011459</td>\n",
       "      <td>2</td>\n",
       "      <td>0</td>\n",
       "      <td>1</td>\n",
       "      <td>0</td>\n",
       "      <td>0.0</td>\n",
       "      <td>0.0</td>\n",
       "      <td>0.0</td>\n",
       "      <td>0.0</td>\n",
       "      <td>0.0</td>\n",
       "      <td>0.0</td>\n",
       "    </tr>\n",
       "    <tr>\n",
       "      <th>1965-10-01</th>\n",
       "      <td>0.021972</td>\n",
       "      <td>0.041000</td>\n",
       "      <td>0.003017</td>\n",
       "      <td>0.010050</td>\n",
       "      <td>0.018146</td>\n",
       "      <td>3</td>\n",
       "      <td>0</td>\n",
       "      <td>0</td>\n",
       "      <td>1</td>\n",
       "      <td>0.0</td>\n",
       "      <td>0.0</td>\n",
       "      <td>0.0</td>\n",
       "      <td>0.0</td>\n",
       "      <td>0.0</td>\n",
       "      <td>0.0</td>\n",
       "    </tr>\n",
       "    <tr>\n",
       "      <th>1966-01-01</th>\n",
       "      <td>0.024114</td>\n",
       "      <td>0.038667</td>\n",
       "      <td>0.007756</td>\n",
       "      <td>0.008712</td>\n",
       "      <td>0.017233</td>\n",
       "      <td>4</td>\n",
       "      <td>0</td>\n",
       "      <td>0</td>\n",
       "      <td>0</td>\n",
       "      <td>0.0</td>\n",
       "      <td>0.0</td>\n",
       "      <td>0.0</td>\n",
       "      <td>0.0</td>\n",
       "      <td>0.0</td>\n",
       "      <td>0.0</td>\n",
       "    </tr>\n",
       "    <tr>\n",
       "      <th>1966-04-01</th>\n",
       "      <td>0.003399</td>\n",
       "      <td>0.038333</td>\n",
       "      <td>0.008088</td>\n",
       "      <td>0.011091</td>\n",
       "      <td>0.010743</td>\n",
       "      <td>5</td>\n",
       "      <td>1</td>\n",
       "      <td>0</td>\n",
       "      <td>0</td>\n",
       "      <td>0.0</td>\n",
       "      <td>0.0</td>\n",
       "      <td>0.0</td>\n",
       "      <td>0.0</td>\n",
       "      <td>0.0</td>\n",
       "      <td>0.0</td>\n",
       "    </tr>\n",
       "    <tr>\n",
       "      <th>...</th>\n",
       "      <td>...</td>\n",
       "      <td>...</td>\n",
       "      <td>...</td>\n",
       "      <td>...</td>\n",
       "      <td>...</td>\n",
       "      <td>...</td>\n",
       "      <td>...</td>\n",
       "      <td>...</td>\n",
       "      <td>...</td>\n",
       "      <td>...</td>\n",
       "      <td>...</td>\n",
       "      <td>...</td>\n",
       "      <td>...</td>\n",
       "      <td>...</td>\n",
       "      <td>...</td>\n",
       "    </tr>\n",
       "    <tr>\n",
       "      <th>1985-10-01</th>\n",
       "      <td>0.008002</td>\n",
       "      <td>0.070333</td>\n",
       "      <td>0.006981</td>\n",
       "      <td>0.006443</td>\n",
       "      <td>0.028224</td>\n",
       "      <td>83</td>\n",
       "      <td>0</td>\n",
       "      <td>0</td>\n",
       "      <td>1</td>\n",
       "      <td>0.0</td>\n",
       "      <td>0.0</td>\n",
       "      <td>0.0</td>\n",
       "      <td>0.0</td>\n",
       "      <td>0.0</td>\n",
       "      <td>0.0</td>\n",
       "    </tr>\n",
       "    <tr>\n",
       "      <th>1986-01-01</th>\n",
       "      <td>0.008497</td>\n",
       "      <td>0.070333</td>\n",
       "      <td>0.007081</td>\n",
       "      <td>0.005651</td>\n",
       "      <td>0.021668</td>\n",
       "      <td>84</td>\n",
       "      <td>0</td>\n",
       "      <td>0</td>\n",
       "      <td>0</td>\n",
       "      <td>0.0</td>\n",
       "      <td>0.0</td>\n",
       "      <td>0.0</td>\n",
       "      <td>0.0</td>\n",
       "      <td>0.0</td>\n",
       "      <td>0.0</td>\n",
       "    </tr>\n",
       "    <tr>\n",
       "      <th>1986-04-01</th>\n",
       "      <td>0.002942</td>\n",
       "      <td>0.071667</td>\n",
       "      <td>-0.001038</td>\n",
       "      <td>0.003001</td>\n",
       "      <td>0.038349</td>\n",
       "      <td>85</td>\n",
       "      <td>1</td>\n",
       "      <td>0</td>\n",
       "      <td>0</td>\n",
       "      <td>0.0</td>\n",
       "      <td>0.0</td>\n",
       "      <td>0.0</td>\n",
       "      <td>0.0</td>\n",
       "      <td>0.0</td>\n",
       "      <td>0.0</td>\n",
       "    </tr>\n",
       "    <tr>\n",
       "      <th>1986-07-01</th>\n",
       "      <td>0.009952</td>\n",
       "      <td>0.069667</td>\n",
       "      <td>0.005269</td>\n",
       "      <td>0.003365</td>\n",
       "      <td>0.041510</td>\n",
       "      <td>86</td>\n",
       "      <td>0</td>\n",
       "      <td>1</td>\n",
       "      <td>0</td>\n",
       "      <td>0.0</td>\n",
       "      <td>0.0</td>\n",
       "      <td>0.0</td>\n",
       "      <td>0.0</td>\n",
       "      <td>0.0</td>\n",
       "      <td>0.0</td>\n",
       "    </tr>\n",
       "    <tr>\n",
       "      <th>1986-10-01</th>\n",
       "      <td>0.003945</td>\n",
       "      <td>0.068333</td>\n",
       "      <td>0.006012</td>\n",
       "      <td>0.007067</td>\n",
       "      <td>0.042588</td>\n",
       "      <td>87</td>\n",
       "      <td>0</td>\n",
       "      <td>0</td>\n",
       "      <td>1</td>\n",
       "      <td>0.0</td>\n",
       "      <td>0.0</td>\n",
       "      <td>0.0</td>\n",
       "      <td>0.0</td>\n",
       "      <td>0.0</td>\n",
       "      <td>0.0</td>\n",
       "    </tr>\n",
       "  </tbody>\n",
       "</table>\n",
       "<p>87 rows × 15 columns</p>\n",
       "</div>"
      ],
      "text/plain": [
       "                  dY         U        dP        dW        dM   t  S_2  S_3  \\\n",
       "DATE                                                                         \n",
       "1965-04-01  0.012709  0.046667  0.005048  0.008957  0.005779   1    1    0   \n",
       "1965-07-01  0.021268  0.043667  0.003712  0.008878  0.011459   2    0    1   \n",
       "1965-10-01  0.021972  0.041000  0.003017  0.010050  0.018146   3    0    0   \n",
       "1966-01-01  0.024114  0.038667  0.007756  0.008712  0.017233   4    0    0   \n",
       "1966-04-01  0.003399  0.038333  0.008088  0.011091  0.010743   5    1    0   \n",
       "...              ...       ...       ...       ...       ...  ..  ...  ...   \n",
       "1985-10-01  0.008002  0.070333  0.006981  0.006443  0.028224  83    0    0   \n",
       "1986-01-01  0.008497  0.070333  0.007081  0.005651  0.021668  84    0    0   \n",
       "1986-04-01  0.002942  0.071667 -0.001038  0.003001  0.038349  85    1    0   \n",
       "1986-07-01  0.009952  0.069667  0.005269  0.003365  0.041510  86    0    1   \n",
       "1986-10-01  0.003945  0.068333  0.006012  0.007067  0.042588  87    0    0   \n",
       "\n",
       "            S_4  D_1  D_2  D_3  D_4  D_5  D_6  \n",
       "DATE                                           \n",
       "1965-04-01    0  0.0  0.0  0.0  0.0  0.0  0.0  \n",
       "1965-07-01    0  0.0  0.0  0.0  0.0  0.0  0.0  \n",
       "1965-10-01    1  0.0  0.0  0.0  0.0  0.0  0.0  \n",
       "1966-01-01    0  0.0  0.0  0.0  0.0  0.0  0.0  \n",
       "1966-04-01    0  0.0  0.0  0.0  0.0  0.0  0.0  \n",
       "...         ...  ...  ...  ...  ...  ...  ...  \n",
       "1985-10-01    1  0.0  0.0  0.0  0.0  0.0  0.0  \n",
       "1986-01-01    0  0.0  0.0  0.0  0.0  0.0  0.0  \n",
       "1986-04-01    0  0.0  0.0  0.0  0.0  0.0  0.0  \n",
       "1986-07-01    0  0.0  0.0  0.0  0.0  0.0  0.0  \n",
       "1986-10-01    1  0.0  0.0  0.0  0.0  0.0  0.0  \n",
       "\n",
       "[87 rows x 15 columns]"
      ]
     },
     "execution_count": 20,
     "metadata": {},
     "output_type": "execute_result"
    }
   ],
   "source": [
    "df"
   ]
  },
  {
   "cell_type": "code",
   "execution_count": 21,
   "id": "6fbc6fe0",
   "metadata": {
    "id": "6fbc6fe0"
   },
   "outputs": [],
   "source": [
    "# VAR parameters\n",
    "n = 5\n",
    "p = 3\n",
    "var_names = ['dY', 'U', 'dP', 'dW', 'dM']\n",
    "shock_names = ['Demand Shock','Supply Shock', 'Price Shock', 'Wage Shock', 'Money Shock']"
   ]
  },
  {
   "cell_type": "code",
   "execution_count": 22,
   "id": "35d4a5ed",
   "metadata": {
    "id": "35d4a5ed"
   },
   "outputs": [],
   "source": [
    "for i in range(1, n+1):\n",
    "    for j in range(1, n+1):\n",
    "        globals()[f'a{i}{j}'] = sympy.symbols(f'a_{i}{j}')\n",
    "        globals()[f'c{i}{j}'] = sympy.symbols(f'c_{i}{j}')\n",
    "        globals()[f'w{i}'] = sympy.symbols(f'\\omega_{i}')"
   ]
  },
  {
   "cell_type": "code",
   "execution_count": 23,
   "id": "eaffe3f7",
   "metadata": {
    "id": "eaffe3f7"
   },
   "outputs": [],
   "source": [
    "def matrix_maker(c, a):\n",
    "    A = sympy.Matrix([[1, 0, 0, 0, 0], [-a21, 1, 0, 0, 0], [-a31, 0, 1, -a, 0], [0, -a42, -a43, 1, 0], [-a51, -a52, -a53, -a54, 1]])\n",
    "    C = sympy.Matrix([[1, c, 0, 0, 0], [0, 1, 0, 0, 0], [0, c32, 1, 0, 0], [0, c42, 0, 1, 0], [0, 0, 0, 0, 1]])\n",
    "    return A, C"
   ]
  },
  {
   "cell_type": "code",
   "execution_count": 24,
   "id": "aad1252e",
   "metadata": {
    "id": "aad1252e"
   },
   "outputs": [],
   "source": [
    "endog = df[[\"dY\", \"U\", \"dP\", \"dW\", \"dM\"]]\n",
    "exog = df[[\"t\", \"S_2\", \"S_3\", \"S_4\", \"D_1\", \"D_2\", \"D_3\", \"D_4\", \"D_5\", \"D_6\"]]\n",
    "\n",
    "VAR_model = tsa.VAR(endog = endog, exog = exog)\n",
    "VAR_result = VAR_model.fit(p)"
   ]
  },
  {
   "cell_type": "code",
   "execution_count": 25,
   "id": "8289d377",
   "metadata": {
    "id": "8289d377",
    "outputId": "1c73684b-814f-4440-c4f7-bbb668a197ca",
    "scrolled": true
   },
   "outputs": [
    {
     "data": {
      "text/plain": [
       "  Summary of Regression Results   \n",
       "==================================\n",
       "Model:                         VAR\n",
       "Method:                        OLS\n",
       "Date:           Tue, 08, Nov, 2022\n",
       "Time:                     23:22:42\n",
       "--------------------------------------------------------------------\n",
       "No. of Equations:         5.00000    BIC:                   -49.8379\n",
       "Nobs:                     84.0000    HQIC:                  -52.0876\n",
       "Log likelihood:           1785.24    FPE:                5.85403e-24\n",
       "AIC:                     -53.5999    Det(Omega_mle):     1.52015e-24\n",
       "--------------------------------------------------------------------\n",
       "Results for equation dY\n",
       "========================================================================\n",
       "           coefficient       std. error           t-stat            prob\n",
       "------------------------------------------------------------------------\n",
       "const        -0.000876         0.006756           -0.130           0.897\n",
       "t            -0.000247         0.000101           -2.456           0.014\n",
       "S_2          -0.001069         0.002825           -0.378           0.705\n",
       "S_3          -0.001356         0.002762           -0.491           0.623\n",
       "S_4          -0.003638         0.002800           -1.299           0.194\n",
       "D_1          -0.005070         0.003274           -1.548           0.122\n",
       "D_2          -0.003444         0.004854           -0.710           0.478\n",
       "D_3           0.001839         0.001716            1.072           0.284\n",
       "D_4           0.001541         0.002287            0.674           0.500\n",
       "D_5          -0.001032         0.002176           -0.474           0.635\n",
       "D_6           0.000356         0.005076            0.070           0.944\n",
       "L1.dY        -0.283099         0.155798           -1.817           0.069\n",
       "L1.U         -1.160381         0.488366           -2.376           0.017\n",
       "L1.dP        -0.143312         0.355164           -0.404           0.687\n",
       "L1.dW         0.116226         0.347217            0.335           0.738\n",
       "L1.dM         0.333343         0.143135            2.329           0.020\n",
       "L2.dY         0.108713         0.161672            0.672           0.501\n",
       "L2.U          1.982303         0.736744            2.691           0.007\n",
       "L2.dP         0.155546         0.382370            0.407           0.684\n",
       "L2.dW         0.114110         0.347388            0.328           0.743\n",
       "L2.dM         0.206573         0.147136            1.404           0.160\n",
       "L3.dY         0.036734         0.135871            0.270           0.787\n",
       "L3.U         -0.509001         0.509509           -0.999           0.318\n",
       "L3.dP        -0.296557         0.357600           -0.829           0.407\n",
       "L3.dW        -0.235195         0.344653           -0.682           0.495\n",
       "L3.dM        -0.121367         0.148978           -0.815           0.415\n",
       "========================================================================\n",
       "\n",
       "Results for equation U\n",
       "========================================================================\n",
       "           coefficient       std. error           t-stat            prob\n",
       "------------------------------------------------------------------------\n",
       "const         0.005960         0.002197            2.713           0.007\n",
       "t             0.000066         0.000033            2.009           0.045\n",
       "S_2           0.000038         0.000919            0.042           0.967\n",
       "S_3           0.000021         0.000898            0.024           0.981\n",
       "S_4          -0.000076         0.000911           -0.083           0.934\n",
       "D_1           0.001023         0.001065            0.961           0.337\n",
       "D_2          -0.000472         0.001578           -0.299           0.765\n",
       "D_3          -0.000189         0.000558           -0.338           0.735\n",
       "D_4           0.000439         0.000744            0.590           0.555\n",
       "D_5           0.000113         0.000707            0.160           0.873\n",
       "D_6          -0.002700         0.001651           -1.635           0.102\n",
       "L1.dY        -0.014824         0.050663           -0.293           0.770\n",
       "L1.U          1.430160         0.158809            9.006           0.000\n",
       "L1.dP         0.148117         0.115494            1.282           0.200\n",
       "L1.dW         0.035171         0.112909            0.311           0.755\n",
       "L1.dM        -0.095385         0.046545           -2.049           0.040\n",
       "L2.dY        -0.074461         0.052573           -1.416           0.157\n",
       "L2.U         -0.820901         0.239577           -3.426           0.001\n",
       "L2.dP        -0.291458         0.124341           -2.344           0.019\n",
       "L2.dW        -0.082803         0.112965           -0.733           0.464\n",
       "L2.dM        -0.026943         0.047846           -0.563           0.573\n",
       "L3.dY        -0.074276         0.044183           -1.681           0.093\n",
       "L3.U          0.286710         0.165684            1.730           0.084\n",
       "L3.dP         0.242857         0.116286            2.088           0.037\n",
       "L3.dW         0.094743         0.112076            0.845           0.398\n",
       "L3.dM        -0.048828         0.048445           -1.008           0.314\n",
       "========================================================================\n",
       "\n",
       "Results for equation dP\n",
       "========================================================================\n",
       "           coefficient       std. error           t-stat            prob\n",
       "------------------------------------------------------------------------\n",
       "const         0.002683         0.002555            1.050           0.294\n",
       "t             0.000027         0.000038            0.706           0.480\n",
       "S_2          -0.001564         0.001068           -1.464           0.143\n",
       "S_3           0.000623         0.001044            0.597           0.551\n",
       "S_4          -0.000764         0.001059           -0.721           0.471\n",
       "D_1          -0.001594         0.001238           -1.287           0.198\n",
       "D_2           0.000222         0.001836            0.121           0.904\n",
       "D_3          -0.000555         0.000649           -0.856           0.392\n",
       "D_4           0.001702         0.000865            1.969           0.049\n",
       "D_5           0.002193         0.000823            2.666           0.008\n",
       "D_6           0.002723         0.001920            1.418           0.156\n",
       "L1.dY        -0.028895         0.058917           -0.490           0.624\n",
       "L1.U         -0.387696         0.184681           -2.099           0.036\n",
       "L1.dP         0.480865         0.134310            3.580           0.000\n",
       "L1.dW         0.090288         0.131304            0.688           0.492\n",
       "L1.dM         0.000856         0.054128            0.016           0.987\n",
       "L2.dY        -0.039952         0.061138           -0.653           0.513\n",
       "L2.U          0.518885         0.278608            1.862           0.063\n",
       "L2.dP         0.028641         0.144598            0.198           0.843\n",
       "L2.dW         0.255534         0.131369            1.945           0.052\n",
       "L2.dM         0.039498         0.055641            0.710           0.478\n",
       "L3.dY         0.017907         0.051381            0.349           0.727\n",
       "L3.U         -0.181524         0.192677           -0.942           0.346\n",
       "L3.dP         0.235507         0.135231            1.742           0.082\n",
       "L3.dW        -0.105001         0.130335           -0.806           0.420\n",
       "L3.dM        -0.051109         0.056338           -0.907           0.364\n",
       "========================================================================\n",
       "\n",
       "Results for equation dW\n",
       "========================================================================\n",
       "           coefficient       std. error           t-stat            prob\n",
       "------------------------------------------------------------------------\n",
       "const         0.004542         0.002679            1.695           0.090\n",
       "t            -0.000101         0.000040           -2.543           0.011\n",
       "S_2          -0.001320         0.001120           -1.178           0.239\n",
       "S_3           0.000009         0.001095            0.008           0.993\n",
       "S_4          -0.000893         0.001110           -0.805           0.421\n",
       "D_1          -0.001822         0.001298           -1.403           0.161\n",
       "D_2           0.001183         0.001925            0.615           0.539\n",
       "D_3           0.000984         0.000680            1.446           0.148\n",
       "D_4          -0.000260         0.000907           -0.287           0.774\n",
       "D_5          -0.001143         0.000863           -1.325           0.185\n",
       "D_6           0.002495         0.002013            1.240           0.215\n",
       "L1.dY        -0.118065         0.061780           -1.911           0.056\n",
       "L1.U         -0.389523         0.193655           -2.011           0.044\n",
       "L1.dP         0.266277         0.140836            1.891           0.059\n",
       "L1.dW         0.129603         0.137684            0.941           0.347\n",
       "L1.dM         0.056045         0.056758            0.987           0.323\n",
       "L2.dY        -0.038928         0.064109           -0.607           0.544\n",
       "L2.U          0.528729         0.292146            1.810           0.070\n",
       "L2.dP         0.023935         0.151624            0.158           0.875\n",
       "L2.dW         0.204979         0.137752            1.488           0.137\n",
       "L2.dM         0.036685         0.058345            0.629           0.530\n",
       "L3.dY         0.041589         0.053878            0.772           0.440\n",
       "L3.U         -0.097241         0.202039           -0.481           0.630\n",
       "L3.dP         0.060343         0.141801            0.426           0.670\n",
       "L3.dW         0.143460         0.136668            1.050           0.294\n",
       "L3.dM         0.012122         0.059075            0.205           0.837\n",
       "========================================================================\n",
       "\n",
       "Results for equation dM\n",
       "========================================================================\n",
       "           coefficient       std. error           t-stat            prob\n",
       "------------------------------------------------------------------------\n",
       "const         0.011109         0.006160            1.803           0.071\n",
       "t             0.000256         0.000092            2.793           0.005\n",
       "S_2          -0.000062         0.002576           -0.024           0.981\n",
       "S_3          -0.001755         0.002518           -0.697           0.486\n",
       "S_4          -0.000675         0.002553           -0.264           0.791\n",
       "D_1          -0.002442         0.002986           -0.818           0.413\n",
       "D_2          -0.002310         0.004425           -0.522           0.602\n",
       "D_3           0.000848         0.001564            0.542           0.588\n",
       "D_4          -0.000788         0.002085           -0.378           0.706\n",
       "D_5           0.001655         0.001984            0.834           0.404\n",
       "D_6          -0.000949         0.004628           -0.205           0.838\n",
       "L1.dY        -0.072442         0.142049           -0.510           0.610\n",
       "L1.U          0.159634         0.445268            0.359           0.720\n",
       "L1.dP        -0.258707         0.323821           -0.799           0.424\n",
       "L1.dW         0.376706         0.316575            1.190           0.234\n",
       "L1.dM         0.159448         0.130504            1.222           0.222\n",
       "L2.dY         0.114632         0.147405            0.778           0.437\n",
       "L2.U          0.579439         0.671728            0.863           0.388\n",
       "L2.dP        -0.349898         0.348626           -1.004           0.316\n",
       "L2.dW         0.424297         0.316732            1.340           0.180\n",
       "L2.dM         0.068215         0.134152            0.508           0.611\n",
       "L3.dY        -0.062825         0.123881           -0.507           0.612\n",
       "L3.U         -0.822154         0.464545           -1.770           0.077\n",
       "L3.dP        -0.247383         0.326042           -0.759           0.448\n",
       "L3.dW        -0.401509         0.314238           -1.278           0.201\n",
       "L3.dM         0.123306         0.135831            0.908           0.364\n",
       "========================================================================\n",
       "\n",
       "Correlation matrix of residuals\n",
       "            dY         U        dP        dW        dM\n",
       "dY    1.000000 -0.616431 -0.017227  0.185287  0.116441\n",
       "U    -0.616431  1.000000 -0.227323 -0.382809 -0.294496\n",
       "dP   -0.017227 -0.227323  1.000000  0.313973  0.094818\n",
       "dW    0.185287 -0.382809  0.313973  1.000000  0.113615\n",
       "dM    0.116441 -0.294496  0.094818  0.113615  1.000000\n",
       "\n"
      ]
     },
     "execution_count": 25,
     "metadata": {},
     "output_type": "execute_result"
    }
   ],
   "source": [
    "VAR_result.summary()"
   ]
  },
  {
   "cell_type": "code",
   "execution_count": 26,
   "id": "a2cec610",
   "metadata": {
    "id": "a2cec610",
    "outputId": "6dcab45f-e859-4574-db9b-39d53da1af0b",
    "scrolled": true
   },
   "outputs": [
    {
     "data": {
      "text/plain": [
       "array([[ 4.94610473e-05, -9.91463650e-06, -3.22217334e-07,\n",
       "         3.63405272e-06,  5.25106498e-06],\n",
       "       [-9.91463650e-06,  5.23024199e-06, -1.38265693e-06,\n",
       "        -2.44150983e-06, -4.31865662e-06],\n",
       "       [-3.22217334e-07, -1.38265693e-06,  7.07324657e-06,\n",
       "         2.32871641e-06,  1.61699221e-06],\n",
       "       [ 3.63405272e-06, -2.44150983e-06,  2.32871641e-06,\n",
       "         7.77731799e-06,  2.03168761e-06],\n",
       "       [ 5.25106498e-06, -4.31865662e-06,  1.61699221e-06,\n",
       "         2.03168761e-06,  4.11165308e-05]])"
      ]
     },
     "execution_count": 26,
     "metadata": {},
     "output_type": "execute_result"
    }
   ],
   "source": [
    "Omega_e = VAR_result.sigma_u_mle\n",
    "Omega_e = np.array(Omega_e)\n",
    "Omega_e"
   ]
  },
  {
   "cell_type": "markdown",
   "id": "33f6bcdd",
   "metadata": {
    "id": "33f6bcdd"
   },
   "source": [
    "#### (1) $c=0, a_{34}=0.1$"
   ]
  },
  {
   "cell_type": "code",
   "execution_count": 27,
   "id": "4458ffad",
   "metadata": {
    "id": "4458ffad"
   },
   "outputs": [],
   "source": [
    "A, C = matrix_maker(0,0.1)\n",
    "Omega_u = sympy.Matrix(np.diag([globals()[f'w{i}'] for i in range(1, n+1)]))"
   ]
  },
  {
   "cell_type": "code",
   "execution_count": 28,
   "id": "7d882690",
   "metadata": {
    "id": "7d882690",
    "outputId": "6cdace08-62ae-4952-93d5-07d4ebfe9340"
   },
   "outputs": [
    {
     "data": {
      "text/latex": [
       "$\\displaystyle \\left[\\begin{matrix}1 & 0 & 0 & 0 & 0\\\\- a_{21} & 1 & 0 & 0 & 0\\\\- a_{31} & 0 & 1 & -0.1 & 0\\\\0 & - a_{42} & - a_{43} & 1 & 0\\\\- a_{51} & - a_{52} & - a_{53} & - a_{54} & 1\\end{matrix}\\right]$"
      ],
      "text/plain": [
       "Matrix([\n",
       "[    1,     0,     0,     0, 0],\n",
       "[-a_21,     1,     0,     0, 0],\n",
       "[-a_31,     0,     1,  -0.1, 0],\n",
       "[    0, -a_42, -a_43,     1, 0],\n",
       "[-a_51, -a_52, -a_53, -a_54, 1]])"
      ]
     },
     "execution_count": 28,
     "metadata": {},
     "output_type": "execute_result"
    }
   ],
   "source": [
    "A"
   ]
  },
  {
   "cell_type": "code",
   "execution_count": 29,
   "id": "44d9a9c7",
   "metadata": {
    "id": "44d9a9c7",
    "outputId": "5ff39221-9629-423a-a408-958ced11a44c"
   },
   "outputs": [
    {
     "data": {
      "text/latex": [
       "$\\displaystyle \\left[\\begin{matrix}1 & 0 & 0 & 0 & 0\\\\0 & 1 & 0 & 0 & 0\\\\0 & c_{32} & 1 & 0 & 0\\\\0 & c_{42} & 0 & 1 & 0\\\\0 & 0 & 0 & 0 & 1\\end{matrix}\\right]$"
      ],
      "text/plain": [
       "Matrix([\n",
       "[1,    0, 0, 0, 0],\n",
       "[0,    1, 0, 0, 0],\n",
       "[0, c_32, 1, 0, 0],\n",
       "[0, c_42, 0, 1, 0],\n",
       "[0,    0, 0, 0, 1]])"
      ]
     },
     "execution_count": 29,
     "metadata": {},
     "output_type": "execute_result"
    }
   ],
   "source": [
    "C"
   ]
  },
  {
   "cell_type": "code",
   "execution_count": 30,
   "id": "5a579263",
   "metadata": {
    "id": "5a579263",
    "outputId": "037bac7b-fb6a-4789-cdcf-0342fe1d80d1",
    "scrolled": true
   },
   "outputs": [
    {
     "data": {
      "text/latex": [
       "$\\displaystyle \\left[\\begin{matrix}4.94610473140624 \\cdot 10^{-5} & - 4.94610473140624 \\cdot 10^{-5} a_{21} - 9.91463649856825 \\cdot 10^{-6} & - 4.94610473140624 \\cdot 10^{-5} a_{31} - c_{32} \\left(- 4.94610473140624 \\cdot 10^{-5} a_{21} - 9.91463649856825 \\cdot 10^{-6}\\right) - 6.85622605722448 \\cdot 10^{-7} & 9.91463649856825 \\cdot 10^{-6} a_{42} + 3.22217333665302 \\cdot 10^{-7} a_{43} - c_{42} \\left(- 4.94610473140624 \\cdot 10^{-5} a_{21} - 9.91463649856825 \\cdot 10^{-6}\\right) + 3.63405272057145 \\cdot 10^{-6} & - 4.94610473140624 \\cdot 10^{-5} a_{51} + 9.91463649856825 \\cdot 10^{-6} a_{52} + 3.22217333665302 \\cdot 10^{-7} a_{53} - 3.63405272057145 \\cdot 10^{-6} a_{54} + 5.25106497821969 \\cdot 10^{-6}\\\\- 4.94610473140624 \\cdot 10^{-5} a_{21} - 9.91463649856825 \\cdot 10^{-6} & - a_{21} \\left(- 4.94610473140624 \\cdot 10^{-5} a_{21} - 9.91463649856825 \\cdot 10^{-6}\\right) + 9.91463649856825 \\cdot 10^{-6} a_{21} + 5.23024199472418 \\cdot 10^{-6} & 6.85622605722448 \\cdot 10^{-7} a_{21} - a_{31} \\left(- 4.94610473140624 \\cdot 10^{-5} a_{21} - 9.91463649856825 \\cdot 10^{-6}\\right) - c_{32} \\left(- a_{21} \\left(- 4.94610473140624 \\cdot 10^{-5} a_{21} - 9.91463649856825 \\cdot 10^{-6}\\right) + 9.91463649856825 \\cdot 10^{-6} a_{21} + 5.23024199472418 \\cdot 10^{-6}\\right) - 1.13850594600736 \\cdot 10^{-6} & - 3.63405272057145 \\cdot 10^{-6} a_{21} - a_{42} \\left(9.91463649856825 \\cdot 10^{-6} a_{21} + 5.23024199472418 \\cdot 10^{-6}\\right) - a_{43} \\left(3.22217333665302 \\cdot 10^{-7} a_{21} - 1.38265692914876 \\cdot 10^{-6}\\right) - c_{42} \\left(- a_{21} \\left(- 4.94610473140624 \\cdot 10^{-5} a_{21} - 9.91463649856825 \\cdot 10^{-6}\\right) + 9.91463649856825 \\cdot 10^{-6} a_{21} + 5.23024199472418 \\cdot 10^{-6}\\right) - 2.44150983141403 \\cdot 10^{-6} & - 5.25106497821969 \\cdot 10^{-6} a_{21} - a_{51} \\left(- 4.94610473140624 \\cdot 10^{-5} a_{21} - 9.91463649856825 \\cdot 10^{-6}\\right) - a_{52} \\left(9.91463649856825 \\cdot 10^{-6} a_{21} + 5.23024199472418 \\cdot 10^{-6}\\right) - a_{53} \\left(3.22217333665302 \\cdot 10^{-7} a_{21} - 1.38265692914876 \\cdot 10^{-6}\\right) - a_{54} \\left(- 3.63405272057145 \\cdot 10^{-6} a_{21} - 2.44150983141403 \\cdot 10^{-6}\\right) - 4.31865662111839 \\cdot 10^{-6}\\\\4.94610473140624 \\cdot 10^{-5} a_{21} c_{32} - 4.94610473140624 \\cdot 10^{-5} a_{31} + 9.91463649856825 \\cdot 10^{-6} c_{32} - 6.85622605722448 \\cdot 10^{-7} & - 9.91463649856825 \\cdot 10^{-6} a_{21} c_{32} - a_{21} \\left(4.94610473140624 \\cdot 10^{-5} a_{21} c_{32} - 4.94610473140624 \\cdot 10^{-5} a_{31} + 9.91463649856825 \\cdot 10^{-6} c_{32} - 6.85622605722448 \\cdot 10^{-7}\\right) + 9.91463649856825 \\cdot 10^{-6} a_{31} - 5.23024199472418 \\cdot 10^{-6} c_{32} - 1.13850594600736 \\cdot 10^{-6} & - 6.85622605722448 \\cdot 10^{-7} a_{21} c_{32} - a_{31} \\left(4.94610473140624 \\cdot 10^{-5} a_{21} c_{32} - 4.94610473140624 \\cdot 10^{-5} a_{31} + 9.91463649856825 \\cdot 10^{-6} c_{32} - 6.85622605722448 \\cdot 10^{-7}\\right) + 6.85622605722448 \\cdot 10^{-7} a_{31} - c_{32} \\left(- 9.91463649856825 \\cdot 10^{-6} a_{21} c_{32} - a_{21} \\left(4.94610473140624 \\cdot 10^{-5} a_{21} c_{32} - 4.94610473140624 \\cdot 10^{-5} a_{31} + 9.91463649856825 \\cdot 10^{-6} c_{32} - 6.85622605722448 \\cdot 10^{-7}\\right) + 9.91463649856825 \\cdot 10^{-6} a_{31} - 5.23024199472418 \\cdot 10^{-6} c_{32} - 1.13850594600736 \\cdot 10^{-6}\\right) + 1.13850594600736 \\cdot 10^{-6} c_{32} + 6.68527646932173 \\cdot 10^{-6} & 3.63405272057145 \\cdot 10^{-6} a_{21} c_{32} - 3.63405272057145 \\cdot 10^{-6} a_{31} - a_{42} \\left(- 9.91463649856825 \\cdot 10^{-6} a_{21} c_{32} + 9.91463649856825 \\cdot 10^{-6} a_{31} - 5.23024199472418 \\cdot 10^{-6} c_{32} - 1.13850594600736 \\cdot 10^{-6}\\right) - a_{43} \\left(- 3.22217333665302 \\cdot 10^{-7} a_{21} c_{32} + 3.22217333665302 \\cdot 10^{-7} a_{31} + 1.38265692914876 \\cdot 10^{-6} c_{32} + 6.84037493038863 \\cdot 10^{-6}\\right) + 2.44150983141403 \\cdot 10^{-6} c_{32} - c_{42} \\left(- 9.91463649856825 \\cdot 10^{-6} a_{21} c_{32} - a_{21} \\left(4.94610473140624 \\cdot 10^{-5} a_{21} c_{32} - 4.94610473140624 \\cdot 10^{-5} a_{31} + 9.91463649856825 \\cdot 10^{-6} c_{32} - 6.85622605722448 \\cdot 10^{-7}\\right) + 9.91463649856825 \\cdot 10^{-6} a_{31} - 5.23024199472418 \\cdot 10^{-6} c_{32} - 1.13850594600736 \\cdot 10^{-6}\\right) + 1.55098461066897 \\cdot 10^{-6} & 5.25106497821969 \\cdot 10^{-6} a_{21} c_{32} - 5.25106497821969 \\cdot 10^{-6} a_{31} - a_{51} \\left(4.94610473140624 \\cdot 10^{-5} a_{21} c_{32} - 4.94610473140624 \\cdot 10^{-5} a_{31} + 9.91463649856825 \\cdot 10^{-6} c_{32} - 6.85622605722448 \\cdot 10^{-7}\\right) - a_{52} \\left(- 9.91463649856825 \\cdot 10^{-6} a_{21} c_{32} + 9.91463649856825 \\cdot 10^{-6} a_{31} - 5.23024199472418 \\cdot 10^{-6} c_{32} - 1.13850594600736 \\cdot 10^{-6}\\right) - a_{53} \\left(- 3.22217333665302 \\cdot 10^{-7} a_{21} c_{32} + 3.22217333665302 \\cdot 10^{-7} a_{31} + 1.38265692914876 \\cdot 10^{-6} c_{32} + 6.84037493038863 \\cdot 10^{-6}\\right) - a_{54} \\left(3.63405272057145 \\cdot 10^{-6} a_{21} c_{32} - 3.63405272057145 \\cdot 10^{-6} a_{31} + 2.44150983141403 \\cdot 10^{-6} c_{32} + 1.55098461066897 \\cdot 10^{-6}\\right) + 4.31865662111839 \\cdot 10^{-6} c_{32} + 1.41382344778243 \\cdot 10^{-6}\\\\4.94610473140624 \\cdot 10^{-5} a_{21} c_{42} + 9.91463649856825 \\cdot 10^{-6} a_{42} + 3.22217333665302 \\cdot 10^{-7} a_{43} + 9.91463649856825 \\cdot 10^{-6} c_{42} + 3.63405272057145 \\cdot 10^{-6} & - 9.91463649856825 \\cdot 10^{-6} a_{21} c_{42} - a_{21} \\left(4.94610473140624 \\cdot 10^{-5} a_{21} c_{42} + 9.91463649856825 \\cdot 10^{-6} a_{42} + 3.22217333665302 \\cdot 10^{-7} a_{43} + 9.91463649856825 \\cdot 10^{-6} c_{42} + 3.63405272057145 \\cdot 10^{-6}\\right) - 5.23024199472418 \\cdot 10^{-6} a_{42} + 1.38265692914876 \\cdot 10^{-6} a_{43} - 5.23024199472418 \\cdot 10^{-6} c_{42} - 2.44150983141403 \\cdot 10^{-6} & - 6.85622605722448 \\cdot 10^{-7} a_{21} c_{42} - a_{31} \\left(4.94610473140624 \\cdot 10^{-5} a_{21} c_{42} + 9.91463649856825 \\cdot 10^{-6} a_{42} + 3.22217333665302 \\cdot 10^{-7} a_{43} + 9.91463649856825 \\cdot 10^{-6} c_{42} + 3.63405272057145 \\cdot 10^{-6}\\right) + 1.13850594600736 \\cdot 10^{-6} a_{42} - 6.84037493038863 \\cdot 10^{-6} a_{43} - c_{32} \\left(- 9.91463649856825 \\cdot 10^{-6} a_{21} c_{42} - a_{21} \\left(4.94610473140624 \\cdot 10^{-5} a_{21} c_{42} + 9.91463649856825 \\cdot 10^{-6} a_{42} + 3.22217333665302 \\cdot 10^{-7} a_{43} + 9.91463649856825 \\cdot 10^{-6} c_{42} + 3.63405272057145 \\cdot 10^{-6}\\right) - 5.23024199472418 \\cdot 10^{-6} a_{42} + 1.38265692914876 \\cdot 10^{-6} a_{43} - 5.23024199472418 \\cdot 10^{-6} c_{42} - 2.44150983141403 \\cdot 10^{-6}\\right) + 1.13850594600736 \\cdot 10^{-6} c_{42} + 1.55098461066897 \\cdot 10^{-6} & 3.63405272057145 \\cdot 10^{-6} a_{21} c_{42} - a_{42} \\left(- 9.91463649856825 \\cdot 10^{-6} a_{21} c_{42} - 5.23024199472418 \\cdot 10^{-6} a_{42} + 1.38265692914876 \\cdot 10^{-6} a_{43} - 5.23024199472418 \\cdot 10^{-6} c_{42} - 2.44150983141403 \\cdot 10^{-6}\\right) + 2.44150983141403 \\cdot 10^{-6} a_{42} - a_{43} \\left(- 3.22217333665302 \\cdot 10^{-7} a_{21} c_{42} + 1.38265692914876 \\cdot 10^{-6} a_{42} - 7.07324657136005 \\cdot 10^{-6} a_{43} + 1.38265692914876 \\cdot 10^{-6} c_{42} + 2.32871640971423 \\cdot 10^{-6}\\right) - 2.32871640971423 \\cdot 10^{-6} a_{43} - c_{42} \\left(- 9.91463649856825 \\cdot 10^{-6} a_{21} c_{42} - a_{21} \\left(4.94610473140624 \\cdot 10^{-5} a_{21} c_{42} + 9.91463649856825 \\cdot 10^{-6} a_{42} + 3.22217333665302 \\cdot 10^{-7} a_{43} + 9.91463649856825 \\cdot 10^{-6} c_{42} + 3.63405272057145 \\cdot 10^{-6}\\right) - 5.23024199472418 \\cdot 10^{-6} a_{42} + 1.38265692914876 \\cdot 10^{-6} a_{43} - 5.23024199472418 \\cdot 10^{-6} c_{42} - 2.44150983141403 \\cdot 10^{-6}\\right) + 2.44150983141403 \\cdot 10^{-6} c_{42} + 7.77731799045262 \\cdot 10^{-6} & 5.25106497821969 \\cdot 10^{-6} a_{21} c_{42} + 4.31865662111839 \\cdot 10^{-6} a_{42} - 1.61699220833329 \\cdot 10^{-6} a_{43} - a_{51} \\left(4.94610473140624 \\cdot 10^{-5} a_{21} c_{42} + 9.91463649856825 \\cdot 10^{-6} a_{42} + 3.22217333665302 \\cdot 10^{-7} a_{43} + 9.91463649856825 \\cdot 10^{-6} c_{42} + 3.63405272057145 \\cdot 10^{-6}\\right) - a_{52} \\left(- 9.91463649856825 \\cdot 10^{-6} a_{21} c_{42} - 5.23024199472418 \\cdot 10^{-6} a_{42} + 1.38265692914876 \\cdot 10^{-6} a_{43} - 5.23024199472418 \\cdot 10^{-6} c_{42} - 2.44150983141403 \\cdot 10^{-6}\\right) - a_{53} \\left(- 3.22217333665302 \\cdot 10^{-7} a_{21} c_{42} + 1.38265692914876 \\cdot 10^{-6} a_{42} - 7.07324657136005 \\cdot 10^{-6} a_{43} + 1.38265692914876 \\cdot 10^{-6} c_{42} + 2.32871640971423 \\cdot 10^{-6}\\right) - a_{54} \\left(3.63405272057145 \\cdot 10^{-6} a_{21} c_{42} + 2.44150983141403 \\cdot 10^{-6} a_{42} - 2.32871640971423 \\cdot 10^{-6} a_{43} + 2.44150983141403 \\cdot 10^{-6} c_{42} + 7.77731799045262 \\cdot 10^{-6}\\right) + 4.31865662111839 \\cdot 10^{-6} c_{42} + 2.03168760550855 \\cdot 10^{-6}\\\\- 4.94610473140624 \\cdot 10^{-5} a_{51} + 9.91463649856825 \\cdot 10^{-6} a_{52} + 3.22217333665302 \\cdot 10^{-7} a_{53} - 3.63405272057145 \\cdot 10^{-6} a_{54} + 5.25106497821969 \\cdot 10^{-6} & - a_{21} \\left(- 4.94610473140624 \\cdot 10^{-5} a_{51} + 9.91463649856825 \\cdot 10^{-6} a_{52} + 3.22217333665302 \\cdot 10^{-7} a_{53} - 3.63405272057145 \\cdot 10^{-6} a_{54} + 5.25106497821969 \\cdot 10^{-6}\\right) + 9.91463649856825 \\cdot 10^{-6} a_{51} - 5.23024199472418 \\cdot 10^{-6} a_{52} + 1.38265692914876 \\cdot 10^{-6} a_{53} + 2.44150983141403 \\cdot 10^{-6} a_{54} - 4.31865662111839 \\cdot 10^{-6} & - a_{31} \\left(- 4.94610473140624 \\cdot 10^{-5} a_{51} + 9.91463649856825 \\cdot 10^{-6} a_{52} + 3.22217333665302 \\cdot 10^{-7} a_{53} - 3.63405272057145 \\cdot 10^{-6} a_{54} + 5.25106497821969 \\cdot 10^{-6}\\right) + 6.85622605722448 \\cdot 10^{-7} a_{51} + 1.13850594600736 \\cdot 10^{-6} a_{52} - 6.84037493038863 \\cdot 10^{-6} a_{53} - 1.55098461066897 \\cdot 10^{-6} a_{54} - c_{32} \\left(- a_{21} \\left(- 4.94610473140624 \\cdot 10^{-5} a_{51} + 9.91463649856825 \\cdot 10^{-6} a_{52} + 3.22217333665302 \\cdot 10^{-7} a_{53} - 3.63405272057145 \\cdot 10^{-6} a_{54} + 5.25106497821969 \\cdot 10^{-6}\\right) + 9.91463649856825 \\cdot 10^{-6} a_{51} - 5.23024199472418 \\cdot 10^{-6} a_{52} + 1.38265692914876 \\cdot 10^{-6} a_{53} + 2.44150983141403 \\cdot 10^{-6} a_{54} - 4.31865662111839 \\cdot 10^{-6}\\right) + 1.41382344778243 \\cdot 10^{-6} & - a_{42} \\left(9.91463649856825 \\cdot 10^{-6} a_{51} - 5.23024199472418 \\cdot 10^{-6} a_{52} + 1.38265692914876 \\cdot 10^{-6} a_{53} + 2.44150983141403 \\cdot 10^{-6} a_{54} - 4.31865662111839 \\cdot 10^{-6}\\right) - a_{43} \\left(3.22217333665302 \\cdot 10^{-7} a_{51} + 1.38265692914876 \\cdot 10^{-6} a_{52} - 7.07324657136005 \\cdot 10^{-6} a_{53} - 2.32871640971423 \\cdot 10^{-6} a_{54} + 1.61699220833329 \\cdot 10^{-6}\\right) - 3.63405272057145 \\cdot 10^{-6} a_{51} + 2.44150983141403 \\cdot 10^{-6} a_{52} - 2.32871640971423 \\cdot 10^{-6} a_{53} - 7.77731799045262 \\cdot 10^{-6} a_{54} - c_{42} \\left(- a_{21} \\left(- 4.94610473140624 \\cdot 10^{-5} a_{51} + 9.91463649856825 \\cdot 10^{-6} a_{52} + 3.22217333665302 \\cdot 10^{-7} a_{53} - 3.63405272057145 \\cdot 10^{-6} a_{54} + 5.25106497821969 \\cdot 10^{-6}\\right) + 9.91463649856825 \\cdot 10^{-6} a_{51} - 5.23024199472418 \\cdot 10^{-6} a_{52} + 1.38265692914876 \\cdot 10^{-6} a_{53} + 2.44150983141403 \\cdot 10^{-6} a_{54} - 4.31865662111839 \\cdot 10^{-6}\\right) + 2.03168760550855 \\cdot 10^{-6} & - a_{51} \\left(- 4.94610473140624 \\cdot 10^{-5} a_{51} + 9.91463649856825 \\cdot 10^{-6} a_{52} + 3.22217333665302 \\cdot 10^{-7} a_{53} - 3.63405272057145 \\cdot 10^{-6} a_{54} + 5.25106497821969 \\cdot 10^{-6}\\right) - 5.25106497821969 \\cdot 10^{-6} a_{51} - a_{52} \\left(9.91463649856825 \\cdot 10^{-6} a_{51} - 5.23024199472418 \\cdot 10^{-6} a_{52} + 1.38265692914876 \\cdot 10^{-6} a_{53} + 2.44150983141403 \\cdot 10^{-6} a_{54} - 4.31865662111839 \\cdot 10^{-6}\\right) + 4.31865662111839 \\cdot 10^{-6} a_{52} - a_{53} \\left(3.22217333665302 \\cdot 10^{-7} a_{51} + 1.38265692914876 \\cdot 10^{-6} a_{52} - 7.07324657136005 \\cdot 10^{-6} a_{53} - 2.32871640971423 \\cdot 10^{-6} a_{54} + 1.61699220833329 \\cdot 10^{-6}\\right) - 1.61699220833329 \\cdot 10^{-6} a_{53} - a_{54} \\left(- 3.63405272057145 \\cdot 10^{-6} a_{51} + 2.44150983141403 \\cdot 10^{-6} a_{52} - 2.32871640971423 \\cdot 10^{-6} a_{53} - 7.77731799045262 \\cdot 10^{-6} a_{54} + 2.03168760550855 \\cdot 10^{-6}\\right) - 2.03168760550855 \\cdot 10^{-6} a_{54} + 4.11165308464853 \\cdot 10^{-5}\\end{matrix}\\right]$"
      ],
      "text/plain": [
       "Matrix([\n",
       "[                                                                                                                 4.94610473140624e-5,                                                                                                                                                                                                                                     -4.94610473140624e-5*a_21 - 9.91463649856825e-6,                                                                                                                                                                                                                                                                                                                                                                                                                                                                         -4.94610473140624e-5*a_31 - c_32*(-4.94610473140624e-5*a_21 - 9.91463649856825e-6) - 6.85622605722448e-7,                                                                                                                                                                                                                                                                                                                                                                                                                                                                                                                                                                                              9.91463649856825e-6*a_42 + 3.22217333665302e-7*a_43 - c_42*(-4.94610473140624e-5*a_21 - 9.91463649856825e-6) + 3.63405272057145e-6,                                                                                                                                                                                                                                                                                                                                                                                                                                                                                                                                                                                               -4.94610473140624e-5*a_51 + 9.91463649856825e-6*a_52 + 3.22217333665302e-7*a_53 - 3.63405272057145e-6*a_54 + 5.25106497821969e-6],\n",
       "[                                                                                     -4.94610473140624e-5*a_21 - 9.91463649856825e-6,                                                                                                                                                                            -a_21*(-4.94610473140624e-5*a_21 - 9.91463649856825e-6) + 9.91463649856825e-6*a_21 + 5.23024199472418e-6,                                                                                                                                                                                                                                                                                                                                                        6.85622605722448e-7*a_21 - a_31*(-4.94610473140624e-5*a_21 - 9.91463649856825e-6) - c_32*(-a_21*(-4.94610473140624e-5*a_21 - 9.91463649856825e-6) + 9.91463649856825e-6*a_21 + 5.23024199472418e-6) - 1.13850594600736e-6,                                                                                                                                                                                                                                                                                                                                                                                                                                               -3.63405272057145e-6*a_21 - a_42*(9.91463649856825e-6*a_21 + 5.23024199472418e-6) - a_43*(3.22217333665302e-7*a_21 - 1.38265692914876e-6) - c_42*(-a_21*(-4.94610473140624e-5*a_21 - 9.91463649856825e-6) + 9.91463649856825e-6*a_21 + 5.23024199472418e-6) - 2.44150983141403e-6,                                                                                                                                                                                                                                                                                                                                                                                                                                              -5.25106497821969e-6*a_21 - a_51*(-4.94610473140624e-5*a_21 - 9.91463649856825e-6) - a_52*(9.91463649856825e-6*a_21 + 5.23024199472418e-6) - a_53*(3.22217333665302e-7*a_21 - 1.38265692914876e-6) - a_54*(-3.63405272057145e-6*a_21 - 2.44150983141403e-6) - 4.31865662111839e-6],\n",
       "[                           4.94610473140624e-5*a_21*c_32 - 4.94610473140624e-5*a_31 + 9.91463649856825e-6*c_32 - 6.85622605722448e-7,                                                       -9.91463649856825e-6*a_21*c_32 - a_21*(4.94610473140624e-5*a_21*c_32 - 4.94610473140624e-5*a_31 + 9.91463649856825e-6*c_32 - 6.85622605722448e-7) + 9.91463649856825e-6*a_31 - 5.23024199472418e-6*c_32 - 1.13850594600736e-6,                                                                                                             -6.85622605722448e-7*a_21*c_32 - a_31*(4.94610473140624e-5*a_21*c_32 - 4.94610473140624e-5*a_31 + 9.91463649856825e-6*c_32 - 6.85622605722448e-7) + 6.85622605722448e-7*a_31 - c_32*(-9.91463649856825e-6*a_21*c_32 - a_21*(4.94610473140624e-5*a_21*c_32 - 4.94610473140624e-5*a_31 + 9.91463649856825e-6*c_32 - 6.85622605722448e-7) + 9.91463649856825e-6*a_31 - 5.23024199472418e-6*c_32 - 1.13850594600736e-6) + 1.13850594600736e-6*c_32 + 6.68527646932173e-6,                                                                                                                                        3.63405272057145e-6*a_21*c_32 - 3.63405272057145e-6*a_31 - a_42*(-9.91463649856825e-6*a_21*c_32 + 9.91463649856825e-6*a_31 - 5.23024199472418e-6*c_32 - 1.13850594600736e-6) - a_43*(-3.22217333665302e-7*a_21*c_32 + 3.22217333665302e-7*a_31 + 1.38265692914876e-6*c_32 + 6.84037493038863e-6) + 2.44150983141403e-6*c_32 - c_42*(-9.91463649856825e-6*a_21*c_32 - a_21*(4.94610473140624e-5*a_21*c_32 - 4.94610473140624e-5*a_31 + 9.91463649856825e-6*c_32 - 6.85622605722448e-7) + 9.91463649856825e-6*a_31 - 5.23024199472418e-6*c_32 - 1.13850594600736e-6) + 1.55098461066897e-6,                                                                                                                                        5.25106497821969e-6*a_21*c_32 - 5.25106497821969e-6*a_31 - a_51*(4.94610473140624e-5*a_21*c_32 - 4.94610473140624e-5*a_31 + 9.91463649856825e-6*c_32 - 6.85622605722448e-7) - a_52*(-9.91463649856825e-6*a_21*c_32 + 9.91463649856825e-6*a_31 - 5.23024199472418e-6*c_32 - 1.13850594600736e-6) - a_53*(-3.22217333665302e-7*a_21*c_32 + 3.22217333665302e-7*a_31 + 1.38265692914876e-6*c_32 + 6.84037493038863e-6) - a_54*(3.63405272057145e-6*a_21*c_32 - 3.63405272057145e-6*a_31 + 2.44150983141403e-6*c_32 + 1.55098461066897e-6) + 4.31865662111839e-6*c_32 + 1.41382344778243e-6],\n",
       "[4.94610473140624e-5*a_21*c_42 + 9.91463649856825e-6*a_42 + 3.22217333665302e-7*a_43 + 9.91463649856825e-6*c_42 + 3.63405272057145e-6, -9.91463649856825e-6*a_21*c_42 - a_21*(4.94610473140624e-5*a_21*c_42 + 9.91463649856825e-6*a_42 + 3.22217333665302e-7*a_43 + 9.91463649856825e-6*c_42 + 3.63405272057145e-6) - 5.23024199472418e-6*a_42 + 1.38265692914876e-6*a_43 - 5.23024199472418e-6*c_42 - 2.44150983141403e-6, -6.85622605722448e-7*a_21*c_42 - a_31*(4.94610473140624e-5*a_21*c_42 + 9.91463649856825e-6*a_42 + 3.22217333665302e-7*a_43 + 9.91463649856825e-6*c_42 + 3.63405272057145e-6) + 1.13850594600736e-6*a_42 - 6.84037493038863e-6*a_43 - c_32*(-9.91463649856825e-6*a_21*c_42 - a_21*(4.94610473140624e-5*a_21*c_42 + 9.91463649856825e-6*a_42 + 3.22217333665302e-7*a_43 + 9.91463649856825e-6*c_42 + 3.63405272057145e-6) - 5.23024199472418e-6*a_42 + 1.38265692914876e-6*a_43 - 5.23024199472418e-6*c_42 - 2.44150983141403e-6) + 1.13850594600736e-6*c_42 + 1.55098461066897e-6, 3.63405272057145e-6*a_21*c_42 - a_42*(-9.91463649856825e-6*a_21*c_42 - 5.23024199472418e-6*a_42 + 1.38265692914876e-6*a_43 - 5.23024199472418e-6*c_42 - 2.44150983141403e-6) + 2.44150983141403e-6*a_42 - a_43*(-3.22217333665302e-7*a_21*c_42 + 1.38265692914876e-6*a_42 - 7.07324657136005e-6*a_43 + 1.38265692914876e-6*c_42 + 2.32871640971423e-6) - 2.32871640971423e-6*a_43 - c_42*(-9.91463649856825e-6*a_21*c_42 - a_21*(4.94610473140624e-5*a_21*c_42 + 9.91463649856825e-6*a_42 + 3.22217333665302e-7*a_43 + 9.91463649856825e-6*c_42 + 3.63405272057145e-6) - 5.23024199472418e-6*a_42 + 1.38265692914876e-6*a_43 - 5.23024199472418e-6*c_42 - 2.44150983141403e-6) + 2.44150983141403e-6*c_42 + 7.77731799045262e-6, 5.25106497821969e-6*a_21*c_42 + 4.31865662111839e-6*a_42 - 1.61699220833329e-6*a_43 - a_51*(4.94610473140624e-5*a_21*c_42 + 9.91463649856825e-6*a_42 + 3.22217333665302e-7*a_43 + 9.91463649856825e-6*c_42 + 3.63405272057145e-6) - a_52*(-9.91463649856825e-6*a_21*c_42 - 5.23024199472418e-6*a_42 + 1.38265692914876e-6*a_43 - 5.23024199472418e-6*c_42 - 2.44150983141403e-6) - a_53*(-3.22217333665302e-7*a_21*c_42 + 1.38265692914876e-6*a_42 - 7.07324657136005e-6*a_43 + 1.38265692914876e-6*c_42 + 2.32871640971423e-6) - a_54*(3.63405272057145e-6*a_21*c_42 + 2.44150983141403e-6*a_42 - 2.32871640971423e-6*a_43 + 2.44150983141403e-6*c_42 + 7.77731799045262e-6) + 4.31865662111839e-6*c_42 + 2.03168760550855e-6],\n",
       "[    -4.94610473140624e-5*a_51 + 9.91463649856825e-6*a_52 + 3.22217333665302e-7*a_53 - 3.63405272057145e-6*a_54 + 5.25106497821969e-6,          -a_21*(-4.94610473140624e-5*a_51 + 9.91463649856825e-6*a_52 + 3.22217333665302e-7*a_53 - 3.63405272057145e-6*a_54 + 5.25106497821969e-6) + 9.91463649856825e-6*a_51 - 5.23024199472418e-6*a_52 + 1.38265692914876e-6*a_53 + 2.44150983141403e-6*a_54 - 4.31865662111839e-6,                   -a_31*(-4.94610473140624e-5*a_51 + 9.91463649856825e-6*a_52 + 3.22217333665302e-7*a_53 - 3.63405272057145e-6*a_54 + 5.25106497821969e-6) + 6.85622605722448e-7*a_51 + 1.13850594600736e-6*a_52 - 6.84037493038863e-6*a_53 - 1.55098461066897e-6*a_54 - c_32*(-a_21*(-4.94610473140624e-5*a_51 + 9.91463649856825e-6*a_52 + 3.22217333665302e-7*a_53 - 3.63405272057145e-6*a_54 + 5.25106497821969e-6) + 9.91463649856825e-6*a_51 - 5.23024199472418e-6*a_52 + 1.38265692914876e-6*a_53 + 2.44150983141403e-6*a_54 - 4.31865662111839e-6) + 1.41382344778243e-6,                          -a_42*(9.91463649856825e-6*a_51 - 5.23024199472418e-6*a_52 + 1.38265692914876e-6*a_53 + 2.44150983141403e-6*a_54 - 4.31865662111839e-6) - a_43*(3.22217333665302e-7*a_51 + 1.38265692914876e-6*a_52 - 7.07324657136005e-6*a_53 - 2.32871640971423e-6*a_54 + 1.61699220833329e-6) - 3.63405272057145e-6*a_51 + 2.44150983141403e-6*a_52 - 2.32871640971423e-6*a_53 - 7.77731799045262e-6*a_54 - c_42*(-a_21*(-4.94610473140624e-5*a_51 + 9.91463649856825e-6*a_52 + 3.22217333665302e-7*a_53 - 3.63405272057145e-6*a_54 + 5.25106497821969e-6) + 9.91463649856825e-6*a_51 - 5.23024199472418e-6*a_52 + 1.38265692914876e-6*a_53 + 2.44150983141403e-6*a_54 - 4.31865662111839e-6) + 2.03168760550855e-6,                         -a_51*(-4.94610473140624e-5*a_51 + 9.91463649856825e-6*a_52 + 3.22217333665302e-7*a_53 - 3.63405272057145e-6*a_54 + 5.25106497821969e-6) - 5.25106497821969e-6*a_51 - a_52*(9.91463649856825e-6*a_51 - 5.23024199472418e-6*a_52 + 1.38265692914876e-6*a_53 + 2.44150983141403e-6*a_54 - 4.31865662111839e-6) + 4.31865662111839e-6*a_52 - a_53*(3.22217333665302e-7*a_51 + 1.38265692914876e-6*a_52 - 7.07324657136005e-6*a_53 - 2.32871640971423e-6*a_54 + 1.61699220833329e-6) - 1.61699220833329e-6*a_53 - a_54*(-3.63405272057145e-6*a_51 + 2.44150983141403e-6*a_52 - 2.32871640971423e-6*a_53 - 7.77731799045262e-6*a_54 + 2.03168760550855e-6) - 2.03168760550855e-6*a_54 + 4.11165308464853e-5]])"
      ]
     },
     "execution_count": 30,
     "metadata": {},
     "output_type": "execute_result"
    }
   ],
   "source": [
    "Omega_u = C.inv()*A*Omega_e*(A.transpose())*(C.inv().transpose())\n",
    "Omega_u"
   ]
  },
  {
   "cell_type": "code",
   "execution_count": 31,
   "id": "f8114fe6",
   "metadata": {
    "id": "f8114fe6"
   },
   "outputs": [],
   "source": [
    "initial_list = np.repeat(0.1, 10)\n",
    "eq_list = []\n",
    "for i in range(n):\n",
    "    for j in range(n):\n",
    "        if i < j :\n",
    "            eq_list.append(Omega_u[i, j])"
   ]
  },
  {
   "cell_type": "code",
   "execution_count": 32,
   "id": "3575205e",
   "metadata": {
    "id": "3575205e"
   },
   "outputs": [],
   "source": [
    "sol = sympy.nsolve( (eq_list) , (a21, a31, a42, a43, a51, a52, a53, a54, c32, c42), initial_list, verify=True)"
   ]
  },
  {
   "cell_type": "code",
   "execution_count": 33,
   "id": "2906fe6b",
   "metadata": {
    "id": "2906fe6b",
    "outputId": "50bfe7fa-7984-421f-d64a-4caaa8135ad4"
   },
   "outputs": [
    {
     "data": {
      "text/latex": [
       "$\\displaystyle \\left[\\begin{matrix}-0.200453428242499\\\\-0.0138618699553399\\\\-0.371343460404992\\\\0.147983055169984\\\\-0.0930112435626623\\\\-1.00228521888083\\\\0.0351913914436807\\\\-0.0204883763899733\\\\-0.393466703216553\\\\-0.0908727446440436\\end{matrix}\\right]$"
      ],
      "text/plain": [
       "Matrix([\n",
       "[ -0.200453428242499],\n",
       "[-0.0138618699553399],\n",
       "[ -0.371343460404992],\n",
       "[  0.147983055169984],\n",
       "[-0.0930112435626623],\n",
       "[  -1.00228521888083],\n",
       "[ 0.0351913914436807],\n",
       "[-0.0204883763899733],\n",
       "[ -0.393466703216553],\n",
       "[-0.0908727446440436]])"
      ]
     },
     "execution_count": 33,
     "metadata": {},
     "output_type": "execute_result"
    }
   ],
   "source": [
    "sol"
   ]
  },
  {
   "cell_type": "code",
   "execution_count": 34,
   "id": "8860a1bf",
   "metadata": {
    "id": "8860a1bf"
   },
   "outputs": [],
   "source": [
    "sA = A.subs([(a21, sol[0]), (a31, sol[1]), (a42, sol[2]), (a43, sol[3]), (a51, sol[4]), (a52, sol[5]), (a53, sol[6]), (a54, sol[7])])\n",
    "sC = C.subs([(c32, sol[8]), (c42, sol[9])])"
   ]
  },
  {
   "cell_type": "code",
   "execution_count": 35,
   "id": "fb5e2c9e",
   "metadata": {
    "id": "fb5e2c9e"
   },
   "outputs": [],
   "source": [
    "sOmega_u = sympy.Matrix(np.zeros([n,n]))\n",
    "for i in range(n):\n",
    "    w_i = Omega_u[i,i].subs([(a21, sol[0]), (a31, sol[1]), (a42, sol[2]), (a43, sol[3]), (a51, sol[4]), (a52, sol[5]), (a53, sol[6]), (a54, sol[7]), (c32, sol[8]), (c42, sol[9])])\n",
    "    sOmega_u[i,i] = w_i"
   ]
  },
  {
   "cell_type": "code",
   "execution_count": 36,
   "id": "57e6afe8",
   "metadata": {
    "id": "57e6afe8",
    "outputId": "9c28b714-3863-4ace-fb13-89a489ef27e6"
   },
   "outputs": [
    {
     "data": {
      "text/latex": [
       "$\\displaystyle \\left[\\begin{matrix}1 & 0 & 0 & 0 & 0\\\\0.200453428242499 & 1 & 0 & 0 & 0\\\\0.0138618699553399 & 0 & 1 & -0.1 & 0\\\\0 & 0.371343460404992 & -0.147983055169984 & 1 & 0\\\\0.0930112435626623 & 1.00228521888083 & -0.0351913914436807 & 0.0204883763899733 & 1\\end{matrix}\\right]$"
      ],
      "text/plain": [
       "Matrix([\n",
       "[                 1,                 0,                   0,                  0, 0],\n",
       "[ 0.200453428242499,                 1,                   0,                  0, 0],\n",
       "[0.0138618699553399,                 0,                   1,               -0.1, 0],\n",
       "[                 0, 0.371343460404992,  -0.147983055169984,                  1, 0],\n",
       "[0.0930112435626623,  1.00228521888083, -0.0351913914436807, 0.0204883763899733, 1]])"
      ]
     },
     "execution_count": 36,
     "metadata": {},
     "output_type": "execute_result"
    }
   ],
   "source": [
    "sA"
   ]
  },
  {
   "cell_type": "code",
   "execution_count": 37,
   "id": "d64a05ae",
   "metadata": {
    "id": "d64a05ae",
    "outputId": "e8237efd-aace-4b9d-a745-18a033bec42d"
   },
   "outputs": [
    {
     "data": {
      "text/latex": [
       "$\\displaystyle \\left[\\begin{matrix}1 & 0 & 0 & 0 & 0\\\\0 & 1 & 0 & 0 & 0\\\\0 & -0.393466703216553 & 1 & 0 & 0\\\\0 & -0.0908727446440436 & 0 & 1 & 0\\\\0 & 0 & 0 & 0 & 1\\end{matrix}\\right]$"
      ],
      "text/plain": [
       "Matrix([\n",
       "[1,                   0, 0, 0, 0],\n",
       "[0,                   1, 0, 0, 0],\n",
       "[0,  -0.393466703216553, 1, 0, 0],\n",
       "[0, -0.0908727446440436, 0, 1, 0],\n",
       "[0,                   0, 0, 0, 1]])"
      ]
     },
     "execution_count": 37,
     "metadata": {},
     "output_type": "execute_result"
    }
   ],
   "source": [
    "sC"
   ]
  },
  {
   "cell_type": "code",
   "execution_count": 38,
   "id": "189a0458",
   "metadata": {
    "id": "189a0458",
    "outputId": "7eef3619-ae81-43c7-b076-125904e22ad3"
   },
   "outputs": [
    {
     "data": {
      "text/latex": [
       "$\\displaystyle \\left[\\begin{matrix}4.94610473140624 \\cdot 10^{-5} & 0 & 0 & 0 & 0\\\\0 & 3.24281911880797 \\cdot 10^{-6} & 0 & 0 & 0\\\\0 & 0 & 6.17373202230426 \\cdot 10^{-6} & 0 & 0\\\\0 & 0 & 0 & 6.27612790915301 \\cdot 10^{-6} & 0\\\\0 & 0 & 0 & 0 & 3.72611350079727 \\cdot 10^{-5}\\end{matrix}\\right]$"
      ],
      "text/plain": [
       "Matrix([\n",
       "[4.94610473140624e-5,                   0,                   0,                   0,                   0],\n",
       "[                  0, 3.24281911880797e-6,                   0,                   0,                   0],\n",
       "[                  0,                   0, 6.17373202230426e-6,                   0,                   0],\n",
       "[                  0,                   0,                   0, 6.27612790915301e-6,                   0],\n",
       "[                  0,                   0,                   0,                   0, 3.72611350079727e-5]])"
      ]
     },
     "execution_count": 38,
     "metadata": {},
     "output_type": "execute_result"
    }
   ],
   "source": [
    "sOmega_u"
   ]
  },
  {
   "cell_type": "code",
   "execution_count": 39,
   "id": "a1c457e3",
   "metadata": {
    "id": "a1c457e3",
    "outputId": "8221afe0-634e-459f-ee94-bd2fd597b3bb"
   },
   "outputs": [
    {
     "data": {
      "text/plain": [
       "array([[0.00703285, 0.        , 0.        , 0.        , 0.        ],\n",
       "       [0.        , 0.00180078, 0.        , 0.        , 0.        ],\n",
       "       [0.        , 0.        , 0.0024847 , 0.        , 0.        ],\n",
       "       [0.        , 0.        , 0.        , 0.00250522, 0.        ],\n",
       "       [0.        , 0.        , 0.        , 0.        , 0.00610419]])"
      ]
     },
     "execution_count": 39,
     "metadata": {},
     "output_type": "execute_result"
    }
   ],
   "source": [
    "shock = np.array(sOmega_u).astype(np.float64)\n",
    "shock_std = np.sqrt(shock)\n",
    "shock_std"
   ]
  },
  {
   "cell_type": "markdown",
   "id": "03ebe420",
   "metadata": {
    "id": "03ebe420"
   },
   "source": [
    "#### (2) $c=1, a_{34}=0.1$"
   ]
  },
  {
   "cell_type": "code",
   "execution_count": 40,
   "id": "a409b5db",
   "metadata": {
    "id": "a409b5db"
   },
   "outputs": [],
   "source": [
    "A, C = matrix_maker(1,0.1)\n",
    "Omega_u = sympy.Matrix(np.diag([globals()[f'w{i}'] for i in range(1, n+1)]))"
   ]
  },
  {
   "cell_type": "code",
   "execution_count": 41,
   "id": "b6a82c10",
   "metadata": {
    "id": "b6a82c10",
    "outputId": "fe8a26d4-dec0-45a0-b516-16beca0398f6"
   },
   "outputs": [
    {
     "data": {
      "text/latex": [
       "$\\displaystyle \\left[\\begin{matrix}1 & 0 & 0 & 0 & 0\\\\- a_{21} & 1 & 0 & 0 & 0\\\\- a_{31} & 0 & 1 & -0.1 & 0\\\\0 & - a_{42} & - a_{43} & 1 & 0\\\\- a_{51} & - a_{52} & - a_{53} & - a_{54} & 1\\end{matrix}\\right]$"
      ],
      "text/plain": [
       "Matrix([\n",
       "[    1,     0,     0,     0, 0],\n",
       "[-a_21,     1,     0,     0, 0],\n",
       "[-a_31,     0,     1,  -0.1, 0],\n",
       "[    0, -a_42, -a_43,     1, 0],\n",
       "[-a_51, -a_52, -a_53, -a_54, 1]])"
      ]
     },
     "execution_count": 41,
     "metadata": {},
     "output_type": "execute_result"
    }
   ],
   "source": [
    "A"
   ]
  },
  {
   "cell_type": "code",
   "execution_count": 42,
   "id": "75d55e6f",
   "metadata": {
    "id": "75d55e6f",
    "outputId": "7c8ec2b1-6678-4bd2-a072-a883e2d27ee9"
   },
   "outputs": [
    {
     "data": {
      "text/latex": [
       "$\\displaystyle \\left[\\begin{matrix}1 & 1 & 0 & 0 & 0\\\\0 & 1 & 0 & 0 & 0\\\\0 & c_{32} & 1 & 0 & 0\\\\0 & c_{42} & 0 & 1 & 0\\\\0 & 0 & 0 & 0 & 1\\end{matrix}\\right]$"
      ],
      "text/plain": [
       "Matrix([\n",
       "[1,    1, 0, 0, 0],\n",
       "[0,    1, 0, 0, 0],\n",
       "[0, c_32, 1, 0, 0],\n",
       "[0, c_42, 0, 1, 0],\n",
       "[0,    0, 0, 0, 1]])"
      ]
     },
     "execution_count": 42,
     "metadata": {},
     "output_type": "execute_result"
    }
   ],
   "source": [
    "C"
   ]
  },
  {
   "cell_type": "code",
   "execution_count": 43,
   "id": "b54bd0f0",
   "metadata": {
    "id": "b54bd0f0",
    "outputId": "15870f38-f1ec-411a-d893-465246de7ce1",
    "scrolled": true
   },
   "outputs": [
    {
     "data": {
      "text/latex": [
       "$\\displaystyle \\left[\\begin{matrix}a_{21} \\left(4.94610473140624 \\cdot 10^{-5} a_{21} + 5.93756838126307 \\cdot 10^{-5}\\right) + 5.93756838126307 \\cdot 10^{-5} a_{21} + 7.45205623059231 \\cdot 10^{-5} & - a_{21} \\left(4.94610473140624 \\cdot 10^{-5} a_{21} + 5.93756838126307 \\cdot 10^{-5}\\right) - 9.91463649856825 \\cdot 10^{-6} a_{21} - 1.51448784932924 \\cdot 10^{-5} & - 6.85622605722448 \\cdot 10^{-7} a_{21} - a_{31} \\left(4.94610473140624 \\cdot 10^{-5} a_{21} + 5.93756838126307 \\cdot 10^{-5}\\right) - c_{32} \\left(- a_{21} \\left(4.94610473140624 \\cdot 10^{-5} a_{21} + 5.93756838126307 \\cdot 10^{-5}\\right) - 9.91463649856825 \\cdot 10^{-6} a_{21} - 1.51448784932924 \\cdot 10^{-5}\\right) + 4.52883340284911 \\cdot 10^{-7} & 3.63405272057145 \\cdot 10^{-6} a_{21} - a_{42} \\left(- 9.91463649856825 \\cdot 10^{-6} a_{21} - 1.51448784932924 \\cdot 10^{-5}\\right) - a_{43} \\left(1.06043959548346 \\cdot 10^{-6} - 3.22217333665302 \\cdot 10^{-7} a_{21}\\right) - c_{42} \\left(- a_{21} \\left(4.94610473140624 \\cdot 10^{-5} a_{21} + 5.93756838126307 \\cdot 10^{-5}\\right) - 9.91463649856825 \\cdot 10^{-6} a_{21} - 1.51448784932924 \\cdot 10^{-5}\\right) + 6.07556255198548 \\cdot 10^{-6} & 5.25106497821969 \\cdot 10^{-6} a_{21} - a_{51} \\left(4.94610473140624 \\cdot 10^{-5} a_{21} + 5.93756838126307 \\cdot 10^{-5}\\right) - a_{52} \\left(- 9.91463649856825 \\cdot 10^{-6} a_{21} - 1.51448784932924 \\cdot 10^{-5}\\right) - a_{53} \\left(1.06043959548346 \\cdot 10^{-6} - 3.22217333665302 \\cdot 10^{-7} a_{21}\\right) - a_{54} \\left(3.63405272057145 \\cdot 10^{-6} a_{21} + 6.07556255198548 \\cdot 10^{-6}\\right) + 9.56972159933808 \\cdot 10^{-6}\\\\a_{21} \\left(- 4.94610473140624 \\cdot 10^{-5} a_{21} - 9.91463649856825 \\cdot 10^{-6}\\right) - 5.93756838126307 \\cdot 10^{-5} a_{21} - 1.51448784932924 \\cdot 10^{-5} & - a_{21} \\left(- 4.94610473140624 \\cdot 10^{-5} a_{21} - 9.91463649856825 \\cdot 10^{-6}\\right) + 9.91463649856825 \\cdot 10^{-6} a_{21} + 5.23024199472418 \\cdot 10^{-6} & 6.85622605722448 \\cdot 10^{-7} a_{21} - a_{31} \\left(- 4.94610473140624 \\cdot 10^{-5} a_{21} - 9.91463649856825 \\cdot 10^{-6}\\right) - c_{32} \\left(- a_{21} \\left(- 4.94610473140624 \\cdot 10^{-5} a_{21} - 9.91463649856825 \\cdot 10^{-6}\\right) + 9.91463649856825 \\cdot 10^{-6} a_{21} + 5.23024199472418 \\cdot 10^{-6}\\right) - 1.13850594600736 \\cdot 10^{-6} & - 3.63405272057145 \\cdot 10^{-6} a_{21} - a_{42} \\left(9.91463649856825 \\cdot 10^{-6} a_{21} + 5.23024199472418 \\cdot 10^{-6}\\right) - a_{43} \\left(3.22217333665302 \\cdot 10^{-7} a_{21} - 1.38265692914876 \\cdot 10^{-6}\\right) - c_{42} \\left(- a_{21} \\left(- 4.94610473140624 \\cdot 10^{-5} a_{21} - 9.91463649856825 \\cdot 10^{-6}\\right) + 9.91463649856825 \\cdot 10^{-6} a_{21} + 5.23024199472418 \\cdot 10^{-6}\\right) - 2.44150983141403 \\cdot 10^{-6} & - 5.25106497821969 \\cdot 10^{-6} a_{21} - a_{51} \\left(- 4.94610473140624 \\cdot 10^{-5} a_{21} - 9.91463649856825 \\cdot 10^{-6}\\right) - a_{52} \\left(9.91463649856825 \\cdot 10^{-6} a_{21} + 5.23024199472418 \\cdot 10^{-6}\\right) - a_{53} \\left(3.22217333665302 \\cdot 10^{-7} a_{21} - 1.38265692914876 \\cdot 10^{-6}\\right) - a_{54} \\left(- 3.63405272057145 \\cdot 10^{-6} a_{21} - 2.44150983141403 \\cdot 10^{-6}\\right) - 4.31865662111839 \\cdot 10^{-6}\\\\5.93756838126307 \\cdot 10^{-5} a_{21} c_{32} + a_{21} \\left(4.94610473140624 \\cdot 10^{-5} a_{21} c_{32} - 4.94610473140624 \\cdot 10^{-5} a_{31} + 9.91463649856825 \\cdot 10^{-6} c_{32} - 6.85622605722448 \\cdot 10^{-7}\\right) - 5.93756838126307 \\cdot 10^{-5} a_{31} + 1.51448784932924 \\cdot 10^{-5} c_{32} + 4.52883340284911 \\cdot 10^{-7} & - 9.91463649856825 \\cdot 10^{-6} a_{21} c_{32} - a_{21} \\left(4.94610473140624 \\cdot 10^{-5} a_{21} c_{32} - 4.94610473140624 \\cdot 10^{-5} a_{31} + 9.91463649856825 \\cdot 10^{-6} c_{32} - 6.85622605722448 \\cdot 10^{-7}\\right) + 9.91463649856825 \\cdot 10^{-6} a_{31} - 5.23024199472418 \\cdot 10^{-6} c_{32} - 1.13850594600736 \\cdot 10^{-6} & - 6.85622605722448 \\cdot 10^{-7} a_{21} c_{32} - a_{31} \\left(4.94610473140624 \\cdot 10^{-5} a_{21} c_{32} - 4.94610473140624 \\cdot 10^{-5} a_{31} + 9.91463649856825 \\cdot 10^{-6} c_{32} - 6.85622605722448 \\cdot 10^{-7}\\right) + 6.85622605722448 \\cdot 10^{-7} a_{31} - c_{32} \\left(- 9.91463649856825 \\cdot 10^{-6} a_{21} c_{32} - a_{21} \\left(4.94610473140624 \\cdot 10^{-5} a_{21} c_{32} - 4.94610473140624 \\cdot 10^{-5} a_{31} + 9.91463649856825 \\cdot 10^{-6} c_{32} - 6.85622605722448 \\cdot 10^{-7}\\right) + 9.91463649856825 \\cdot 10^{-6} a_{31} - 5.23024199472418 \\cdot 10^{-6} c_{32} - 1.13850594600736 \\cdot 10^{-6}\\right) + 1.13850594600736 \\cdot 10^{-6} c_{32} + 6.68527646932173 \\cdot 10^{-6} & 3.63405272057145 \\cdot 10^{-6} a_{21} c_{32} - 3.63405272057145 \\cdot 10^{-6} a_{31} - a_{42} \\left(- 9.91463649856825 \\cdot 10^{-6} a_{21} c_{32} + 9.91463649856825 \\cdot 10^{-6} a_{31} - 5.23024199472418 \\cdot 10^{-6} c_{32} - 1.13850594600736 \\cdot 10^{-6}\\right) - a_{43} \\left(- 3.22217333665302 \\cdot 10^{-7} a_{21} c_{32} + 3.22217333665302 \\cdot 10^{-7} a_{31} + 1.38265692914876 \\cdot 10^{-6} c_{32} + 6.84037493038863 \\cdot 10^{-6}\\right) + 2.44150983141403 \\cdot 10^{-6} c_{32} - c_{42} \\left(- 9.91463649856825 \\cdot 10^{-6} a_{21} c_{32} - a_{21} \\left(4.94610473140624 \\cdot 10^{-5} a_{21} c_{32} - 4.94610473140624 \\cdot 10^{-5} a_{31} + 9.91463649856825 \\cdot 10^{-6} c_{32} - 6.85622605722448 \\cdot 10^{-7}\\right) + 9.91463649856825 \\cdot 10^{-6} a_{31} - 5.23024199472418 \\cdot 10^{-6} c_{32} - 1.13850594600736 \\cdot 10^{-6}\\right) + 1.55098461066897 \\cdot 10^{-6} & 5.25106497821969 \\cdot 10^{-6} a_{21} c_{32} - 5.25106497821969 \\cdot 10^{-6} a_{31} - a_{51} \\left(4.94610473140624 \\cdot 10^{-5} a_{21} c_{32} - 4.94610473140624 \\cdot 10^{-5} a_{31} + 9.91463649856825 \\cdot 10^{-6} c_{32} - 6.85622605722448 \\cdot 10^{-7}\\right) - a_{52} \\left(- 9.91463649856825 \\cdot 10^{-6} a_{21} c_{32} + 9.91463649856825 \\cdot 10^{-6} a_{31} - 5.23024199472418 \\cdot 10^{-6} c_{32} - 1.13850594600736 \\cdot 10^{-6}\\right) - a_{53} \\left(- 3.22217333665302 \\cdot 10^{-7} a_{21} c_{32} + 3.22217333665302 \\cdot 10^{-7} a_{31} + 1.38265692914876 \\cdot 10^{-6} c_{32} + 6.84037493038863 \\cdot 10^{-6}\\right) - a_{54} \\left(3.63405272057145 \\cdot 10^{-6} a_{21} c_{32} - 3.63405272057145 \\cdot 10^{-6} a_{31} + 2.44150983141403 \\cdot 10^{-6} c_{32} + 1.55098461066897 \\cdot 10^{-6}\\right) + 4.31865662111839 \\cdot 10^{-6} c_{32} + 1.41382344778243 \\cdot 10^{-6}\\\\5.93756838126307 \\cdot 10^{-5} a_{21} c_{42} + a_{21} \\left(4.94610473140624 \\cdot 10^{-5} a_{21} c_{42} + 9.91463649856825 \\cdot 10^{-6} a_{42} + 3.22217333665302 \\cdot 10^{-7} a_{43} + 9.91463649856825 \\cdot 10^{-6} c_{42} + 3.63405272057145 \\cdot 10^{-6}\\right) + 1.51448784932924 \\cdot 10^{-5} a_{42} - 1.06043959548346 \\cdot 10^{-6} a_{43} + 1.51448784932924 \\cdot 10^{-5} c_{42} + 6.07556255198548 \\cdot 10^{-6} & - 9.91463649856825 \\cdot 10^{-6} a_{21} c_{42} - a_{21} \\left(4.94610473140624 \\cdot 10^{-5} a_{21} c_{42} + 9.91463649856825 \\cdot 10^{-6} a_{42} + 3.22217333665302 \\cdot 10^{-7} a_{43} + 9.91463649856825 \\cdot 10^{-6} c_{42} + 3.63405272057145 \\cdot 10^{-6}\\right) - 5.23024199472418 \\cdot 10^{-6} a_{42} + 1.38265692914876 \\cdot 10^{-6} a_{43} - 5.23024199472418 \\cdot 10^{-6} c_{42} - 2.44150983141403 \\cdot 10^{-6} & - 6.85622605722448 \\cdot 10^{-7} a_{21} c_{42} - a_{31} \\left(4.94610473140624 \\cdot 10^{-5} a_{21} c_{42} + 9.91463649856825 \\cdot 10^{-6} a_{42} + 3.22217333665302 \\cdot 10^{-7} a_{43} + 9.91463649856825 \\cdot 10^{-6} c_{42} + 3.63405272057145 \\cdot 10^{-6}\\right) + 1.13850594600736 \\cdot 10^{-6} a_{42} - 6.84037493038863 \\cdot 10^{-6} a_{43} - c_{32} \\left(- 9.91463649856825 \\cdot 10^{-6} a_{21} c_{42} - a_{21} \\left(4.94610473140624 \\cdot 10^{-5} a_{21} c_{42} + 9.91463649856825 \\cdot 10^{-6} a_{42} + 3.22217333665302 \\cdot 10^{-7} a_{43} + 9.91463649856825 \\cdot 10^{-6} c_{42} + 3.63405272057145 \\cdot 10^{-6}\\right) - 5.23024199472418 \\cdot 10^{-6} a_{42} + 1.38265692914876 \\cdot 10^{-6} a_{43} - 5.23024199472418 \\cdot 10^{-6} c_{42} - 2.44150983141403 \\cdot 10^{-6}\\right) + 1.13850594600736 \\cdot 10^{-6} c_{42} + 1.55098461066897 \\cdot 10^{-6} & 3.63405272057145 \\cdot 10^{-6} a_{21} c_{42} - a_{42} \\left(- 9.91463649856825 \\cdot 10^{-6} a_{21} c_{42} - 5.23024199472418 \\cdot 10^{-6} a_{42} + 1.38265692914876 \\cdot 10^{-6} a_{43} - 5.23024199472418 \\cdot 10^{-6} c_{42} - 2.44150983141403 \\cdot 10^{-6}\\right) + 2.44150983141403 \\cdot 10^{-6} a_{42} - a_{43} \\left(- 3.22217333665302 \\cdot 10^{-7} a_{21} c_{42} + 1.38265692914876 \\cdot 10^{-6} a_{42} - 7.07324657136005 \\cdot 10^{-6} a_{43} + 1.38265692914876 \\cdot 10^{-6} c_{42} + 2.32871640971423 \\cdot 10^{-6}\\right) - 2.32871640971423 \\cdot 10^{-6} a_{43} - c_{42} \\left(- 9.91463649856825 \\cdot 10^{-6} a_{21} c_{42} - a_{21} \\left(4.94610473140624 \\cdot 10^{-5} a_{21} c_{42} + 9.91463649856825 \\cdot 10^{-6} a_{42} + 3.22217333665302 \\cdot 10^{-7} a_{43} + 9.91463649856825 \\cdot 10^{-6} c_{42} + 3.63405272057145 \\cdot 10^{-6}\\right) - 5.23024199472418 \\cdot 10^{-6} a_{42} + 1.38265692914876 \\cdot 10^{-6} a_{43} - 5.23024199472418 \\cdot 10^{-6} c_{42} - 2.44150983141403 \\cdot 10^{-6}\\right) + 2.44150983141403 \\cdot 10^{-6} c_{42} + 7.77731799045262 \\cdot 10^{-6} & 5.25106497821969 \\cdot 10^{-6} a_{21} c_{42} + 4.31865662111839 \\cdot 10^{-6} a_{42} - 1.61699220833329 \\cdot 10^{-6} a_{43} - a_{51} \\left(4.94610473140624 \\cdot 10^{-5} a_{21} c_{42} + 9.91463649856825 \\cdot 10^{-6} a_{42} + 3.22217333665302 \\cdot 10^{-7} a_{43} + 9.91463649856825 \\cdot 10^{-6} c_{42} + 3.63405272057145 \\cdot 10^{-6}\\right) - a_{52} \\left(- 9.91463649856825 \\cdot 10^{-6} a_{21} c_{42} - 5.23024199472418 \\cdot 10^{-6} a_{42} + 1.38265692914876 \\cdot 10^{-6} a_{43} - 5.23024199472418 \\cdot 10^{-6} c_{42} - 2.44150983141403 \\cdot 10^{-6}\\right) - a_{53} \\left(- 3.22217333665302 \\cdot 10^{-7} a_{21} c_{42} + 1.38265692914876 \\cdot 10^{-6} a_{42} - 7.07324657136005 \\cdot 10^{-6} a_{43} + 1.38265692914876 \\cdot 10^{-6} c_{42} + 2.32871640971423 \\cdot 10^{-6}\\right) - a_{54} \\left(3.63405272057145 \\cdot 10^{-6} a_{21} c_{42} + 2.44150983141403 \\cdot 10^{-6} a_{42} - 2.32871640971423 \\cdot 10^{-6} a_{43} + 2.44150983141403 \\cdot 10^{-6} c_{42} + 7.77731799045262 \\cdot 10^{-6}\\right) + 4.31865662111839 \\cdot 10^{-6} c_{42} + 2.03168760550855 \\cdot 10^{-6}\\\\a_{21} \\left(- 4.94610473140624 \\cdot 10^{-5} a_{51} + 9.91463649856825 \\cdot 10^{-6} a_{52} + 3.22217333665302 \\cdot 10^{-7} a_{53} - 3.63405272057145 \\cdot 10^{-6} a_{54} + 5.25106497821969 \\cdot 10^{-6}\\right) - 5.93756838126307 \\cdot 10^{-5} a_{51} + 1.51448784932924 \\cdot 10^{-5} a_{52} - 1.06043959548346 \\cdot 10^{-6} a_{53} - 6.07556255198548 \\cdot 10^{-6} a_{54} + 9.56972159933808 \\cdot 10^{-6} & - a_{21} \\left(- 4.94610473140624 \\cdot 10^{-5} a_{51} + 9.91463649856825 \\cdot 10^{-6} a_{52} + 3.22217333665302 \\cdot 10^{-7} a_{53} - 3.63405272057145 \\cdot 10^{-6} a_{54} + 5.25106497821969 \\cdot 10^{-6}\\right) + 9.91463649856825 \\cdot 10^{-6} a_{51} - 5.23024199472418 \\cdot 10^{-6} a_{52} + 1.38265692914876 \\cdot 10^{-6} a_{53} + 2.44150983141403 \\cdot 10^{-6} a_{54} - 4.31865662111839 \\cdot 10^{-6} & - a_{31} \\left(- 4.94610473140624 \\cdot 10^{-5} a_{51} + 9.91463649856825 \\cdot 10^{-6} a_{52} + 3.22217333665302 \\cdot 10^{-7} a_{53} - 3.63405272057145 \\cdot 10^{-6} a_{54} + 5.25106497821969 \\cdot 10^{-6}\\right) + 6.85622605722448 \\cdot 10^{-7} a_{51} + 1.13850594600736 \\cdot 10^{-6} a_{52} - 6.84037493038863 \\cdot 10^{-6} a_{53} - 1.55098461066897 \\cdot 10^{-6} a_{54} - c_{32} \\left(- a_{21} \\left(- 4.94610473140624 \\cdot 10^{-5} a_{51} + 9.91463649856825 \\cdot 10^{-6} a_{52} + 3.22217333665302 \\cdot 10^{-7} a_{53} - 3.63405272057145 \\cdot 10^{-6} a_{54} + 5.25106497821969 \\cdot 10^{-6}\\right) + 9.91463649856825 \\cdot 10^{-6} a_{51} - 5.23024199472418 \\cdot 10^{-6} a_{52} + 1.38265692914876 \\cdot 10^{-6} a_{53} + 2.44150983141403 \\cdot 10^{-6} a_{54} - 4.31865662111839 \\cdot 10^{-6}\\right) + 1.41382344778243 \\cdot 10^{-6} & - a_{42} \\left(9.91463649856825 \\cdot 10^{-6} a_{51} - 5.23024199472418 \\cdot 10^{-6} a_{52} + 1.38265692914876 \\cdot 10^{-6} a_{53} + 2.44150983141403 \\cdot 10^{-6} a_{54} - 4.31865662111839 \\cdot 10^{-6}\\right) - a_{43} \\left(3.22217333665302 \\cdot 10^{-7} a_{51} + 1.38265692914876 \\cdot 10^{-6} a_{52} - 7.07324657136005 \\cdot 10^{-6} a_{53} - 2.32871640971423 \\cdot 10^{-6} a_{54} + 1.61699220833329 \\cdot 10^{-6}\\right) - 3.63405272057145 \\cdot 10^{-6} a_{51} + 2.44150983141403 \\cdot 10^{-6} a_{52} - 2.32871640971423 \\cdot 10^{-6} a_{53} - 7.77731799045262 \\cdot 10^{-6} a_{54} - c_{42} \\left(- a_{21} \\left(- 4.94610473140624 \\cdot 10^{-5} a_{51} + 9.91463649856825 \\cdot 10^{-6} a_{52} + 3.22217333665302 \\cdot 10^{-7} a_{53} - 3.63405272057145 \\cdot 10^{-6} a_{54} + 5.25106497821969 \\cdot 10^{-6}\\right) + 9.91463649856825 \\cdot 10^{-6} a_{51} - 5.23024199472418 \\cdot 10^{-6} a_{52} + 1.38265692914876 \\cdot 10^{-6} a_{53} + 2.44150983141403 \\cdot 10^{-6} a_{54} - 4.31865662111839 \\cdot 10^{-6}\\right) + 2.03168760550855 \\cdot 10^{-6} & - a_{51} \\left(- 4.94610473140624 \\cdot 10^{-5} a_{51} + 9.91463649856825 \\cdot 10^{-6} a_{52} + 3.22217333665302 \\cdot 10^{-7} a_{53} - 3.63405272057145 \\cdot 10^{-6} a_{54} + 5.25106497821969 \\cdot 10^{-6}\\right) - 5.25106497821969 \\cdot 10^{-6} a_{51} - a_{52} \\left(9.91463649856825 \\cdot 10^{-6} a_{51} - 5.23024199472418 \\cdot 10^{-6} a_{52} + 1.38265692914876 \\cdot 10^{-6} a_{53} + 2.44150983141403 \\cdot 10^{-6} a_{54} - 4.31865662111839 \\cdot 10^{-6}\\right) + 4.31865662111839 \\cdot 10^{-6} a_{52} - a_{53} \\left(3.22217333665302 \\cdot 10^{-7} a_{51} + 1.38265692914876 \\cdot 10^{-6} a_{52} - 7.07324657136005 \\cdot 10^{-6} a_{53} - 2.32871640971423 \\cdot 10^{-6} a_{54} + 1.61699220833329 \\cdot 10^{-6}\\right) - 1.61699220833329 \\cdot 10^{-6} a_{53} - a_{54} \\left(- 3.63405272057145 \\cdot 10^{-6} a_{51} + 2.44150983141403 \\cdot 10^{-6} a_{52} - 2.32871640971423 \\cdot 10^{-6} a_{53} - 7.77731799045262 \\cdot 10^{-6} a_{54} + 2.03168760550855 \\cdot 10^{-6}\\right) - 2.03168760550855 \\cdot 10^{-6} a_{54} + 4.11165308464853 \\cdot 10^{-5}\\end{matrix}\\right]$"
      ],
      "text/plain": [
       "Matrix([\n",
       "[                                                                                                                                                                            a_21*(4.94610473140624e-5*a_21 + 5.93756838126307e-5) + 5.93756838126307e-5*a_21 + 7.45205623059231e-5,                                                                                                                                                                             -a_21*(4.94610473140624e-5*a_21 + 5.93756838126307e-5) - 9.91463649856825e-6*a_21 - 1.51448784932924e-5,                                                                                                                                                                                                                                                                                                                                                         -6.85622605722448e-7*a_21 - a_31*(4.94610473140624e-5*a_21 + 5.93756838126307e-5) - c_32*(-a_21*(4.94610473140624e-5*a_21 + 5.93756838126307e-5) - 9.91463649856825e-6*a_21 - 1.51448784932924e-5) + 4.52883340284911e-7,                                                                                                                                                                                                                                                                                                                                                                                                                                                3.63405272057145e-6*a_21 - a_42*(-9.91463649856825e-6*a_21 - 1.51448784932924e-5) - a_43*(1.06043959548346e-6 - 3.22217333665302e-7*a_21) - c_42*(-a_21*(4.94610473140624e-5*a_21 + 5.93756838126307e-5) - 9.91463649856825e-6*a_21 - 1.51448784932924e-5) + 6.07556255198548e-6,                                                                                                                                                                                                                                                                                                                                                                                                                                                5.25106497821969e-6*a_21 - a_51*(4.94610473140624e-5*a_21 + 5.93756838126307e-5) - a_52*(-9.91463649856825e-6*a_21 - 1.51448784932924e-5) - a_53*(1.06043959548346e-6 - 3.22217333665302e-7*a_21) - a_54*(3.63405272057145e-6*a_21 + 6.07556255198548e-6) + 9.56972159933808e-6],\n",
       "[                                                                                                                                                                           a_21*(-4.94610473140624e-5*a_21 - 9.91463649856825e-6) - 5.93756838126307e-5*a_21 - 1.51448784932924e-5,                                                                                                                                                                            -a_21*(-4.94610473140624e-5*a_21 - 9.91463649856825e-6) + 9.91463649856825e-6*a_21 + 5.23024199472418e-6,                                                                                                                                                                                                                                                                                                                                                        6.85622605722448e-7*a_21 - a_31*(-4.94610473140624e-5*a_21 - 9.91463649856825e-6) - c_32*(-a_21*(-4.94610473140624e-5*a_21 - 9.91463649856825e-6) + 9.91463649856825e-6*a_21 + 5.23024199472418e-6) - 1.13850594600736e-6,                                                                                                                                                                                                                                                                                                                                                                                                                                               -3.63405272057145e-6*a_21 - a_42*(9.91463649856825e-6*a_21 + 5.23024199472418e-6) - a_43*(3.22217333665302e-7*a_21 - 1.38265692914876e-6) - c_42*(-a_21*(-4.94610473140624e-5*a_21 - 9.91463649856825e-6) + 9.91463649856825e-6*a_21 + 5.23024199472418e-6) - 2.44150983141403e-6,                                                                                                                                                                                                                                                                                                                                                                                                                                              -5.25106497821969e-6*a_21 - a_51*(-4.94610473140624e-5*a_21 - 9.91463649856825e-6) - a_52*(9.91463649856825e-6*a_21 + 5.23024199472418e-6) - a_53*(3.22217333665302e-7*a_21 - 1.38265692914876e-6) - a_54*(-3.63405272057145e-6*a_21 - 2.44150983141403e-6) - 4.31865662111839e-6],\n",
       "[                                                      5.93756838126307e-5*a_21*c_32 + a_21*(4.94610473140624e-5*a_21*c_32 - 4.94610473140624e-5*a_31 + 9.91463649856825e-6*c_32 - 6.85622605722448e-7) - 5.93756838126307e-5*a_31 + 1.51448784932924e-5*c_32 + 4.52883340284911e-7,                                                       -9.91463649856825e-6*a_21*c_32 - a_21*(4.94610473140624e-5*a_21*c_32 - 4.94610473140624e-5*a_31 + 9.91463649856825e-6*c_32 - 6.85622605722448e-7) + 9.91463649856825e-6*a_31 - 5.23024199472418e-6*c_32 - 1.13850594600736e-6,                                                                                                             -6.85622605722448e-7*a_21*c_32 - a_31*(4.94610473140624e-5*a_21*c_32 - 4.94610473140624e-5*a_31 + 9.91463649856825e-6*c_32 - 6.85622605722448e-7) + 6.85622605722448e-7*a_31 - c_32*(-9.91463649856825e-6*a_21*c_32 - a_21*(4.94610473140624e-5*a_21*c_32 - 4.94610473140624e-5*a_31 + 9.91463649856825e-6*c_32 - 6.85622605722448e-7) + 9.91463649856825e-6*a_31 - 5.23024199472418e-6*c_32 - 1.13850594600736e-6) + 1.13850594600736e-6*c_32 + 6.68527646932173e-6,                                                                                                                                        3.63405272057145e-6*a_21*c_32 - 3.63405272057145e-6*a_31 - a_42*(-9.91463649856825e-6*a_21*c_32 + 9.91463649856825e-6*a_31 - 5.23024199472418e-6*c_32 - 1.13850594600736e-6) - a_43*(-3.22217333665302e-7*a_21*c_32 + 3.22217333665302e-7*a_31 + 1.38265692914876e-6*c_32 + 6.84037493038863e-6) + 2.44150983141403e-6*c_32 - c_42*(-9.91463649856825e-6*a_21*c_32 - a_21*(4.94610473140624e-5*a_21*c_32 - 4.94610473140624e-5*a_31 + 9.91463649856825e-6*c_32 - 6.85622605722448e-7) + 9.91463649856825e-6*a_31 - 5.23024199472418e-6*c_32 - 1.13850594600736e-6) + 1.55098461066897e-6,                                                                                                                                        5.25106497821969e-6*a_21*c_32 - 5.25106497821969e-6*a_31 - a_51*(4.94610473140624e-5*a_21*c_32 - 4.94610473140624e-5*a_31 + 9.91463649856825e-6*c_32 - 6.85622605722448e-7) - a_52*(-9.91463649856825e-6*a_21*c_32 + 9.91463649856825e-6*a_31 - 5.23024199472418e-6*c_32 - 1.13850594600736e-6) - a_53*(-3.22217333665302e-7*a_21*c_32 + 3.22217333665302e-7*a_31 + 1.38265692914876e-6*c_32 + 6.84037493038863e-6) - a_54*(3.63405272057145e-6*a_21*c_32 - 3.63405272057145e-6*a_31 + 2.44150983141403e-6*c_32 + 1.55098461066897e-6) + 4.31865662111839e-6*c_32 + 1.41382344778243e-6],\n",
       "[5.93756838126307e-5*a_21*c_42 + a_21*(4.94610473140624e-5*a_21*c_42 + 9.91463649856825e-6*a_42 + 3.22217333665302e-7*a_43 + 9.91463649856825e-6*c_42 + 3.63405272057145e-6) + 1.51448784932924e-5*a_42 - 1.06043959548346e-6*a_43 + 1.51448784932924e-5*c_42 + 6.07556255198548e-6, -9.91463649856825e-6*a_21*c_42 - a_21*(4.94610473140624e-5*a_21*c_42 + 9.91463649856825e-6*a_42 + 3.22217333665302e-7*a_43 + 9.91463649856825e-6*c_42 + 3.63405272057145e-6) - 5.23024199472418e-6*a_42 + 1.38265692914876e-6*a_43 - 5.23024199472418e-6*c_42 - 2.44150983141403e-6, -6.85622605722448e-7*a_21*c_42 - a_31*(4.94610473140624e-5*a_21*c_42 + 9.91463649856825e-6*a_42 + 3.22217333665302e-7*a_43 + 9.91463649856825e-6*c_42 + 3.63405272057145e-6) + 1.13850594600736e-6*a_42 - 6.84037493038863e-6*a_43 - c_32*(-9.91463649856825e-6*a_21*c_42 - a_21*(4.94610473140624e-5*a_21*c_42 + 9.91463649856825e-6*a_42 + 3.22217333665302e-7*a_43 + 9.91463649856825e-6*c_42 + 3.63405272057145e-6) - 5.23024199472418e-6*a_42 + 1.38265692914876e-6*a_43 - 5.23024199472418e-6*c_42 - 2.44150983141403e-6) + 1.13850594600736e-6*c_42 + 1.55098461066897e-6, 3.63405272057145e-6*a_21*c_42 - a_42*(-9.91463649856825e-6*a_21*c_42 - 5.23024199472418e-6*a_42 + 1.38265692914876e-6*a_43 - 5.23024199472418e-6*c_42 - 2.44150983141403e-6) + 2.44150983141403e-6*a_42 - a_43*(-3.22217333665302e-7*a_21*c_42 + 1.38265692914876e-6*a_42 - 7.07324657136005e-6*a_43 + 1.38265692914876e-6*c_42 + 2.32871640971423e-6) - 2.32871640971423e-6*a_43 - c_42*(-9.91463649856825e-6*a_21*c_42 - a_21*(4.94610473140624e-5*a_21*c_42 + 9.91463649856825e-6*a_42 + 3.22217333665302e-7*a_43 + 9.91463649856825e-6*c_42 + 3.63405272057145e-6) - 5.23024199472418e-6*a_42 + 1.38265692914876e-6*a_43 - 5.23024199472418e-6*c_42 - 2.44150983141403e-6) + 2.44150983141403e-6*c_42 + 7.77731799045262e-6, 5.25106497821969e-6*a_21*c_42 + 4.31865662111839e-6*a_42 - 1.61699220833329e-6*a_43 - a_51*(4.94610473140624e-5*a_21*c_42 + 9.91463649856825e-6*a_42 + 3.22217333665302e-7*a_43 + 9.91463649856825e-6*c_42 + 3.63405272057145e-6) - a_52*(-9.91463649856825e-6*a_21*c_42 - 5.23024199472418e-6*a_42 + 1.38265692914876e-6*a_43 - 5.23024199472418e-6*c_42 - 2.44150983141403e-6) - a_53*(-3.22217333665302e-7*a_21*c_42 + 1.38265692914876e-6*a_42 - 7.07324657136005e-6*a_43 + 1.38265692914876e-6*c_42 + 2.32871640971423e-6) - a_54*(3.63405272057145e-6*a_21*c_42 + 2.44150983141403e-6*a_42 - 2.32871640971423e-6*a_43 + 2.44150983141403e-6*c_42 + 7.77731799045262e-6) + 4.31865662111839e-6*c_42 + 2.03168760550855e-6],\n",
       "[         a_21*(-4.94610473140624e-5*a_51 + 9.91463649856825e-6*a_52 + 3.22217333665302e-7*a_53 - 3.63405272057145e-6*a_54 + 5.25106497821969e-6) - 5.93756838126307e-5*a_51 + 1.51448784932924e-5*a_52 - 1.06043959548346e-6*a_53 - 6.07556255198548e-6*a_54 + 9.56972159933808e-6,          -a_21*(-4.94610473140624e-5*a_51 + 9.91463649856825e-6*a_52 + 3.22217333665302e-7*a_53 - 3.63405272057145e-6*a_54 + 5.25106497821969e-6) + 9.91463649856825e-6*a_51 - 5.23024199472418e-6*a_52 + 1.38265692914876e-6*a_53 + 2.44150983141403e-6*a_54 - 4.31865662111839e-6,                   -a_31*(-4.94610473140624e-5*a_51 + 9.91463649856825e-6*a_52 + 3.22217333665302e-7*a_53 - 3.63405272057145e-6*a_54 + 5.25106497821969e-6) + 6.85622605722448e-7*a_51 + 1.13850594600736e-6*a_52 - 6.84037493038863e-6*a_53 - 1.55098461066897e-6*a_54 - c_32*(-a_21*(-4.94610473140624e-5*a_51 + 9.91463649856825e-6*a_52 + 3.22217333665302e-7*a_53 - 3.63405272057145e-6*a_54 + 5.25106497821969e-6) + 9.91463649856825e-6*a_51 - 5.23024199472418e-6*a_52 + 1.38265692914876e-6*a_53 + 2.44150983141403e-6*a_54 - 4.31865662111839e-6) + 1.41382344778243e-6,                          -a_42*(9.91463649856825e-6*a_51 - 5.23024199472418e-6*a_52 + 1.38265692914876e-6*a_53 + 2.44150983141403e-6*a_54 - 4.31865662111839e-6) - a_43*(3.22217333665302e-7*a_51 + 1.38265692914876e-6*a_52 - 7.07324657136005e-6*a_53 - 2.32871640971423e-6*a_54 + 1.61699220833329e-6) - 3.63405272057145e-6*a_51 + 2.44150983141403e-6*a_52 - 2.32871640971423e-6*a_53 - 7.77731799045262e-6*a_54 - c_42*(-a_21*(-4.94610473140624e-5*a_51 + 9.91463649856825e-6*a_52 + 3.22217333665302e-7*a_53 - 3.63405272057145e-6*a_54 + 5.25106497821969e-6) + 9.91463649856825e-6*a_51 - 5.23024199472418e-6*a_52 + 1.38265692914876e-6*a_53 + 2.44150983141403e-6*a_54 - 4.31865662111839e-6) + 2.03168760550855e-6,                         -a_51*(-4.94610473140624e-5*a_51 + 9.91463649856825e-6*a_52 + 3.22217333665302e-7*a_53 - 3.63405272057145e-6*a_54 + 5.25106497821969e-6) - 5.25106497821969e-6*a_51 - a_52*(9.91463649856825e-6*a_51 - 5.23024199472418e-6*a_52 + 1.38265692914876e-6*a_53 + 2.44150983141403e-6*a_54 - 4.31865662111839e-6) + 4.31865662111839e-6*a_52 - a_53*(3.22217333665302e-7*a_51 + 1.38265692914876e-6*a_52 - 7.07324657136005e-6*a_53 - 2.32871640971423e-6*a_54 + 1.61699220833329e-6) - 1.61699220833329e-6*a_53 - a_54*(-3.63405272057145e-6*a_51 + 2.44150983141403e-6*a_52 - 2.32871640971423e-6*a_53 - 7.77731799045262e-6*a_54 + 2.03168760550855e-6) - 2.03168760550855e-6*a_54 + 4.11165308464853e-5]])"
      ]
     },
     "execution_count": 43,
     "metadata": {},
     "output_type": "execute_result"
    }
   ],
   "source": [
    "Omega_u = C.inv()*A*Omega_e*(A.transpose())*(C.inv().transpose())\n",
    "Omega_u"
   ]
  },
  {
   "cell_type": "code",
   "execution_count": 44,
   "id": "bMWES-NpnQg-",
   "metadata": {
    "id": "bMWES-NpnQg-"
   },
   "outputs": [],
   "source": [
    "initial_list = np.repeat(0.1, 10)\n",
    "eq_list = []\n",
    "for i in range(n):\n",
    "    for j in range(n):\n",
    "        if i < j :\n",
    "            eq_list.append(Omega_u[i, j])"
   ]
  },
  {
   "cell_type": "code",
   "execution_count": 45,
   "id": "liwkmLoWnQg_",
   "metadata": {
    "id": "liwkmLoWnQg_"
   },
   "outputs": [],
   "source": [
    "sol = sympy.nsolve( (eq_list) , (a21, a31, a42, a43, a51, a52, a53, a54, c32, c42), initial_list, verify=True)"
   ]
  },
  {
   "cell_type": "code",
   "execution_count": 46,
   "id": "7A7QIm8vnQg_",
   "metadata": {
    "id": "7A7QIm8vnQg_",
    "outputId": "7ffb982a-bb97-4cc3-d044-751340338ea2"
   },
   "outputs": [
    {
     "data": {
      "text/latex": [
       "$\\displaystyle \\left[\\begin{matrix}-0.270992243093117\\\\0.0138928049727356\\\\-0.394997479561589\\\\0.147983055169984\\\\-0.0930112435626623\\\\-1.00228521888083\\\\0.0351913914436807\\\\-0.0204883763899733\\\\-0.393466703216553\\\\-0.067218725487447\\end{matrix}\\right]$"
      ],
      "text/plain": [
       "Matrix([\n",
       "[ -0.270992243093117],\n",
       "[ 0.0138928049727356],\n",
       "[ -0.394997479561589],\n",
       "[  0.147983055169984],\n",
       "[-0.0930112435626623],\n",
       "[  -1.00228521888083],\n",
       "[ 0.0351913914436807],\n",
       "[-0.0204883763899733],\n",
       "[ -0.393466703216553],\n",
       "[ -0.067218725487447]])"
      ]
     },
     "execution_count": 46,
     "metadata": {},
     "output_type": "execute_result"
    }
   ],
   "source": [
    "sol"
   ]
  },
  {
   "cell_type": "code",
   "execution_count": 47,
   "id": "pYKiWOmunQhA",
   "metadata": {
    "id": "pYKiWOmunQhA"
   },
   "outputs": [],
   "source": [
    "sA = A.subs([(a21, sol[0]), (a31, sol[1]), (a42, sol[2]), (a43, sol[3]), (a51, sol[4]), (a52, sol[5]), (a53, sol[6]), (a54, sol[7])])\n",
    "sC = C.subs([(c32, sol[8]), (c42, sol[9])])"
   ]
  },
  {
   "cell_type": "code",
   "execution_count": 48,
   "id": "5R_ZgeNgnQhA",
   "metadata": {
    "id": "5R_ZgeNgnQhA"
   },
   "outputs": [],
   "source": [
    "sOmega_u = sympy.Matrix(np.zeros([n,n]))\n",
    "for i in range(n):\n",
    "    w_i = Omega_u[i,i].subs([(a21, sol[0]), (a31, sol[1]), (a42, sol[2]), (a43, sol[3]), (a51, sol[4]), (a52, sol[5]), (a53, sol[6]), (a54, sol[7]), (c32, sol[8]), (c42, sol[9])])\n",
    "    sOmega_u[i,i] = w_i"
   ]
  },
  {
   "cell_type": "code",
   "execution_count": 49,
   "id": "hYhdgr9dnQhA",
   "metadata": {
    "id": "hYhdgr9dnQhA",
    "outputId": "8a58ae2d-2611-438e-adcf-bb98474b7350"
   },
   "outputs": [
    {
     "data": {
      "text/latex": [
       "$\\displaystyle \\left[\\begin{matrix}1 & 0 & 0 & 0 & 0\\\\0.270992243093117 & 1 & 0 & 0 & 0\\\\-0.0138928049727356 & 0 & 1 & -0.1 & 0\\\\0 & 0.394997479561589 & -0.147983055169984 & 1 & 0\\\\0.0930112435626623 & 1.00228521888083 & -0.0351913914436807 & 0.0204883763899733 & 1\\end{matrix}\\right]$"
      ],
      "text/plain": [
       "Matrix([\n",
       "[                  1,                 0,                   0,                  0, 0],\n",
       "[  0.270992243093117,                 1,                   0,                  0, 0],\n",
       "[-0.0138928049727356,                 0,                   1,               -0.1, 0],\n",
       "[                  0, 0.394997479561589,  -0.147983055169984,                  1, 0],\n",
       "[ 0.0930112435626623,  1.00228521888083, -0.0351913914436807, 0.0204883763899733, 1]])"
      ]
     },
     "execution_count": 49,
     "metadata": {},
     "output_type": "execute_result"
    }
   ],
   "source": [
    "sA"
   ]
  },
  {
   "cell_type": "code",
   "execution_count": 50,
   "id": "fIteFFtmnQhB",
   "metadata": {
    "id": "fIteFFtmnQhB",
    "outputId": "43e57f9b-051f-4ee8-a44b-acd215d4a87b"
   },
   "outputs": [
    {
     "data": {
      "text/latex": [
       "$\\displaystyle \\left[\\begin{matrix}1 & 1 & 0 & 0 & 0\\\\0 & 1 & 0 & 0 & 0\\\\0 & -0.393466703216553 & 1 & 0 & 0\\\\0 & -0.067218725487447 & 0 & 1 & 0\\\\0 & 0 & 0 & 0 & 1\\end{matrix}\\right]$"
      ],
      "text/plain": [
       "Matrix([\n",
       "[1,                  1, 0, 0, 0],\n",
       "[0,                  1, 0, 0, 0],\n",
       "[0, -0.393466703216553, 1, 0, 0],\n",
       "[0, -0.067218725487447, 0, 1, 0],\n",
       "[0,                  0, 0, 0, 1]])"
      ]
     },
     "execution_count": 50,
     "metadata": {},
     "output_type": "execute_result"
    }
   ],
   "source": [
    "sC"
   ]
  },
  {
   "cell_type": "code",
   "execution_count": 51,
   "id": "j8qzJGp2nQhB",
   "metadata": {
    "id": "j8qzJGp2nQhB",
    "outputId": "a7790da9-d861-4a28-e077-d3db037bd98a"
   },
   "outputs": [
    {
     "data": {
      "text/latex": [
       "$\\displaystyle \\left[\\begin{matrix}4.59721236552581 \\cdot 10^{-5} & 0 & 0 & 0 & 0\\\\0 & 3.48892365880431 \\cdot 10^{-6} & 0 & 0 & 0\\\\0 & 0 & 6.17373202230426 \\cdot 10^{-6} & 0 & 0\\\\0 & 0 & 0 & 6.27612790915301 \\cdot 10^{-6} & 0\\\\0 & 0 & 0 & 0 & 3.72611350079727 \\cdot 10^{-5}\\end{matrix}\\right]$"
      ],
      "text/plain": [
       "Matrix([\n",
       "[4.59721236552581e-5,                   0,                   0,                   0,                   0],\n",
       "[                  0, 3.48892365880431e-6,                   0,                   0,                   0],\n",
       "[                  0,                   0, 6.17373202230426e-6,                   0,                   0],\n",
       "[                  0,                   0,                   0, 6.27612790915301e-6,                   0],\n",
       "[                  0,                   0,                   0,                   0, 3.72611350079727e-5]])"
      ]
     },
     "execution_count": 51,
     "metadata": {},
     "output_type": "execute_result"
    }
   ],
   "source": [
    "sOmega_u"
   ]
  },
  {
   "cell_type": "code",
   "execution_count": 52,
   "id": "FKhCxvpqnQhC",
   "metadata": {
    "id": "FKhCxvpqnQhC",
    "outputId": "2463b2c3-475d-44e5-fea0-f9805353888f"
   },
   "outputs": [
    {
     "data": {
      "text/plain": [
       "array([[0.00678027, 0.        , 0.        , 0.        , 0.        ],\n",
       "       [0.        , 0.00186787, 0.        , 0.        , 0.        ],\n",
       "       [0.        , 0.        , 0.0024847 , 0.        , 0.        ],\n",
       "       [0.        , 0.        , 0.        , 0.00250522, 0.        ],\n",
       "       [0.        , 0.        , 0.        , 0.        , 0.00610419]])"
      ]
     },
     "execution_count": 52,
     "metadata": {},
     "output_type": "execute_result"
    }
   ],
   "source": [
    "shock = np.array(sOmega_u).astype(np.float64)\n",
    "shock_std = np.sqrt(shock)\n",
    "shock_std"
   ]
  },
  {
   "cell_type": "markdown",
   "id": "25b5156b",
   "metadata": {
    "id": "25b5156b"
   },
   "source": [
    "#### (3) $c=2, a_{34}=0.1$"
   ]
  },
  {
   "cell_type": "code",
   "execution_count": 53,
   "id": "9f722509",
   "metadata": {
    "id": "9f722509"
   },
   "outputs": [],
   "source": [
    "A, C = matrix_maker(2,0.1)\n",
    "Omega_u = sympy.Matrix(np.diag([globals()[f'w{i}'] for i in range(1, n+1)]))"
   ]
  },
  {
   "cell_type": "code",
   "execution_count": 54,
   "id": "3b69e063",
   "metadata": {
    "id": "3b69e063",
    "outputId": "7b4681a8-a728-43bb-8d0c-312a92a3558d"
   },
   "outputs": [
    {
     "data": {
      "text/latex": [
       "$\\displaystyle \\left[\\begin{matrix}1 & 0 & 0 & 0 & 0\\\\- a_{21} & 1 & 0 & 0 & 0\\\\- a_{31} & 0 & 1 & -0.1 & 0\\\\0 & - a_{42} & - a_{43} & 1 & 0\\\\- a_{51} & - a_{52} & - a_{53} & - a_{54} & 1\\end{matrix}\\right]$"
      ],
      "text/plain": [
       "Matrix([\n",
       "[    1,     0,     0,     0, 0],\n",
       "[-a_21,     1,     0,     0, 0],\n",
       "[-a_31,     0,     1,  -0.1, 0],\n",
       "[    0, -a_42, -a_43,     1, 0],\n",
       "[-a_51, -a_52, -a_53, -a_54, 1]])"
      ]
     },
     "execution_count": 54,
     "metadata": {},
     "output_type": "execute_result"
    }
   ],
   "source": [
    "A"
   ]
  },
  {
   "cell_type": "code",
   "execution_count": 55,
   "id": "e4efc45a",
   "metadata": {
    "id": "e4efc45a",
    "outputId": "4b2dc81e-cf4b-44f2-de57-6811ffc18ffb"
   },
   "outputs": [
    {
     "data": {
      "text/latex": [
       "$\\displaystyle \\left[\\begin{matrix}1 & 2 & 0 & 0 & 0\\\\0 & 1 & 0 & 0 & 0\\\\0 & c_{32} & 1 & 0 & 0\\\\0 & c_{42} & 0 & 1 & 0\\\\0 & 0 & 0 & 0 & 1\\end{matrix}\\right]$"
      ],
      "text/plain": [
       "Matrix([\n",
       "[1,    2, 0, 0, 0],\n",
       "[0,    1, 0, 0, 0],\n",
       "[0, c_32, 1, 0, 0],\n",
       "[0, c_42, 0, 1, 0],\n",
       "[0,    0, 0, 0, 1]])"
      ]
     },
     "execution_count": 55,
     "metadata": {},
     "output_type": "execute_result"
    }
   ],
   "source": [
    "C"
   ]
  },
  {
   "cell_type": "code",
   "execution_count": 56,
   "id": "OObEZgZ0nQhE",
   "metadata": {
    "id": "OObEZgZ0nQhE",
    "outputId": "6e900d83-81d3-4210-998f-0bd41afa0ca5",
    "scrolled": true
   },
   "outputs": [
    {
     "data": {
      "text/latex": [
       "$\\displaystyle \\left[\\begin{matrix}2 a_{21} \\left(9.89220946281248 \\cdot 10^{-5} a_{21} + 6.92903203111989 \\cdot 10^{-5}\\right) + 0.000138580640622398 a_{21} + 0.000110040561287232 & - a_{21} \\left(9.89220946281248 \\cdot 10^{-5} a_{21} + 6.92903203111989 \\cdot 10^{-5}\\right) - 1.98292729971365 \\cdot 10^{-5} a_{21} - 2.03751204880166 \\cdot 10^{-5} & - 1.3712452114449 \\cdot 10^{-6} a_{21} - a_{31} \\left(9.89220946281248 \\cdot 10^{-5} a_{21} + 6.92903203111989 \\cdot 10^{-5}\\right) - c_{32} \\left(- a_{21} \\left(9.89220946281248 \\cdot 10^{-5} a_{21} + 6.92903203111989 \\cdot 10^{-5}\\right) - 1.98292729971365 \\cdot 10^{-5} a_{21} - 2.03751204880166 \\cdot 10^{-5}\\right) + 1.59138928629227 \\cdot 10^{-6} & 7.26810544114291 \\cdot 10^{-6} a_{21} - a_{42} \\left(- 1.98292729971365 \\cdot 10^{-5} a_{21} - 2.03751204880166 \\cdot 10^{-5}\\right) - a_{43} \\left(2.44309652463222 \\cdot 10^{-6} - 6.44434667330605 \\cdot 10^{-7} a_{21}\\right) - c_{42} \\left(- a_{21} \\left(9.89220946281248 \\cdot 10^{-5} a_{21} + 6.92903203111989 \\cdot 10^{-5}\\right) - 1.98292729971365 \\cdot 10^{-5} a_{21} - 2.03751204880166 \\cdot 10^{-5}\\right) + 8.51707238339951 \\cdot 10^{-6} & 1.05021299564394 \\cdot 10^{-5} a_{21} - a_{51} \\left(9.89220946281248 \\cdot 10^{-5} a_{21} + 6.92903203111989 \\cdot 10^{-5}\\right) - a_{52} \\left(- 1.98292729971365 \\cdot 10^{-5} a_{21} - 2.03751204880166 \\cdot 10^{-5}\\right) - a_{53} \\left(2.44309652463222 \\cdot 10^{-6} - 6.44434667330605 \\cdot 10^{-7} a_{21}\\right) - a_{54} \\left(7.26810544114291 \\cdot 10^{-6} a_{21} + 8.51707238339951 \\cdot 10^{-6}\\right) + 1.38883782204565 \\cdot 10^{-5}\\\\2 a_{21} \\left(- 4.94610473140624 \\cdot 10^{-5} a_{21} - 9.91463649856825 \\cdot 10^{-6}\\right) - 6.92903203111989 \\cdot 10^{-5} a_{21} - 2.03751204880166 \\cdot 10^{-5} & - a_{21} \\left(- 4.94610473140624 \\cdot 10^{-5} a_{21} - 9.91463649856825 \\cdot 10^{-6}\\right) + 9.91463649856825 \\cdot 10^{-6} a_{21} + 5.23024199472418 \\cdot 10^{-6} & 6.85622605722448 \\cdot 10^{-7} a_{21} - a_{31} \\left(- 4.94610473140624 \\cdot 10^{-5} a_{21} - 9.91463649856825 \\cdot 10^{-6}\\right) - c_{32} \\left(- a_{21} \\left(- 4.94610473140624 \\cdot 10^{-5} a_{21} - 9.91463649856825 \\cdot 10^{-6}\\right) + 9.91463649856825 \\cdot 10^{-6} a_{21} + 5.23024199472418 \\cdot 10^{-6}\\right) - 1.13850594600736 \\cdot 10^{-6} & - 3.63405272057145 \\cdot 10^{-6} a_{21} - a_{42} \\left(9.91463649856825 \\cdot 10^{-6} a_{21} + 5.23024199472418 \\cdot 10^{-6}\\right) - a_{43} \\left(3.22217333665302 \\cdot 10^{-7} a_{21} - 1.38265692914876 \\cdot 10^{-6}\\right) - c_{42} \\left(- a_{21} \\left(- 4.94610473140624 \\cdot 10^{-5} a_{21} - 9.91463649856825 \\cdot 10^{-6}\\right) + 9.91463649856825 \\cdot 10^{-6} a_{21} + 5.23024199472418 \\cdot 10^{-6}\\right) - 2.44150983141403 \\cdot 10^{-6} & - 5.25106497821969 \\cdot 10^{-6} a_{21} - a_{51} \\left(- 4.94610473140624 \\cdot 10^{-5} a_{21} - 9.91463649856825 \\cdot 10^{-6}\\right) - a_{52} \\left(9.91463649856825 \\cdot 10^{-6} a_{21} + 5.23024199472418 \\cdot 10^{-6}\\right) - a_{53} \\left(3.22217333665302 \\cdot 10^{-7} a_{21} - 1.38265692914876 \\cdot 10^{-6}\\right) - a_{54} \\left(- 3.63405272057145 \\cdot 10^{-6} a_{21} - 2.44150983141403 \\cdot 10^{-6}\\right) - 4.31865662111839 \\cdot 10^{-6}\\\\6.92903203111989 \\cdot 10^{-5} a_{21} c_{32} + 2 a_{21} \\left(4.94610473140624 \\cdot 10^{-5} a_{21} c_{32} - 4.94610473140624 \\cdot 10^{-5} a_{31} + 9.91463649856825 \\cdot 10^{-6} c_{32} - 6.85622605722448 \\cdot 10^{-7}\\right) - 6.92903203111989 \\cdot 10^{-5} a_{31} + 2.03751204880166 \\cdot 10^{-5} c_{32} + 1.59138928629227 \\cdot 10^{-6} & - 9.91463649856825 \\cdot 10^{-6} a_{21} c_{32} - a_{21} \\left(4.94610473140624 \\cdot 10^{-5} a_{21} c_{32} - 4.94610473140624 \\cdot 10^{-5} a_{31} + 9.91463649856825 \\cdot 10^{-6} c_{32} - 6.85622605722448 \\cdot 10^{-7}\\right) + 9.91463649856825 \\cdot 10^{-6} a_{31} - 5.23024199472418 \\cdot 10^{-6} c_{32} - 1.13850594600736 \\cdot 10^{-6} & - 6.85622605722448 \\cdot 10^{-7} a_{21} c_{32} - a_{31} \\left(4.94610473140624 \\cdot 10^{-5} a_{21} c_{32} - 4.94610473140624 \\cdot 10^{-5} a_{31} + 9.91463649856825 \\cdot 10^{-6} c_{32} - 6.85622605722448 \\cdot 10^{-7}\\right) + 6.85622605722448 \\cdot 10^{-7} a_{31} - c_{32} \\left(- 9.91463649856825 \\cdot 10^{-6} a_{21} c_{32} - a_{21} \\left(4.94610473140624 \\cdot 10^{-5} a_{21} c_{32} - 4.94610473140624 \\cdot 10^{-5} a_{31} + 9.91463649856825 \\cdot 10^{-6} c_{32} - 6.85622605722448 \\cdot 10^{-7}\\right) + 9.91463649856825 \\cdot 10^{-6} a_{31} - 5.23024199472418 \\cdot 10^{-6} c_{32} - 1.13850594600736 \\cdot 10^{-6}\\right) + 1.13850594600736 \\cdot 10^{-6} c_{32} + 6.68527646932173 \\cdot 10^{-6} & 3.63405272057145 \\cdot 10^{-6} a_{21} c_{32} - 3.63405272057145 \\cdot 10^{-6} a_{31} - a_{42} \\left(- 9.91463649856825 \\cdot 10^{-6} a_{21} c_{32} + 9.91463649856825 \\cdot 10^{-6} a_{31} - 5.23024199472418 \\cdot 10^{-6} c_{32} - 1.13850594600736 \\cdot 10^{-6}\\right) - a_{43} \\left(- 3.22217333665302 \\cdot 10^{-7} a_{21} c_{32} + 3.22217333665302 \\cdot 10^{-7} a_{31} + 1.38265692914876 \\cdot 10^{-6} c_{32} + 6.84037493038863 \\cdot 10^{-6}\\right) + 2.44150983141403 \\cdot 10^{-6} c_{32} - c_{42} \\left(- 9.91463649856825 \\cdot 10^{-6} a_{21} c_{32} - a_{21} \\left(4.94610473140624 \\cdot 10^{-5} a_{21} c_{32} - 4.94610473140624 \\cdot 10^{-5} a_{31} + 9.91463649856825 \\cdot 10^{-6} c_{32} - 6.85622605722448 \\cdot 10^{-7}\\right) + 9.91463649856825 \\cdot 10^{-6} a_{31} - 5.23024199472418 \\cdot 10^{-6} c_{32} - 1.13850594600736 \\cdot 10^{-6}\\right) + 1.55098461066897 \\cdot 10^{-6} & 5.25106497821969 \\cdot 10^{-6} a_{21} c_{32} - 5.25106497821969 \\cdot 10^{-6} a_{31} - a_{51} \\left(4.94610473140624 \\cdot 10^{-5} a_{21} c_{32} - 4.94610473140624 \\cdot 10^{-5} a_{31} + 9.91463649856825 \\cdot 10^{-6} c_{32} - 6.85622605722448 \\cdot 10^{-7}\\right) - a_{52} \\left(- 9.91463649856825 \\cdot 10^{-6} a_{21} c_{32} + 9.91463649856825 \\cdot 10^{-6} a_{31} - 5.23024199472418 \\cdot 10^{-6} c_{32} - 1.13850594600736 \\cdot 10^{-6}\\right) - a_{53} \\left(- 3.22217333665302 \\cdot 10^{-7} a_{21} c_{32} + 3.22217333665302 \\cdot 10^{-7} a_{31} + 1.38265692914876 \\cdot 10^{-6} c_{32} + 6.84037493038863 \\cdot 10^{-6}\\right) - a_{54} \\left(3.63405272057145 \\cdot 10^{-6} a_{21} c_{32} - 3.63405272057145 \\cdot 10^{-6} a_{31} + 2.44150983141403 \\cdot 10^{-6} c_{32} + 1.55098461066897 \\cdot 10^{-6}\\right) + 4.31865662111839 \\cdot 10^{-6} c_{32} + 1.41382344778243 \\cdot 10^{-6}\\\\6.92903203111989 \\cdot 10^{-5} a_{21} c_{42} + 2 a_{21} \\left(4.94610473140624 \\cdot 10^{-5} a_{21} c_{42} + 9.91463649856825 \\cdot 10^{-6} a_{42} + 3.22217333665302 \\cdot 10^{-7} a_{43} + 9.91463649856825 \\cdot 10^{-6} c_{42} + 3.63405272057145 \\cdot 10^{-6}\\right) + 2.03751204880166 \\cdot 10^{-5} a_{42} - 2.44309652463222 \\cdot 10^{-6} a_{43} + 2.03751204880166 \\cdot 10^{-5} c_{42} + 8.51707238339951 \\cdot 10^{-6} & - 9.91463649856825 \\cdot 10^{-6} a_{21} c_{42} - a_{21} \\left(4.94610473140624 \\cdot 10^{-5} a_{21} c_{42} + 9.91463649856825 \\cdot 10^{-6} a_{42} + 3.22217333665302 \\cdot 10^{-7} a_{43} + 9.91463649856825 \\cdot 10^{-6} c_{42} + 3.63405272057145 \\cdot 10^{-6}\\right) - 5.23024199472418 \\cdot 10^{-6} a_{42} + 1.38265692914876 \\cdot 10^{-6} a_{43} - 5.23024199472418 \\cdot 10^{-6} c_{42} - 2.44150983141403 \\cdot 10^{-6} & - 6.85622605722448 \\cdot 10^{-7} a_{21} c_{42} - a_{31} \\left(4.94610473140624 \\cdot 10^{-5} a_{21} c_{42} + 9.91463649856825 \\cdot 10^{-6} a_{42} + 3.22217333665302 \\cdot 10^{-7} a_{43} + 9.91463649856825 \\cdot 10^{-6} c_{42} + 3.63405272057145 \\cdot 10^{-6}\\right) + 1.13850594600736 \\cdot 10^{-6} a_{42} - 6.84037493038863 \\cdot 10^{-6} a_{43} - c_{32} \\left(- 9.91463649856825 \\cdot 10^{-6} a_{21} c_{42} - a_{21} \\left(4.94610473140624 \\cdot 10^{-5} a_{21} c_{42} + 9.91463649856825 \\cdot 10^{-6} a_{42} + 3.22217333665302 \\cdot 10^{-7} a_{43} + 9.91463649856825 \\cdot 10^{-6} c_{42} + 3.63405272057145 \\cdot 10^{-6}\\right) - 5.23024199472418 \\cdot 10^{-6} a_{42} + 1.38265692914876 \\cdot 10^{-6} a_{43} - 5.23024199472418 \\cdot 10^{-6} c_{42} - 2.44150983141403 \\cdot 10^{-6}\\right) + 1.13850594600736 \\cdot 10^{-6} c_{42} + 1.55098461066897 \\cdot 10^{-6} & 3.63405272057145 \\cdot 10^{-6} a_{21} c_{42} - a_{42} \\left(- 9.91463649856825 \\cdot 10^{-6} a_{21} c_{42} - 5.23024199472418 \\cdot 10^{-6} a_{42} + 1.38265692914876 \\cdot 10^{-6} a_{43} - 5.23024199472418 \\cdot 10^{-6} c_{42} - 2.44150983141403 \\cdot 10^{-6}\\right) + 2.44150983141403 \\cdot 10^{-6} a_{42} - a_{43} \\left(- 3.22217333665302 \\cdot 10^{-7} a_{21} c_{42} + 1.38265692914876 \\cdot 10^{-6} a_{42} - 7.07324657136005 \\cdot 10^{-6} a_{43} + 1.38265692914876 \\cdot 10^{-6} c_{42} + 2.32871640971423 \\cdot 10^{-6}\\right) - 2.32871640971423 \\cdot 10^{-6} a_{43} - c_{42} \\left(- 9.91463649856825 \\cdot 10^{-6} a_{21} c_{42} - a_{21} \\left(4.94610473140624 \\cdot 10^{-5} a_{21} c_{42} + 9.91463649856825 \\cdot 10^{-6} a_{42} + 3.22217333665302 \\cdot 10^{-7} a_{43} + 9.91463649856825 \\cdot 10^{-6} c_{42} + 3.63405272057145 \\cdot 10^{-6}\\right) - 5.23024199472418 \\cdot 10^{-6} a_{42} + 1.38265692914876 \\cdot 10^{-6} a_{43} - 5.23024199472418 \\cdot 10^{-6} c_{42} - 2.44150983141403 \\cdot 10^{-6}\\right) + 2.44150983141403 \\cdot 10^{-6} c_{42} + 7.77731799045262 \\cdot 10^{-6} & 5.25106497821969 \\cdot 10^{-6} a_{21} c_{42} + 4.31865662111839 \\cdot 10^{-6} a_{42} - 1.61699220833329 \\cdot 10^{-6} a_{43} - a_{51} \\left(4.94610473140624 \\cdot 10^{-5} a_{21} c_{42} + 9.91463649856825 \\cdot 10^{-6} a_{42} + 3.22217333665302 \\cdot 10^{-7} a_{43} + 9.91463649856825 \\cdot 10^{-6} c_{42} + 3.63405272057145 \\cdot 10^{-6}\\right) - a_{52} \\left(- 9.91463649856825 \\cdot 10^{-6} a_{21} c_{42} - 5.23024199472418 \\cdot 10^{-6} a_{42} + 1.38265692914876 \\cdot 10^{-6} a_{43} - 5.23024199472418 \\cdot 10^{-6} c_{42} - 2.44150983141403 \\cdot 10^{-6}\\right) - a_{53} \\left(- 3.22217333665302 \\cdot 10^{-7} a_{21} c_{42} + 1.38265692914876 \\cdot 10^{-6} a_{42} - 7.07324657136005 \\cdot 10^{-6} a_{43} + 1.38265692914876 \\cdot 10^{-6} c_{42} + 2.32871640971423 \\cdot 10^{-6}\\right) - a_{54} \\left(3.63405272057145 \\cdot 10^{-6} a_{21} c_{42} + 2.44150983141403 \\cdot 10^{-6} a_{42} - 2.32871640971423 \\cdot 10^{-6} a_{43} + 2.44150983141403 \\cdot 10^{-6} c_{42} + 7.77731799045262 \\cdot 10^{-6}\\right) + 4.31865662111839 \\cdot 10^{-6} c_{42} + 2.03168760550855 \\cdot 10^{-6}\\\\2 a_{21} \\left(- 4.94610473140624 \\cdot 10^{-5} a_{51} + 9.91463649856825 \\cdot 10^{-6} a_{52} + 3.22217333665302 \\cdot 10^{-7} a_{53} - 3.63405272057145 \\cdot 10^{-6} a_{54} + 5.25106497821969 \\cdot 10^{-6}\\right) - 6.92903203111989 \\cdot 10^{-5} a_{51} + 2.03751204880166 \\cdot 10^{-5} a_{52} - 2.44309652463222 \\cdot 10^{-6} a_{53} - 8.51707238339951 \\cdot 10^{-6} a_{54} + 1.38883782204565 \\cdot 10^{-5} & - a_{21} \\left(- 4.94610473140624 \\cdot 10^{-5} a_{51} + 9.91463649856825 \\cdot 10^{-6} a_{52} + 3.22217333665302 \\cdot 10^{-7} a_{53} - 3.63405272057145 \\cdot 10^{-6} a_{54} + 5.25106497821969 \\cdot 10^{-6}\\right) + 9.91463649856825 \\cdot 10^{-6} a_{51} - 5.23024199472418 \\cdot 10^{-6} a_{52} + 1.38265692914876 \\cdot 10^{-6} a_{53} + 2.44150983141403 \\cdot 10^{-6} a_{54} - 4.31865662111839 \\cdot 10^{-6} & - a_{31} \\left(- 4.94610473140624 \\cdot 10^{-5} a_{51} + 9.91463649856825 \\cdot 10^{-6} a_{52} + 3.22217333665302 \\cdot 10^{-7} a_{53} - 3.63405272057145 \\cdot 10^{-6} a_{54} + 5.25106497821969 \\cdot 10^{-6}\\right) + 6.85622605722448 \\cdot 10^{-7} a_{51} + 1.13850594600736 \\cdot 10^{-6} a_{52} - 6.84037493038863 \\cdot 10^{-6} a_{53} - 1.55098461066897 \\cdot 10^{-6} a_{54} - c_{32} \\left(- a_{21} \\left(- 4.94610473140624 \\cdot 10^{-5} a_{51} + 9.91463649856825 \\cdot 10^{-6} a_{52} + 3.22217333665302 \\cdot 10^{-7} a_{53} - 3.63405272057145 \\cdot 10^{-6} a_{54} + 5.25106497821969 \\cdot 10^{-6}\\right) + 9.91463649856825 \\cdot 10^{-6} a_{51} - 5.23024199472418 \\cdot 10^{-6} a_{52} + 1.38265692914876 \\cdot 10^{-6} a_{53} + 2.44150983141403 \\cdot 10^{-6} a_{54} - 4.31865662111839 \\cdot 10^{-6}\\right) + 1.41382344778243 \\cdot 10^{-6} & - a_{42} \\left(9.91463649856825 \\cdot 10^{-6} a_{51} - 5.23024199472418 \\cdot 10^{-6} a_{52} + 1.38265692914876 \\cdot 10^{-6} a_{53} + 2.44150983141403 \\cdot 10^{-6} a_{54} - 4.31865662111839 \\cdot 10^{-6}\\right) - a_{43} \\left(3.22217333665302 \\cdot 10^{-7} a_{51} + 1.38265692914876 \\cdot 10^{-6} a_{52} - 7.07324657136005 \\cdot 10^{-6} a_{53} - 2.32871640971423 \\cdot 10^{-6} a_{54} + 1.61699220833329 \\cdot 10^{-6}\\right) - 3.63405272057145 \\cdot 10^{-6} a_{51} + 2.44150983141403 \\cdot 10^{-6} a_{52} - 2.32871640971423 \\cdot 10^{-6} a_{53} - 7.77731799045262 \\cdot 10^{-6} a_{54} - c_{42} \\left(- a_{21} \\left(- 4.94610473140624 \\cdot 10^{-5} a_{51} + 9.91463649856825 \\cdot 10^{-6} a_{52} + 3.22217333665302 \\cdot 10^{-7} a_{53} - 3.63405272057145 \\cdot 10^{-6} a_{54} + 5.25106497821969 \\cdot 10^{-6}\\right) + 9.91463649856825 \\cdot 10^{-6} a_{51} - 5.23024199472418 \\cdot 10^{-6} a_{52} + 1.38265692914876 \\cdot 10^{-6} a_{53} + 2.44150983141403 \\cdot 10^{-6} a_{54} - 4.31865662111839 \\cdot 10^{-6}\\right) + 2.03168760550855 \\cdot 10^{-6} & - a_{51} \\left(- 4.94610473140624 \\cdot 10^{-5} a_{51} + 9.91463649856825 \\cdot 10^{-6} a_{52} + 3.22217333665302 \\cdot 10^{-7} a_{53} - 3.63405272057145 \\cdot 10^{-6} a_{54} + 5.25106497821969 \\cdot 10^{-6}\\right) - 5.25106497821969 \\cdot 10^{-6} a_{51} - a_{52} \\left(9.91463649856825 \\cdot 10^{-6} a_{51} - 5.23024199472418 \\cdot 10^{-6} a_{52} + 1.38265692914876 \\cdot 10^{-6} a_{53} + 2.44150983141403 \\cdot 10^{-6} a_{54} - 4.31865662111839 \\cdot 10^{-6}\\right) + 4.31865662111839 \\cdot 10^{-6} a_{52} - a_{53} \\left(3.22217333665302 \\cdot 10^{-7} a_{51} + 1.38265692914876 \\cdot 10^{-6} a_{52} - 7.07324657136005 \\cdot 10^{-6} a_{53} - 2.32871640971423 \\cdot 10^{-6} a_{54} + 1.61699220833329 \\cdot 10^{-6}\\right) - 1.61699220833329 \\cdot 10^{-6} a_{53} - a_{54} \\left(- 3.63405272057145 \\cdot 10^{-6} a_{51} + 2.44150983141403 \\cdot 10^{-6} a_{52} - 2.32871640971423 \\cdot 10^{-6} a_{53} - 7.77731799045262 \\cdot 10^{-6} a_{54} + 2.03168760550855 \\cdot 10^{-6}\\right) - 2.03168760550855 \\cdot 10^{-6} a_{54} + 4.11165308464853 \\cdot 10^{-5}\\end{matrix}\\right]$"
      ],
      "text/plain": [
       "Matrix([\n",
       "[                                                                                                                                                                          2*a_21*(9.89220946281248e-5*a_21 + 6.92903203111989e-5) + 0.000138580640622398*a_21 + 0.000110040561287232,                                                                                                                                                                             -a_21*(9.89220946281248e-5*a_21 + 6.92903203111989e-5) - 1.98292729971365e-5*a_21 - 2.03751204880166e-5,                                                                                                                                                                                                                                                                                                                                                          -1.3712452114449e-6*a_21 - a_31*(9.89220946281248e-5*a_21 + 6.92903203111989e-5) - c_32*(-a_21*(9.89220946281248e-5*a_21 + 6.92903203111989e-5) - 1.98292729971365e-5*a_21 - 2.03751204880166e-5) + 1.59138928629227e-6,                                                                                                                                                                                                                                                                                                                                                                                                                                                7.26810544114291e-6*a_21 - a_42*(-1.98292729971365e-5*a_21 - 2.03751204880166e-5) - a_43*(2.44309652463222e-6 - 6.44434667330605e-7*a_21) - c_42*(-a_21*(9.89220946281248e-5*a_21 + 6.92903203111989e-5) - 1.98292729971365e-5*a_21 - 2.03751204880166e-5) + 8.51707238339951e-6,                                                                                                                                                                                                                                                                                                                                                                                                                                                1.05021299564394e-5*a_21 - a_51*(9.89220946281248e-5*a_21 + 6.92903203111989e-5) - a_52*(-1.98292729971365e-5*a_21 - 2.03751204880166e-5) - a_53*(2.44309652463222e-6 - 6.44434667330605e-7*a_21) - a_54*(7.26810544114291e-6*a_21 + 8.51707238339951e-6) + 1.38883782204565e-5],\n",
       "[                                                                                                                                                                           2*a_21*(-4.94610473140624e-5*a_21 - 9.91463649856825e-6) - 6.92903203111989e-5*a_21 - 2.03751204880166e-5,                                                                                                                                                                            -a_21*(-4.94610473140624e-5*a_21 - 9.91463649856825e-6) + 9.91463649856825e-6*a_21 + 5.23024199472418e-6,                                                                                                                                                                                                                                                                                                                                                        6.85622605722448e-7*a_21 - a_31*(-4.94610473140624e-5*a_21 - 9.91463649856825e-6) - c_32*(-a_21*(-4.94610473140624e-5*a_21 - 9.91463649856825e-6) + 9.91463649856825e-6*a_21 + 5.23024199472418e-6) - 1.13850594600736e-6,                                                                                                                                                                                                                                                                                                                                                                                                                                               -3.63405272057145e-6*a_21 - a_42*(9.91463649856825e-6*a_21 + 5.23024199472418e-6) - a_43*(3.22217333665302e-7*a_21 - 1.38265692914876e-6) - c_42*(-a_21*(-4.94610473140624e-5*a_21 - 9.91463649856825e-6) + 9.91463649856825e-6*a_21 + 5.23024199472418e-6) - 2.44150983141403e-6,                                                                                                                                                                                                                                                                                                                                                                                                                                              -5.25106497821969e-6*a_21 - a_51*(-4.94610473140624e-5*a_21 - 9.91463649856825e-6) - a_52*(9.91463649856825e-6*a_21 + 5.23024199472418e-6) - a_53*(3.22217333665302e-7*a_21 - 1.38265692914876e-6) - a_54*(-3.63405272057145e-6*a_21 - 2.44150983141403e-6) - 4.31865662111839e-6],\n",
       "[                                                      6.92903203111989e-5*a_21*c_32 + 2*a_21*(4.94610473140624e-5*a_21*c_32 - 4.94610473140624e-5*a_31 + 9.91463649856825e-6*c_32 - 6.85622605722448e-7) - 6.92903203111989e-5*a_31 + 2.03751204880166e-5*c_32 + 1.59138928629227e-6,                                                       -9.91463649856825e-6*a_21*c_32 - a_21*(4.94610473140624e-5*a_21*c_32 - 4.94610473140624e-5*a_31 + 9.91463649856825e-6*c_32 - 6.85622605722448e-7) + 9.91463649856825e-6*a_31 - 5.23024199472418e-6*c_32 - 1.13850594600736e-6,                                                                                                             -6.85622605722448e-7*a_21*c_32 - a_31*(4.94610473140624e-5*a_21*c_32 - 4.94610473140624e-5*a_31 + 9.91463649856825e-6*c_32 - 6.85622605722448e-7) + 6.85622605722448e-7*a_31 - c_32*(-9.91463649856825e-6*a_21*c_32 - a_21*(4.94610473140624e-5*a_21*c_32 - 4.94610473140624e-5*a_31 + 9.91463649856825e-6*c_32 - 6.85622605722448e-7) + 9.91463649856825e-6*a_31 - 5.23024199472418e-6*c_32 - 1.13850594600736e-6) + 1.13850594600736e-6*c_32 + 6.68527646932173e-6,                                                                                                                                        3.63405272057145e-6*a_21*c_32 - 3.63405272057145e-6*a_31 - a_42*(-9.91463649856825e-6*a_21*c_32 + 9.91463649856825e-6*a_31 - 5.23024199472418e-6*c_32 - 1.13850594600736e-6) - a_43*(-3.22217333665302e-7*a_21*c_32 + 3.22217333665302e-7*a_31 + 1.38265692914876e-6*c_32 + 6.84037493038863e-6) + 2.44150983141403e-6*c_32 - c_42*(-9.91463649856825e-6*a_21*c_32 - a_21*(4.94610473140624e-5*a_21*c_32 - 4.94610473140624e-5*a_31 + 9.91463649856825e-6*c_32 - 6.85622605722448e-7) + 9.91463649856825e-6*a_31 - 5.23024199472418e-6*c_32 - 1.13850594600736e-6) + 1.55098461066897e-6,                                                                                                                                        5.25106497821969e-6*a_21*c_32 - 5.25106497821969e-6*a_31 - a_51*(4.94610473140624e-5*a_21*c_32 - 4.94610473140624e-5*a_31 + 9.91463649856825e-6*c_32 - 6.85622605722448e-7) - a_52*(-9.91463649856825e-6*a_21*c_32 + 9.91463649856825e-6*a_31 - 5.23024199472418e-6*c_32 - 1.13850594600736e-6) - a_53*(-3.22217333665302e-7*a_21*c_32 + 3.22217333665302e-7*a_31 + 1.38265692914876e-6*c_32 + 6.84037493038863e-6) - a_54*(3.63405272057145e-6*a_21*c_32 - 3.63405272057145e-6*a_31 + 2.44150983141403e-6*c_32 + 1.55098461066897e-6) + 4.31865662111839e-6*c_32 + 1.41382344778243e-6],\n",
       "[6.92903203111989e-5*a_21*c_42 + 2*a_21*(4.94610473140624e-5*a_21*c_42 + 9.91463649856825e-6*a_42 + 3.22217333665302e-7*a_43 + 9.91463649856825e-6*c_42 + 3.63405272057145e-6) + 2.03751204880166e-5*a_42 - 2.44309652463222e-6*a_43 + 2.03751204880166e-5*c_42 + 8.51707238339951e-6, -9.91463649856825e-6*a_21*c_42 - a_21*(4.94610473140624e-5*a_21*c_42 + 9.91463649856825e-6*a_42 + 3.22217333665302e-7*a_43 + 9.91463649856825e-6*c_42 + 3.63405272057145e-6) - 5.23024199472418e-6*a_42 + 1.38265692914876e-6*a_43 - 5.23024199472418e-6*c_42 - 2.44150983141403e-6, -6.85622605722448e-7*a_21*c_42 - a_31*(4.94610473140624e-5*a_21*c_42 + 9.91463649856825e-6*a_42 + 3.22217333665302e-7*a_43 + 9.91463649856825e-6*c_42 + 3.63405272057145e-6) + 1.13850594600736e-6*a_42 - 6.84037493038863e-6*a_43 - c_32*(-9.91463649856825e-6*a_21*c_42 - a_21*(4.94610473140624e-5*a_21*c_42 + 9.91463649856825e-6*a_42 + 3.22217333665302e-7*a_43 + 9.91463649856825e-6*c_42 + 3.63405272057145e-6) - 5.23024199472418e-6*a_42 + 1.38265692914876e-6*a_43 - 5.23024199472418e-6*c_42 - 2.44150983141403e-6) + 1.13850594600736e-6*c_42 + 1.55098461066897e-6, 3.63405272057145e-6*a_21*c_42 - a_42*(-9.91463649856825e-6*a_21*c_42 - 5.23024199472418e-6*a_42 + 1.38265692914876e-6*a_43 - 5.23024199472418e-6*c_42 - 2.44150983141403e-6) + 2.44150983141403e-6*a_42 - a_43*(-3.22217333665302e-7*a_21*c_42 + 1.38265692914876e-6*a_42 - 7.07324657136005e-6*a_43 + 1.38265692914876e-6*c_42 + 2.32871640971423e-6) - 2.32871640971423e-6*a_43 - c_42*(-9.91463649856825e-6*a_21*c_42 - a_21*(4.94610473140624e-5*a_21*c_42 + 9.91463649856825e-6*a_42 + 3.22217333665302e-7*a_43 + 9.91463649856825e-6*c_42 + 3.63405272057145e-6) - 5.23024199472418e-6*a_42 + 1.38265692914876e-6*a_43 - 5.23024199472418e-6*c_42 - 2.44150983141403e-6) + 2.44150983141403e-6*c_42 + 7.77731799045262e-6, 5.25106497821969e-6*a_21*c_42 + 4.31865662111839e-6*a_42 - 1.61699220833329e-6*a_43 - a_51*(4.94610473140624e-5*a_21*c_42 + 9.91463649856825e-6*a_42 + 3.22217333665302e-7*a_43 + 9.91463649856825e-6*c_42 + 3.63405272057145e-6) - a_52*(-9.91463649856825e-6*a_21*c_42 - 5.23024199472418e-6*a_42 + 1.38265692914876e-6*a_43 - 5.23024199472418e-6*c_42 - 2.44150983141403e-6) - a_53*(-3.22217333665302e-7*a_21*c_42 + 1.38265692914876e-6*a_42 - 7.07324657136005e-6*a_43 + 1.38265692914876e-6*c_42 + 2.32871640971423e-6) - a_54*(3.63405272057145e-6*a_21*c_42 + 2.44150983141403e-6*a_42 - 2.32871640971423e-6*a_43 + 2.44150983141403e-6*c_42 + 7.77731799045262e-6) + 4.31865662111839e-6*c_42 + 2.03168760550855e-6],\n",
       "[         2*a_21*(-4.94610473140624e-5*a_51 + 9.91463649856825e-6*a_52 + 3.22217333665302e-7*a_53 - 3.63405272057145e-6*a_54 + 5.25106497821969e-6) - 6.92903203111989e-5*a_51 + 2.03751204880166e-5*a_52 - 2.44309652463222e-6*a_53 - 8.51707238339951e-6*a_54 + 1.38883782204565e-5,          -a_21*(-4.94610473140624e-5*a_51 + 9.91463649856825e-6*a_52 + 3.22217333665302e-7*a_53 - 3.63405272057145e-6*a_54 + 5.25106497821969e-6) + 9.91463649856825e-6*a_51 - 5.23024199472418e-6*a_52 + 1.38265692914876e-6*a_53 + 2.44150983141403e-6*a_54 - 4.31865662111839e-6,                   -a_31*(-4.94610473140624e-5*a_51 + 9.91463649856825e-6*a_52 + 3.22217333665302e-7*a_53 - 3.63405272057145e-6*a_54 + 5.25106497821969e-6) + 6.85622605722448e-7*a_51 + 1.13850594600736e-6*a_52 - 6.84037493038863e-6*a_53 - 1.55098461066897e-6*a_54 - c_32*(-a_21*(-4.94610473140624e-5*a_51 + 9.91463649856825e-6*a_52 + 3.22217333665302e-7*a_53 - 3.63405272057145e-6*a_54 + 5.25106497821969e-6) + 9.91463649856825e-6*a_51 - 5.23024199472418e-6*a_52 + 1.38265692914876e-6*a_53 + 2.44150983141403e-6*a_54 - 4.31865662111839e-6) + 1.41382344778243e-6,                          -a_42*(9.91463649856825e-6*a_51 - 5.23024199472418e-6*a_52 + 1.38265692914876e-6*a_53 + 2.44150983141403e-6*a_54 - 4.31865662111839e-6) - a_43*(3.22217333665302e-7*a_51 + 1.38265692914876e-6*a_52 - 7.07324657136005e-6*a_53 - 2.32871640971423e-6*a_54 + 1.61699220833329e-6) - 3.63405272057145e-6*a_51 + 2.44150983141403e-6*a_52 - 2.32871640971423e-6*a_53 - 7.77731799045262e-6*a_54 - c_42*(-a_21*(-4.94610473140624e-5*a_51 + 9.91463649856825e-6*a_52 + 3.22217333665302e-7*a_53 - 3.63405272057145e-6*a_54 + 5.25106497821969e-6) + 9.91463649856825e-6*a_51 - 5.23024199472418e-6*a_52 + 1.38265692914876e-6*a_53 + 2.44150983141403e-6*a_54 - 4.31865662111839e-6) + 2.03168760550855e-6,                         -a_51*(-4.94610473140624e-5*a_51 + 9.91463649856825e-6*a_52 + 3.22217333665302e-7*a_53 - 3.63405272057145e-6*a_54 + 5.25106497821969e-6) - 5.25106497821969e-6*a_51 - a_52*(9.91463649856825e-6*a_51 - 5.23024199472418e-6*a_52 + 1.38265692914876e-6*a_53 + 2.44150983141403e-6*a_54 - 4.31865662111839e-6) + 4.31865662111839e-6*a_52 - a_53*(3.22217333665302e-7*a_51 + 1.38265692914876e-6*a_52 - 7.07324657136005e-6*a_53 - 2.32871640971423e-6*a_54 + 1.61699220833329e-6) - 1.61699220833329e-6*a_53 - a_54*(-3.63405272057145e-6*a_51 + 2.44150983141403e-6*a_52 - 2.32871640971423e-6*a_53 - 7.77731799045262e-6*a_54 + 2.03168760550855e-6) - 2.03168760550855e-6*a_54 + 4.11165308464853e-5]])"
      ]
     },
     "execution_count": 56,
     "metadata": {},
     "output_type": "execute_result"
    }
   ],
   "source": [
    "Omega_u = C.inv()*A*Omega_e*(A.transpose())*(C.inv().transpose())\n",
    "Omega_u"
   ]
  },
  {
   "cell_type": "code",
   "execution_count": 57,
   "id": "fxZgyCFFnQhE",
   "metadata": {
    "id": "fxZgyCFFnQhE"
   },
   "outputs": [],
   "source": [
    "initial_list = np.repeat(-0.1, 10)\n",
    "eq_list = []\n",
    "for i in range(n):\n",
    "    for j in range(n):\n",
    "        if i < j :\n",
    "            eq_list.append(Omega_u[i, j])"
   ]
  },
  {
   "cell_type": "code",
   "execution_count": 58,
   "id": "CbOLDm_FnQhF",
   "metadata": {
    "id": "CbOLDm_FnQhF",
    "outputId": "99aa3463-13a7-485b-cfce-c6f8fa42f0ea"
   },
   "outputs": [],
   "source": [
    "sol = sympy.nsolve( (eq_list) , (a21, a31, a42, a43, a51, a52, a53, a54, c32, c42), initial_list, verify=False)"
   ]
  },
  {
   "cell_type": "code",
   "execution_count": 59,
   "id": "vrIeiyN4nQhG",
   "metadata": {
    "id": "vrIeiyN4nQhG",
    "outputId": "82ce599e-e615-4943-f935-dff7fbff1aa1"
   },
   "outputs": [
    {
     "data": {
      "text/latex": [
       "$\\displaystyle \\left[\\begin{matrix}-0.45045973787245\\\\0.081344401107977\\\\-0.428429186224535\\\\0.144553683378709\\\\-0.0930175835190281\\\\-1.00244609230395\\\\0.0352428966492284\\\\-0.0208364243843096\\\\-0.382195094371368\\\\-0.0142115305901948\\end{matrix}\\right]$"
      ],
      "text/plain": [
       "Matrix([\n",
       "[  -0.45045973787245],\n",
       "[  0.081344401107977],\n",
       "[ -0.428429186224535],\n",
       "[  0.144553683378709],\n",
       "[-0.0930175835190281],\n",
       "[  -1.00244609230395],\n",
       "[ 0.0352428966492284],\n",
       "[-0.0208364243843096],\n",
       "[ -0.382195094371368],\n",
       "[-0.0142115305901948]])"
      ]
     },
     "execution_count": 59,
     "metadata": {},
     "output_type": "execute_result"
    }
   ],
   "source": [
    "sol"
   ]
  },
  {
   "cell_type": "code",
   "execution_count": 60,
   "id": "rYctlhZZnQhH",
   "metadata": {
    "id": "rYctlhZZnQhH"
   },
   "outputs": [],
   "source": [
    "sA = A.subs([(a21, sol[0]), (a31, sol[1]), (a42, sol[2]), (a43, sol[3]), (a51, sol[4]), (a52, sol[5]), (a53, sol[6]), (a54, sol[7])])\n",
    "sC = C.subs([(c32, sol[8]), (c42, sol[9])])"
   ]
  },
  {
   "cell_type": "code",
   "execution_count": 61,
   "id": "5GWu-SH_nQhH",
   "metadata": {
    "id": "5GWu-SH_nQhH"
   },
   "outputs": [],
   "source": [
    "sOmega_u = sympy.Matrix(np.zeros([n,n]))\n",
    "for i in range(n):\n",
    "    w_i = Omega_u[i,i].subs([(a21, sol[0]), (a31, sol[1]), (a42, sol[2]), (a43, sol[3]), (a51, sol[4]), (a52, sol[5]), (a53, sol[6]), (a54, sol[7]), (c32, sol[8]), (c42, sol[9])])\n",
    "    sOmega_u[i,i] = w_i"
   ]
  },
  {
   "cell_type": "code",
   "execution_count": 62,
   "id": "ZpDqlGRFnQhI",
   "metadata": {
    "id": "ZpDqlGRFnQhI",
    "outputId": "d6b2d87f-f323-4662-e5ec-20be53c841d1"
   },
   "outputs": [
    {
     "data": {
      "text/latex": [
       "$\\displaystyle \\left[\\begin{matrix}1 & 0 & 0 & 0 & 0\\\\0.45045973787245 & 1 & 0 & 0 & 0\\\\-0.081344401107977 & 0 & 1 & -0.1 & 0\\\\0 & 0.428429186224535 & -0.144553683378709 & 1 & 0\\\\0.0930175835190281 & 1.00244609230395 & -0.0352428966492284 & 0.0208364243843096 & 1\\end{matrix}\\right]$"
      ],
      "text/plain": [
       "Matrix([\n",
       "[                 1,                 0,                   0,                  0, 0],\n",
       "[  0.45045973787245,                 1,                   0,                  0, 0],\n",
       "[-0.081344401107977,                 0,                   1,               -0.1, 0],\n",
       "[                 0, 0.428429186224535,  -0.144553683378709,                  1, 0],\n",
       "[0.0930175835190281,  1.00244609230395, -0.0352428966492284, 0.0208364243843096, 1]])"
      ]
     },
     "execution_count": 62,
     "metadata": {},
     "output_type": "execute_result"
    }
   ],
   "source": [
    "sA"
   ]
  },
  {
   "cell_type": "code",
   "execution_count": 63,
   "id": "A5mFUZA_nQhJ",
   "metadata": {
    "id": "A5mFUZA_nQhJ",
    "outputId": "0fa26db2-b52b-409b-b898-a78f97ba864b"
   },
   "outputs": [
    {
     "data": {
      "text/latex": [
       "$\\displaystyle \\left[\\begin{matrix}1 & 2 & 0 & 0 & 0\\\\0 & 1 & 0 & 0 & 0\\\\0 & -0.382195094371368 & 1 & 0 & 0\\\\0 & -0.0142115305901948 & 0 & 1 & 0\\\\0 & 0 & 0 & 0 & 1\\end{matrix}\\right]$"
      ],
      "text/plain": [
       "Matrix([\n",
       "[1,                   2, 0, 0, 0],\n",
       "[0,                   1, 0, 0, 0],\n",
       "[0,  -0.382195094371368, 1, 0, 0],\n",
       "[0, -0.0142115305901948, 0, 1, 0],\n",
       "[0,                   0, 0, 0, 1]])"
      ]
     },
     "execution_count": 63,
     "metadata": {},
     "output_type": "execute_result"
    }
   ],
   "source": [
    "sC"
   ]
  },
  {
   "cell_type": "code",
   "execution_count": 64,
   "id": "KnVCic66nQhK",
   "metadata": {
    "id": "KnVCic66nQhK",
    "outputId": "02cf5a9e-b59b-44db-be35-4d057a9f2933"
   },
   "outputs": [
    {
     "data": {
      "text/latex": [
       "$\\displaystyle \\left[\\begin{matrix}2.53359141498128 \\cdot 10^{-5} & 0 & 0 & 0 & 0\\\\0 & 6.33429061835875 \\cdot 10^{-6} & 0 & 0 & 0\\\\0 & 0 & 6.1741499039365 \\cdot 10^{-6} & 0 & 0\\\\0 & 0 & 0 & 6.28511388324378 \\cdot 10^{-6} & 0\\\\0 & 0 & 0 & 0 & 3.72611357682466 \\cdot 10^{-5}\\end{matrix}\\right]$"
      ],
      "text/plain": [
       "Matrix([\n",
       "[2.53359141498128e-5,                   0,                  0,                   0,                   0],\n",
       "[                  0, 6.33429061835875e-6,                  0,                   0,                   0],\n",
       "[                  0,                   0, 6.1741499039365e-6,                   0,                   0],\n",
       "[                  0,                   0,                  0, 6.28511388324378e-6,                   0],\n",
       "[                  0,                   0,                  0,                   0, 3.72611357682466e-5]])"
      ]
     },
     "execution_count": 64,
     "metadata": {},
     "output_type": "execute_result"
    }
   ],
   "source": [
    "sOmega_u"
   ]
  },
  {
   "cell_type": "code",
   "execution_count": 65,
   "id": "6tCDhlTcnQhK",
   "metadata": {
    "id": "6tCDhlTcnQhK",
    "outputId": "0d6741d1-e6ef-4467-96b7-fd7d9e557cd2"
   },
   "outputs": [
    {
     "data": {
      "text/plain": [
       "array([[0.00503348, 0.        , 0.        , 0.        , 0.        ],\n",
       "       [0.        , 0.0025168 , 0.        , 0.        , 0.        ],\n",
       "       [0.        , 0.        , 0.00248478, 0.        , 0.        ],\n",
       "       [0.        , 0.        , 0.        , 0.00250701, 0.        ],\n",
       "       [0.        , 0.        , 0.        , 0.        , 0.00610419]])"
      ]
     },
     "execution_count": 65,
     "metadata": {},
     "output_type": "execute_result"
    }
   ],
   "source": [
    "shock = np.array(sOmega_u).astype(np.float64)\n",
    "shock_cov = np.sqrt(shock)\n",
    "shock_cov"
   ]
  },
  {
   "cell_type": "markdown",
   "id": "de85d542",
   "metadata": {},
   "source": [
    "#### (4) $c=0, a_{34}=0.1$"
   ]
  },
  {
   "cell_type": "code",
   "execution_count": 66,
   "id": "d0f25fae",
   "metadata": {},
   "outputs": [],
   "source": [
    "A = sympy.Matrix([[1, 0, 0.2, 0, -0.2], [-a21, 1, 0, 0, 0], [-a31, 0, 1, -0.1, 0], [0, -a42, -a43, 1, 0], [-a51, -a52, -a53, -a54, 1]])\n",
    "C = sympy.Matrix([[1, 0, 0, 0, 0], [0, 1, 0, 0, 0], [0, c32, 1, 0, 0], [0, c42, 0, 1, 0], [0, 0, 0, 0, 1]])\n",
    "\n",
    "Omega_u = sympy.Matrix(np.diag([globals()[f'w{i}'] for i in range(1, n+1)]))"
   ]
  },
  {
   "cell_type": "code",
   "execution_count": 67,
   "id": "26570f07",
   "metadata": {
    "id": "26570f07"
   },
   "outputs": [
    {
     "data": {
      "text/latex": [
       "$\\displaystyle \\left[\\begin{matrix}1 & 0 & 0.2 & 0 & -0.2\\\\- a_{21} & 1 & 0 & 0 & 0\\\\- a_{31} & 0 & 1 & -0.1 & 0\\\\0 & - a_{42} & - a_{43} & 1 & 0\\\\- a_{51} & - a_{52} & - a_{53} & - a_{54} & 1\\end{matrix}\\right]$"
      ],
      "text/plain": [
       "Matrix([\n",
       "[    1,     0,   0.2,     0, -0.2],\n",
       "[-a_21,     1,     0,     0,    0],\n",
       "[-a_31,     0,     1,  -0.1,    0],\n",
       "[    0, -a_42, -a_43,     1,    0],\n",
       "[-a_51, -a_52, -a_53, -a_54,    1]])"
      ]
     },
     "execution_count": 67,
     "metadata": {},
     "output_type": "execute_result"
    }
   ],
   "source": [
    "A"
   ]
  },
  {
   "cell_type": "code",
   "execution_count": 68,
   "id": "f17ebaa4",
   "metadata": {},
   "outputs": [
    {
     "data": {
      "text/latex": [
       "$\\displaystyle \\left[\\begin{matrix}1 & 0 & 0 & 0 & 0\\\\0 & 1 & 0 & 0 & 0\\\\0 & c_{32} & 1 & 0 & 0\\\\0 & c_{42} & 0 & 1 & 0\\\\0 & 0 & 0 & 0 & 1\\end{matrix}\\right]$"
      ],
      "text/plain": [
       "Matrix([\n",
       "[1,    0, 0, 0, 0],\n",
       "[0,    1, 0, 0, 0],\n",
       "[0, c_32, 1, 0, 0],\n",
       "[0, c_42, 0, 1, 0],\n",
       "[0,    0, 0, 0, 1]])"
      ]
     },
     "execution_count": 68,
     "metadata": {},
     "output_type": "execute_result"
    }
   ],
   "source": [
    "C"
   ]
  },
  {
   "cell_type": "code",
   "execution_count": 69,
   "id": "00e16fde",
   "metadata": {
    "scrolled": true
   },
   "outputs": [
    {
     "data": {
      "text/latex": [
       "$\\displaystyle \\left[\\begin{matrix}4.90299661093556 \\cdot 10^{-5} & - 4.83463908516854 \\cdot 10^{-5} a_{21} - 9.32743656017433 \\cdot 10^{-6} & - 4.83463908516854 \\cdot 10^{-5} a_{31} - c_{32} \\left(- 4.83463908516854 \\cdot 10^{-5} a_{21} - 9.32743656017433 \\cdot 10^{-6}\\right) + 3.99687690798792 \\cdot 10^{-7} & 9.32743656017433 \\cdot 10^{-6} a_{42} - 7.69033538940051 \\cdot 10^{-7} a_{43} - c_{42} \\left(- 4.83463908516854 \\cdot 10^{-5} a_{21} - 9.32743656017433 \\cdot 10^{-6}\\right) + 3.69345848141259 \\cdot 10^{-6} & - 4.83463908516854 \\cdot 10^{-5} a_{51} + 9.32743656017433 \\cdot 10^{-6} a_{52} - 7.69033538940051 \\cdot 10^{-7} a_{53} - 3.69345848141259 \\cdot 10^{-6} a_{54} - 2.64884274941072 \\cdot 10^{-6}\\\\- 4.83463908516854 \\cdot 10^{-5} a_{21} - 9.32743656017433 \\cdot 10^{-6} & - a_{21} \\left(- 4.94610473140624 \\cdot 10^{-5} a_{21} - 9.91463649856825 \\cdot 10^{-6}\\right) + 9.91463649856825 \\cdot 10^{-6} a_{21} + 5.23024199472418 \\cdot 10^{-6} & 6.85622605722448 \\cdot 10^{-7} a_{21} - a_{31} \\left(- 4.94610473140624 \\cdot 10^{-5} a_{21} - 9.91463649856825 \\cdot 10^{-6}\\right) - c_{32} \\left(- a_{21} \\left(- 4.94610473140624 \\cdot 10^{-5} a_{21} - 9.91463649856825 \\cdot 10^{-6}\\right) + 9.91463649856825 \\cdot 10^{-6} a_{21} + 5.23024199472418 \\cdot 10^{-6}\\right) - 1.13850594600736 \\cdot 10^{-6} & - 3.63405272057145 \\cdot 10^{-6} a_{21} - a_{42} \\left(9.91463649856825 \\cdot 10^{-6} a_{21} + 5.23024199472418 \\cdot 10^{-6}\\right) - a_{43} \\left(3.22217333665302 \\cdot 10^{-7} a_{21} - 1.38265692914876 \\cdot 10^{-6}\\right) - c_{42} \\left(- a_{21} \\left(- 4.94610473140624 \\cdot 10^{-5} a_{21} - 9.91463649856825 \\cdot 10^{-6}\\right) + 9.91463649856825 \\cdot 10^{-6} a_{21} + 5.23024199472418 \\cdot 10^{-6}\\right) - 2.44150983141403 \\cdot 10^{-6} & - 5.25106497821969 \\cdot 10^{-6} a_{21} - a_{51} \\left(- 4.94610473140624 \\cdot 10^{-5} a_{21} - 9.91463649856825 \\cdot 10^{-6}\\right) - a_{52} \\left(9.91463649856825 \\cdot 10^{-6} a_{21} + 5.23024199472418 \\cdot 10^{-6}\\right) - a_{53} \\left(3.22217333665302 \\cdot 10^{-7} a_{21} - 1.38265692914876 \\cdot 10^{-6}\\right) - a_{54} \\left(- 3.63405272057145 \\cdot 10^{-6} a_{21} - 2.44150983141403 \\cdot 10^{-6}\\right) - 4.31865662111839 \\cdot 10^{-6}\\\\4.83463908516854 \\cdot 10^{-5} a_{21} c_{32} - 4.83463908516854 \\cdot 10^{-5} a_{31} + 9.32743656017433 \\cdot 10^{-6} c_{32} + 3.99687690798792 \\cdot 10^{-7} & - 9.91463649856825 \\cdot 10^{-6} a_{21} c_{32} - a_{21} \\left(4.94610473140624 \\cdot 10^{-5} a_{21} c_{32} - 4.94610473140624 \\cdot 10^{-5} a_{31} + 9.91463649856825 \\cdot 10^{-6} c_{32} - 6.85622605722448 \\cdot 10^{-7}\\right) + 9.91463649856825 \\cdot 10^{-6} a_{31} - 5.23024199472418 \\cdot 10^{-6} c_{32} - 1.13850594600736 \\cdot 10^{-6} & - 6.85622605722448 \\cdot 10^{-7} a_{21} c_{32} - a_{31} \\left(4.94610473140624 \\cdot 10^{-5} a_{21} c_{32} - 4.94610473140624 \\cdot 10^{-5} a_{31} + 9.91463649856825 \\cdot 10^{-6} c_{32} - 6.85622605722448 \\cdot 10^{-7}\\right) + 6.85622605722448 \\cdot 10^{-7} a_{31} - c_{32} \\left(- 9.91463649856825 \\cdot 10^{-6} a_{21} c_{32} - a_{21} \\left(4.94610473140624 \\cdot 10^{-5} a_{21} c_{32} - 4.94610473140624 \\cdot 10^{-5} a_{31} + 9.91463649856825 \\cdot 10^{-6} c_{32} - 6.85622605722448 \\cdot 10^{-7}\\right) + 9.91463649856825 \\cdot 10^{-6} a_{31} - 5.23024199472418 \\cdot 10^{-6} c_{32} - 1.13850594600736 \\cdot 10^{-6}\\right) + 1.13850594600736 \\cdot 10^{-6} c_{32} + 6.68527646932173 \\cdot 10^{-6} & 3.63405272057145 \\cdot 10^{-6} a_{21} c_{32} - 3.63405272057145 \\cdot 10^{-6} a_{31} - a_{42} \\left(- 9.91463649856825 \\cdot 10^{-6} a_{21} c_{32} + 9.91463649856825 \\cdot 10^{-6} a_{31} - 5.23024199472418 \\cdot 10^{-6} c_{32} - 1.13850594600736 \\cdot 10^{-6}\\right) - a_{43} \\left(- 3.22217333665302 \\cdot 10^{-7} a_{21} c_{32} + 3.22217333665302 \\cdot 10^{-7} a_{31} + 1.38265692914876 \\cdot 10^{-6} c_{32} + 6.84037493038863 \\cdot 10^{-6}\\right) + 2.44150983141403 \\cdot 10^{-6} c_{32} - c_{42} \\left(- 9.91463649856825 \\cdot 10^{-6} a_{21} c_{32} - a_{21} \\left(4.94610473140624 \\cdot 10^{-5} a_{21} c_{32} - 4.94610473140624 \\cdot 10^{-5} a_{31} + 9.91463649856825 \\cdot 10^{-6} c_{32} - 6.85622605722448 \\cdot 10^{-7}\\right) + 9.91463649856825 \\cdot 10^{-6} a_{31} - 5.23024199472418 \\cdot 10^{-6} c_{32} - 1.13850594600736 \\cdot 10^{-6}\\right) + 1.55098461066897 \\cdot 10^{-6} & 5.25106497821969 \\cdot 10^{-6} a_{21} c_{32} - 5.25106497821969 \\cdot 10^{-6} a_{31} - a_{51} \\left(4.94610473140624 \\cdot 10^{-5} a_{21} c_{32} - 4.94610473140624 \\cdot 10^{-5} a_{31} + 9.91463649856825 \\cdot 10^{-6} c_{32} - 6.85622605722448 \\cdot 10^{-7}\\right) - a_{52} \\left(- 9.91463649856825 \\cdot 10^{-6} a_{21} c_{32} + 9.91463649856825 \\cdot 10^{-6} a_{31} - 5.23024199472418 \\cdot 10^{-6} c_{32} - 1.13850594600736 \\cdot 10^{-6}\\right) - a_{53} \\left(- 3.22217333665302 \\cdot 10^{-7} a_{21} c_{32} + 3.22217333665302 \\cdot 10^{-7} a_{31} + 1.38265692914876 \\cdot 10^{-6} c_{32} + 6.84037493038863 \\cdot 10^{-6}\\right) - a_{54} \\left(3.63405272057145 \\cdot 10^{-6} a_{21} c_{32} - 3.63405272057145 \\cdot 10^{-6} a_{31} + 2.44150983141403 \\cdot 10^{-6} c_{32} + 1.55098461066897 \\cdot 10^{-6}\\right) + 4.31865662111839 \\cdot 10^{-6} c_{32} + 1.41382344778243 \\cdot 10^{-6}\\\\4.83463908516854 \\cdot 10^{-5} a_{21} c_{42} + 9.32743656017433 \\cdot 10^{-6} a_{42} - 7.69033538940051 \\cdot 10^{-7} a_{43} + 9.32743656017433 \\cdot 10^{-6} c_{42} + 3.69345848141259 \\cdot 10^{-6} & - 9.91463649856825 \\cdot 10^{-6} a_{21} c_{42} - a_{21} \\left(4.94610473140624 \\cdot 10^{-5} a_{21} c_{42} + 9.91463649856825 \\cdot 10^{-6} a_{42} + 3.22217333665302 \\cdot 10^{-7} a_{43} + 9.91463649856825 \\cdot 10^{-6} c_{42} + 3.63405272057145 \\cdot 10^{-6}\\right) - 5.23024199472418 \\cdot 10^{-6} a_{42} + 1.38265692914876 \\cdot 10^{-6} a_{43} - 5.23024199472418 \\cdot 10^{-6} c_{42} - 2.44150983141403 \\cdot 10^{-6} & - 6.85622605722448 \\cdot 10^{-7} a_{21} c_{42} - a_{31} \\left(4.94610473140624 \\cdot 10^{-5} a_{21} c_{42} + 9.91463649856825 \\cdot 10^{-6} a_{42} + 3.22217333665302 \\cdot 10^{-7} a_{43} + 9.91463649856825 \\cdot 10^{-6} c_{42} + 3.63405272057145 \\cdot 10^{-6}\\right) + 1.13850594600736 \\cdot 10^{-6} a_{42} - 6.84037493038863 \\cdot 10^{-6} a_{43} - c_{32} \\left(- 9.91463649856825 \\cdot 10^{-6} a_{21} c_{42} - a_{21} \\left(4.94610473140624 \\cdot 10^{-5} a_{21} c_{42} + 9.91463649856825 \\cdot 10^{-6} a_{42} + 3.22217333665302 \\cdot 10^{-7} a_{43} + 9.91463649856825 \\cdot 10^{-6} c_{42} + 3.63405272057145 \\cdot 10^{-6}\\right) - 5.23024199472418 \\cdot 10^{-6} a_{42} + 1.38265692914876 \\cdot 10^{-6} a_{43} - 5.23024199472418 \\cdot 10^{-6} c_{42} - 2.44150983141403 \\cdot 10^{-6}\\right) + 1.13850594600736 \\cdot 10^{-6} c_{42} + 1.55098461066897 \\cdot 10^{-6} & 3.63405272057145 \\cdot 10^{-6} a_{21} c_{42} - a_{42} \\left(- 9.91463649856825 \\cdot 10^{-6} a_{21} c_{42} - 5.23024199472418 \\cdot 10^{-6} a_{42} + 1.38265692914876 \\cdot 10^{-6} a_{43} - 5.23024199472418 \\cdot 10^{-6} c_{42} - 2.44150983141403 \\cdot 10^{-6}\\right) + 2.44150983141403 \\cdot 10^{-6} a_{42} - a_{43} \\left(- 3.22217333665302 \\cdot 10^{-7} a_{21} c_{42} + 1.38265692914876 \\cdot 10^{-6} a_{42} - 7.07324657136005 \\cdot 10^{-6} a_{43} + 1.38265692914876 \\cdot 10^{-6} c_{42} + 2.32871640971423 \\cdot 10^{-6}\\right) - 2.32871640971423 \\cdot 10^{-6} a_{43} - c_{42} \\left(- 9.91463649856825 \\cdot 10^{-6} a_{21} c_{42} - a_{21} \\left(4.94610473140624 \\cdot 10^{-5} a_{21} c_{42} + 9.91463649856825 \\cdot 10^{-6} a_{42} + 3.22217333665302 \\cdot 10^{-7} a_{43} + 9.91463649856825 \\cdot 10^{-6} c_{42} + 3.63405272057145 \\cdot 10^{-6}\\right) - 5.23024199472418 \\cdot 10^{-6} a_{42} + 1.38265692914876 \\cdot 10^{-6} a_{43} - 5.23024199472418 \\cdot 10^{-6} c_{42} - 2.44150983141403 \\cdot 10^{-6}\\right) + 2.44150983141403 \\cdot 10^{-6} c_{42} + 7.77731799045262 \\cdot 10^{-6} & 5.25106497821969 \\cdot 10^{-6} a_{21} c_{42} + 4.31865662111839 \\cdot 10^{-6} a_{42} - 1.61699220833329 \\cdot 10^{-6} a_{43} - a_{51} \\left(4.94610473140624 \\cdot 10^{-5} a_{21} c_{42} + 9.91463649856825 \\cdot 10^{-6} a_{42} + 3.22217333665302 \\cdot 10^{-7} a_{43} + 9.91463649856825 \\cdot 10^{-6} c_{42} + 3.63405272057145 \\cdot 10^{-6}\\right) - a_{52} \\left(- 9.91463649856825 \\cdot 10^{-6} a_{21} c_{42} - 5.23024199472418 \\cdot 10^{-6} a_{42} + 1.38265692914876 \\cdot 10^{-6} a_{43} - 5.23024199472418 \\cdot 10^{-6} c_{42} - 2.44150983141403 \\cdot 10^{-6}\\right) - a_{53} \\left(- 3.22217333665302 \\cdot 10^{-7} a_{21} c_{42} + 1.38265692914876 \\cdot 10^{-6} a_{42} - 7.07324657136005 \\cdot 10^{-6} a_{43} + 1.38265692914876 \\cdot 10^{-6} c_{42} + 2.32871640971423 \\cdot 10^{-6}\\right) - a_{54} \\left(3.63405272057145 \\cdot 10^{-6} a_{21} c_{42} + 2.44150983141403 \\cdot 10^{-6} a_{42} - 2.32871640971423 \\cdot 10^{-6} a_{43} + 2.44150983141403 \\cdot 10^{-6} c_{42} + 7.77731799045262 \\cdot 10^{-6}\\right) + 4.31865662111839 \\cdot 10^{-6} c_{42} + 2.03168760550855 \\cdot 10^{-6}\\\\- 4.83463908516854 \\cdot 10^{-5} a_{51} + 9.32743656017433 \\cdot 10^{-6} a_{52} - 7.69033538940051 \\cdot 10^{-7} a_{53} - 3.69345848141259 \\cdot 10^{-6} a_{54} - 2.64884274941072 \\cdot 10^{-6} & - a_{21} \\left(- 4.94610473140624 \\cdot 10^{-5} a_{51} + 9.91463649856825 \\cdot 10^{-6} a_{52} + 3.22217333665302 \\cdot 10^{-7} a_{53} - 3.63405272057145 \\cdot 10^{-6} a_{54} + 5.25106497821969 \\cdot 10^{-6}\\right) + 9.91463649856825 \\cdot 10^{-6} a_{51} - 5.23024199472418 \\cdot 10^{-6} a_{52} + 1.38265692914876 \\cdot 10^{-6} a_{53} + 2.44150983141403 \\cdot 10^{-6} a_{54} - 4.31865662111839 \\cdot 10^{-6} & - a_{31} \\left(- 4.94610473140624 \\cdot 10^{-5} a_{51} + 9.91463649856825 \\cdot 10^{-6} a_{52} + 3.22217333665302 \\cdot 10^{-7} a_{53} - 3.63405272057145 \\cdot 10^{-6} a_{54} + 5.25106497821969 \\cdot 10^{-6}\\right) + 6.85622605722448 \\cdot 10^{-7} a_{51} + 1.13850594600736 \\cdot 10^{-6} a_{52} - 6.84037493038863 \\cdot 10^{-6} a_{53} - 1.55098461066897 \\cdot 10^{-6} a_{54} - c_{32} \\left(- a_{21} \\left(- 4.94610473140624 \\cdot 10^{-5} a_{51} + 9.91463649856825 \\cdot 10^{-6} a_{52} + 3.22217333665302 \\cdot 10^{-7} a_{53} - 3.63405272057145 \\cdot 10^{-6} a_{54} + 5.25106497821969 \\cdot 10^{-6}\\right) + 9.91463649856825 \\cdot 10^{-6} a_{51} - 5.23024199472418 \\cdot 10^{-6} a_{52} + 1.38265692914876 \\cdot 10^{-6} a_{53} + 2.44150983141403 \\cdot 10^{-6} a_{54} - 4.31865662111839 \\cdot 10^{-6}\\right) + 1.41382344778243 \\cdot 10^{-6} & - a_{42} \\left(9.91463649856825 \\cdot 10^{-6} a_{51} - 5.23024199472418 \\cdot 10^{-6} a_{52} + 1.38265692914876 \\cdot 10^{-6} a_{53} + 2.44150983141403 \\cdot 10^{-6} a_{54} - 4.31865662111839 \\cdot 10^{-6}\\right) - a_{43} \\left(3.22217333665302 \\cdot 10^{-7} a_{51} + 1.38265692914876 \\cdot 10^{-6} a_{52} - 7.07324657136005 \\cdot 10^{-6} a_{53} - 2.32871640971423 \\cdot 10^{-6} a_{54} + 1.61699220833329 \\cdot 10^{-6}\\right) - 3.63405272057145 \\cdot 10^{-6} a_{51} + 2.44150983141403 \\cdot 10^{-6} a_{52} - 2.32871640971423 \\cdot 10^{-6} a_{53} - 7.77731799045262 \\cdot 10^{-6} a_{54} - c_{42} \\left(- a_{21} \\left(- 4.94610473140624 \\cdot 10^{-5} a_{51} + 9.91463649856825 \\cdot 10^{-6} a_{52} + 3.22217333665302 \\cdot 10^{-7} a_{53} - 3.63405272057145 \\cdot 10^{-6} a_{54} + 5.25106497821969 \\cdot 10^{-6}\\right) + 9.91463649856825 \\cdot 10^{-6} a_{51} - 5.23024199472418 \\cdot 10^{-6} a_{52} + 1.38265692914876 \\cdot 10^{-6} a_{53} + 2.44150983141403 \\cdot 10^{-6} a_{54} - 4.31865662111839 \\cdot 10^{-6}\\right) + 2.03168760550855 \\cdot 10^{-6} & - a_{51} \\left(- 4.94610473140624 \\cdot 10^{-5} a_{51} + 9.91463649856825 \\cdot 10^{-6} a_{52} + 3.22217333665302 \\cdot 10^{-7} a_{53} - 3.63405272057145 \\cdot 10^{-6} a_{54} + 5.25106497821969 \\cdot 10^{-6}\\right) - 5.25106497821969 \\cdot 10^{-6} a_{51} - a_{52} \\left(9.91463649856825 \\cdot 10^{-6} a_{51} - 5.23024199472418 \\cdot 10^{-6} a_{52} + 1.38265692914876 \\cdot 10^{-6} a_{53} + 2.44150983141403 \\cdot 10^{-6} a_{54} - 4.31865662111839 \\cdot 10^{-6}\\right) + 4.31865662111839 \\cdot 10^{-6} a_{52} - a_{53} \\left(3.22217333665302 \\cdot 10^{-7} a_{51} + 1.38265692914876 \\cdot 10^{-6} a_{52} - 7.07324657136005 \\cdot 10^{-6} a_{53} - 2.32871640971423 \\cdot 10^{-6} a_{54} + 1.61699220833329 \\cdot 10^{-6}\\right) - 1.61699220833329 \\cdot 10^{-6} a_{53} - a_{54} \\left(- 3.63405272057145 \\cdot 10^{-6} a_{51} + 2.44150983141403 \\cdot 10^{-6} a_{52} - 2.32871640971423 \\cdot 10^{-6} a_{53} - 7.77731799045262 \\cdot 10^{-6} a_{54} + 2.03168760550855 \\cdot 10^{-6}\\right) - 2.03168760550855 \\cdot 10^{-6} a_{54} + 4.11165308464853 \\cdot 10^{-5}\\end{matrix}\\right]$"
      ],
      "text/plain": [
       "Matrix([\n",
       "[                                                                                                                 4.90299661093556e-5,                                                                                                                                                                                                                                     -4.83463908516854e-5*a_21 - 9.32743656017433e-6,                                                                                                                                                                                                                                                                                                                                                                                                                                                                         -4.83463908516854e-5*a_31 - c_32*(-4.83463908516854e-5*a_21 - 9.32743656017433e-6) + 3.99687690798792e-7,                                                                                                                                                                                                                                                                                                                                                                                                                                                                                                                                                                                              9.32743656017433e-6*a_42 - 7.69033538940051e-7*a_43 - c_42*(-4.83463908516854e-5*a_21 - 9.32743656017433e-6) + 3.69345848141259e-6,                                                                                                                                                                                                                                                                                                                                                                                                                                                                                                                                                                                               -4.83463908516854e-5*a_51 + 9.32743656017433e-6*a_52 - 7.69033538940051e-7*a_53 - 3.69345848141259e-6*a_54 - 2.64884274941072e-6],\n",
       "[                                                                                     -4.83463908516854e-5*a_21 - 9.32743656017433e-6,                                                                                                                                                                            -a_21*(-4.94610473140624e-5*a_21 - 9.91463649856825e-6) + 9.91463649856825e-6*a_21 + 5.23024199472418e-6,                                                                                                                                                                                                                                                                                                                                                        6.85622605722448e-7*a_21 - a_31*(-4.94610473140624e-5*a_21 - 9.91463649856825e-6) - c_32*(-a_21*(-4.94610473140624e-5*a_21 - 9.91463649856825e-6) + 9.91463649856825e-6*a_21 + 5.23024199472418e-6) - 1.13850594600736e-6,                                                                                                                                                                                                                                                                                                                                                                                                                                               -3.63405272057145e-6*a_21 - a_42*(9.91463649856825e-6*a_21 + 5.23024199472418e-6) - a_43*(3.22217333665302e-7*a_21 - 1.38265692914876e-6) - c_42*(-a_21*(-4.94610473140624e-5*a_21 - 9.91463649856825e-6) + 9.91463649856825e-6*a_21 + 5.23024199472418e-6) - 2.44150983141403e-6,                                                                                                                                                                                                                                                                                                                                                                                                                                              -5.25106497821969e-6*a_21 - a_51*(-4.94610473140624e-5*a_21 - 9.91463649856825e-6) - a_52*(9.91463649856825e-6*a_21 + 5.23024199472418e-6) - a_53*(3.22217333665302e-7*a_21 - 1.38265692914876e-6) - a_54*(-3.63405272057145e-6*a_21 - 2.44150983141403e-6) - 4.31865662111839e-6],\n",
       "[                           4.83463908516854e-5*a_21*c_32 - 4.83463908516854e-5*a_31 + 9.32743656017433e-6*c_32 + 3.99687690798792e-7,                                                       -9.91463649856825e-6*a_21*c_32 - a_21*(4.94610473140624e-5*a_21*c_32 - 4.94610473140624e-5*a_31 + 9.91463649856825e-6*c_32 - 6.85622605722448e-7) + 9.91463649856825e-6*a_31 - 5.23024199472418e-6*c_32 - 1.13850594600736e-6,                                                                                                             -6.85622605722448e-7*a_21*c_32 - a_31*(4.94610473140624e-5*a_21*c_32 - 4.94610473140624e-5*a_31 + 9.91463649856825e-6*c_32 - 6.85622605722448e-7) + 6.85622605722448e-7*a_31 - c_32*(-9.91463649856825e-6*a_21*c_32 - a_21*(4.94610473140624e-5*a_21*c_32 - 4.94610473140624e-5*a_31 + 9.91463649856825e-6*c_32 - 6.85622605722448e-7) + 9.91463649856825e-6*a_31 - 5.23024199472418e-6*c_32 - 1.13850594600736e-6) + 1.13850594600736e-6*c_32 + 6.68527646932173e-6,                                                                                                                                        3.63405272057145e-6*a_21*c_32 - 3.63405272057145e-6*a_31 - a_42*(-9.91463649856825e-6*a_21*c_32 + 9.91463649856825e-6*a_31 - 5.23024199472418e-6*c_32 - 1.13850594600736e-6) - a_43*(-3.22217333665302e-7*a_21*c_32 + 3.22217333665302e-7*a_31 + 1.38265692914876e-6*c_32 + 6.84037493038863e-6) + 2.44150983141403e-6*c_32 - c_42*(-9.91463649856825e-6*a_21*c_32 - a_21*(4.94610473140624e-5*a_21*c_32 - 4.94610473140624e-5*a_31 + 9.91463649856825e-6*c_32 - 6.85622605722448e-7) + 9.91463649856825e-6*a_31 - 5.23024199472418e-6*c_32 - 1.13850594600736e-6) + 1.55098461066897e-6,                                                                                                                                        5.25106497821969e-6*a_21*c_32 - 5.25106497821969e-6*a_31 - a_51*(4.94610473140624e-5*a_21*c_32 - 4.94610473140624e-5*a_31 + 9.91463649856825e-6*c_32 - 6.85622605722448e-7) - a_52*(-9.91463649856825e-6*a_21*c_32 + 9.91463649856825e-6*a_31 - 5.23024199472418e-6*c_32 - 1.13850594600736e-6) - a_53*(-3.22217333665302e-7*a_21*c_32 + 3.22217333665302e-7*a_31 + 1.38265692914876e-6*c_32 + 6.84037493038863e-6) - a_54*(3.63405272057145e-6*a_21*c_32 - 3.63405272057145e-6*a_31 + 2.44150983141403e-6*c_32 + 1.55098461066897e-6) + 4.31865662111839e-6*c_32 + 1.41382344778243e-6],\n",
       "[4.83463908516854e-5*a_21*c_42 + 9.32743656017433e-6*a_42 - 7.69033538940051e-7*a_43 + 9.32743656017433e-6*c_42 + 3.69345848141259e-6, -9.91463649856825e-6*a_21*c_42 - a_21*(4.94610473140624e-5*a_21*c_42 + 9.91463649856825e-6*a_42 + 3.22217333665302e-7*a_43 + 9.91463649856825e-6*c_42 + 3.63405272057145e-6) - 5.23024199472418e-6*a_42 + 1.38265692914876e-6*a_43 - 5.23024199472418e-6*c_42 - 2.44150983141403e-6, -6.85622605722448e-7*a_21*c_42 - a_31*(4.94610473140624e-5*a_21*c_42 + 9.91463649856825e-6*a_42 + 3.22217333665302e-7*a_43 + 9.91463649856825e-6*c_42 + 3.63405272057145e-6) + 1.13850594600736e-6*a_42 - 6.84037493038863e-6*a_43 - c_32*(-9.91463649856825e-6*a_21*c_42 - a_21*(4.94610473140624e-5*a_21*c_42 + 9.91463649856825e-6*a_42 + 3.22217333665302e-7*a_43 + 9.91463649856825e-6*c_42 + 3.63405272057145e-6) - 5.23024199472418e-6*a_42 + 1.38265692914876e-6*a_43 - 5.23024199472418e-6*c_42 - 2.44150983141403e-6) + 1.13850594600736e-6*c_42 + 1.55098461066897e-6, 3.63405272057145e-6*a_21*c_42 - a_42*(-9.91463649856825e-6*a_21*c_42 - 5.23024199472418e-6*a_42 + 1.38265692914876e-6*a_43 - 5.23024199472418e-6*c_42 - 2.44150983141403e-6) + 2.44150983141403e-6*a_42 - a_43*(-3.22217333665302e-7*a_21*c_42 + 1.38265692914876e-6*a_42 - 7.07324657136005e-6*a_43 + 1.38265692914876e-6*c_42 + 2.32871640971423e-6) - 2.32871640971423e-6*a_43 - c_42*(-9.91463649856825e-6*a_21*c_42 - a_21*(4.94610473140624e-5*a_21*c_42 + 9.91463649856825e-6*a_42 + 3.22217333665302e-7*a_43 + 9.91463649856825e-6*c_42 + 3.63405272057145e-6) - 5.23024199472418e-6*a_42 + 1.38265692914876e-6*a_43 - 5.23024199472418e-6*c_42 - 2.44150983141403e-6) + 2.44150983141403e-6*c_42 + 7.77731799045262e-6, 5.25106497821969e-6*a_21*c_42 + 4.31865662111839e-6*a_42 - 1.61699220833329e-6*a_43 - a_51*(4.94610473140624e-5*a_21*c_42 + 9.91463649856825e-6*a_42 + 3.22217333665302e-7*a_43 + 9.91463649856825e-6*c_42 + 3.63405272057145e-6) - a_52*(-9.91463649856825e-6*a_21*c_42 - 5.23024199472418e-6*a_42 + 1.38265692914876e-6*a_43 - 5.23024199472418e-6*c_42 - 2.44150983141403e-6) - a_53*(-3.22217333665302e-7*a_21*c_42 + 1.38265692914876e-6*a_42 - 7.07324657136005e-6*a_43 + 1.38265692914876e-6*c_42 + 2.32871640971423e-6) - a_54*(3.63405272057145e-6*a_21*c_42 + 2.44150983141403e-6*a_42 - 2.32871640971423e-6*a_43 + 2.44150983141403e-6*c_42 + 7.77731799045262e-6) + 4.31865662111839e-6*c_42 + 2.03168760550855e-6],\n",
       "[    -4.83463908516854e-5*a_51 + 9.32743656017433e-6*a_52 - 7.69033538940051e-7*a_53 - 3.69345848141259e-6*a_54 - 2.64884274941072e-6,          -a_21*(-4.94610473140624e-5*a_51 + 9.91463649856825e-6*a_52 + 3.22217333665302e-7*a_53 - 3.63405272057145e-6*a_54 + 5.25106497821969e-6) + 9.91463649856825e-6*a_51 - 5.23024199472418e-6*a_52 + 1.38265692914876e-6*a_53 + 2.44150983141403e-6*a_54 - 4.31865662111839e-6,                   -a_31*(-4.94610473140624e-5*a_51 + 9.91463649856825e-6*a_52 + 3.22217333665302e-7*a_53 - 3.63405272057145e-6*a_54 + 5.25106497821969e-6) + 6.85622605722448e-7*a_51 + 1.13850594600736e-6*a_52 - 6.84037493038863e-6*a_53 - 1.55098461066897e-6*a_54 - c_32*(-a_21*(-4.94610473140624e-5*a_51 + 9.91463649856825e-6*a_52 + 3.22217333665302e-7*a_53 - 3.63405272057145e-6*a_54 + 5.25106497821969e-6) + 9.91463649856825e-6*a_51 - 5.23024199472418e-6*a_52 + 1.38265692914876e-6*a_53 + 2.44150983141403e-6*a_54 - 4.31865662111839e-6) + 1.41382344778243e-6,                          -a_42*(9.91463649856825e-6*a_51 - 5.23024199472418e-6*a_52 + 1.38265692914876e-6*a_53 + 2.44150983141403e-6*a_54 - 4.31865662111839e-6) - a_43*(3.22217333665302e-7*a_51 + 1.38265692914876e-6*a_52 - 7.07324657136005e-6*a_53 - 2.32871640971423e-6*a_54 + 1.61699220833329e-6) - 3.63405272057145e-6*a_51 + 2.44150983141403e-6*a_52 - 2.32871640971423e-6*a_53 - 7.77731799045262e-6*a_54 - c_42*(-a_21*(-4.94610473140624e-5*a_51 + 9.91463649856825e-6*a_52 + 3.22217333665302e-7*a_53 - 3.63405272057145e-6*a_54 + 5.25106497821969e-6) + 9.91463649856825e-6*a_51 - 5.23024199472418e-6*a_52 + 1.38265692914876e-6*a_53 + 2.44150983141403e-6*a_54 - 4.31865662111839e-6) + 2.03168760550855e-6,                         -a_51*(-4.94610473140624e-5*a_51 + 9.91463649856825e-6*a_52 + 3.22217333665302e-7*a_53 - 3.63405272057145e-6*a_54 + 5.25106497821969e-6) - 5.25106497821969e-6*a_51 - a_52*(9.91463649856825e-6*a_51 - 5.23024199472418e-6*a_52 + 1.38265692914876e-6*a_53 + 2.44150983141403e-6*a_54 - 4.31865662111839e-6) + 4.31865662111839e-6*a_52 - a_53*(3.22217333665302e-7*a_51 + 1.38265692914876e-6*a_52 - 7.07324657136005e-6*a_53 - 2.32871640971423e-6*a_54 + 1.61699220833329e-6) - 1.61699220833329e-6*a_53 - a_54*(-3.63405272057145e-6*a_51 + 2.44150983141403e-6*a_52 - 2.32871640971423e-6*a_53 - 7.77731799045262e-6*a_54 + 2.03168760550855e-6) - 2.03168760550855e-6*a_54 + 4.11165308464853e-5]])"
      ]
     },
     "execution_count": 69,
     "metadata": {},
     "output_type": "execute_result"
    }
   ],
   "source": [
    "Omega_u = C.inv()*A*Omega_e*(A.transpose())*(C.inv().transpose())\n",
    "Omega_u"
   ]
  },
  {
   "cell_type": "code",
   "execution_count": 70,
   "id": "3c8b414d",
   "metadata": {},
   "outputs": [],
   "source": [
    "initial_list = np.repeat(0.1, 10)\n",
    "eq_list = []\n",
    "for i in range(n):\n",
    "    for j in range(n):\n",
    "        if i < j :\n",
    "            eq_list.append(Omega_u[i, j])"
   ]
  },
  {
   "cell_type": "code",
   "execution_count": 71,
   "id": "32f69f4b",
   "metadata": {},
   "outputs": [],
   "source": [
    "sol = sympy.nsolve( (eq_list) , (a21, a31, a42, a43, a51, a52, a53, a54, c32, c42), initial_list, verify=True)"
   ]
  },
  {
   "cell_type": "code",
   "execution_count": 72,
   "id": "a04d56fa",
   "metadata": {},
   "outputs": [
    {
     "data": {
      "text/latex": [
       "$\\displaystyle \\left[\\begin{matrix}-0.192929325144219\\\\0.00826716707819894\\\\-0.383726854458148\\\\0.148589865373702\\\\-0.252685869400813\\\\-1.03370857721529\\\\0.00494298903314674\\\\-0.0211307220824622\\\\-0.390589882142481\\\\-0.0778668819677101\\end{matrix}\\right]$"
      ],
      "text/plain": [
       "Matrix([\n",
       "[ -0.192929325144219],\n",
       "[0.00826716707819894],\n",
       "[ -0.383726854458148],\n",
       "[  0.148589865373702],\n",
       "[ -0.252685869400813],\n",
       "[  -1.03370857721529],\n",
       "[0.00494298903314674],\n",
       "[-0.0211307220824622],\n",
       "[ -0.390589882142481],\n",
       "[-0.0778668819677101]])"
      ]
     },
     "execution_count": 72,
     "metadata": {},
     "output_type": "execute_result"
    }
   ],
   "source": [
    "sol"
   ]
  },
  {
   "cell_type": "code",
   "execution_count": 73,
   "id": "67a41d8e",
   "metadata": {},
   "outputs": [],
   "source": [
    "sA = A.subs([(a21, sol[0]), (a31, sol[1]), (a42, sol[2]), (a43, sol[3]), (a51, sol[4]), (a52, sol[5]), (a53, sol[6]), (a54, sol[7])])\n",
    "sC = C.subs([(c32, sol[8]), (c42, sol[9])])"
   ]
  },
  {
   "cell_type": "code",
   "execution_count": 74,
   "id": "be0f4c66",
   "metadata": {},
   "outputs": [],
   "source": [
    "sOmega_u = sympy.Matrix(np.zeros([n,n]))\n",
    "for i in range(n):\n",
    "    w_i = Omega_u[i,i].subs([(a21, sol[0]), (a31, sol[1]), (a42, sol[2]), (a43, sol[3]), (a51, sol[4]), (a52, sol[5]), (a53, sol[6]), (a54, sol[7]), (c32, sol[8]), (c42, sol[9])])\n",
    "    sOmega_u[i,i] = w_i"
   ]
  },
  {
   "cell_type": "code",
   "execution_count": 75,
   "id": "fec74f83",
   "metadata": {},
   "outputs": [
    {
     "data": {
      "text/latex": [
       "$\\displaystyle \\left[\\begin{matrix}1 & 0 & 0.2 & 0 & -0.2\\\\0.192929325144219 & 1 & 0 & 0 & 0\\\\-0.00826716707819894 & 0 & 1 & -0.1 & 0\\\\0 & 0.383726854458148 & -0.148589865373702 & 1 & 0\\\\0.252685869400813 & 1.03370857721529 & -0.00494298903314674 & 0.0211307220824622 & 1\\end{matrix}\\right]$"
      ],
      "text/plain": [
       "Matrix([\n",
       "[                   1,                 0,                  0.2,                  0, -0.2],\n",
       "[   0.192929325144219,                 1,                    0,                  0,    0],\n",
       "[-0.00826716707819894,                 0,                    1,               -0.1,    0],\n",
       "[                   0, 0.383726854458148,   -0.148589865373702,                  1,    0],\n",
       "[   0.252685869400813,  1.03370857721529, -0.00494298903314674, 0.0211307220824622,    1]])"
      ]
     },
     "execution_count": 75,
     "metadata": {},
     "output_type": "execute_result"
    }
   ],
   "source": [
    "sA"
   ]
  },
  {
   "cell_type": "code",
   "execution_count": 76,
   "id": "8565588e",
   "metadata": {},
   "outputs": [
    {
     "data": {
      "text/latex": [
       "$\\displaystyle \\left[\\begin{matrix}1 & 0 & 0 & 0 & 0\\\\0 & 1 & 0 & 0 & 0\\\\0 & -0.390589882142481 & 1 & 0 & 0\\\\0 & -0.0778668819677101 & 0 & 1 & 0\\\\0 & 0 & 0 & 0 & 1\\end{matrix}\\right]$"
      ],
      "text/plain": [
       "Matrix([\n",
       "[1,                   0, 0, 0, 0],\n",
       "[0,                   1, 0, 0, 0],\n",
       "[0,  -0.390589882142481, 1, 0, 0],\n",
       "[0, -0.0778668819677101, 0, 1, 0],\n",
       "[0,                   0, 0, 0, 1]])"
      ]
     },
     "execution_count": 76,
     "metadata": {},
     "output_type": "execute_result"
    }
   ],
   "source": [
    "sC"
   ]
  },
  {
   "cell_type": "code",
   "execution_count": 77,
   "id": "a4a14f2d",
   "metadata": {},
   "outputs": [
    {
     "data": {
      "text/latex": [
       "$\\displaystyle \\left[\\begin{matrix}4.90299661093556 \\cdot 10^{-5} & 0 & 0 & 0 & 0\\\\0 & 3.24561921392151 \\cdot 10^{-6} & 0 & 0 & 0\\\\0 & 0 & 6.20484010249451 \\cdot 10^{-6} & 0 & 0\\\\0 & 0 & 0 & 6.27582196291442 \\cdot 10^{-6} & 0\\\\0 & 0 & 0 & 0 & 3.84293354116579 \\cdot 10^{-5}\\end{matrix}\\right]$"
      ],
      "text/plain": [
       "Matrix([\n",
       "[4.90299661093556e-5,                   0,                   0,                   0,                   0],\n",
       "[                  0, 3.24561921392151e-6,                   0,                   0,                   0],\n",
       "[                  0,                   0, 6.20484010249451e-6,                   0,                   0],\n",
       "[                  0,                   0,                   0, 6.27582196291442e-6,                   0],\n",
       "[                  0,                   0,                   0,                   0, 3.84293354116579e-5]])"
      ]
     },
     "execution_count": 77,
     "metadata": {},
     "output_type": "execute_result"
    }
   ],
   "source": [
    "sOmega_u"
   ]
  },
  {
   "cell_type": "code",
   "execution_count": 78,
   "id": "e71bb9df",
   "metadata": {},
   "outputs": [
    {
     "data": {
      "text/plain": [
       "array([[0.00700214, 0.        , 0.        , 0.        , 0.        ],\n",
       "       [0.        , 0.00180156, 0.        , 0.        , 0.        ],\n",
       "       [0.        , 0.        , 0.00249095, 0.        , 0.        ],\n",
       "       [0.        , 0.        , 0.        , 0.00250516, 0.        ],\n",
       "       [0.        , 0.        , 0.        , 0.        , 0.00619914]])"
      ]
     },
     "execution_count": 78,
     "metadata": {},
     "output_type": "execute_result"
    }
   ],
   "source": [
    "shock = np.array(sOmega_u).astype(np.float64)\n",
    "shock_std = np.sqrt(shock)\n",
    "shock_std"
   ]
  },
  {
   "cell_type": "markdown",
   "id": "041d6606",
   "metadata": {},
   "source": [
    "#### (5) $c=0, a_{34}=0.3$"
   ]
  },
  {
   "cell_type": "code",
   "execution_count": 79,
   "id": "88062940",
   "metadata": {},
   "outputs": [],
   "source": [
    "A, C = matrix_maker(0,0.3)\n",
    "Omega_u = sympy.Matrix(np.diag([globals()[f'w{i}'] for i in range(1, n+1)]))"
   ]
  },
  {
   "cell_type": "code",
   "execution_count": 80,
   "id": "afdd39a0",
   "metadata": {},
   "outputs": [
    {
     "data": {
      "text/latex": [
       "$\\displaystyle \\left[\\begin{matrix}1 & 0 & 0 & 0 & 0\\\\- a_{21} & 1 & 0 & 0 & 0\\\\- a_{31} & 0 & 1 & -0.3 & 0\\\\0 & - a_{42} & - a_{43} & 1 & 0\\\\- a_{51} & - a_{52} & - a_{53} & - a_{54} & 1\\end{matrix}\\right]$"
      ],
      "text/plain": [
       "Matrix([\n",
       "[    1,     0,     0,     0, 0],\n",
       "[-a_21,     1,     0,     0, 0],\n",
       "[-a_31,     0,     1,  -0.3, 0],\n",
       "[    0, -a_42, -a_43,     1, 0],\n",
       "[-a_51, -a_52, -a_53, -a_54, 1]])"
      ]
     },
     "execution_count": 80,
     "metadata": {},
     "output_type": "execute_result"
    }
   ],
   "source": [
    "A"
   ]
  },
  {
   "cell_type": "code",
   "execution_count": 81,
   "id": "1e52544a",
   "metadata": {},
   "outputs": [
    {
     "data": {
      "text/latex": [
       "$\\displaystyle \\left[\\begin{matrix}1 & 0 & 0 & 0 & 0\\\\0 & 1 & 0 & 0 & 0\\\\0 & c_{32} & 1 & 0 & 0\\\\0 & c_{42} & 0 & 1 & 0\\\\0 & 0 & 0 & 0 & 1\\end{matrix}\\right]$"
      ],
      "text/plain": [
       "Matrix([\n",
       "[1,    0, 0, 0, 0],\n",
       "[0,    1, 0, 0, 0],\n",
       "[0, c_32, 1, 0, 0],\n",
       "[0, c_42, 0, 1, 0],\n",
       "[0,    0, 0, 0, 1]])"
      ]
     },
     "execution_count": 81,
     "metadata": {},
     "output_type": "execute_result"
    }
   ],
   "source": [
    "C"
   ]
  },
  {
   "cell_type": "code",
   "execution_count": 82,
   "id": "f865c26a",
   "metadata": {
    "scrolled": true
   },
   "outputs": [
    {
     "data": {
      "text/latex": [
       "$\\displaystyle \\left[\\begin{matrix}4.94610473140624 \\cdot 10^{-5} & - 4.94610473140624 \\cdot 10^{-5} a_{21} - 9.91463649856825 \\cdot 10^{-6} & - 4.94610473140624 \\cdot 10^{-5} a_{31} - c_{32} \\left(- 4.94610473140624 \\cdot 10^{-5} a_{21} - 9.91463649856825 \\cdot 10^{-6}\\right) - 1.41243314983674 \\cdot 10^{-6} & 9.91463649856825 \\cdot 10^{-6} a_{42} + 3.22217333665302 \\cdot 10^{-7} a_{43} - c_{42} \\left(- 4.94610473140624 \\cdot 10^{-5} a_{21} - 9.91463649856825 \\cdot 10^{-6}\\right) + 3.63405272057145 \\cdot 10^{-6} & - 4.94610473140624 \\cdot 10^{-5} a_{51} + 9.91463649856825 \\cdot 10^{-6} a_{52} + 3.22217333665302 \\cdot 10^{-7} a_{53} - 3.63405272057145 \\cdot 10^{-6} a_{54} + 5.25106497821969 \\cdot 10^{-6}\\\\- 4.94610473140624 \\cdot 10^{-5} a_{21} - 9.91463649856825 \\cdot 10^{-6} & - a_{21} \\left(- 4.94610473140624 \\cdot 10^{-5} a_{21} - 9.91463649856825 \\cdot 10^{-6}\\right) + 9.91463649856825 \\cdot 10^{-6} a_{21} + 5.23024199472418 \\cdot 10^{-6} & 1.41243314983674 \\cdot 10^{-6} a_{21} - a_{31} \\left(- 4.94610473140624 \\cdot 10^{-5} a_{21} - 9.91463649856825 \\cdot 10^{-6}\\right) - c_{32} \\left(- a_{21} \\left(- 4.94610473140624 \\cdot 10^{-5} a_{21} - 9.91463649856825 \\cdot 10^{-6}\\right) + 9.91463649856825 \\cdot 10^{-6} a_{21} + 5.23024199472418 \\cdot 10^{-6}\\right) - 6.50203979724553 \\cdot 10^{-7} & - 3.63405272057145 \\cdot 10^{-6} a_{21} - a_{42} \\left(9.91463649856825 \\cdot 10^{-6} a_{21} + 5.23024199472418 \\cdot 10^{-6}\\right) - a_{43} \\left(3.22217333665302 \\cdot 10^{-7} a_{21} - 1.38265692914876 \\cdot 10^{-6}\\right) - c_{42} \\left(- a_{21} \\left(- 4.94610473140624 \\cdot 10^{-5} a_{21} - 9.91463649856825 \\cdot 10^{-6}\\right) + 9.91463649856825 \\cdot 10^{-6} a_{21} + 5.23024199472418 \\cdot 10^{-6}\\right) - 2.44150983141403 \\cdot 10^{-6} & - 5.25106497821969 \\cdot 10^{-6} a_{21} - a_{51} \\left(- 4.94610473140624 \\cdot 10^{-5} a_{21} - 9.91463649856825 \\cdot 10^{-6}\\right) - a_{52} \\left(9.91463649856825 \\cdot 10^{-6} a_{21} + 5.23024199472418 \\cdot 10^{-6}\\right) - a_{53} \\left(3.22217333665302 \\cdot 10^{-7} a_{21} - 1.38265692914876 \\cdot 10^{-6}\\right) - a_{54} \\left(- 3.63405272057145 \\cdot 10^{-6} a_{21} - 2.44150983141403 \\cdot 10^{-6}\\right) - 4.31865662111839 \\cdot 10^{-6}\\\\4.94610473140624 \\cdot 10^{-5} a_{21} c_{32} - 4.94610473140624 \\cdot 10^{-5} a_{31} + 9.91463649856825 \\cdot 10^{-6} c_{32} - 1.41243314983674 \\cdot 10^{-6} & - 9.91463649856825 \\cdot 10^{-6} a_{21} c_{32} - a_{21} \\left(4.94610473140624 \\cdot 10^{-5} a_{21} c_{32} - 4.94610473140624 \\cdot 10^{-5} a_{31} + 9.91463649856825 \\cdot 10^{-6} c_{32} - 1.41243314983674 \\cdot 10^{-6}\\right) + 9.91463649856825 \\cdot 10^{-6} a_{31} - 5.23024199472418 \\cdot 10^{-6} c_{32} - 6.50203979724553 \\cdot 10^{-7} & - 1.41243314983674 \\cdot 10^{-6} a_{21} c_{32} - a_{31} \\left(4.94610473140624 \\cdot 10^{-5} a_{21} c_{32} - 4.94610473140624 \\cdot 10^{-5} a_{31} + 9.91463649856825 \\cdot 10^{-6} c_{32} - 1.41243314983674 \\cdot 10^{-6}\\right) + 1.41243314983674 \\cdot 10^{-6} a_{31} - c_{32} \\left(- 9.91463649856825 \\cdot 10^{-6} a_{21} c_{32} - a_{21} \\left(4.94610473140624 \\cdot 10^{-5} a_{21} c_{32} - 4.94610473140624 \\cdot 10^{-5} a_{31} + 9.91463649856825 \\cdot 10^{-6} c_{32} - 1.41243314983674 \\cdot 10^{-6}\\right) + 9.91463649856825 \\cdot 10^{-6} a_{31} - 5.23024199472418 \\cdot 10^{-6} c_{32} - 6.50203979724553 \\cdot 10^{-7}\\right) + 6.50203979724553 \\cdot 10^{-7} c_{32} + 6.37597534467225 \\cdot 10^{-6} & 3.63405272057145 \\cdot 10^{-6} a_{21} c_{32} - 3.63405272057145 \\cdot 10^{-6} a_{31} - a_{42} \\left(- 9.91463649856825 \\cdot 10^{-6} a_{21} c_{32} + 9.91463649856825 \\cdot 10^{-6} a_{31} - 5.23024199472418 \\cdot 10^{-6} c_{32} - 6.50203979724553 \\cdot 10^{-7}\\right) - a_{43} \\left(- 3.22217333665302 \\cdot 10^{-7} a_{21} c_{32} + 3.22217333665302 \\cdot 10^{-7} a_{31} + 1.38265692914876 \\cdot 10^{-6} c_{32} + 6.37463164844578 \\cdot 10^{-6}\\right) + 2.44150983141403 \\cdot 10^{-6} c_{32} - c_{42} \\left(- 9.91463649856825 \\cdot 10^{-6} a_{21} c_{32} - a_{21} \\left(4.94610473140624 \\cdot 10^{-5} a_{21} c_{32} - 4.94610473140624 \\cdot 10^{-5} a_{31} + 9.91463649856825 \\cdot 10^{-6} c_{32} - 1.41243314983674 \\cdot 10^{-6}\\right) + 9.91463649856825 \\cdot 10^{-6} a_{31} - 5.23024199472418 \\cdot 10^{-6} c_{32} - 6.50203979724553 \\cdot 10^{-7}\\right) - 4.4789874215571 \\cdot 10^{-9} & 5.25106497821969 \\cdot 10^{-6} a_{21} c_{32} - 5.25106497821969 \\cdot 10^{-6} a_{31} - a_{51} \\left(4.94610473140624 \\cdot 10^{-5} a_{21} c_{32} - 4.94610473140624 \\cdot 10^{-5} a_{31} + 9.91463649856825 \\cdot 10^{-6} c_{32} - 1.41243314983674 \\cdot 10^{-6}\\right) - a_{52} \\left(- 9.91463649856825 \\cdot 10^{-6} a_{21} c_{32} + 9.91463649856825 \\cdot 10^{-6} a_{31} - 5.23024199472418 \\cdot 10^{-6} c_{32} - 6.50203979724553 \\cdot 10^{-7}\\right) - a_{53} \\left(- 3.22217333665302 \\cdot 10^{-7} a_{21} c_{32} + 3.22217333665302 \\cdot 10^{-7} a_{31} + 1.38265692914876 \\cdot 10^{-6} c_{32} + 6.37463164844578 \\cdot 10^{-6}\\right) - a_{54} \\left(3.63405272057145 \\cdot 10^{-6} a_{21} c_{32} - 3.63405272057145 \\cdot 10^{-6} a_{31} + 2.44150983141403 \\cdot 10^{-6} c_{32} - 4.4789874215571 \\cdot 10^{-9}\\right) + 4.31865662111839 \\cdot 10^{-6} c_{32} + 1.00748592668072 \\cdot 10^{-6}\\\\4.94610473140624 \\cdot 10^{-5} a_{21} c_{42} + 9.91463649856825 \\cdot 10^{-6} a_{42} + 3.22217333665302 \\cdot 10^{-7} a_{43} + 9.91463649856825 \\cdot 10^{-6} c_{42} + 3.63405272057145 \\cdot 10^{-6} & - 9.91463649856825 \\cdot 10^{-6} a_{21} c_{42} - a_{21} \\left(4.94610473140624 \\cdot 10^{-5} a_{21} c_{42} + 9.91463649856825 \\cdot 10^{-6} a_{42} + 3.22217333665302 \\cdot 10^{-7} a_{43} + 9.91463649856825 \\cdot 10^{-6} c_{42} + 3.63405272057145 \\cdot 10^{-6}\\right) - 5.23024199472418 \\cdot 10^{-6} a_{42} + 1.38265692914876 \\cdot 10^{-6} a_{43} - 5.23024199472418 \\cdot 10^{-6} c_{42} - 2.44150983141403 \\cdot 10^{-6} & - 1.41243314983674 \\cdot 10^{-6} a_{21} c_{42} - a_{31} \\left(4.94610473140624 \\cdot 10^{-5} a_{21} c_{42} + 9.91463649856825 \\cdot 10^{-6} a_{42} + 3.22217333665302 \\cdot 10^{-7} a_{43} + 9.91463649856825 \\cdot 10^{-6} c_{42} + 3.63405272057145 \\cdot 10^{-6}\\right) + 6.50203979724553 \\cdot 10^{-7} a_{42} - 6.37463164844578 \\cdot 10^{-6} a_{43} - c_{32} \\left(- 9.91463649856825 \\cdot 10^{-6} a_{21} c_{42} - a_{21} \\left(4.94610473140624 \\cdot 10^{-5} a_{21} c_{42} + 9.91463649856825 \\cdot 10^{-6} a_{42} + 3.22217333665302 \\cdot 10^{-7} a_{43} + 9.91463649856825 \\cdot 10^{-6} c_{42} + 3.63405272057145 \\cdot 10^{-6}\\right) - 5.23024199472418 \\cdot 10^{-6} a_{42} + 1.38265692914876 \\cdot 10^{-6} a_{43} - 5.23024199472418 \\cdot 10^{-6} c_{42} - 2.44150983141403 \\cdot 10^{-6}\\right) + 6.50203979724553 \\cdot 10^{-7} c_{42} - 4.4789874215571 \\cdot 10^{-9} & 3.63405272057145 \\cdot 10^{-6} a_{21} c_{42} - a_{42} \\left(- 9.91463649856825 \\cdot 10^{-6} a_{21} c_{42} - 5.23024199472418 \\cdot 10^{-6} a_{42} + 1.38265692914876 \\cdot 10^{-6} a_{43} - 5.23024199472418 \\cdot 10^{-6} c_{42} - 2.44150983141403 \\cdot 10^{-6}\\right) + 2.44150983141403 \\cdot 10^{-6} a_{42} - a_{43} \\left(- 3.22217333665302 \\cdot 10^{-7} a_{21} c_{42} + 1.38265692914876 \\cdot 10^{-6} a_{42} - 7.07324657136005 \\cdot 10^{-6} a_{43} + 1.38265692914876 \\cdot 10^{-6} c_{42} + 2.32871640971423 \\cdot 10^{-6}\\right) - 2.32871640971423 \\cdot 10^{-6} a_{43} - c_{42} \\left(- 9.91463649856825 \\cdot 10^{-6} a_{21} c_{42} - a_{21} \\left(4.94610473140624 \\cdot 10^{-5} a_{21} c_{42} + 9.91463649856825 \\cdot 10^{-6} a_{42} + 3.22217333665302 \\cdot 10^{-7} a_{43} + 9.91463649856825 \\cdot 10^{-6} c_{42} + 3.63405272057145 \\cdot 10^{-6}\\right) - 5.23024199472418 \\cdot 10^{-6} a_{42} + 1.38265692914876 \\cdot 10^{-6} a_{43} - 5.23024199472418 \\cdot 10^{-6} c_{42} - 2.44150983141403 \\cdot 10^{-6}\\right) + 2.44150983141403 \\cdot 10^{-6} c_{42} + 7.77731799045262 \\cdot 10^{-6} & 5.25106497821969 \\cdot 10^{-6} a_{21} c_{42} + 4.31865662111839 \\cdot 10^{-6} a_{42} - 1.61699220833329 \\cdot 10^{-6} a_{43} - a_{51} \\left(4.94610473140624 \\cdot 10^{-5} a_{21} c_{42} + 9.91463649856825 \\cdot 10^{-6} a_{42} + 3.22217333665302 \\cdot 10^{-7} a_{43} + 9.91463649856825 \\cdot 10^{-6} c_{42} + 3.63405272057145 \\cdot 10^{-6}\\right) - a_{52} \\left(- 9.91463649856825 \\cdot 10^{-6} a_{21} c_{42} - 5.23024199472418 \\cdot 10^{-6} a_{42} + 1.38265692914876 \\cdot 10^{-6} a_{43} - 5.23024199472418 \\cdot 10^{-6} c_{42} - 2.44150983141403 \\cdot 10^{-6}\\right) - a_{53} \\left(- 3.22217333665302 \\cdot 10^{-7} a_{21} c_{42} + 1.38265692914876 \\cdot 10^{-6} a_{42} - 7.07324657136005 \\cdot 10^{-6} a_{43} + 1.38265692914876 \\cdot 10^{-6} c_{42} + 2.32871640971423 \\cdot 10^{-6}\\right) - a_{54} \\left(3.63405272057145 \\cdot 10^{-6} a_{21} c_{42} + 2.44150983141403 \\cdot 10^{-6} a_{42} - 2.32871640971423 \\cdot 10^{-6} a_{43} + 2.44150983141403 \\cdot 10^{-6} c_{42} + 7.77731799045262 \\cdot 10^{-6}\\right) + 4.31865662111839 \\cdot 10^{-6} c_{42} + 2.03168760550855 \\cdot 10^{-6}\\\\- 4.94610473140624 \\cdot 10^{-5} a_{51} + 9.91463649856825 \\cdot 10^{-6} a_{52} + 3.22217333665302 \\cdot 10^{-7} a_{53} - 3.63405272057145 \\cdot 10^{-6} a_{54} + 5.25106497821969 \\cdot 10^{-6} & - a_{21} \\left(- 4.94610473140624 \\cdot 10^{-5} a_{51} + 9.91463649856825 \\cdot 10^{-6} a_{52} + 3.22217333665302 \\cdot 10^{-7} a_{53} - 3.63405272057145 \\cdot 10^{-6} a_{54} + 5.25106497821969 \\cdot 10^{-6}\\right) + 9.91463649856825 \\cdot 10^{-6} a_{51} - 5.23024199472418 \\cdot 10^{-6} a_{52} + 1.38265692914876 \\cdot 10^{-6} a_{53} + 2.44150983141403 \\cdot 10^{-6} a_{54} - 4.31865662111839 \\cdot 10^{-6} & - a_{31} \\left(- 4.94610473140624 \\cdot 10^{-5} a_{51} + 9.91463649856825 \\cdot 10^{-6} a_{52} + 3.22217333665302 \\cdot 10^{-7} a_{53} - 3.63405272057145 \\cdot 10^{-6} a_{54} + 5.25106497821969 \\cdot 10^{-6}\\right) + 1.41243314983674 \\cdot 10^{-6} a_{51} + 6.50203979724553 \\cdot 10^{-7} a_{52} - 6.37463164844578 \\cdot 10^{-6} a_{53} + 4.4789874215571 \\cdot 10^{-9} a_{54} - c_{32} \\left(- a_{21} \\left(- 4.94610473140624 \\cdot 10^{-5} a_{51} + 9.91463649856825 \\cdot 10^{-6} a_{52} + 3.22217333665302 \\cdot 10^{-7} a_{53} - 3.63405272057145 \\cdot 10^{-6} a_{54} + 5.25106497821969 \\cdot 10^{-6}\\right) + 9.91463649856825 \\cdot 10^{-6} a_{51} - 5.23024199472418 \\cdot 10^{-6} a_{52} + 1.38265692914876 \\cdot 10^{-6} a_{53} + 2.44150983141403 \\cdot 10^{-6} a_{54} - 4.31865662111839 \\cdot 10^{-6}\\right) + 1.00748592668072 \\cdot 10^{-6} & - a_{42} \\left(9.91463649856825 \\cdot 10^{-6} a_{51} - 5.23024199472418 \\cdot 10^{-6} a_{52} + 1.38265692914876 \\cdot 10^{-6} a_{53} + 2.44150983141403 \\cdot 10^{-6} a_{54} - 4.31865662111839 \\cdot 10^{-6}\\right) - a_{43} \\left(3.22217333665302 \\cdot 10^{-7} a_{51} + 1.38265692914876 \\cdot 10^{-6} a_{52} - 7.07324657136005 \\cdot 10^{-6} a_{53} - 2.32871640971423 \\cdot 10^{-6} a_{54} + 1.61699220833329 \\cdot 10^{-6}\\right) - 3.63405272057145 \\cdot 10^{-6} a_{51} + 2.44150983141403 \\cdot 10^{-6} a_{52} - 2.32871640971423 \\cdot 10^{-6} a_{53} - 7.77731799045262 \\cdot 10^{-6} a_{54} - c_{42} \\left(- a_{21} \\left(- 4.94610473140624 \\cdot 10^{-5} a_{51} + 9.91463649856825 \\cdot 10^{-6} a_{52} + 3.22217333665302 \\cdot 10^{-7} a_{53} - 3.63405272057145 \\cdot 10^{-6} a_{54} + 5.25106497821969 \\cdot 10^{-6}\\right) + 9.91463649856825 \\cdot 10^{-6} a_{51} - 5.23024199472418 \\cdot 10^{-6} a_{52} + 1.38265692914876 \\cdot 10^{-6} a_{53} + 2.44150983141403 \\cdot 10^{-6} a_{54} - 4.31865662111839 \\cdot 10^{-6}\\right) + 2.03168760550855 \\cdot 10^{-6} & - a_{51} \\left(- 4.94610473140624 \\cdot 10^{-5} a_{51} + 9.91463649856825 \\cdot 10^{-6} a_{52} + 3.22217333665302 \\cdot 10^{-7} a_{53} - 3.63405272057145 \\cdot 10^{-6} a_{54} + 5.25106497821969 \\cdot 10^{-6}\\right) - 5.25106497821969 \\cdot 10^{-6} a_{51} - a_{52} \\left(9.91463649856825 \\cdot 10^{-6} a_{51} - 5.23024199472418 \\cdot 10^{-6} a_{52} + 1.38265692914876 \\cdot 10^{-6} a_{53} + 2.44150983141403 \\cdot 10^{-6} a_{54} - 4.31865662111839 \\cdot 10^{-6}\\right) + 4.31865662111839 \\cdot 10^{-6} a_{52} - a_{53} \\left(3.22217333665302 \\cdot 10^{-7} a_{51} + 1.38265692914876 \\cdot 10^{-6} a_{52} - 7.07324657136005 \\cdot 10^{-6} a_{53} - 2.32871640971423 \\cdot 10^{-6} a_{54} + 1.61699220833329 \\cdot 10^{-6}\\right) - 1.61699220833329 \\cdot 10^{-6} a_{53} - a_{54} \\left(- 3.63405272057145 \\cdot 10^{-6} a_{51} + 2.44150983141403 \\cdot 10^{-6} a_{52} - 2.32871640971423 \\cdot 10^{-6} a_{53} - 7.77731799045262 \\cdot 10^{-6} a_{54} + 2.03168760550855 \\cdot 10^{-6}\\right) - 2.03168760550855 \\cdot 10^{-6} a_{54} + 4.11165308464853 \\cdot 10^{-5}\\end{matrix}\\right]$"
      ],
      "text/plain": [
       "Matrix([\n",
       "[                                                                                                                 4.94610473140624e-5,                                                                                                                                                                                                                                     -4.94610473140624e-5*a_21 - 9.91463649856825e-6,                                                                                                                                                                                                                                                                                                                                                                                                                                                                        -4.94610473140624e-5*a_31 - c_32*(-4.94610473140624e-5*a_21 - 9.91463649856825e-6) - 1.41243314983674e-6,                                                                                                                                                                                                                                                                                                                                                                                                                                                                                                                                                                                              9.91463649856825e-6*a_42 + 3.22217333665302e-7*a_43 - c_42*(-4.94610473140624e-5*a_21 - 9.91463649856825e-6) + 3.63405272057145e-6,                                                                                                                                                                                                                                                                                                                                                                                                                                                                                                                                                                                               -4.94610473140624e-5*a_51 + 9.91463649856825e-6*a_52 + 3.22217333665302e-7*a_53 - 3.63405272057145e-6*a_54 + 5.25106497821969e-6],\n",
       "[                                                                                     -4.94610473140624e-5*a_21 - 9.91463649856825e-6,                                                                                                                                                                            -a_21*(-4.94610473140624e-5*a_21 - 9.91463649856825e-6) + 9.91463649856825e-6*a_21 + 5.23024199472418e-6,                                                                                                                                                                                                                                                                                                                                                       1.41243314983674e-6*a_21 - a_31*(-4.94610473140624e-5*a_21 - 9.91463649856825e-6) - c_32*(-a_21*(-4.94610473140624e-5*a_21 - 9.91463649856825e-6) + 9.91463649856825e-6*a_21 + 5.23024199472418e-6) - 6.50203979724553e-7,                                                                                                                                                                                                                                                                                                                                                                                                                                               -3.63405272057145e-6*a_21 - a_42*(9.91463649856825e-6*a_21 + 5.23024199472418e-6) - a_43*(3.22217333665302e-7*a_21 - 1.38265692914876e-6) - c_42*(-a_21*(-4.94610473140624e-5*a_21 - 9.91463649856825e-6) + 9.91463649856825e-6*a_21 + 5.23024199472418e-6) - 2.44150983141403e-6,                                                                                                                                                                                                                                                                                                                                                                                                                                              -5.25106497821969e-6*a_21 - a_51*(-4.94610473140624e-5*a_21 - 9.91463649856825e-6) - a_52*(9.91463649856825e-6*a_21 + 5.23024199472418e-6) - a_53*(3.22217333665302e-7*a_21 - 1.38265692914876e-6) - a_54*(-3.63405272057145e-6*a_21 - 2.44150983141403e-6) - 4.31865662111839e-6],\n",
       "[                           4.94610473140624e-5*a_21*c_32 - 4.94610473140624e-5*a_31 + 9.91463649856825e-6*c_32 - 1.41243314983674e-6,                                                       -9.91463649856825e-6*a_21*c_32 - a_21*(4.94610473140624e-5*a_21*c_32 - 4.94610473140624e-5*a_31 + 9.91463649856825e-6*c_32 - 1.41243314983674e-6) + 9.91463649856825e-6*a_31 - 5.23024199472418e-6*c_32 - 6.50203979724553e-7,                                                                                                            -1.41243314983674e-6*a_21*c_32 - a_31*(4.94610473140624e-5*a_21*c_32 - 4.94610473140624e-5*a_31 + 9.91463649856825e-6*c_32 - 1.41243314983674e-6) + 1.41243314983674e-6*a_31 - c_32*(-9.91463649856825e-6*a_21*c_32 - a_21*(4.94610473140624e-5*a_21*c_32 - 4.94610473140624e-5*a_31 + 9.91463649856825e-6*c_32 - 1.41243314983674e-6) + 9.91463649856825e-6*a_31 - 5.23024199472418e-6*c_32 - 6.50203979724553e-7) + 6.50203979724553e-7*c_32 + 6.37597534467225e-6,                                                                                                                                         3.63405272057145e-6*a_21*c_32 - 3.63405272057145e-6*a_31 - a_42*(-9.91463649856825e-6*a_21*c_32 + 9.91463649856825e-6*a_31 - 5.23024199472418e-6*c_32 - 6.50203979724553e-7) - a_43*(-3.22217333665302e-7*a_21*c_32 + 3.22217333665302e-7*a_31 + 1.38265692914876e-6*c_32 + 6.37463164844578e-6) + 2.44150983141403e-6*c_32 - c_42*(-9.91463649856825e-6*a_21*c_32 - a_21*(4.94610473140624e-5*a_21*c_32 - 4.94610473140624e-5*a_31 + 9.91463649856825e-6*c_32 - 1.41243314983674e-6) + 9.91463649856825e-6*a_31 - 5.23024199472418e-6*c_32 - 6.50203979724553e-7) - 4.4789874215571e-9,                                                                                                                                         5.25106497821969e-6*a_21*c_32 - 5.25106497821969e-6*a_31 - a_51*(4.94610473140624e-5*a_21*c_32 - 4.94610473140624e-5*a_31 + 9.91463649856825e-6*c_32 - 1.41243314983674e-6) - a_52*(-9.91463649856825e-6*a_21*c_32 + 9.91463649856825e-6*a_31 - 5.23024199472418e-6*c_32 - 6.50203979724553e-7) - a_53*(-3.22217333665302e-7*a_21*c_32 + 3.22217333665302e-7*a_31 + 1.38265692914876e-6*c_32 + 6.37463164844578e-6) - a_54*(3.63405272057145e-6*a_21*c_32 - 3.63405272057145e-6*a_31 + 2.44150983141403e-6*c_32 - 4.4789874215571e-9) + 4.31865662111839e-6*c_32 + 1.00748592668072e-6],\n",
       "[4.94610473140624e-5*a_21*c_42 + 9.91463649856825e-6*a_42 + 3.22217333665302e-7*a_43 + 9.91463649856825e-6*c_42 + 3.63405272057145e-6, -9.91463649856825e-6*a_21*c_42 - a_21*(4.94610473140624e-5*a_21*c_42 + 9.91463649856825e-6*a_42 + 3.22217333665302e-7*a_43 + 9.91463649856825e-6*c_42 + 3.63405272057145e-6) - 5.23024199472418e-6*a_42 + 1.38265692914876e-6*a_43 - 5.23024199472418e-6*c_42 - 2.44150983141403e-6, -1.41243314983674e-6*a_21*c_42 - a_31*(4.94610473140624e-5*a_21*c_42 + 9.91463649856825e-6*a_42 + 3.22217333665302e-7*a_43 + 9.91463649856825e-6*c_42 + 3.63405272057145e-6) + 6.50203979724553e-7*a_42 - 6.37463164844578e-6*a_43 - c_32*(-9.91463649856825e-6*a_21*c_42 - a_21*(4.94610473140624e-5*a_21*c_42 + 9.91463649856825e-6*a_42 + 3.22217333665302e-7*a_43 + 9.91463649856825e-6*c_42 + 3.63405272057145e-6) - 5.23024199472418e-6*a_42 + 1.38265692914876e-6*a_43 - 5.23024199472418e-6*c_42 - 2.44150983141403e-6) + 6.50203979724553e-7*c_42 - 4.4789874215571e-9, 3.63405272057145e-6*a_21*c_42 - a_42*(-9.91463649856825e-6*a_21*c_42 - 5.23024199472418e-6*a_42 + 1.38265692914876e-6*a_43 - 5.23024199472418e-6*c_42 - 2.44150983141403e-6) + 2.44150983141403e-6*a_42 - a_43*(-3.22217333665302e-7*a_21*c_42 + 1.38265692914876e-6*a_42 - 7.07324657136005e-6*a_43 + 1.38265692914876e-6*c_42 + 2.32871640971423e-6) - 2.32871640971423e-6*a_43 - c_42*(-9.91463649856825e-6*a_21*c_42 - a_21*(4.94610473140624e-5*a_21*c_42 + 9.91463649856825e-6*a_42 + 3.22217333665302e-7*a_43 + 9.91463649856825e-6*c_42 + 3.63405272057145e-6) - 5.23024199472418e-6*a_42 + 1.38265692914876e-6*a_43 - 5.23024199472418e-6*c_42 - 2.44150983141403e-6) + 2.44150983141403e-6*c_42 + 7.77731799045262e-6, 5.25106497821969e-6*a_21*c_42 + 4.31865662111839e-6*a_42 - 1.61699220833329e-6*a_43 - a_51*(4.94610473140624e-5*a_21*c_42 + 9.91463649856825e-6*a_42 + 3.22217333665302e-7*a_43 + 9.91463649856825e-6*c_42 + 3.63405272057145e-6) - a_52*(-9.91463649856825e-6*a_21*c_42 - 5.23024199472418e-6*a_42 + 1.38265692914876e-6*a_43 - 5.23024199472418e-6*c_42 - 2.44150983141403e-6) - a_53*(-3.22217333665302e-7*a_21*c_42 + 1.38265692914876e-6*a_42 - 7.07324657136005e-6*a_43 + 1.38265692914876e-6*c_42 + 2.32871640971423e-6) - a_54*(3.63405272057145e-6*a_21*c_42 + 2.44150983141403e-6*a_42 - 2.32871640971423e-6*a_43 + 2.44150983141403e-6*c_42 + 7.77731799045262e-6) + 4.31865662111839e-6*c_42 + 2.03168760550855e-6],\n",
       "[    -4.94610473140624e-5*a_51 + 9.91463649856825e-6*a_52 + 3.22217333665302e-7*a_53 - 3.63405272057145e-6*a_54 + 5.25106497821969e-6,          -a_21*(-4.94610473140624e-5*a_51 + 9.91463649856825e-6*a_52 + 3.22217333665302e-7*a_53 - 3.63405272057145e-6*a_54 + 5.25106497821969e-6) + 9.91463649856825e-6*a_51 - 5.23024199472418e-6*a_52 + 1.38265692914876e-6*a_53 + 2.44150983141403e-6*a_54 - 4.31865662111839e-6,                   -a_31*(-4.94610473140624e-5*a_51 + 9.91463649856825e-6*a_52 + 3.22217333665302e-7*a_53 - 3.63405272057145e-6*a_54 + 5.25106497821969e-6) + 1.41243314983674e-6*a_51 + 6.50203979724553e-7*a_52 - 6.37463164844578e-6*a_53 + 4.4789874215571e-9*a_54 - c_32*(-a_21*(-4.94610473140624e-5*a_51 + 9.91463649856825e-6*a_52 + 3.22217333665302e-7*a_53 - 3.63405272057145e-6*a_54 + 5.25106497821969e-6) + 9.91463649856825e-6*a_51 - 5.23024199472418e-6*a_52 + 1.38265692914876e-6*a_53 + 2.44150983141403e-6*a_54 - 4.31865662111839e-6) + 1.00748592668072e-6,                          -a_42*(9.91463649856825e-6*a_51 - 5.23024199472418e-6*a_52 + 1.38265692914876e-6*a_53 + 2.44150983141403e-6*a_54 - 4.31865662111839e-6) - a_43*(3.22217333665302e-7*a_51 + 1.38265692914876e-6*a_52 - 7.07324657136005e-6*a_53 - 2.32871640971423e-6*a_54 + 1.61699220833329e-6) - 3.63405272057145e-6*a_51 + 2.44150983141403e-6*a_52 - 2.32871640971423e-6*a_53 - 7.77731799045262e-6*a_54 - c_42*(-a_21*(-4.94610473140624e-5*a_51 + 9.91463649856825e-6*a_52 + 3.22217333665302e-7*a_53 - 3.63405272057145e-6*a_54 + 5.25106497821969e-6) + 9.91463649856825e-6*a_51 - 5.23024199472418e-6*a_52 + 1.38265692914876e-6*a_53 + 2.44150983141403e-6*a_54 - 4.31865662111839e-6) + 2.03168760550855e-6,                         -a_51*(-4.94610473140624e-5*a_51 + 9.91463649856825e-6*a_52 + 3.22217333665302e-7*a_53 - 3.63405272057145e-6*a_54 + 5.25106497821969e-6) - 5.25106497821969e-6*a_51 - a_52*(9.91463649856825e-6*a_51 - 5.23024199472418e-6*a_52 + 1.38265692914876e-6*a_53 + 2.44150983141403e-6*a_54 - 4.31865662111839e-6) + 4.31865662111839e-6*a_52 - a_53*(3.22217333665302e-7*a_51 + 1.38265692914876e-6*a_52 - 7.07324657136005e-6*a_53 - 2.32871640971423e-6*a_54 + 1.61699220833329e-6) - 1.61699220833329e-6*a_53 - a_54*(-3.63405272057145e-6*a_51 + 2.44150983141403e-6*a_52 - 2.32871640971423e-6*a_53 - 7.77731799045262e-6*a_54 + 2.03168760550855e-6) - 2.03168760550855e-6*a_54 + 4.11165308464853e-5]])"
      ]
     },
     "execution_count": 82,
     "metadata": {},
     "output_type": "execute_result"
    }
   ],
   "source": [
    "Omega_u = C.inv()*A*Omega_e*(A.transpose())*(C.inv().transpose())\n",
    "Omega_u"
   ]
  },
  {
   "cell_type": "code",
   "execution_count": 83,
   "id": "aba7b622",
   "metadata": {},
   "outputs": [],
   "source": [
    "initial_list = np.repeat(0.1, 10)\n",
    "eq_list = []\n",
    "for i in range(n):\n",
    "    for j in range(n):\n",
    "        if i < j :\n",
    "            eq_list.append(Omega_u[i, j])"
   ]
  },
  {
   "cell_type": "code",
   "execution_count": 84,
   "id": "a999542d",
   "metadata": {},
   "outputs": [],
   "source": [
    "sol = sympy.nsolve( (eq_list) , (a21, a31, a42, a43, a51, a52, a53, a54, c32, c42), initial_list, verify=True)"
   ]
  },
  {
   "cell_type": "code",
   "execution_count": 85,
   "id": "8d7388d4",
   "metadata": {},
   "outputs": [
    {
     "data": {
      "text/latex": [
       "$\\displaystyle \\left[\\begin{matrix}-0.200453428242499\\\\-0.0285564747723238\\\\-0.364383084541576\\\\-0.0661879076214148\\\\-0.0930112435626623\\\\-1.00228521888083\\\\0.0351913914436807\\\\-0.0204883763899733\\\\-0.287814710774175\\\\-0.193416057632813\\end{matrix}\\right]$"
      ],
      "text/plain": [
       "Matrix([\n",
       "[ -0.200453428242499],\n",
       "[-0.0285564747723238],\n",
       "[ -0.364383084541576],\n",
       "[-0.0661879076214148],\n",
       "[-0.0930112435626623],\n",
       "[  -1.00228521888083],\n",
       "[ 0.0351913914436807],\n",
       "[-0.0204883763899733],\n",
       "[ -0.287814710774175],\n",
       "[ -0.193416057632813]])"
      ]
     },
     "execution_count": 85,
     "metadata": {},
     "output_type": "execute_result"
    }
   ],
   "source": [
    "sol"
   ]
  },
  {
   "cell_type": "code",
   "execution_count": 86,
   "id": "f6c0030b",
   "metadata": {},
   "outputs": [],
   "source": [
    "sA = A.subs([(a21, sol[0]), (a31, sol[1]), (a42, sol[2]), (a43, sol[3]), (a51, sol[4]), (a52, sol[5]), (a53, sol[6]), (a54, sol[7])])\n",
    "sC = C.subs([(c32, sol[8]), (c42, sol[9])])"
   ]
  },
  {
   "cell_type": "code",
   "execution_count": 87,
   "id": "aaadd652",
   "metadata": {},
   "outputs": [],
   "source": [
    "sOmega_u = sympy.Matrix(np.zeros([n,n]))\n",
    "for i in range(n):\n",
    "    w_i = Omega_u[i,i].subs([(a21, sol[0]), (a31, sol[1]), (a42, sol[2]), (a43, sol[3]), (a51, sol[4]), (a52, sol[5]), (a53, sol[6]), (a54, sol[7]), (c32, sol[8]), (c42, sol[9])])\n",
    "    sOmega_u[i,i] = w_i"
   ]
  },
  {
   "cell_type": "code",
   "execution_count": 88,
   "id": "23a40df3",
   "metadata": {},
   "outputs": [
    {
     "data": {
      "text/latex": [
       "$\\displaystyle \\left[\\begin{matrix}1 & 0 & 0 & 0 & 0\\\\0.200453428242499 & 1 & 0 & 0 & 0\\\\0.0285564747723238 & 0 & 1 & -0.3 & 0\\\\0 & 0.364383084541576 & 0.0661879076214148 & 1 & 0\\\\0.0930112435626623 & 1.00228521888083 & -0.0351913914436807 & 0.0204883763899733 & 1\\end{matrix}\\right]$"
      ],
      "text/plain": [
       "Matrix([\n",
       "[                 1,                 0,                   0,                  0, 0],\n",
       "[ 0.200453428242499,                 1,                   0,                  0, 0],\n",
       "[0.0285564747723238,                 0,                   1,               -0.3, 0],\n",
       "[                 0, 0.364383084541576,  0.0661879076214148,                  1, 0],\n",
       "[0.0930112435626623,  1.00228521888083, -0.0351913914436807, 0.0204883763899733, 1]])"
      ]
     },
     "execution_count": 88,
     "metadata": {},
     "output_type": "execute_result"
    }
   ],
   "source": [
    "sA"
   ]
  },
  {
   "cell_type": "code",
   "execution_count": 89,
   "id": "c0d7fb4b",
   "metadata": {},
   "outputs": [
    {
     "data": {
      "text/latex": [
       "$\\displaystyle \\left[\\begin{matrix}1 & 0 & 0 & 0 & 0\\\\0 & 1 & 0 & 0 & 0\\\\0 & -0.287814710774175 & 1 & 0 & 0\\\\0 & -0.193416057632813 & 0 & 1 & 0\\\\0 & 0 & 0 & 0 & 1\\end{matrix}\\right]$"
      ],
      "text/plain": [
       "Matrix([\n",
       "[1,                  0, 0, 0, 0],\n",
       "[0,                  1, 0, 0, 0],\n",
       "[0, -0.287814710774175, 1, 0, 0],\n",
       "[0, -0.193416057632813, 0, 1, 0],\n",
       "[0,                  0, 0, 0, 1]])"
      ]
     },
     "execution_count": 89,
     "metadata": {},
     "output_type": "execute_result"
    }
   ],
   "source": [
    "sC"
   ]
  },
  {
   "cell_type": "code",
   "execution_count": 90,
   "id": "a8c7639b",
   "metadata": {},
   "outputs": [
    {
     "data": {
      "text/latex": [
       "$\\displaystyle \\left[\\begin{matrix}4.94610473140624 \\cdot 10^{-5} & 0 & 0 & 0 & 0\\\\0 & 3.24281911880797 \\cdot 10^{-6} & 0 & 0 & 0\\\\0 & 0 & 6.06701482777791 \\cdot 10^{-6} & 0 & 0\\\\0 & 0 & 0 & 6.8437199811162 \\cdot 10^{-6} & 0\\\\0 & 0 & 0 & 0 & 3.72611350079727 \\cdot 10^{-5}\\end{matrix}\\right]$"
      ],
      "text/plain": [
       "Matrix([\n",
       "[4.94610473140624e-5,                   0,                   0,                  0,                   0],\n",
       "[                  0, 3.24281911880797e-6,                   0,                  0,                   0],\n",
       "[                  0,                   0, 6.06701482777791e-6,                  0,                   0],\n",
       "[                  0,                   0,                   0, 6.8437199811162e-6,                   0],\n",
       "[                  0,                   0,                   0,                  0, 3.72611350079727e-5]])"
      ]
     },
     "execution_count": 90,
     "metadata": {},
     "output_type": "execute_result"
    }
   ],
   "source": [
    "sOmega_u"
   ]
  },
  {
   "cell_type": "code",
   "execution_count": 91,
   "id": "70a2e9c1",
   "metadata": {},
   "outputs": [
    {
     "data": {
      "text/plain": [
       "array([[0.00703285, 0.        , 0.        , 0.        , 0.        ],\n",
       "       [0.        , 0.00180078, 0.        , 0.        , 0.        ],\n",
       "       [0.        , 0.        , 0.00246313, 0.        , 0.        ],\n",
       "       [0.        , 0.        , 0.        , 0.00261605, 0.        ],\n",
       "       [0.        , 0.        , 0.        , 0.        , 0.00610419]])"
      ]
     },
     "execution_count": 91,
     "metadata": {},
     "output_type": "execute_result"
    }
   ],
   "source": [
    "shock = np.array(sOmega_u).astype(np.float64)\n",
    "shock_std = np.sqrt(shock)\n",
    "shock_std"
   ]
  },
  {
   "cell_type": "markdown",
   "id": "13a6e8a6",
   "metadata": {},
   "source": [
    "#### Back to the baseline case ($c=1, a_{34} = 0.1$)"
   ]
  },
  {
   "cell_type": "code",
   "execution_count": 92,
   "id": "9436bba4",
   "metadata": {},
   "outputs": [],
   "source": [
    "A, C = matrix_maker(1,0.1)\n",
    "Omega_u = sympy.Matrix(np.diag([globals()[f'w{i}'] for i in range(1, n+1)]))"
   ]
  },
  {
   "cell_type": "code",
   "execution_count": 93,
   "id": "4807f0f2",
   "metadata": {},
   "outputs": [],
   "source": [
    "Omega_u = C.inv()*A*Omega_e*(A.transpose())*(C.inv().transpose())"
   ]
  },
  {
   "cell_type": "code",
   "execution_count": 94,
   "id": "d8fe9106",
   "metadata": {},
   "outputs": [],
   "source": [
    "#numerical solution을 구하기 위해 초깃값을 설정. \n",
    "initial_list = np.repeat(0.1, 10)\n",
    "#Omega_u 안의 하삼각 원소를 모두 모아 10개의 방정식으로 이루어진 연립방정식 체계를 리스트 형태로 저장.\n",
    "eq_list = []\n",
    "for i in range(n):\n",
    "    for j in range(n):\n",
    "        if i < j :\n",
    "            eq_list.append(Omega_u[i, j])"
   ]
  },
  {
   "cell_type": "code",
   "execution_count": 95,
   "id": "16b3b527",
   "metadata": {},
   "outputs": [],
   "source": [
    "sol = sympy.nsolve( (eq_list) , (a21, a31, a42, a43, a51, a52, a53, a54, c32, c42), initial_list, verify=True)"
   ]
  },
  {
   "cell_type": "code",
   "execution_count": 96,
   "id": "fe4627bb",
   "metadata": {},
   "outputs": [],
   "source": [
    "sA = A.subs([(a21, sol[0]), (a31, sol[1]), (a42, sol[2]), (a43, sol[3]), (a51, sol[4]), (a52, sol[5]), (a53, sol[6]), (a54, sol[7])])\n",
    "sC = C.subs([(c32, sol[8]), (c42, sol[9])])"
   ]
  },
  {
   "cell_type": "code",
   "execution_count": 97,
   "id": "10392406",
   "metadata": {},
   "outputs": [],
   "source": [
    "sOmega_u = sympy.Matrix(np.zeros([n,n]))\n",
    "for i in range(n):\n",
    "    w_i = Omega_u[i,i].subs([(a21, sol[0]), (a31, sol[1]), (a42, sol[2]), (a43, sol[3]), (a51, sol[4]), (a52, sol[5]), (a53, sol[6]), (a54, sol[7]), (c32, sol[8]), (c42, sol[9])])\n",
    "    sOmega_u[i,i] = w_i"
   ]
  },
  {
   "cell_type": "code",
   "execution_count": 98,
   "id": "f7521354",
   "metadata": {},
   "outputs": [
    {
     "data": {
      "text/plain": [
       "array([[0.00678027, 0.        , 0.        , 0.        , 0.        ],\n",
       "       [0.        , 0.00186787, 0.        , 0.        , 0.        ],\n",
       "       [0.        , 0.        , 0.0024847 , 0.        , 0.        ],\n",
       "       [0.        , 0.        , 0.        , 0.00250522, 0.        ],\n",
       "       [0.        , 0.        , 0.        , 0.        , 0.00610419]])"
      ]
     },
     "execution_count": 98,
     "metadata": {},
     "output_type": "execute_result"
    }
   ],
   "source": [
    "shock = np.array(sOmega_u).astype(np.float64)\n",
    "shock_std = np.sqrt(shock)\n",
    "shock_std"
   ]
  },
  {
   "cell_type": "markdown",
   "id": "20df6863",
   "metadata": {},
   "source": [
    "### Table 2"
   ]
  },
  {
   "cell_type": "markdown",
   "id": "268c28f3",
   "metadata": {},
   "source": [
    "VAR 추정 결과로부터, 위 Table 1에서는 Contemporarenous variable과 innovative shock들에 대해서만 structural form을 나타냈었다.\n",
    "\n",
    "여기서는 structural form에서 Lag variable들의 계수에 초점을 맞춘다"
   ]
  },
  {
   "cell_type": "markdown",
   "id": "9509d54c",
   "metadata": {},
   "source": [
    "저자는 위 (1)번 식 $AX = A(L)X_{-1}+BZ+Ce$의 결과를 보여주고자 하면서도, structual form innovation $e$의 영향을 보다 직관적으로 확인할 수 있도록, 이 식의 양변에 $C^{-1}$를 pre-multiply한 $C^{-1} AX = C^{-1}A(L)X_{-1}+C^{-1}BZ+e$의 결과를 Table 2로 제시한다."
   ]
  },
  {
   "cell_type": "markdown",
   "id": "08aa725f",
   "metadata": {},
   "source": [
    "한편, VAR 추정은 $X=A^{-1}A(L)X_{-1}+A^{-1}BZ+A^{-1}Ce$에 대한 추정 결과이므로,\n",
    "\n",
    "VAR 추정에서 얻은 lag variable에 대한 계수 행렬에 $C^{-1}A$를 pre-multiply 해 준것이 Table 2에서 보여주고자 하는 계수 행렬이 된다."
   ]
  },
  {
   "cell_type": "markdown",
   "id": "077a9972",
   "metadata": {},
   "source": [
    "Lag = 3으로 잡았으므로, 이를 반영하여 위 식을 좀 더 풀어 쓰자면,\n",
    "\n",
    "$C^{-1}AX = C^{-1}A\\Phi(1)X_{-1}+C^{-1}A\\Phi(2)X_{-2}+C^{-1}A\\Phi(3)X_{-3}+C^{-1}BZ+e$\n",
    "* where $\\Phi(n)$ : $n$기 lag varaible들에 대한 VAR 추정 결과 계수 행렬"
   ]
  },
  {
   "cell_type": "markdown",
   "id": "12058ed0",
   "metadata": {},
   "source": [
    "따라서, 앞서 VAR 추정으로부터 얻은 계수 행렬에 $C^{-1}A$을 pre-multiply한 결과를 확인해 보았다"
   ]
  },
  {
   "cell_type": "code",
   "execution_count": 99,
   "id": "a57d170b",
   "metadata": {},
   "outputs": [],
   "source": [
    "params = VAR_result.params.reset_index()"
   ]
  },
  {
   "cell_type": "code",
   "execution_count": 100,
   "id": "08a752f8",
   "metadata": {},
   "outputs": [],
   "source": [
    "def extract_lag(x):\n",
    "    if x[:2] == 'L1': return 1\n",
    "    elif x[:2] == 'L2' : return 2\n",
    "    elif x[:2] == 'L3' : return 3\n",
    "    else: return -1\n",
    "    \n",
    "params['lag'] = params['index'].apply(lambda x: extract_lag(x))\n",
    "params.set_index('index',inplace=True)"
   ]
  },
  {
   "cell_type": "code",
   "execution_count": 101,
   "id": "34987b5f",
   "metadata": {},
   "outputs": [],
   "source": [
    "L1_params = params[params['lag']==1].drop('lag',axis=1).transpose()\n",
    "L2_params = params[params['lag']==2].drop('lag',axis=1).transpose()\n",
    "L3_params = params[params['lag']==3].drop('lag',axis=1).transpose()"
   ]
  },
  {
   "cell_type": "code",
   "execution_count": 102,
   "id": "10d731ac",
   "metadata": {},
   "outputs": [
    {
     "data": {
      "text/html": [
       "<div>\n",
       "<style scoped>\n",
       "    .dataframe tbody tr th:only-of-type {\n",
       "        vertical-align: middle;\n",
       "    }\n",
       "\n",
       "    .dataframe tbody tr th {\n",
       "        vertical-align: top;\n",
       "    }\n",
       "\n",
       "    .dataframe thead th {\n",
       "        text-align: right;\n",
       "    }\n",
       "</style>\n",
       "<table border=\"1\" class=\"dataframe\">\n",
       "  <thead>\n",
       "    <tr style=\"text-align: right;\">\n",
       "      <th>index</th>\n",
       "      <th>L1.dY</th>\n",
       "      <th>L1.U</th>\n",
       "      <th>L1.dP</th>\n",
       "      <th>L1.dW</th>\n",
       "      <th>L1.dM</th>\n",
       "    </tr>\n",
       "  </thead>\n",
       "  <tbody>\n",
       "    <tr>\n",
       "      <th>dY</th>\n",
       "      <td>-0.191557</td>\n",
       "      <td>-2.276087</td>\n",
       "      <td>-0.252593</td>\n",
       "      <td>0.049559</td>\n",
       "      <td>0.338395</td>\n",
       "    </tr>\n",
       "    <tr>\n",
       "      <th>U</th>\n",
       "      <td>-0.091541</td>\n",
       "      <td>1.115706</td>\n",
       "      <td>0.109280</td>\n",
       "      <td>0.066667</td>\n",
       "      <td>-0.005052</td>\n",
       "    </tr>\n",
       "    <tr>\n",
       "      <th>dP</th>\n",
       "      <td>-0.049174</td>\n",
       "      <td>0.106370</td>\n",
       "      <td>0.499226</td>\n",
       "      <td>0.101945</td>\n",
       "      <td>-0.011367</td>\n",
       "    </tr>\n",
       "    <tr>\n",
       "      <th>dW</th>\n",
       "      <td>-0.125797</td>\n",
       "      <td>0.307755</td>\n",
       "      <td>0.260969</td>\n",
       "      <td>0.134615</td>\n",
       "      <td>0.017902</td>\n",
       "    </tr>\n",
       "    <tr>\n",
       "      <th>dM</th>\n",
       "      <td>-0.115033</td>\n",
       "      <td>1.490797</td>\n",
       "      <td>-0.135048</td>\n",
       "      <td>0.422246</td>\n",
       "      <td>0.095968</td>\n",
       "    </tr>\n",
       "  </tbody>\n",
       "</table>\n",
       "</div>"
      ],
      "text/plain": [
       "index     L1.dY      L1.U     L1.dP     L1.dW     L1.dM\n",
       "dY    -0.191557 -2.276087 -0.252593  0.049559  0.338395\n",
       "U     -0.091541  1.115706  0.109280  0.066667 -0.005052\n",
       "dP    -0.049174  0.106370  0.499226  0.101945 -0.011367\n",
       "dW    -0.125797  0.307755  0.260969  0.134615  0.017902\n",
       "dM    -0.115033  1.490797 -0.135048  0.422246  0.095968"
      ]
     },
     "execution_count": 102,
     "metadata": {},
     "output_type": "execute_result"
    }
   ],
   "source": [
    "L1 = pd.DataFrame(np.array(sC.inv()*sA*sympy.Matrix(L1_params)).astype(np.float64),index=L1_params.index)\n",
    "L1.columns = L1_params.columns\n",
    "L1"
   ]
  },
  {
   "cell_type": "code",
   "execution_count": 103,
   "id": "07a601a7",
   "metadata": {},
   "outputs": [
    {
     "data": {
      "text/html": [
       "<div>\n",
       "<style scoped>\n",
       "    .dataframe tbody tr th:only-of-type {\n",
       "        vertical-align: middle;\n",
       "    }\n",
       "\n",
       "    .dataframe tbody tr th {\n",
       "        vertical-align: top;\n",
       "    }\n",
       "\n",
       "    .dataframe thead th {\n",
       "        text-align: right;\n",
       "    }\n",
       "</style>\n",
       "<table border=\"1\" class=\"dataframe\">\n",
       "  <thead>\n",
       "    <tr style=\"text-align: right;\">\n",
       "      <th>index</th>\n",
       "      <th>L2.dY</th>\n",
       "      <th>L2.U</th>\n",
       "      <th>L2.dP</th>\n",
       "      <th>L2.dW</th>\n",
       "      <th>L2.dM</th>\n",
       "    </tr>\n",
       "  </thead>\n",
       "  <tbody>\n",
       "    <tr>\n",
       "      <th>dY</th>\n",
       "      <td>0.153714</td>\n",
       "      <td>2.266015</td>\n",
       "      <td>0.404852</td>\n",
       "      <td>0.165990</td>\n",
       "      <td>0.177536</td>\n",
       "    </tr>\n",
       "    <tr>\n",
       "      <th>U</th>\n",
       "      <td>-0.045001</td>\n",
       "      <td>-0.283712</td>\n",
       "      <td>-0.249306</td>\n",
       "      <td>-0.051880</td>\n",
       "      <td>0.029037</td>\n",
       "    </tr>\n",
       "    <tr>\n",
       "      <th>dP</th>\n",
       "      <td>-0.055276</td>\n",
       "      <td>0.326841</td>\n",
       "      <td>-0.074007</td>\n",
       "      <td>0.213037</td>\n",
       "      <td>0.044384</td>\n",
       "    </tr>\n",
       "    <tr>\n",
       "      <th>dW</th>\n",
       "      <td>-0.065452</td>\n",
       "      <td>0.108618</td>\n",
       "      <td>-0.112187</td>\n",
       "      <td>0.130970</td>\n",
       "      <td>0.022150</td>\n",
       "    </tr>\n",
       "    <tr>\n",
       "      <th>dM</th>\n",
       "      <td>0.050721</td>\n",
       "      <td>-0.066388</td>\n",
       "      <td>-0.628072</td>\n",
       "      <td>0.347125</td>\n",
       "      <td>0.059786</td>\n",
       "    </tr>\n",
       "  </tbody>\n",
       "</table>\n",
       "</div>"
      ],
      "text/plain": [
       "index     L2.dY      L2.U     L2.dP     L2.dW     L2.dM\n",
       "dY     0.153714  2.266015  0.404852  0.165990  0.177536\n",
       "U     -0.045001 -0.283712 -0.249306 -0.051880  0.029037\n",
       "dP    -0.055276  0.326841 -0.074007  0.213037  0.044384\n",
       "dW    -0.065452  0.108618 -0.112187  0.130970  0.022150\n",
       "dM     0.050721 -0.066388 -0.628072  0.347125  0.059786"
      ]
     },
     "execution_count": 103,
     "metadata": {},
     "output_type": "execute_result"
    }
   ],
   "source": [
    "L2 = pd.DataFrame(np.array(sC.inv()*sA*sympy.Matrix(L2_params)).astype(np.float64),index=L2_params.index)\n",
    "L2.columns = L2_params.columns\n",
    "L2"
   ]
  },
  {
   "cell_type": "code",
   "execution_count": 104,
   "id": "cb11f89d",
   "metadata": {},
   "outputs": [
    {
     "data": {
      "text/html": [
       "<div>\n",
       "<style scoped>\n",
       "    .dataframe tbody tr th:only-of-type {\n",
       "        vertical-align: middle;\n",
       "    }\n",
       "\n",
       "    .dataframe tbody tr th {\n",
       "        vertical-align: top;\n",
       "    }\n",
       "\n",
       "    .dataframe thead th {\n",
       "        text-align: right;\n",
       "    }\n",
       "</style>\n",
       "<table border=\"1\" class=\"dataframe\">\n",
       "  <thead>\n",
       "    <tr style=\"text-align: right;\">\n",
       "      <th>index</th>\n",
       "      <th>L3.dY</th>\n",
       "      <th>L3.U</th>\n",
       "      <th>L3.dP</th>\n",
       "      <th>L3.dW</th>\n",
       "      <th>L3.dM</th>\n",
       "    </tr>\n",
       "  </thead>\n",
       "  <tbody>\n",
       "    <tr>\n",
       "      <th>dY</th>\n",
       "      <td>0.101056</td>\n",
       "      <td>-0.657775</td>\n",
       "      <td>-0.459049</td>\n",
       "      <td>-0.266202</td>\n",
       "      <td>-0.039650</td>\n",
       "    </tr>\n",
       "    <tr>\n",
       "      <th>U</th>\n",
       "      <td>-0.064322</td>\n",
       "      <td>0.148774</td>\n",
       "      <td>0.162492</td>\n",
       "      <td>0.031007</td>\n",
       "      <td>-0.081718</td>\n",
       "    </tr>\n",
       "    <tr>\n",
       "      <th>dP</th>\n",
       "      <td>-0.012071</td>\n",
       "      <td>-0.106191</td>\n",
       "      <td>0.297528</td>\n",
       "      <td>-0.103879</td>\n",
       "      <td>-0.082788</td>\n",
       "    </tr>\n",
       "    <tr>\n",
       "      <th>dW</th>\n",
       "      <td>0.005277</td>\n",
       "      <td>0.052872</td>\n",
       "      <td>0.132342</td>\n",
       "      <td>0.198506</td>\n",
       "      <td>-0.005095</td>\n",
       "    </tr>\n",
       "    <tr>\n",
       "      <th>dM</th>\n",
       "      <td>-0.133632</td>\n",
       "      <td>-0.577737</td>\n",
       "      <td>-0.038606</td>\n",
       "      <td>-0.321791</td>\n",
       "      <td>0.065125</td>\n",
       "    </tr>\n",
       "  </tbody>\n",
       "</table>\n",
       "</div>"
      ],
      "text/plain": [
       "index     L3.dY      L3.U     L3.dP     L3.dW     L3.dM\n",
       "dY     0.101056 -0.657775 -0.459049 -0.266202 -0.039650\n",
       "U     -0.064322  0.148774  0.162492  0.031007 -0.081718\n",
       "dP    -0.012071 -0.106191  0.297528 -0.103879 -0.082788\n",
       "dW     0.005277  0.052872  0.132342  0.198506 -0.005095\n",
       "dM    -0.133632 -0.577737 -0.038606 -0.321791  0.065125"
      ]
     },
     "execution_count": 104,
     "metadata": {},
     "output_type": "execute_result"
    }
   ],
   "source": [
    "L3 = pd.DataFrame(np.array(sC.inv()*sA*sympy.Matrix(L3_params)).astype(np.float64),index=L3_params.index)\n",
    "L3.columns = L3_params.columns\n",
    "L3"
   ]
  },
  {
   "cell_type": "code",
   "execution_count": 105,
   "id": "02c6e0fa",
   "metadata": {},
   "outputs": [
    {
     "data": {
      "text/html": [
       "<div>\n",
       "<style scoped>\n",
       "    .dataframe tbody tr th:only-of-type {\n",
       "        vertical-align: middle;\n",
       "    }\n",
       "\n",
       "    .dataframe tbody tr th {\n",
       "        vertical-align: top;\n",
       "    }\n",
       "\n",
       "    .dataframe thead th {\n",
       "        text-align: right;\n",
       "    }\n",
       "</style>\n",
       "<table border=\"1\" class=\"dataframe\">\n",
       "  <thead>\n",
       "    <tr style=\"text-align: right;\">\n",
       "      <th></th>\n",
       "      <th>dY</th>\n",
       "      <th>U</th>\n",
       "      <th>dP</th>\n",
       "      <th>dW</th>\n",
       "      <th>dM</th>\n",
       "      <th>orig_var</th>\n",
       "    </tr>\n",
       "    <tr>\n",
       "      <th>index</th>\n",
       "      <th></th>\n",
       "      <th></th>\n",
       "      <th></th>\n",
       "      <th></th>\n",
       "      <th></th>\n",
       "      <th></th>\n",
       "    </tr>\n",
       "  </thead>\n",
       "  <tbody>\n",
       "    <tr>\n",
       "      <th>L1.dY</th>\n",
       "      <td>-0.191557</td>\n",
       "      <td>-0.091541</td>\n",
       "      <td>-0.049174</td>\n",
       "      <td>-0.125797</td>\n",
       "      <td>-0.115033</td>\n",
       "      <td>dY</td>\n",
       "    </tr>\n",
       "    <tr>\n",
       "      <th>L1.U</th>\n",
       "      <td>-2.276087</td>\n",
       "      <td>1.115706</td>\n",
       "      <td>0.106370</td>\n",
       "      <td>0.307755</td>\n",
       "      <td>1.490797</td>\n",
       "      <td>U</td>\n",
       "    </tr>\n",
       "    <tr>\n",
       "      <th>L1.dP</th>\n",
       "      <td>-0.252593</td>\n",
       "      <td>0.109280</td>\n",
       "      <td>0.499226</td>\n",
       "      <td>0.260969</td>\n",
       "      <td>-0.135048</td>\n",
       "      <td>dP</td>\n",
       "    </tr>\n",
       "    <tr>\n",
       "      <th>L1.dW</th>\n",
       "      <td>0.049559</td>\n",
       "      <td>0.066667</td>\n",
       "      <td>0.101945</td>\n",
       "      <td>0.134615</td>\n",
       "      <td>0.422246</td>\n",
       "      <td>dW</td>\n",
       "    </tr>\n",
       "    <tr>\n",
       "      <th>L1.dM</th>\n",
       "      <td>0.338395</td>\n",
       "      <td>-0.005052</td>\n",
       "      <td>-0.011367</td>\n",
       "      <td>0.017902</td>\n",
       "      <td>0.095968</td>\n",
       "      <td>dM</td>\n",
       "    </tr>\n",
       "    <tr>\n",
       "      <th>L2.dY</th>\n",
       "      <td>0.153714</td>\n",
       "      <td>-0.045001</td>\n",
       "      <td>-0.055276</td>\n",
       "      <td>-0.065452</td>\n",
       "      <td>0.050721</td>\n",
       "      <td>dY</td>\n",
       "    </tr>\n",
       "    <tr>\n",
       "      <th>L2.U</th>\n",
       "      <td>2.266015</td>\n",
       "      <td>-0.283712</td>\n",
       "      <td>0.326841</td>\n",
       "      <td>0.108618</td>\n",
       "      <td>-0.066388</td>\n",
       "      <td>U</td>\n",
       "    </tr>\n",
       "    <tr>\n",
       "      <th>L2.dP</th>\n",
       "      <td>0.404852</td>\n",
       "      <td>-0.249306</td>\n",
       "      <td>-0.074007</td>\n",
       "      <td>-0.112187</td>\n",
       "      <td>-0.628072</td>\n",
       "      <td>dP</td>\n",
       "    </tr>\n",
       "    <tr>\n",
       "      <th>L2.dW</th>\n",
       "      <td>0.165990</td>\n",
       "      <td>-0.051880</td>\n",
       "      <td>0.213037</td>\n",
       "      <td>0.130970</td>\n",
       "      <td>0.347125</td>\n",
       "      <td>dW</td>\n",
       "    </tr>\n",
       "    <tr>\n",
       "      <th>L2.dM</th>\n",
       "      <td>0.177536</td>\n",
       "      <td>0.029037</td>\n",
       "      <td>0.044384</td>\n",
       "      <td>0.022150</td>\n",
       "      <td>0.059786</td>\n",
       "      <td>dM</td>\n",
       "    </tr>\n",
       "    <tr>\n",
       "      <th>L3.dY</th>\n",
       "      <td>0.101056</td>\n",
       "      <td>-0.064322</td>\n",
       "      <td>-0.012071</td>\n",
       "      <td>0.005277</td>\n",
       "      <td>-0.133632</td>\n",
       "      <td>dY</td>\n",
       "    </tr>\n",
       "    <tr>\n",
       "      <th>L3.U</th>\n",
       "      <td>-0.657775</td>\n",
       "      <td>0.148774</td>\n",
       "      <td>-0.106191</td>\n",
       "      <td>0.052872</td>\n",
       "      <td>-0.577737</td>\n",
       "      <td>U</td>\n",
       "    </tr>\n",
       "    <tr>\n",
       "      <th>L3.dP</th>\n",
       "      <td>-0.459049</td>\n",
       "      <td>0.162492</td>\n",
       "      <td>0.297528</td>\n",
       "      <td>0.132342</td>\n",
       "      <td>-0.038606</td>\n",
       "      <td>dP</td>\n",
       "    </tr>\n",
       "    <tr>\n",
       "      <th>L3.dW</th>\n",
       "      <td>-0.266202</td>\n",
       "      <td>0.031007</td>\n",
       "      <td>-0.103879</td>\n",
       "      <td>0.198506</td>\n",
       "      <td>-0.321791</td>\n",
       "      <td>dW</td>\n",
       "    </tr>\n",
       "    <tr>\n",
       "      <th>L3.dM</th>\n",
       "      <td>-0.039650</td>\n",
       "      <td>-0.081718</td>\n",
       "      <td>-0.082788</td>\n",
       "      <td>-0.005095</td>\n",
       "      <td>0.065125</td>\n",
       "      <td>dM</td>\n",
       "    </tr>\n",
       "  </tbody>\n",
       "</table>\n",
       "</div>"
      ],
      "text/plain": [
       "             dY         U        dP        dW        dM orig_var\n",
       "index                                                           \n",
       "L1.dY -0.191557 -0.091541 -0.049174 -0.125797 -0.115033       dY\n",
       "L1.U  -2.276087  1.115706  0.106370  0.307755  1.490797        U\n",
       "L1.dP -0.252593  0.109280  0.499226  0.260969 -0.135048       dP\n",
       "L1.dW  0.049559  0.066667  0.101945  0.134615  0.422246       dW\n",
       "L1.dM  0.338395 -0.005052 -0.011367  0.017902  0.095968       dM\n",
       "L2.dY  0.153714 -0.045001 -0.055276 -0.065452  0.050721       dY\n",
       "L2.U   2.266015 -0.283712  0.326841  0.108618 -0.066388        U\n",
       "L2.dP  0.404852 -0.249306 -0.074007 -0.112187 -0.628072       dP\n",
       "L2.dW  0.165990 -0.051880  0.213037  0.130970  0.347125       dW\n",
       "L2.dM  0.177536  0.029037  0.044384  0.022150  0.059786       dM\n",
       "L3.dY  0.101056 -0.064322 -0.012071  0.005277 -0.133632       dY\n",
       "L3.U  -0.657775  0.148774 -0.106191  0.052872 -0.577737        U\n",
       "L3.dP -0.459049  0.162492  0.297528  0.132342 -0.038606       dP\n",
       "L3.dW -0.266202  0.031007 -0.103879  0.198506 -0.321791       dW\n",
       "L3.dM -0.039650 -0.081718 -0.082788 -0.005095  0.065125       dM"
      ]
     },
     "execution_count": 105,
     "metadata": {},
     "output_type": "execute_result"
    }
   ],
   "source": [
    "L = pd.concat([L1,L2,L3],axis=1).transpose().reset_index()\n",
    "L['orig_var'] = L['index'].apply(lambda x: x.split('.')[1])\n",
    "L.set_index('index',inplace=True)\n",
    "L"
   ]
  },
  {
   "cell_type": "code",
   "execution_count": 106,
   "id": "4a42d8b2",
   "metadata": {},
   "outputs": [
    {
     "data": {
      "text/html": [
       "<div>\n",
       "<style scoped>\n",
       "    .dataframe tbody tr th:only-of-type {\n",
       "        vertical-align: middle;\n",
       "    }\n",
       "\n",
       "    .dataframe tbody tr th {\n",
       "        vertical-align: top;\n",
       "    }\n",
       "\n",
       "    .dataframe thead th {\n",
       "        text-align: right;\n",
       "    }\n",
       "</style>\n",
       "<table border=\"1\" class=\"dataframe\">\n",
       "  <thead>\n",
       "    <tr style=\"text-align: right;\">\n",
       "      <th>orig_var</th>\n",
       "      <th>dP</th>\n",
       "      <th>dW</th>\n",
       "      <th>dM</th>\n",
       "      <th>dY</th>\n",
       "      <th>U</th>\n",
       "    </tr>\n",
       "  </thead>\n",
       "  <tbody>\n",
       "    <tr>\n",
       "      <th>dY</th>\n",
       "      <td>-0.306790</td>\n",
       "      <td>-0.050654</td>\n",
       "      <td>0.476281</td>\n",
       "      <td>0.063212</td>\n",
       "      <td>-0.667847</td>\n",
       "    </tr>\n",
       "    <tr>\n",
       "      <th>U</th>\n",
       "      <td>0.022467</td>\n",
       "      <td>0.045794</td>\n",
       "      <td>-0.057732</td>\n",
       "      <td>-0.200864</td>\n",
       "      <td>0.980768</td>\n",
       "    </tr>\n",
       "    <tr>\n",
       "      <th>dP</th>\n",
       "      <td>0.722748</td>\n",
       "      <td>0.211102</td>\n",
       "      <td>-0.049771</td>\n",
       "      <td>-0.116521</td>\n",
       "      <td>0.327021</td>\n",
       "    </tr>\n",
       "    <tr>\n",
       "      <th>dW</th>\n",
       "      <td>0.281125</td>\n",
       "      <td>0.464092</td>\n",
       "      <td>0.034957</td>\n",
       "      <td>-0.185973</td>\n",
       "      <td>0.469246</td>\n",
       "    </tr>\n",
       "    <tr>\n",
       "      <th>dM</th>\n",
       "      <td>-0.801726</td>\n",
       "      <td>0.447581</td>\n",
       "      <td>0.220879</td>\n",
       "      <td>-0.197945</td>\n",
       "      <td>0.846672</td>\n",
       "    </tr>\n",
       "  </tbody>\n",
       "</table>\n",
       "</div>"
      ],
      "text/plain": [
       "orig_var        dP        dW        dM        dY         U\n",
       "dY       -0.306790 -0.050654  0.476281  0.063212 -0.667847\n",
       "U         0.022467  0.045794 -0.057732 -0.200864  0.980768\n",
       "dP        0.722748  0.211102 -0.049771 -0.116521  0.327021\n",
       "dW        0.281125  0.464092  0.034957 -0.185973  0.469246\n",
       "dM       -0.801726  0.447581  0.220879 -0.197945  0.846672"
      ]
     },
     "execution_count": 106,
     "metadata": {},
     "output_type": "execute_result"
    }
   ],
   "source": [
    "rhs = L.groupby('orig_var').sum().transpose()[['dP','dW','dM','dY','U']]\n",
    "rhs"
   ]
  },
  {
   "cell_type": "markdown",
   "id": "edae6924",
   "metadata": {},
   "source": [
    "위 결과가 Table 2에서 보여주고자 하는 $C^{-1} AX = C^{-1}A(L)X_{-1}+C^{-1}BZ+e$의 우변의 $C^{-1}A(L)$에 해당하는 계수 행렬이다"
   ]
  },
  {
   "cell_type": "code",
   "execution_count": 107,
   "id": "efaa5a5d",
   "metadata": {},
   "outputs": [
    {
     "data": {
      "text/latex": [
       "$\\displaystyle \\left[\\begin{matrix}- U + 0.729007756906883 dY\\\\U + 0.270992243093117 dY\\\\0.393466703216553 U + dP - 0.1 dW + 0.0927336195143719 dY\\\\0.462216205049036 U - 0.147983055169984 dP + dW + 0.0182157531977037 dY\\\\1.00228521888083 U + dM - 0.0351913914436807 dP + 0.0204883763899733 dW + 0.0930112435626623 dY\\end{matrix}\\right]$"
      ],
      "text/plain": [
       "Matrix([\n",
       "[                                                                      -U + 0.729007756906883*dY],\n",
       "[                                                                       U + 0.270992243093117*dY],\n",
       "[                                      0.393466703216553*U + dP - 0.1*dW + 0.0927336195143719*dY],\n",
       "[                        0.462216205049036*U - 0.147983055169984*dP + dW + 0.0182157531977037*dY],\n",
       "[1.00228521888083*U + dM - 0.0351913914436807*dP + 0.0204883763899733*dW + 0.0930112435626623*dY]])"
      ]
     },
     "execution_count": 107,
     "metadata": {},
     "output_type": "execute_result"
    }
   ],
   "source": [
    "lhs = sC.inv()*sA*sympy.Matrix([['dY'],['U'],['dP'],['dW'],['dM']])\n",
    "lhs"
   ]
  },
  {
   "cell_type": "markdown",
   "id": "d361beb3",
   "metadata": {},
   "source": [
    "한편, Table 2에서 보여주고자 하는 $C^{-1} AX = C^{-1}A(L)X_{-1}+C^{-1}BZ+e$의 좌변은 위와 같이 도출된다.\n",
    "\n",
    "여기서 1행의 $dY$ 제외 항들을 우변으로 이항, 2행의 $U$ 제외 항들을 우변으로 이항, 3행의 $dP$ 제외 항들을 우변으로 이항, 4행의 $dW$ 제외 항들을 우변으로 이항, 4행의 $dM$ 제외 항들을 우변으로 이항하면, 우변이 곧 Table 2에서 보여주고자 하는 것이 된다."
   ]
  },
  {
   "cell_type": "code",
   "execution_count": 108,
   "id": "8bd23a6e",
   "metadata": {},
   "outputs": [],
   "source": [
    "lhs_df = pd.DataFrame(np.array(sC.inv()*sA).astype(np.float64),index=rhs.index)\n",
    "lhs_df.columns = rhs.index\n",
    "\n",
    "lhs_to_rhs = pd.DataFrame(index=rhs.index,columns=rhs.columns)\n",
    "for i in range(lhs_df.shape[0]):\n",
    "    for j, col in enumerate(lhs_df.columns):\n",
    "        if i!=j:\n",
    "            rhs[col].iloc[i] -= lhs_df[col].iloc[i]"
   ]
  },
  {
   "cell_type": "code",
   "execution_count": 109,
   "id": "b5a84178",
   "metadata": {},
   "outputs": [
    {
     "data": {
      "text/html": [
       "<div>\n",
       "<style scoped>\n",
       "    .dataframe tbody tr th:only-of-type {\n",
       "        vertical-align: middle;\n",
       "    }\n",
       "\n",
       "    .dataframe tbody tr th {\n",
       "        vertical-align: top;\n",
       "    }\n",
       "\n",
       "    .dataframe thead th {\n",
       "        text-align: right;\n",
       "    }\n",
       "</style>\n",
       "<table border=\"1\" class=\"dataframe\">\n",
       "  <thead>\n",
       "    <tr style=\"text-align: right;\">\n",
       "      <th>orig_var</th>\n",
       "      <th>dP</th>\n",
       "      <th>dW</th>\n",
       "      <th>dM</th>\n",
       "      <th>dY</th>\n",
       "      <th>U</th>\n",
       "    </tr>\n",
       "  </thead>\n",
       "  <tbody>\n",
       "    <tr>\n",
       "      <th>dY</th>\n",
       "      <td>-0.306790</td>\n",
       "      <td>-0.050654</td>\n",
       "      <td>0.476281</td>\n",
       "      <td>0.063212</td>\n",
       "      <td>0.332153</td>\n",
       "    </tr>\n",
       "    <tr>\n",
       "      <th>U</th>\n",
       "      <td>0.022467</td>\n",
       "      <td>0.045794</td>\n",
       "      <td>-0.057732</td>\n",
       "      <td>-0.471856</td>\n",
       "      <td>0.980768</td>\n",
       "    </tr>\n",
       "    <tr>\n",
       "      <th>dP</th>\n",
       "      <td>0.722748</td>\n",
       "      <td>0.311102</td>\n",
       "      <td>-0.049771</td>\n",
       "      <td>-0.209255</td>\n",
       "      <td>-0.066446</td>\n",
       "    </tr>\n",
       "    <tr>\n",
       "      <th>dW</th>\n",
       "      <td>0.429108</td>\n",
       "      <td>0.464092</td>\n",
       "      <td>0.034957</td>\n",
       "      <td>-0.204188</td>\n",
       "      <td>0.007029</td>\n",
       "    </tr>\n",
       "    <tr>\n",
       "      <th>dM</th>\n",
       "      <td>-0.766535</td>\n",
       "      <td>0.427092</td>\n",
       "      <td>0.220879</td>\n",
       "      <td>-0.290956</td>\n",
       "      <td>-0.155613</td>\n",
       "    </tr>\n",
       "  </tbody>\n",
       "</table>\n",
       "</div>"
      ],
      "text/plain": [
       "orig_var        dP        dW        dM        dY         U\n",
       "dY       -0.306790 -0.050654  0.476281  0.063212  0.332153\n",
       "U         0.022467  0.045794 -0.057732 -0.471856  0.980768\n",
       "dP        0.722748  0.311102 -0.049771 -0.209255 -0.066446\n",
       "dW        0.429108  0.464092  0.034957 -0.204188  0.007029\n",
       "dM       -0.766535  0.427092  0.220879 -0.290956 -0.155613"
      ]
     },
     "execution_count": 109,
     "metadata": {},
     "output_type": "execute_result"
    }
   ],
   "source": [
    "rhs"
   ]
  },
  {
   "cell_type": "markdown",
   "id": "8b56d54a",
   "metadata": {},
   "source": [
    "위 결과가 Table 2에서 SUM에 해당하는 결과들입니다."
   ]
  },
  {
   "cell_type": "markdown",
   "id": "4c03cb64",
   "metadata": {},
   "source": [
    "### Table 3"
   ]
  },
  {
   "cell_type": "markdown",
   "id": "ae6c06e3",
   "metadata": {},
   "source": [
    "Table 3은 Table 2에서 했던 것과 거의 유사하다. \n",
    "\n",
    "위에서 했던 것에서 $\\Delta Y$가 $U$의 영향을 받는 부분만 가져오면 된다."
   ]
  },
  {
   "cell_type": "markdown",
   "id": "32e98332",
   "metadata": {},
   "source": [
    "#### Reduced form coefficients"
   ]
  },
  {
   "cell_type": "code",
   "execution_count": 110,
   "id": "0288fc92",
   "metadata": {},
   "outputs": [
    {
     "data": {
      "text/html": [
       "<div>\n",
       "<style scoped>\n",
       "    .dataframe tbody tr th:only-of-type {\n",
       "        vertical-align: middle;\n",
       "    }\n",
       "\n",
       "    .dataframe tbody tr th {\n",
       "        vertical-align: top;\n",
       "    }\n",
       "\n",
       "    .dataframe thead th {\n",
       "        text-align: right;\n",
       "    }\n",
       "</style>\n",
       "<table border=\"1\" class=\"dataframe\">\n",
       "  <thead>\n",
       "    <tr style=\"text-align: right;\">\n",
       "      <th></th>\n",
       "      <th>L1.dY</th>\n",
       "      <th>L2.dY</th>\n",
       "      <th>L3.dY</th>\n",
       "      <th>L1.U</th>\n",
       "      <th>L2.U</th>\n",
       "      <th>L3.U</th>\n",
       "    </tr>\n",
       "  </thead>\n",
       "  <tbody>\n",
       "    <tr>\n",
       "      <th>dY</th>\n",
       "      <td>-0.283099</td>\n",
       "      <td>0.108713</td>\n",
       "      <td>0.036734</td>\n",
       "      <td>-1.160381</td>\n",
       "      <td>1.982303</td>\n",
       "      <td>-0.509001</td>\n",
       "    </tr>\n",
       "  </tbody>\n",
       "</table>\n",
       "</div>"
      ],
      "text/plain": [
       "       L1.dY     L2.dY     L3.dY      L1.U      L2.U      L3.U\n",
       "dY -0.283099  0.108713  0.036734 -1.160381  1.982303 -0.509001"
      ]
     },
     "execution_count": 110,
     "metadata": {},
     "output_type": "execute_result"
    }
   ],
   "source": [
    "focus_var = ['L1.dY','L2.dY','L3.dY','L1.U','L2.U','L3.U']\n",
    "pd.DataFrame(VAR_result.params.loc[focus_var]['dY']).transpose()"
   ]
  },
  {
   "cell_type": "markdown",
   "id": "f00f2d83",
   "metadata": {},
   "source": [
    "계수 추정치들은 위와 같이 확인되며, 각 계수에 대한 t-statistic은 아래에서 확인할 수 있다"
   ]
  },
  {
   "cell_type": "code",
   "execution_count": 111,
   "id": "30ca1319",
   "metadata": {},
   "outputs": [
    {
     "data": {
      "text/plain": [
       "  Summary of Regression Results   \n",
       "==================================\n",
       "Model:                         VAR\n",
       "Method:                        OLS\n",
       "Date:           Tue, 08, Nov, 2022\n",
       "Time:                     23:22:58\n",
       "--------------------------------------------------------------------\n",
       "No. of Equations:         5.00000    BIC:                   -49.8379\n",
       "Nobs:                     84.0000    HQIC:                  -52.0876\n",
       "Log likelihood:           1785.24    FPE:                5.85403e-24\n",
       "AIC:                     -53.5999    Det(Omega_mle):     1.52015e-24\n",
       "--------------------------------------------------------------------\n",
       "Results for equation dY\n",
       "========================================================================\n",
       "           coefficient       std. error           t-stat            prob\n",
       "------------------------------------------------------------------------\n",
       "const        -0.000876         0.006756           -0.130           0.897\n",
       "t            -0.000247         0.000101           -2.456           0.014\n",
       "S_2          -0.001069         0.002825           -0.378           0.705\n",
       "S_3          -0.001356         0.002762           -0.491           0.623\n",
       "S_4          -0.003638         0.002800           -1.299           0.194\n",
       "D_1          -0.005070         0.003274           -1.548           0.122\n",
       "D_2          -0.003444         0.004854           -0.710           0.478\n",
       "D_3           0.001839         0.001716            1.072           0.284\n",
       "D_4           0.001541         0.002287            0.674           0.500\n",
       "D_5          -0.001032         0.002176           -0.474           0.635\n",
       "D_6           0.000356         0.005076            0.070           0.944\n",
       "L1.dY        -0.283099         0.155798           -1.817           0.069\n",
       "L1.U         -1.160381         0.488366           -2.376           0.017\n",
       "L1.dP        -0.143312         0.355164           -0.404           0.687\n",
       "L1.dW         0.116226         0.347217            0.335           0.738\n",
       "L1.dM         0.333343         0.143135            2.329           0.020\n",
       "L2.dY         0.108713         0.161672            0.672           0.501\n",
       "L2.U          1.982303         0.736744            2.691           0.007\n",
       "L2.dP         0.155546         0.382370            0.407           0.684\n",
       "L2.dW         0.114110         0.347388            0.328           0.743\n",
       "L2.dM         0.206573         0.147136            1.404           0.160\n",
       "L3.dY         0.036734         0.135871            0.270           0.787\n",
       "L3.U         -0.509001         0.509509           -0.999           0.318\n",
       "L3.dP        -0.296557         0.357600           -0.829           0.407\n",
       "L3.dW        -0.235195         0.344653           -0.682           0.495\n",
       "L3.dM        -0.121367         0.148978           -0.815           0.415\n",
       "========================================================================\n",
       "\n",
       "Results for equation U\n",
       "========================================================================\n",
       "           coefficient       std. error           t-stat            prob\n",
       "------------------------------------------------------------------------\n",
       "const         0.005960         0.002197            2.713           0.007\n",
       "t             0.000066         0.000033            2.009           0.045\n",
       "S_2           0.000038         0.000919            0.042           0.967\n",
       "S_3           0.000021         0.000898            0.024           0.981\n",
       "S_4          -0.000076         0.000911           -0.083           0.934\n",
       "D_1           0.001023         0.001065            0.961           0.337\n",
       "D_2          -0.000472         0.001578           -0.299           0.765\n",
       "D_3          -0.000189         0.000558           -0.338           0.735\n",
       "D_4           0.000439         0.000744            0.590           0.555\n",
       "D_5           0.000113         0.000707            0.160           0.873\n",
       "D_6          -0.002700         0.001651           -1.635           0.102\n",
       "L1.dY        -0.014824         0.050663           -0.293           0.770\n",
       "L1.U          1.430160         0.158809            9.006           0.000\n",
       "L1.dP         0.148117         0.115494            1.282           0.200\n",
       "L1.dW         0.035171         0.112909            0.311           0.755\n",
       "L1.dM        -0.095385         0.046545           -2.049           0.040\n",
       "L2.dY        -0.074461         0.052573           -1.416           0.157\n",
       "L2.U         -0.820901         0.239577           -3.426           0.001\n",
       "L2.dP        -0.291458         0.124341           -2.344           0.019\n",
       "L2.dW        -0.082803         0.112965           -0.733           0.464\n",
       "L2.dM        -0.026943         0.047846           -0.563           0.573\n",
       "L3.dY        -0.074276         0.044183           -1.681           0.093\n",
       "L3.U          0.286710         0.165684            1.730           0.084\n",
       "L3.dP         0.242857         0.116286            2.088           0.037\n",
       "L3.dW         0.094743         0.112076            0.845           0.398\n",
       "L3.dM        -0.048828         0.048445           -1.008           0.314\n",
       "========================================================================\n",
       "\n",
       "Results for equation dP\n",
       "========================================================================\n",
       "           coefficient       std. error           t-stat            prob\n",
       "------------------------------------------------------------------------\n",
       "const         0.002683         0.002555            1.050           0.294\n",
       "t             0.000027         0.000038            0.706           0.480\n",
       "S_2          -0.001564         0.001068           -1.464           0.143\n",
       "S_3           0.000623         0.001044            0.597           0.551\n",
       "S_4          -0.000764         0.001059           -0.721           0.471\n",
       "D_1          -0.001594         0.001238           -1.287           0.198\n",
       "D_2           0.000222         0.001836            0.121           0.904\n",
       "D_3          -0.000555         0.000649           -0.856           0.392\n",
       "D_4           0.001702         0.000865            1.969           0.049\n",
       "D_5           0.002193         0.000823            2.666           0.008\n",
       "D_6           0.002723         0.001920            1.418           0.156\n",
       "L1.dY        -0.028895         0.058917           -0.490           0.624\n",
       "L1.U         -0.387696         0.184681           -2.099           0.036\n",
       "L1.dP         0.480865         0.134310            3.580           0.000\n",
       "L1.dW         0.090288         0.131304            0.688           0.492\n",
       "L1.dM         0.000856         0.054128            0.016           0.987\n",
       "L2.dY        -0.039952         0.061138           -0.653           0.513\n",
       "L2.U          0.518885         0.278608            1.862           0.063\n",
       "L2.dP         0.028641         0.144598            0.198           0.843\n",
       "L2.dW         0.255534         0.131369            1.945           0.052\n",
       "L2.dM         0.039498         0.055641            0.710           0.478\n",
       "L3.dY         0.017907         0.051381            0.349           0.727\n",
       "L3.U         -0.181524         0.192677           -0.942           0.346\n",
       "L3.dP         0.235507         0.135231            1.742           0.082\n",
       "L3.dW        -0.105001         0.130335           -0.806           0.420\n",
       "L3.dM        -0.051109         0.056338           -0.907           0.364\n",
       "========================================================================\n",
       "\n",
       "Results for equation dW\n",
       "========================================================================\n",
       "           coefficient       std. error           t-stat            prob\n",
       "------------------------------------------------------------------------\n",
       "const         0.004542         0.002679            1.695           0.090\n",
       "t            -0.000101         0.000040           -2.543           0.011\n",
       "S_2          -0.001320         0.001120           -1.178           0.239\n",
       "S_3           0.000009         0.001095            0.008           0.993\n",
       "S_4          -0.000893         0.001110           -0.805           0.421\n",
       "D_1          -0.001822         0.001298           -1.403           0.161\n",
       "D_2           0.001183         0.001925            0.615           0.539\n",
       "D_3           0.000984         0.000680            1.446           0.148\n",
       "D_4          -0.000260         0.000907           -0.287           0.774\n",
       "D_5          -0.001143         0.000863           -1.325           0.185\n",
       "D_6           0.002495         0.002013            1.240           0.215\n",
       "L1.dY        -0.118065         0.061780           -1.911           0.056\n",
       "L1.U         -0.389523         0.193655           -2.011           0.044\n",
       "L1.dP         0.266277         0.140836            1.891           0.059\n",
       "L1.dW         0.129603         0.137684            0.941           0.347\n",
       "L1.dM         0.056045         0.056758            0.987           0.323\n",
       "L2.dY        -0.038928         0.064109           -0.607           0.544\n",
       "L2.U          0.528729         0.292146            1.810           0.070\n",
       "L2.dP         0.023935         0.151624            0.158           0.875\n",
       "L2.dW         0.204979         0.137752            1.488           0.137\n",
       "L2.dM         0.036685         0.058345            0.629           0.530\n",
       "L3.dY         0.041589         0.053878            0.772           0.440\n",
       "L3.U         -0.097241         0.202039           -0.481           0.630\n",
       "L3.dP         0.060343         0.141801            0.426           0.670\n",
       "L3.dW         0.143460         0.136668            1.050           0.294\n",
       "L3.dM         0.012122         0.059075            0.205           0.837\n",
       "========================================================================\n",
       "\n",
       "Results for equation dM\n",
       "========================================================================\n",
       "           coefficient       std. error           t-stat            prob\n",
       "------------------------------------------------------------------------\n",
       "const         0.011109         0.006160            1.803           0.071\n",
       "t             0.000256         0.000092            2.793           0.005\n",
       "S_2          -0.000062         0.002576           -0.024           0.981\n",
       "S_3          -0.001755         0.002518           -0.697           0.486\n",
       "S_4          -0.000675         0.002553           -0.264           0.791\n",
       "D_1          -0.002442         0.002986           -0.818           0.413\n",
       "D_2          -0.002310         0.004425           -0.522           0.602\n",
       "D_3           0.000848         0.001564            0.542           0.588\n",
       "D_4          -0.000788         0.002085           -0.378           0.706\n",
       "D_5           0.001655         0.001984            0.834           0.404\n",
       "D_6          -0.000949         0.004628           -0.205           0.838\n",
       "L1.dY        -0.072442         0.142049           -0.510           0.610\n",
       "L1.U          0.159634         0.445268            0.359           0.720\n",
       "L1.dP        -0.258707         0.323821           -0.799           0.424\n",
       "L1.dW         0.376706         0.316575            1.190           0.234\n",
       "L1.dM         0.159448         0.130504            1.222           0.222\n",
       "L2.dY         0.114632         0.147405            0.778           0.437\n",
       "L2.U          0.579439         0.671728            0.863           0.388\n",
       "L2.dP        -0.349898         0.348626           -1.004           0.316\n",
       "L2.dW         0.424297         0.316732            1.340           0.180\n",
       "L2.dM         0.068215         0.134152            0.508           0.611\n",
       "L3.dY        -0.062825         0.123881           -0.507           0.612\n",
       "L3.U         -0.822154         0.464545           -1.770           0.077\n",
       "L3.dP        -0.247383         0.326042           -0.759           0.448\n",
       "L3.dW        -0.401509         0.314238           -1.278           0.201\n",
       "L3.dM         0.123306         0.135831            0.908           0.364\n",
       "========================================================================\n",
       "\n",
       "Correlation matrix of residuals\n",
       "            dY         U        dP        dW        dM\n",
       "dY    1.000000 -0.616431 -0.017227  0.185287  0.116441\n",
       "U    -0.616431  1.000000 -0.227323 -0.382809 -0.294496\n",
       "dP   -0.017227 -0.227323  1.000000  0.313973  0.094818\n",
       "dW    0.185287 -0.382809  0.313973  1.000000  0.113615\n",
       "dM    0.116441 -0.294496  0.094818  0.113615  1.000000\n",
       "\n"
      ]
     },
     "execution_count": 111,
     "metadata": {},
     "output_type": "execute_result"
    }
   ],
   "source": [
    "VAR_result.summary()"
   ]
  },
  {
   "cell_type": "markdown",
   "id": "ee784698",
   "metadata": {},
   "source": [
    "#### Structural model coefficients"
   ]
  },
  {
   "cell_type": "markdown",
   "id": "55d5a8da",
   "metadata": {},
   "source": [
    "Aggregate Demand equation을 토대로 추정한다고 하였으므로, \n",
    "\n",
    "위 Table 2에서의 lhs=rhs 방정식의 첫번째 element에 초점을 맞추면 된다."
   ]
  },
  {
   "cell_type": "code",
   "execution_count": 112,
   "id": "f306ac40",
   "metadata": {},
   "outputs": [
    {
     "data": {
      "text/html": [
       "<div>\n",
       "<style scoped>\n",
       "    .dataframe tbody tr th:only-of-type {\n",
       "        vertical-align: middle;\n",
       "    }\n",
       "\n",
       "    .dataframe tbody tr th {\n",
       "        vertical-align: top;\n",
       "    }\n",
       "\n",
       "    .dataframe thead th {\n",
       "        text-align: right;\n",
       "    }\n",
       "</style>\n",
       "<table border=\"1\" class=\"dataframe\">\n",
       "  <thead>\n",
       "    <tr style=\"text-align: right;\">\n",
       "      <th>index</th>\n",
       "      <th>L1.dY</th>\n",
       "      <th>L2.dY</th>\n",
       "      <th>L3.dY</th>\n",
       "      <th>L1.U</th>\n",
       "      <th>L2.U</th>\n",
       "      <th>L3.U</th>\n",
       "    </tr>\n",
       "  </thead>\n",
       "  <tbody>\n",
       "    <tr>\n",
       "      <th>dY</th>\n",
       "      <td>-0.191557</td>\n",
       "      <td>0.153714</td>\n",
       "      <td>0.101056</td>\n",
       "      <td>-2.276087</td>\n",
       "      <td>2.266015</td>\n",
       "      <td>-0.657775</td>\n",
       "    </tr>\n",
       "  </tbody>\n",
       "</table>\n",
       "</div>"
      ],
      "text/plain": [
       "index     L1.dY     L2.dY     L3.dY      L1.U      L2.U      L3.U\n",
       "dY    -0.191557  0.153714  0.101056 -2.276087  2.266015 -0.657775"
      ]
     },
     "execution_count": 112,
     "metadata": {},
     "output_type": "execute_result"
    }
   ],
   "source": [
    "pd.DataFrame(L.loc[focus_var]['dY']).transpose()"
   ]
  },
  {
   "cell_type": "markdown",
   "id": "18d62222",
   "metadata": {},
   "source": [
    "$\\Delta Y$와 $U$를 제외한 나머지에 대한 계수는 위와 같다.\n",
    "\n",
    "논문에서 언급하는 바와 같이, 실업률의 lag variable들이 output에 유의한 영향을 주는 것으로 나타난다."
   ]
  },
  {
   "cell_type": "code",
   "execution_count": 113,
   "id": "58e6e2b3",
   "metadata": {},
   "outputs": [
    {
     "data": {
      "text/latex": [
       "$\\displaystyle - U + 0.729007756906883 dY$"
      ],
      "text/plain": [
       "-U + 0.729007756906883*dY"
      ]
     },
     "execution_count": 113,
     "metadata": {},
     "output_type": "execute_result"
    }
   ],
   "source": [
    "lhs[0]"
   ]
  },
  {
   "cell_type": "markdown",
   "id": "bd384e40",
   "metadata": {},
   "source": [
    "lhs에 $dY$를 남기고, 나머지를 이항하면 원하는 식이 되며, 이항하여 우항에 자리잡게 된 $\\Delta Y$와 $U$로부터 각각의 계수를 얻게 된다.\n",
    "\n",
    "즉, $U$의 계수는 1, $\\Delta Y$의 계수는 약 0.271이 된다. "
   ]
  },
  {
   "cell_type": "markdown",
   "id": "4ca4538c",
   "metadata": {},
   "source": [
    "## IV. Dynamic Effects of Structural Shocks"
   ]
  },
  {
   "cell_type": "markdown",
   "id": "0e7fbf94",
   "metadata": {},
   "source": [
    "### Table 4"
   ]
  },
  {
   "cell_type": "markdown",
   "id": "852e947d",
   "metadata": {},
   "source": [
    "Variance Decomoposition을 위해서는 우선 P matrix를 먼저 구해 주어야 한다.\n",
    "\n",
    "이를 바탕으로 Impulse Response matrix들을 lag별로 구성하게 된다.\n",
    "\n",
    "또한 최종적으로, Impulse Response 결과들을 바탕으로 Variance Decompoistion을 계산하게 된다."
   ]
  },
  {
   "cell_type": "code",
   "execution_count": 114,
   "id": "0b005884",
   "metadata": {
    "id": "0b005884"
   },
   "outputs": [],
   "source": [
    "P = sA.inv()*sC*(sOmega_u**(1/2))"
   ]
  },
  {
   "cell_type": "code",
   "execution_count": 115,
   "id": "00e437bb",
   "metadata": {
    "id": "00e437bb",
    "outputId": "dcacfcf0-405b-441b-d1c4-da14b98ebf0f"
   },
   "outputs": [
    {
     "data": {
      "text/plain": [
       "array([[ 6.78027460e-03,  1.86786607e-03,  0.00000000e+00,\n",
       "         0.00000000e+00,  0.00000000e+00],\n",
       "       [-1.83740182e-03,  1.36168885e-03,  0.00000000e+00,\n",
       "         0.00000000e+00,  0.00000000e+00],\n",
       "       [ 1.69278984e-04, -7.86981117e-04,  2.52202122e-03,\n",
       "         2.54285000e-04,  0.00000000e+00],\n",
       "       [ 7.50819510e-04, -7.79879112e-04,  3.73216406e-04,\n",
       "         2.54285000e-03,  0.00000000e+00],\n",
       "       [ 1.20153301e-03, -1.55024966e-03,  8.11068379e-05,\n",
       "        -4.31502250e-05,  6.10418996e-03]])"
      ]
     },
     "execution_count": 115,
     "metadata": {},
     "output_type": "execute_result"
    }
   ],
   "source": [
    "P = np.array(P).astype(np.float64)\n",
    "P"
   ]
  },
  {
   "cell_type": "code",
   "execution_count": 116,
   "id": "0bfa9b6b",
   "metadata": {},
   "outputs": [],
   "source": [
    "def IRfunction(max_period = 40, P = P, cumulative = False) -> list[pd.DataFrame]:\n",
    "    IRF = []\n",
    "    PsiP = VAR_result.orth_ma_rep(maxn = max_period, P = P)\n",
    "    for i in range(n):\n",
    "        IRF_i = pd.DataFrame()\n",
    "        IRF_i.index = range(max_period + 1)\n",
    "        for j in range(n):\n",
    "            j_shock = shock_names[j]\n",
    "            IRF_i[j_shock] = PsiP[ :, i, j].copy()\n",
    "            \n",
    "        if cumulative:\n",
    "            IRF_i = IRF_i.cumsum()\n",
    "            \n",
    "        IRF.append(IRF_i)\n",
    "\n",
    "    return IRF"
   ]
  },
  {
   "cell_type": "code",
   "execution_count": 117,
   "id": "aedee96d",
   "metadata": {},
   "outputs": [],
   "source": [
    "IRF = IRfunction()\n",
    "CIRF = IRfunction(cumulative = True)"
   ]
  },
  {
   "cell_type": "code",
   "execution_count": 131,
   "id": "48220dbe",
   "metadata": {
    "id": "48220dbe",
    "outputId": "3e5d4c21-1abd-4eb4-8381-ffa4de3f7b1b"
   },
   "outputs": [
    {
     "data": {
      "text/html": [
       "<div>\n",
       "<style scoped>\n",
       "    .dataframe tbody tr th:only-of-type {\n",
       "        vertical-align: middle;\n",
       "    }\n",
       "\n",
       "    .dataframe tbody tr th {\n",
       "        vertical-align: top;\n",
       "    }\n",
       "\n",
       "    .dataframe thead th {\n",
       "        text-align: right;\n",
       "    }\n",
       "</style>\n",
       "<table border=\"1\" class=\"dataframe\">\n",
       "  <thead>\n",
       "    <tr style=\"text-align: right;\">\n",
       "      <th></th>\n",
       "      <th>Demand Shock</th>\n",
       "      <th>Money Shock</th>\n",
       "      <th>Supply Shock</th>\n",
       "      <th>Price Shock</th>\n",
       "      <th>Wage Shock</th>\n",
       "    </tr>\n",
       "  </thead>\n",
       "  <tbody>\n",
       "    <tr>\n",
       "      <th>0</th>\n",
       "      <td>0.006780</td>\n",
       "      <td>0.000000</td>\n",
       "      <td>0.001868</td>\n",
       "      <td>0.000000</td>\n",
       "      <td>0.000000</td>\n",
       "    </tr>\n",
       "    <tr>\n",
       "      <th>4</th>\n",
       "      <td>-0.001196</td>\n",
       "      <td>0.000596</td>\n",
       "      <td>0.001303</td>\n",
       "      <td>-0.001167</td>\n",
       "      <td>-0.000239</td>\n",
       "    </tr>\n",
       "    <tr>\n",
       "      <th>8</th>\n",
       "      <td>-0.000350</td>\n",
       "      <td>-0.000645</td>\n",
       "      <td>0.000175</td>\n",
       "      <td>-0.000157</td>\n",
       "      <td>-0.000397</td>\n",
       "    </tr>\n",
       "    <tr>\n",
       "      <th>12</th>\n",
       "      <td>0.000134</td>\n",
       "      <td>-0.000010</td>\n",
       "      <td>-0.000085</td>\n",
       "      <td>0.000307</td>\n",
       "      <td>0.000098</td>\n",
       "    </tr>\n",
       "    <tr>\n",
       "      <th>16</th>\n",
       "      <td>-0.000158</td>\n",
       "      <td>-0.000080</td>\n",
       "      <td>-0.000009</td>\n",
       "      <td>0.000190</td>\n",
       "      <td>0.000084</td>\n",
       "    </tr>\n",
       "    <tr>\n",
       "      <th>20</th>\n",
       "      <td>0.000027</td>\n",
       "      <td>-0.000039</td>\n",
       "      <td>-0.000134</td>\n",
       "      <td>0.000231</td>\n",
       "      <td>0.000096</td>\n",
       "    </tr>\n",
       "    <tr>\n",
       "      <th>24</th>\n",
       "      <td>0.000055</td>\n",
       "      <td>0.000040</td>\n",
       "      <td>-0.000126</td>\n",
       "      <td>0.000193</td>\n",
       "      <td>0.000118</td>\n",
       "    </tr>\n",
       "    <tr>\n",
       "      <th>28</th>\n",
       "      <td>0.000037</td>\n",
       "      <td>0.000032</td>\n",
       "      <td>-0.000097</td>\n",
       "      <td>0.000135</td>\n",
       "      <td>0.000093</td>\n",
       "    </tr>\n",
       "    <tr>\n",
       "      <th>32</th>\n",
       "      <td>0.000046</td>\n",
       "      <td>0.000035</td>\n",
       "      <td>-0.000081</td>\n",
       "      <td>0.000096</td>\n",
       "      <td>0.000070</td>\n",
       "    </tr>\n",
       "    <tr>\n",
       "      <th>36</th>\n",
       "      <td>0.000036</td>\n",
       "      <td>0.000033</td>\n",
       "      <td>-0.000055</td>\n",
       "      <td>0.000058</td>\n",
       "      <td>0.000049</td>\n",
       "    </tr>\n",
       "    <tr>\n",
       "      <th>40</th>\n",
       "      <td>0.000025</td>\n",
       "      <td>0.000024</td>\n",
       "      <td>-0.000034</td>\n",
       "      <td>0.000030</td>\n",
       "      <td>0.000030</td>\n",
       "    </tr>\n",
       "  </tbody>\n",
       "</table>\n",
       "</div>"
      ],
      "text/plain": [
       "    Demand Shock  Money Shock  Supply Shock  Price Shock  Wage Shock\n",
       "0       0.006780     0.000000      0.001868     0.000000    0.000000\n",
       "4      -0.001196     0.000596      0.001303    -0.001167   -0.000239\n",
       "8      -0.000350    -0.000645      0.000175    -0.000157   -0.000397\n",
       "12      0.000134    -0.000010     -0.000085     0.000307    0.000098\n",
       "16     -0.000158    -0.000080     -0.000009     0.000190    0.000084\n",
       "20      0.000027    -0.000039     -0.000134     0.000231    0.000096\n",
       "24      0.000055     0.000040     -0.000126     0.000193    0.000118\n",
       "28      0.000037     0.000032     -0.000097     0.000135    0.000093\n",
       "32      0.000046     0.000035     -0.000081     0.000096    0.000070\n",
       "36      0.000036     0.000033     -0.000055     0.000058    0.000049\n",
       "40      0.000025     0.000024     -0.000034     0.000030    0.000030"
      ]
     },
     "execution_count": 131,
     "metadata": {},
     "output_type": "execute_result"
    }
   ],
   "source": [
    "# IRF의 0번째 index에는 Output에 shock들이 영향을 주는 정도가 담겨 있다.\n",
    "col_seq = ['Demand Shock','Money Shock','Supply Shock','Price Shock','Wage Shock']\n",
    "IRF[0][col_seq].iloc[::4]"
   ]
  },
  {
   "cell_type": "code",
   "execution_count": 132,
   "id": "d32da207",
   "metadata": {},
   "outputs": [
    {
     "data": {
      "text/html": [
       "<div>\n",
       "<style scoped>\n",
       "    .dataframe tbody tr th:only-of-type {\n",
       "        vertical-align: middle;\n",
       "    }\n",
       "\n",
       "    .dataframe tbody tr th {\n",
       "        vertical-align: top;\n",
       "    }\n",
       "\n",
       "    .dataframe thead th {\n",
       "        text-align: right;\n",
       "    }\n",
       "</style>\n",
       "<table border=\"1\" class=\"dataframe\">\n",
       "  <thead>\n",
       "    <tr style=\"text-align: right;\">\n",
       "      <th></th>\n",
       "      <th>Demand Shock</th>\n",
       "      <th>Money Shock</th>\n",
       "      <th>Supply Shock</th>\n",
       "      <th>Price Shock</th>\n",
       "      <th>Wage Shock</th>\n",
       "    </tr>\n",
       "  </thead>\n",
       "  <tbody>\n",
       "    <tr>\n",
       "      <th>0</th>\n",
       "      <td>-0.001837</td>\n",
       "      <td>0.000000</td>\n",
       "      <td>0.001362</td>\n",
       "      <td>0.000000</td>\n",
       "      <td>0.000000</td>\n",
       "    </tr>\n",
       "    <tr>\n",
       "      <th>4</th>\n",
       "      <td>-0.002556</td>\n",
       "      <td>-0.002051</td>\n",
       "      <td>0.000841</td>\n",
       "      <td>0.000872</td>\n",
       "      <td>-0.000167</td>\n",
       "    </tr>\n",
       "    <tr>\n",
       "      <th>8</th>\n",
       "      <td>0.000150</td>\n",
       "      <td>-0.000657</td>\n",
       "      <td>-0.000936</td>\n",
       "      <td>0.002068</td>\n",
       "      <td>0.000588</td>\n",
       "    </tr>\n",
       "    <tr>\n",
       "      <th>12</th>\n",
       "      <td>0.000104</td>\n",
       "      <td>0.000101</td>\n",
       "      <td>-0.000899</td>\n",
       "      <td>0.001748</td>\n",
       "      <td>0.000949</td>\n",
       "    </tr>\n",
       "    <tr>\n",
       "      <th>16</th>\n",
       "      <td>0.000223</td>\n",
       "      <td>0.000104</td>\n",
       "      <td>-0.000902</td>\n",
       "      <td>0.001416</td>\n",
       "      <td>0.000833</td>\n",
       "    </tr>\n",
       "    <tr>\n",
       "      <th>20</th>\n",
       "      <td>0.000414</td>\n",
       "      <td>0.000285</td>\n",
       "      <td>-0.000829</td>\n",
       "      <td>0.001107</td>\n",
       "      <td>0.000731</td>\n",
       "    </tr>\n",
       "    <tr>\n",
       "      <th>24</th>\n",
       "      <td>0.000332</td>\n",
       "      <td>0.000297</td>\n",
       "      <td>-0.000606</td>\n",
       "      <td>0.000732</td>\n",
       "      <td>0.000557</td>\n",
       "    </tr>\n",
       "    <tr>\n",
       "      <th>28</th>\n",
       "      <td>0.000272</td>\n",
       "      <td>0.000243</td>\n",
       "      <td>-0.000425</td>\n",
       "      <td>0.000447</td>\n",
       "      <td>0.000378</td>\n",
       "    </tr>\n",
       "    <tr>\n",
       "      <th>32</th>\n",
       "      <td>0.000206</td>\n",
       "      <td>0.000195</td>\n",
       "      <td>-0.000270</td>\n",
       "      <td>0.000238</td>\n",
       "      <td>0.000237</td>\n",
       "    </tr>\n",
       "    <tr>\n",
       "      <th>36</th>\n",
       "      <td>0.000134</td>\n",
       "      <td>0.000136</td>\n",
       "      <td>-0.000147</td>\n",
       "      <td>0.000093</td>\n",
       "      <td>0.000129</td>\n",
       "    </tr>\n",
       "    <tr>\n",
       "      <th>40</th>\n",
       "      <td>0.000081</td>\n",
       "      <td>0.000086</td>\n",
       "      <td>-0.000065</td>\n",
       "      <td>0.000007</td>\n",
       "      <td>0.000054</td>\n",
       "    </tr>\n",
       "  </tbody>\n",
       "</table>\n",
       "</div>"
      ],
      "text/plain": [
       "    Demand Shock  Money Shock  Supply Shock  Price Shock  Wage Shock\n",
       "0      -0.001837     0.000000      0.001362     0.000000    0.000000\n",
       "4      -0.002556    -0.002051      0.000841     0.000872   -0.000167\n",
       "8       0.000150    -0.000657     -0.000936     0.002068    0.000588\n",
       "12      0.000104     0.000101     -0.000899     0.001748    0.000949\n",
       "16      0.000223     0.000104     -0.000902     0.001416    0.000833\n",
       "20      0.000414     0.000285     -0.000829     0.001107    0.000731\n",
       "24      0.000332     0.000297     -0.000606     0.000732    0.000557\n",
       "28      0.000272     0.000243     -0.000425     0.000447    0.000378\n",
       "32      0.000206     0.000195     -0.000270     0.000238    0.000237\n",
       "36      0.000134     0.000136     -0.000147     0.000093    0.000129\n",
       "40      0.000081     0.000086     -0.000065     0.000007    0.000054"
      ]
     },
     "execution_count": 132,
     "metadata": {},
     "output_type": "execute_result"
    }
   ],
   "source": [
    "# IRF의 1번째 index에는 Unemployment에 shock들이 영향을 주는 정도가 담겨 있다.\n",
    "IRF[1][col_seq].iloc[::4]"
   ]
  },
  {
   "cell_type": "code",
   "execution_count": 120,
   "id": "19d5b1dd",
   "metadata": {
    "id": "19d5b1dd"
   },
   "outputs": [],
   "source": [
    "def VarianceDecomposition(max_period = 28, P = P, cumulative = False):\n",
    "    fevd = []\n",
    "    if cumulative:\n",
    "        IRF = IRfunction(max_period = max_period, P = P, cumulative = True)\n",
    "    else:\n",
    "        IRF = IRfunction(max_period = max_period, P = P, cumulative = False)\n",
    "    \n",
    "    for i in range(n):\n",
    "        fevd_i = IRF[i].copy()\n",
    "        fevd_i = fevd_i.shift()\n",
    "        fevd_i = fevd_i**2\n",
    "        fevd_i = fevd_i.cumsum()\n",
    "        fevd_i.dropna(inplace = True)\n",
    "        MSE_i = fevd_i.sum(axis = 1)\n",
    "        for j in range(n):\n",
    "            fevd_i.iloc[:,j] = fevd_i.iloc[:,j].copy() / MSE_i.values\n",
    "        \n",
    "        fevd.append(fevd_i)\n",
    "    \n",
    "    return fevd"
   ]
  },
  {
   "cell_type": "markdown",
   "id": "cd3f5d0e",
   "metadata": {},
   "source": [
    "논문에서는 Table 4의 variance decomposition 결과를 제시할 때, 다음과 같은 2가지 사항을 언급한다.\n",
    "1. Each source of innovation이 n-quarter 뒤의 forecast error에 얼마나 영향을 미치는지 (즉, cumulative=False)\n",
    "2. 차분(first-difference)변수가 아니라, 수준(level)변수에 대한 variance decomposition 결과 제시\n",
    "\n",
    "1번을 고려할 때, 기본적으로 cumulative=False로 두고 variance decomposition 결과를 제시해야겠으나, Output에 대한 variance decomposition의 경우, Impulse Response가 각 innovation들이 $dY$에 미치는 영향을 기준으로 계산되어 있으므로, $Y$에 대한 variance decompostion을 위해서는 cumulative=True로 두어야 할 것이다.\n",
    "* 좀 더 부연하자면, $\\Psi_{s,ij}^{dY}={{\\partial (dY)_{t+s,i}}\\over{\\partial e_{t,j}}}={{\\partial (Y)_{t+s,i}}\\over{\\partial e_{t,j}}}-{{\\partial (Y)_{t+s-1,i}}\\over{\\partial e_{t,j}}}$, 즉 ${{\\partial (Y)_{t+s,i}}\\over{\\partial e_{t,j}}}=\\Psi_{s,ij}^{dY}+{{\\partial (Y)_{t+s-1,i}}\\over{\\partial e_{t,j}}}$ 이므로, cumulative=True로 두고 $dY$의 impulse reponse를 계산한 것은 cumulative=False로 두고 $Y$의 impulse response를 계산한 것과 같다.\n",
    "\n",
    "따라서, Output에 대해서는 cumulative=True 버전의 variance decomposition을, unempolyment에 대해서는 cumulative=False 버전의 variance decomposition을 실행하였다.\n"
   ]
  },
  {
   "cell_type": "code",
   "execution_count": 121,
   "id": "9db71f25",
   "metadata": {
    "id": "9db71f25",
    "outputId": "73625764-b7f0-4131-b38b-ac096fdf264e"
   },
   "outputs": [
    {
     "data": {
      "text/html": [
       "<div>\n",
       "<style scoped>\n",
       "    .dataframe tbody tr th:only-of-type {\n",
       "        vertical-align: middle;\n",
       "    }\n",
       "\n",
       "    .dataframe tbody tr th {\n",
       "        vertical-align: top;\n",
       "    }\n",
       "\n",
       "    .dataframe thead th {\n",
       "        text-align: right;\n",
       "    }\n",
       "</style>\n",
       "<table border=\"1\" class=\"dataframe\">\n",
       "  <thead>\n",
       "    <tr style=\"text-align: right;\">\n",
       "      <th></th>\n",
       "      <th>Demand Shock</th>\n",
       "      <th>Supply Shock</th>\n",
       "      <th>Price Shock</th>\n",
       "      <th>Wage Shock</th>\n",
       "      <th>Money Shock</th>\n",
       "    </tr>\n",
       "  </thead>\n",
       "  <tbody>\n",
       "    <tr>\n",
       "      <th>1</th>\n",
       "      <td>0.929461</td>\n",
       "      <td>0.070539</td>\n",
       "      <td>0.000000</td>\n",
       "      <td>0.000000</td>\n",
       "      <td>0.000000</td>\n",
       "    </tr>\n",
       "    <tr>\n",
       "      <th>2</th>\n",
       "      <td>0.924330</td>\n",
       "      <td>0.036675</td>\n",
       "      <td>0.000771</td>\n",
       "      <td>0.000545</td>\n",
       "      <td>0.037679</td>\n",
       "    </tr>\n",
       "    <tr>\n",
       "      <th>3</th>\n",
       "      <td>0.875249</td>\n",
       "      <td>0.021828</td>\n",
       "      <td>0.001590</td>\n",
       "      <td>0.002502</td>\n",
       "      <td>0.098831</td>\n",
       "    </tr>\n",
       "    <tr>\n",
       "      <th>4</th>\n",
       "      <td>0.844284</td>\n",
       "      <td>0.026201</td>\n",
       "      <td>0.003344</td>\n",
       "      <td>0.005465</td>\n",
       "      <td>0.120705</td>\n",
       "    </tr>\n",
       "    <tr>\n",
       "      <th>5</th>\n",
       "      <td>0.781301</td>\n",
       "      <td>0.048235</td>\n",
       "      <td>0.014833</td>\n",
       "      <td>0.006056</td>\n",
       "      <td>0.149574</td>\n",
       "    </tr>\n",
       "    <tr>\n",
       "      <th>6</th>\n",
       "      <td>0.712841</td>\n",
       "      <td>0.081463</td>\n",
       "      <td>0.036494</td>\n",
       "      <td>0.005453</td>\n",
       "      <td>0.163749</td>\n",
       "    </tr>\n",
       "    <tr>\n",
       "      <th>7</th>\n",
       "      <td>0.644092</td>\n",
       "      <td>0.132316</td>\n",
       "      <td>0.060320</td>\n",
       "      <td>0.004859</td>\n",
       "      <td>0.158413</td>\n",
       "    </tr>\n",
       "    <tr>\n",
       "      <th>8</th>\n",
       "      <td>0.582625</td>\n",
       "      <td>0.182151</td>\n",
       "      <td>0.083498</td>\n",
       "      <td>0.005208</td>\n",
       "      <td>0.146518</td>\n",
       "    </tr>\n",
       "    <tr>\n",
       "      <th>9</th>\n",
       "      <td>0.528885</td>\n",
       "      <td>0.226113</td>\n",
       "      <td>0.104549</td>\n",
       "      <td>0.006834</td>\n",
       "      <td>0.133619</td>\n",
       "    </tr>\n",
       "    <tr>\n",
       "      <th>10</th>\n",
       "      <td>0.485998</td>\n",
       "      <td>0.263194</td>\n",
       "      <td>0.119134</td>\n",
       "      <td>0.008958</td>\n",
       "      <td>0.122716</td>\n",
       "    </tr>\n",
       "    <tr>\n",
       "      <th>11</th>\n",
       "      <td>0.452183</td>\n",
       "      <td>0.293797</td>\n",
       "      <td>0.128303</td>\n",
       "      <td>0.011448</td>\n",
       "      <td>0.114268</td>\n",
       "    </tr>\n",
       "    <tr>\n",
       "      <th>12</th>\n",
       "      <td>0.425558</td>\n",
       "      <td>0.318882</td>\n",
       "      <td>0.134180</td>\n",
       "      <td>0.013774</td>\n",
       "      <td>0.107606</td>\n",
       "    </tr>\n",
       "    <tr>\n",
       "      <th>13</th>\n",
       "      <td>0.404011</td>\n",
       "      <td>0.341100</td>\n",
       "      <td>0.137260</td>\n",
       "      <td>0.015486</td>\n",
       "      <td>0.102143</td>\n",
       "    </tr>\n",
       "    <tr>\n",
       "      <th>14</th>\n",
       "      <td>0.385920</td>\n",
       "      <td>0.361377</td>\n",
       "      <td>0.138425</td>\n",
       "      <td>0.016746</td>\n",
       "      <td>0.097532</td>\n",
       "    </tr>\n",
       "    <tr>\n",
       "      <th>15</th>\n",
       "      <td>0.370038</td>\n",
       "      <td>0.380337</td>\n",
       "      <td>0.138525</td>\n",
       "      <td>0.017604</td>\n",
       "      <td>0.093496</td>\n",
       "    </tr>\n",
       "    <tr>\n",
       "      <th>16</th>\n",
       "      <td>0.355740</td>\n",
       "      <td>0.398355</td>\n",
       "      <td>0.137790</td>\n",
       "      <td>0.018123</td>\n",
       "      <td>0.089992</td>\n",
       "    </tr>\n",
       "    <tr>\n",
       "      <th>17</th>\n",
       "      <td>0.342775</td>\n",
       "      <td>0.415439</td>\n",
       "      <td>0.136381</td>\n",
       "      <td>0.018422</td>\n",
       "      <td>0.086983</td>\n",
       "    </tr>\n",
       "    <tr>\n",
       "      <th>18</th>\n",
       "      <td>0.331111</td>\n",
       "      <td>0.431359</td>\n",
       "      <td>0.134508</td>\n",
       "      <td>0.018567</td>\n",
       "      <td>0.084455</td>\n",
       "    </tr>\n",
       "    <tr>\n",
       "      <th>19</th>\n",
       "      <td>0.320727</td>\n",
       "      <td>0.446034</td>\n",
       "      <td>0.132267</td>\n",
       "      <td>0.018582</td>\n",
       "      <td>0.082391</td>\n",
       "    </tr>\n",
       "    <tr>\n",
       "      <th>20</th>\n",
       "      <td>0.311576</td>\n",
       "      <td>0.459414</td>\n",
       "      <td>0.129768</td>\n",
       "      <td>0.018492</td>\n",
       "      <td>0.080750</td>\n",
       "    </tr>\n",
       "    <tr>\n",
       "      <th>21</th>\n",
       "      <td>0.303574</td>\n",
       "      <td>0.471520</td>\n",
       "      <td>0.127154</td>\n",
       "      <td>0.018316</td>\n",
       "      <td>0.079437</td>\n",
       "    </tr>\n",
       "    <tr>\n",
       "      <th>22</th>\n",
       "      <td>0.296595</td>\n",
       "      <td>0.482438</td>\n",
       "      <td>0.124539</td>\n",
       "      <td>0.018068</td>\n",
       "      <td>0.078360</td>\n",
       "    </tr>\n",
       "    <tr>\n",
       "      <th>23</th>\n",
       "      <td>0.290491</td>\n",
       "      <td>0.492283</td>\n",
       "      <td>0.122017</td>\n",
       "      <td>0.017771</td>\n",
       "      <td>0.077438</td>\n",
       "    </tr>\n",
       "    <tr>\n",
       "      <th>24</th>\n",
       "      <td>0.285117</td>\n",
       "      <td>0.501159</td>\n",
       "      <td>0.119663</td>\n",
       "      <td>0.017454</td>\n",
       "      <td>0.076607</td>\n",
       "    </tr>\n",
       "    <tr>\n",
       "      <th>25</th>\n",
       "      <td>0.280338</td>\n",
       "      <td>0.509165</td>\n",
       "      <td>0.117525</td>\n",
       "      <td>0.017143</td>\n",
       "      <td>0.075828</td>\n",
       "    </tr>\n",
       "    <tr>\n",
       "      <th>26</th>\n",
       "      <td>0.276039</td>\n",
       "      <td>0.516382</td>\n",
       "      <td>0.115633</td>\n",
       "      <td>0.016863</td>\n",
       "      <td>0.075084</td>\n",
       "    </tr>\n",
       "    <tr>\n",
       "      <th>27</th>\n",
       "      <td>0.272131</td>\n",
       "      <td>0.522869</td>\n",
       "      <td>0.114003</td>\n",
       "      <td>0.016635</td>\n",
       "      <td>0.074362</td>\n",
       "    </tr>\n",
       "    <tr>\n",
       "      <th>28</th>\n",
       "      <td>0.268551</td>\n",
       "      <td>0.528674</td>\n",
       "      <td>0.112642</td>\n",
       "      <td>0.016475</td>\n",
       "      <td>0.073659</td>\n",
       "    </tr>\n",
       "  </tbody>\n",
       "</table>\n",
       "</div>"
      ],
      "text/plain": [
       "    Demand Shock  Supply Shock  Price Shock  Wage Shock  Money Shock\n",
       "1       0.929461      0.070539     0.000000    0.000000     0.000000\n",
       "2       0.924330      0.036675     0.000771    0.000545     0.037679\n",
       "3       0.875249      0.021828     0.001590    0.002502     0.098831\n",
       "4       0.844284      0.026201     0.003344    0.005465     0.120705\n",
       "5       0.781301      0.048235     0.014833    0.006056     0.149574\n",
       "6       0.712841      0.081463     0.036494    0.005453     0.163749\n",
       "7       0.644092      0.132316     0.060320    0.004859     0.158413\n",
       "8       0.582625      0.182151     0.083498    0.005208     0.146518\n",
       "9       0.528885      0.226113     0.104549    0.006834     0.133619\n",
       "10      0.485998      0.263194     0.119134    0.008958     0.122716\n",
       "11      0.452183      0.293797     0.128303    0.011448     0.114268\n",
       "12      0.425558      0.318882     0.134180    0.013774     0.107606\n",
       "13      0.404011      0.341100     0.137260    0.015486     0.102143\n",
       "14      0.385920      0.361377     0.138425    0.016746     0.097532\n",
       "15      0.370038      0.380337     0.138525    0.017604     0.093496\n",
       "16      0.355740      0.398355     0.137790    0.018123     0.089992\n",
       "17      0.342775      0.415439     0.136381    0.018422     0.086983\n",
       "18      0.331111      0.431359     0.134508    0.018567     0.084455\n",
       "19      0.320727      0.446034     0.132267    0.018582     0.082391\n",
       "20      0.311576      0.459414     0.129768    0.018492     0.080750\n",
       "21      0.303574      0.471520     0.127154    0.018316     0.079437\n",
       "22      0.296595      0.482438     0.124539    0.018068     0.078360\n",
       "23      0.290491      0.492283     0.122017    0.017771     0.077438\n",
       "24      0.285117      0.501159     0.119663    0.017454     0.076607\n",
       "25      0.280338      0.509165     0.117525    0.017143     0.075828\n",
       "26      0.276039      0.516382     0.115633    0.016863     0.075084\n",
       "27      0.272131      0.522869     0.114003    0.016635     0.074362\n",
       "28      0.268551      0.528674     0.112642    0.016475     0.073659"
      ]
     },
     "execution_count": 121,
     "metadata": {},
     "output_type": "execute_result"
    }
   ],
   "source": [
    "# 마찬가지로, 0번째 index에는 Output에 shock들이 영향을 주는 정도가 담겨 있다.\n",
    "VarianceDecomposition(cumulative=True)[0]"
   ]
  },
  {
   "cell_type": "code",
   "execution_count": 133,
   "id": "38e8529b",
   "metadata": {},
   "outputs": [
    {
     "data": {
      "text/html": [
       "<div>\n",
       "<style scoped>\n",
       "    .dataframe tbody tr th:only-of-type {\n",
       "        vertical-align: middle;\n",
       "    }\n",
       "\n",
       "    .dataframe tbody tr th {\n",
       "        vertical-align: top;\n",
       "    }\n",
       "\n",
       "    .dataframe thead th {\n",
       "        text-align: right;\n",
       "    }\n",
       "</style>\n",
       "<table border=\"1\" class=\"dataframe\">\n",
       "  <thead>\n",
       "    <tr style=\"text-align: right;\">\n",
       "      <th></th>\n",
       "      <th>Demand Shock</th>\n",
       "      <th>Money Shock</th>\n",
       "      <th>Supply Shock</th>\n",
       "      <th>Price Shock</th>\n",
       "      <th>Wage Shock</th>\n",
       "    </tr>\n",
       "  </thead>\n",
       "  <tbody>\n",
       "    <tr>\n",
       "      <th>1</th>\n",
       "      <td>0.645486</td>\n",
       "      <td>0.000000</td>\n",
       "      <td>0.354514</td>\n",
       "      <td>0.000000</td>\n",
       "      <td>0.000000</td>\n",
       "    </tr>\n",
       "    <tr>\n",
       "      <th>2</th>\n",
       "      <td>0.648461</td>\n",
       "      <td>0.019684</td>\n",
       "      <td>0.322517</td>\n",
       "      <td>0.008338</td>\n",
       "      <td>0.001000</td>\n",
       "    </tr>\n",
       "    <tr>\n",
       "      <th>3</th>\n",
       "      <td>0.664841</td>\n",
       "      <td>0.051512</td>\n",
       "      <td>0.277855</td>\n",
       "      <td>0.004768</td>\n",
       "      <td>0.001024</td>\n",
       "    </tr>\n",
       "    <tr>\n",
       "      <th>4</th>\n",
       "      <td>0.675553</td>\n",
       "      <td>0.093631</td>\n",
       "      <td>0.225659</td>\n",
       "      <td>0.004090</td>\n",
       "      <td>0.001067</td>\n",
       "    </tr>\n",
       "    <tr>\n",
       "      <th>5</th>\n",
       "      <td>0.644873</td>\n",
       "      <td>0.147834</td>\n",
       "      <td>0.189280</td>\n",
       "      <td>0.016684</td>\n",
       "      <td>0.001329</td>\n",
       "    </tr>\n",
       "    <tr>\n",
       "      <th>6</th>\n",
       "      <td>0.607690</td>\n",
       "      <td>0.185916</td>\n",
       "      <td>0.166398</td>\n",
       "      <td>0.038629</td>\n",
       "      <td>0.001366</td>\n",
       "    </tr>\n",
       "    <tr>\n",
       "      <th>7</th>\n",
       "      <td>0.570684</td>\n",
       "      <td>0.201986</td>\n",
       "      <td>0.155772</td>\n",
       "      <td>0.070092</td>\n",
       "      <td>0.001467</td>\n",
       "    </tr>\n",
       "    <tr>\n",
       "      <th>8</th>\n",
       "      <td>0.528743</td>\n",
       "      <td>0.202901</td>\n",
       "      <td>0.151401</td>\n",
       "      <td>0.113759</td>\n",
       "      <td>0.003196</td>\n",
       "    </tr>\n",
       "    <tr>\n",
       "      <th>9</th>\n",
       "      <td>0.490385</td>\n",
       "      <td>0.193376</td>\n",
       "      <td>0.151090</td>\n",
       "      <td>0.157937</td>\n",
       "      <td>0.007212</td>\n",
       "    </tr>\n",
       "    <tr>\n",
       "      <th>10</th>\n",
       "      <td>0.457870</td>\n",
       "      <td>0.180906</td>\n",
       "      <td>0.152914</td>\n",
       "      <td>0.194869</td>\n",
       "      <td>0.013440</td>\n",
       "    </tr>\n",
       "    <tr>\n",
       "      <th>11</th>\n",
       "      <td>0.430089</td>\n",
       "      <td>0.169630</td>\n",
       "      <td>0.154078</td>\n",
       "      <td>0.225000</td>\n",
       "      <td>0.021203</td>\n",
       "    </tr>\n",
       "    <tr>\n",
       "      <th>12</th>\n",
       "      <td>0.407020</td>\n",
       "      <td>0.160416</td>\n",
       "      <td>0.154663</td>\n",
       "      <td>0.248750</td>\n",
       "      <td>0.029151</td>\n",
       "    </tr>\n",
       "    <tr>\n",
       "      <th>13</th>\n",
       "      <td>0.388295</td>\n",
       "      <td>0.153094</td>\n",
       "      <td>0.155322</td>\n",
       "      <td>0.266785</td>\n",
       "      <td>0.036504</td>\n",
       "    </tr>\n",
       "    <tr>\n",
       "      <th>14</th>\n",
       "      <td>0.372748</td>\n",
       "      <td>0.147023</td>\n",
       "      <td>0.156131</td>\n",
       "      <td>0.281003</td>\n",
       "      <td>0.043094</td>\n",
       "    </tr>\n",
       "    <tr>\n",
       "      <th>15</th>\n",
       "      <td>0.359483</td>\n",
       "      <td>0.141812</td>\n",
       "      <td>0.157279</td>\n",
       "      <td>0.292654</td>\n",
       "      <td>0.048772</td>\n",
       "    </tr>\n",
       "    <tr>\n",
       "      <th>16</th>\n",
       "      <td>0.347993</td>\n",
       "      <td>0.137265</td>\n",
       "      <td>0.158962</td>\n",
       "      <td>0.302176</td>\n",
       "      <td>0.053604</td>\n",
       "    </tr>\n",
       "    <tr>\n",
       "      <th>17</th>\n",
       "      <td>0.337959</td>\n",
       "      <td>0.133234</td>\n",
       "      <td>0.161027</td>\n",
       "      <td>0.309956</td>\n",
       "      <td>0.057824</td>\n",
       "    </tr>\n",
       "    <tr>\n",
       "      <th>18</th>\n",
       "      <td>0.329254</td>\n",
       "      <td>0.129676</td>\n",
       "      <td>0.163262</td>\n",
       "      <td>0.316259</td>\n",
       "      <td>0.061549</td>\n",
       "    </tr>\n",
       "    <tr>\n",
       "      <th>19</th>\n",
       "      <td>0.321837</td>\n",
       "      <td>0.126646</td>\n",
       "      <td>0.165496</td>\n",
       "      <td>0.321160</td>\n",
       "      <td>0.064861</td>\n",
       "    </tr>\n",
       "    <tr>\n",
       "      <th>20</th>\n",
       "      <td>0.315607</td>\n",
       "      <td>0.124174</td>\n",
       "      <td>0.167556</td>\n",
       "      <td>0.324822</td>\n",
       "      <td>0.067841</td>\n",
       "    </tr>\n",
       "    <tr>\n",
       "      <th>21</th>\n",
       "      <td>0.310428</td>\n",
       "      <td>0.122239</td>\n",
       "      <td>0.169343</td>\n",
       "      <td>0.327481</td>\n",
       "      <td>0.070509</td>\n",
       "    </tr>\n",
       "    <tr>\n",
       "      <th>22</th>\n",
       "      <td>0.306165</td>\n",
       "      <td>0.120783</td>\n",
       "      <td>0.170851</td>\n",
       "      <td>0.329340</td>\n",
       "      <td>0.072862</td>\n",
       "    </tr>\n",
       "    <tr>\n",
       "      <th>23</th>\n",
       "      <td>0.302686</td>\n",
       "      <td>0.119712</td>\n",
       "      <td>0.172109</td>\n",
       "      <td>0.330588</td>\n",
       "      <td>0.074905</td>\n",
       "    </tr>\n",
       "    <tr>\n",
       "      <th>24</th>\n",
       "      <td>0.299871</td>\n",
       "      <td>0.118928</td>\n",
       "      <td>0.173158</td>\n",
       "      <td>0.331397</td>\n",
       "      <td>0.076646</td>\n",
       "    </tr>\n",
       "    <tr>\n",
       "      <th>25</th>\n",
       "      <td>0.297616</td>\n",
       "      <td>0.118355</td>\n",
       "      <td>0.174043</td>\n",
       "      <td>0.331885</td>\n",
       "      <td>0.078100</td>\n",
       "    </tr>\n",
       "    <tr>\n",
       "      <th>26</th>\n",
       "      <td>0.295829</td>\n",
       "      <td>0.117938</td>\n",
       "      <td>0.174798</td>\n",
       "      <td>0.332139</td>\n",
       "      <td>0.079297</td>\n",
       "    </tr>\n",
       "    <tr>\n",
       "      <th>27</th>\n",
       "      <td>0.294427</td>\n",
       "      <td>0.117639</td>\n",
       "      <td>0.175443</td>\n",
       "      <td>0.332222</td>\n",
       "      <td>0.080270</td>\n",
       "    </tr>\n",
       "    <tr>\n",
       "      <th>28</th>\n",
       "      <td>0.293340</td>\n",
       "      <td>0.117435</td>\n",
       "      <td>0.175989</td>\n",
       "      <td>0.332182</td>\n",
       "      <td>0.081053</td>\n",
       "    </tr>\n",
       "  </tbody>\n",
       "</table>\n",
       "</div>"
      ],
      "text/plain": [
       "    Demand Shock  Money Shock  Supply Shock  Price Shock  Wage Shock\n",
       "1       0.645486     0.000000      0.354514     0.000000    0.000000\n",
       "2       0.648461     0.019684      0.322517     0.008338    0.001000\n",
       "3       0.664841     0.051512      0.277855     0.004768    0.001024\n",
       "4       0.675553     0.093631      0.225659     0.004090    0.001067\n",
       "5       0.644873     0.147834      0.189280     0.016684    0.001329\n",
       "6       0.607690     0.185916      0.166398     0.038629    0.001366\n",
       "7       0.570684     0.201986      0.155772     0.070092    0.001467\n",
       "8       0.528743     0.202901      0.151401     0.113759    0.003196\n",
       "9       0.490385     0.193376      0.151090     0.157937    0.007212\n",
       "10      0.457870     0.180906      0.152914     0.194869    0.013440\n",
       "11      0.430089     0.169630      0.154078     0.225000    0.021203\n",
       "12      0.407020     0.160416      0.154663     0.248750    0.029151\n",
       "13      0.388295     0.153094      0.155322     0.266785    0.036504\n",
       "14      0.372748     0.147023      0.156131     0.281003    0.043094\n",
       "15      0.359483     0.141812      0.157279     0.292654    0.048772\n",
       "16      0.347993     0.137265      0.158962     0.302176    0.053604\n",
       "17      0.337959     0.133234      0.161027     0.309956    0.057824\n",
       "18      0.329254     0.129676      0.163262     0.316259    0.061549\n",
       "19      0.321837     0.126646      0.165496     0.321160    0.064861\n",
       "20      0.315607     0.124174      0.167556     0.324822    0.067841\n",
       "21      0.310428     0.122239      0.169343     0.327481    0.070509\n",
       "22      0.306165     0.120783      0.170851     0.329340    0.072862\n",
       "23      0.302686     0.119712      0.172109     0.330588    0.074905\n",
       "24      0.299871     0.118928      0.173158     0.331397    0.076646\n",
       "25      0.297616     0.118355      0.174043     0.331885    0.078100\n",
       "26      0.295829     0.117938      0.174798     0.332139    0.079297\n",
       "27      0.294427     0.117639      0.175443     0.332222    0.080270\n",
       "28      0.293340     0.117435      0.175989     0.332182    0.081053"
      ]
     },
     "execution_count": 133,
     "metadata": {},
     "output_type": "execute_result"
    }
   ],
   "source": [
    "# 마찬가지로, 1번째 index에는 Unemployment에 shock들이 영향을 주는 정도가 담겨 있다.\n",
    "VarianceDecomposition()[1][col_seq]"
   ]
  },
  {
   "cell_type": "markdown",
   "id": "4e63996c",
   "metadata": {},
   "source": [
    "Output에 대한 Variance Decomposition가 Unemployment에 대한 Variance Decomposition 모두 논문의 결과와 상당 부분 일치하는 양상을 보였다."
   ]
  },
  {
   "cell_type": "markdown",
   "id": "b991ea3a",
   "metadata": {},
   "source": [
    "### Figure 1"
   ]
  },
  {
   "cell_type": "markdown",
   "id": "debeac19",
   "metadata": {},
   "source": [
    "위에서 구한 Impulse Response Matrix들을 바탕으로, 각 innovation shock의 One-standard deviation이 내생변수들에 미치는 영향을 도시해 보겠다. \n",
    "* 내생변수가 몇% 변화하는지를 논문에서 제시하고 있으므로, 위에서 구한 값들에 100을 곱해줄 필요가 있다"
   ]
  },
  {
   "cell_type": "code",
   "execution_count": 123,
   "id": "3d9c9d8e",
   "metadata": {},
   "outputs": [],
   "source": [
    "# 기존에 Output이 Unemployment보다 먼저 등장하던 것과 달리\n",
    "# 여기선 순서가 바뀌어, 바뀐 순서에 맞는 새로운 정의 해줌\n",
    "new_var_names = ['Unemployment','Output','Price Level','Wage','Money']\n",
    "\n",
    "new_IRF = [IRF[1].rename(columns={'Supply Shock':'Productivity Shock'})*100]\n",
    "new_IRF.append(IRF[0].rename(columns={'Supply Shock':'Productivity Shock'})*100)\n",
    "for i in range(2,5):\n",
    "    new_IRF.append(IRF[i].rename(columns={'Supply Shock':'Productivity Shock'})*100)\n",
    "\n",
    "shock_columns = new_IRF[0].columns"
   ]
  },
  {
   "cell_type": "code",
   "execution_count": 124,
   "id": "69a18f8b",
   "metadata": {},
   "outputs": [],
   "source": [
    "def plot_IR(n):\n",
    "    plt.figure(figsize=(12,30))\n",
    "    plt.suptitle(f'Responses to a One Standard Deviation {shock_columns[n]} Shock',fontsize=20)\n",
    "    for i in range(5):\n",
    "        plt.subplot(5,1,i+1)\n",
    "        plt.plot(np.arange(31),new_IRF[i][shock_columns[n]].iloc[:31])\n",
    "        plt.hlines(0,1,31,colors='red')\n",
    "        plt.ylim(new_IRF[i][shock_columns[n]].min()-0.05,new_IRF[i][shock_columns[n]].max()+0.05)\n",
    "        plt.title(f'{new_var_names[i]} Response',fontsize=14)\n",
    "    return plt.show()"
   ]
  },
  {
   "cell_type": "code",
   "execution_count": 125,
   "id": "56288e4c",
   "metadata": {},
   "outputs": [
    {
     "data": {
      "image/png": "[encoded data removed]",
      "text/plain": [
       "<Figure size 864x2160 with 5 Axes>"
      ]
     },
     "metadata": {
      "needs_background": "light"
     },
     "output_type": "display_data"
    }
   ],
   "source": [
    "plot_IR(0)"
   ]
  },
  {
   "cell_type": "code",
   "execution_count": 126,
   "id": "59948745",
   "metadata": {},
   "outputs": [
    {
     "data": {
      "image/png": "[encoded data removed]",
      "text/plain": [
       "<Figure size 864x2160 with 5 Axes>"
      ]
     },
     "metadata": {
      "needs_background": "light"
     },
     "output_type": "display_data"
    }
   ],
   "source": [
    "plot_IR(1)"
   ]
  },
  {
   "cell_type": "code",
   "execution_count": 127,
   "id": "754f429a",
   "metadata": {},
   "outputs": [
    {
     "data": {
      "image/png": "[encoded data removed]",
      "text/plain": [
       "<Figure size 864x2160 with 5 Axes>"
      ]
     },
     "metadata": {
      "needs_background": "light"
     },
     "output_type": "display_data"
    }
   ],
   "source": [
    "plot_IR(2)"
   ]
  },
  {
   "cell_type": "code",
   "execution_count": 128,
   "id": "69da9ab1",
   "metadata": {},
   "outputs": [
    {
     "data": {
      "image/png": "[encoded data removed]",
      "text/plain": [
       "<Figure size 864x2160 with 5 Axes>"
      ]
     },
     "metadata": {
      "needs_background": "light"
     },
     "output_type": "display_data"
    }
   ],
   "source": [
    "plot_IR(3)"
   ]
  },
  {
   "cell_type": "code",
   "execution_count": 129,
   "id": "d5ebf62f",
   "metadata": {},
   "outputs": [
    {
     "data": {
      "image/png": "[encoded data removed]",
      "text/plain": [
       "<Figure size 864x2160 with 5 Axes>"
      ]
     },
     "metadata": {
      "needs_background": "light"
     },
     "output_type": "display_data"
    }
   ],
   "source": [
    "plot_IR(4)"
   ]
  },
  {
   "cell_type": "markdown",
   "id": "42ff5fe6",
   "metadata": {},
   "source": [
    "모든 plot들이 대체로 논문의 plot과 일치하는 모습을 보였다."
   ]
  }
 ],
 "metadata": {
  "colab": {
   "provenance": []
  },
  "kernelspec": {
   "display_name": "Python 3 (ipykernel)",
   "language": "python",
   "name": "python3"
  },
  "language_info": {
   "codemirror_mode": {
    "name": "ipython",
    "version": 3
   },
   "file_extension": ".py",
   "mimetype": "text/x-python",
   "name": "python",
   "nbconvert_exporter": "python",
   "pygments_lexer": "ipython3",
   "version": "3.9.7"
  }
 },
 "nbformat": 4,
 "nbformat_minor": 5
}
